{
 "cells": [
  {
   "cell_type": "code",
   "execution_count": 2,
   "id": "1bf41cd5-ab91-4c96-a9fd-06471052d918",
   "metadata": {},
   "outputs": [
    {
     "name": "stdout",
     "output_type": "stream",
     "text": [
      "[PhysicalDevice(name='/physical_device:GPU:0', device_type='GPU')]\n"
     ]
    }
   ],
   "source": [
    "import tensorflow as tf\n",
    "print(tf.config.list_physical_devices('GPU'))"
   ]
  },
  {
   "cell_type": "code",
   "execution_count": 36,
   "id": "ee259028-cb14-469d-9daa-69657f45d43f",
   "metadata": {},
   "outputs": [],
   "source": [
    "import pandas as pd\n",
    "import numpy as np\n",
    "import tensorflow as tf\n",
    "from PIL import Image, ImageDraw, ImageFont\n",
    "import matplotlib.pyplot as plt\n",
    "import re"
   ]
  },
  {
   "cell_type": "markdown",
   "id": "f9a8ba5f-22f4-4107-a10c-eecf5f532535",
   "metadata": {},
   "source": [
    "# 데이터 호출 및 파악"
   ]
  },
  {
   "cell_type": "code",
   "execution_count": 37,
   "id": "0c514d6b-da9b-4433-a8b8-25c119120647",
   "metadata": {},
   "outputs": [],
   "source": [
    "df = pd.read_csv('./datasets/hate_speech_binary_dataset.csv', encoding='utf-8')\n",
    "# df = df[['text', 'label']]\n",
    "df = df.dropna()\n",
    "df = df.reset_index(drop=True)"
   ]
  },
  {
   "cell_type": "code",
   "execution_count": 38,
   "id": "1bcc7799-ab75-44d6-8334-3b2ed2a00557",
   "metadata": {},
   "outputs": [],
   "source": [
    "df.columns=['text','label']"
   ]
  },
  {
   "cell_type": "code",
   "execution_count": 39,
   "id": "19a8e1aa-6bdf-4813-ac94-5012425a7295",
   "metadata": {},
   "outputs": [
    {
     "data": {
      "text/html": [
       "<div>\n",
       "<style scoped>\n",
       "    .dataframe tbody tr th:only-of-type {\n",
       "        vertical-align: middle;\n",
       "    }\n",
       "\n",
       "    .dataframe tbody tr th {\n",
       "        vertical-align: top;\n",
       "    }\n",
       "\n",
       "    .dataframe thead th {\n",
       "        text-align: right;\n",
       "    }\n",
       "</style>\n",
       "<table border=\"1\" class=\"dataframe\">\n",
       "  <thead>\n",
       "    <tr style=\"text-align: right;\">\n",
       "      <th></th>\n",
       "      <th>text</th>\n",
       "      <th>label</th>\n",
       "    </tr>\n",
       "  </thead>\n",
       "  <tbody>\n",
       "    <tr>\n",
       "      <th>0</th>\n",
       "      <td>정말 재밌다 연기도 좋고 디카프리오 짱</td>\n",
       "      <td>1</td>\n",
       "    </tr>\n",
       "    <tr>\n",
       "      <th>1</th>\n",
       "      <td>심쿵심쿵 미치네요이수혁땜에 잠 못자겠어요ㅠ자꾸 아른거림ㅠ</td>\n",
       "      <td>1</td>\n",
       "    </tr>\n",
       "    <tr>\n",
       "      <th>2</th>\n",
       "      <td>하지만 이니후빨러들은 이런거 관심 하나도 없음</td>\n",
       "      <td>0</td>\n",
       "    </tr>\n",
       "    <tr>\n",
       "      <th>3</th>\n",
       "      <td>@착한아이임당 A4 용지 덮고?</td>\n",
       "      <td>0</td>\n",
       "    </tr>\n",
       "    <tr>\n",
       "      <th>4</th>\n",
       "      <td>진짜 평점 믿으면 안된 다는 걸 현실로 보여주는 영화입니다. 네티즌,전문가 하나같이...</td>\n",
       "      <td>1</td>\n",
       "    </tr>\n",
       "    <tr>\n",
       "      <th>...</th>\n",
       "      <td>...</td>\n",
       "      <td>...</td>\n",
       "    </tr>\n",
       "    <tr>\n",
       "      <th>189990</th>\n",
       "      <td>원작을 읽을 때 이런 건 절대 영상화하기 힘들다고 생각했는데 벤휘쇼의 연기와 더불어...</td>\n",
       "      <td>1</td>\n",
       "    </tr>\n",
       "    <tr>\n",
       "      <th>189991</th>\n",
       "      <td>케석대 어깨 올라간거봐라 ㅋㅋ</td>\n",
       "      <td>0</td>\n",
       "    </tr>\n",
       "    <tr>\n",
       "      <th>189992</th>\n",
       "      <td>@김짜꾸 day and night\\n\\nround the clock\\n\\nwitho...</td>\n",
       "      <td>0</td>\n",
       "    </tr>\n",
       "    <tr>\n",
       "      <th>189993</th>\n",
       "      <td>로버트다우니주니어를 좋아해서 봤는데너무재밌게 봤던영화생각없이 볼때 딱좋음</td>\n",
       "      <td>1</td>\n",
       "    </tr>\n",
       "    <tr>\n",
       "      <th>189994</th>\n",
       "      <td>@익명_146173 개지랄병 병신좌좀새끼ㅋㅋㅋㅋ</td>\n",
       "      <td>0</td>\n",
       "    </tr>\n",
       "  </tbody>\n",
       "</table>\n",
       "<p>189995 rows × 2 columns</p>\n",
       "</div>"
      ],
      "text/plain": [
       "                                                     text  label\n",
       "0                                   정말 재밌다 연기도 좋고 디카프리오 짱      1\n",
       "1                         심쿵심쿵 미치네요이수혁땜에 잠 못자겠어요ㅠ자꾸 아른거림ㅠ      1\n",
       "2                               하지만 이니후빨러들은 이런거 관심 하나도 없음      0\n",
       "3                                       @착한아이임당 A4 용지 덮고?      0\n",
       "4       진짜 평점 믿으면 안된 다는 걸 현실로 보여주는 영화입니다. 네티즌,전문가 하나같이...      1\n",
       "...                                                   ...    ...\n",
       "189990  원작을 읽을 때 이런 건 절대 영상화하기 힘들다고 생각했는데 벤휘쇼의 연기와 더불어...      1\n",
       "189991                                   케석대 어깨 올라간거봐라 ㅋㅋ      0\n",
       "189992  @김짜꾸 day and night\\n\\nround the clock\\n\\nwitho...      0\n",
       "189993           로버트다우니주니어를 좋아해서 봤는데너무재밌게 봤던영화생각없이 볼때 딱좋음      1\n",
       "189994                         @익명_146173 개지랄병 병신좌좀새끼ㅋㅋㅋㅋ      0\n",
       "\n",
       "[189995 rows x 2 columns]"
      ]
     },
     "execution_count": 39,
     "metadata": {},
     "output_type": "execute_result"
    }
   ],
   "source": [
    "df"
   ]
  },
  {
   "cell_type": "code",
   "execution_count": 40,
   "id": "160a99bb-24d0-4880-a407-1390c597be92",
   "metadata": {},
   "outputs": [],
   "source": [
    "def replace_space(sentence):\n",
    "    new = \"\".join([\"\" if ch == \" \" else ch for ch in sentence])\n",
    "    return new"
   ]
  },
  {
   "cell_type": "code",
   "execution_count": 41,
   "id": "6f835974-0076-4b62-afd2-fbe549ebd174",
   "metadata": {},
   "outputs": [],
   "source": [
    "df['text'] = df['text'].apply(replace_space)"
   ]
  },
  {
   "cell_type": "code",
   "execution_count": 42,
   "id": "b53b5212-ba79-4983-b0e5-fe1062a5bde4",
   "metadata": {},
   "outputs": [
    {
     "data": {
      "text/html": [
       "<div>\n",
       "<style scoped>\n",
       "    .dataframe tbody tr th:only-of-type {\n",
       "        vertical-align: middle;\n",
       "    }\n",
       "\n",
       "    .dataframe tbody tr th {\n",
       "        vertical-align: top;\n",
       "    }\n",
       "\n",
       "    .dataframe thead th {\n",
       "        text-align: right;\n",
       "    }\n",
       "</style>\n",
       "<table border=\"1\" class=\"dataframe\">\n",
       "  <thead>\n",
       "    <tr style=\"text-align: right;\">\n",
       "      <th></th>\n",
       "      <th>text</th>\n",
       "      <th>label</th>\n",
       "    </tr>\n",
       "  </thead>\n",
       "  <tbody>\n",
       "    <tr>\n",
       "      <th>0</th>\n",
       "      <td>정말재밌다연기도좋고디카프리오짱</td>\n",
       "      <td>1</td>\n",
       "    </tr>\n",
       "    <tr>\n",
       "      <th>1</th>\n",
       "      <td>심쿵심쿵미치네요이수혁땜에잠못자겠어요ㅠ자꾸아른거림ㅠ</td>\n",
       "      <td>1</td>\n",
       "    </tr>\n",
       "    <tr>\n",
       "      <th>2</th>\n",
       "      <td>하지만이니후빨러들은이런거관심하나도없음</td>\n",
       "      <td>0</td>\n",
       "    </tr>\n",
       "    <tr>\n",
       "      <th>3</th>\n",
       "      <td>@착한아이임당A4용지덮고?</td>\n",
       "      <td>0</td>\n",
       "    </tr>\n",
       "    <tr>\n",
       "      <th>4</th>\n",
       "      <td>진짜평점믿으면안된다는걸현실로보여주는영화입니다.네티즌,전문가하나같이영화에서예술성과철학...</td>\n",
       "      <td>1</td>\n",
       "    </tr>\n",
       "    <tr>\n",
       "      <th>...</th>\n",
       "      <td>...</td>\n",
       "      <td>...</td>\n",
       "    </tr>\n",
       "    <tr>\n",
       "      <th>189990</th>\n",
       "      <td>원작을읽을때이런건절대영상화하기힘들다고생각했는데벤휘쇼의연기와더불어나름잘표현해주었다.향...</td>\n",
       "      <td>1</td>\n",
       "    </tr>\n",
       "    <tr>\n",
       "      <th>189991</th>\n",
       "      <td>케석대어깨올라간거봐라ㅋㅋ</td>\n",
       "      <td>0</td>\n",
       "    </tr>\n",
       "    <tr>\n",
       "      <th>189992</th>\n",
       "      <td>@김짜꾸dayandnight\\n\\nroundtheclock\\n\\nwithoutabreak</td>\n",
       "      <td>0</td>\n",
       "    </tr>\n",
       "    <tr>\n",
       "      <th>189993</th>\n",
       "      <td>로버트다우니주니어를좋아해서봤는데너무재밌게봤던영화생각없이볼때딱좋음</td>\n",
       "      <td>1</td>\n",
       "    </tr>\n",
       "    <tr>\n",
       "      <th>189994</th>\n",
       "      <td>@익명_146173개지랄병병신좌좀새끼ㅋㅋㅋㅋ</td>\n",
       "      <td>0</td>\n",
       "    </tr>\n",
       "  </tbody>\n",
       "</table>\n",
       "<p>189995 rows × 2 columns</p>\n",
       "</div>"
      ],
      "text/plain": [
       "                                                     text  label\n",
       "0                                        정말재밌다연기도좋고디카프리오짱      1\n",
       "1                             심쿵심쿵미치네요이수혁땜에잠못자겠어요ㅠ자꾸아른거림ㅠ      1\n",
       "2                                    하지만이니후빨러들은이런거관심하나도없음      0\n",
       "3                                          @착한아이임당A4용지덮고?      0\n",
       "4       진짜평점믿으면안된다는걸현실로보여주는영화입니다.네티즌,전문가하나같이영화에서예술성과철학...      1\n",
       "...                                                   ...    ...\n",
       "189990  원작을읽을때이런건절대영상화하기힘들다고생각했는데벤휘쇼의연기와더불어나름잘표현해주었다.향...      1\n",
       "189991                                      케석대어깨올라간거봐라ㅋㅋ      0\n",
       "189992  @김짜꾸dayandnight\\n\\nroundtheclock\\n\\nwithoutabreak      0\n",
       "189993                로버트다우니주니어를좋아해서봤는데너무재밌게봤던영화생각없이볼때딱좋음      1\n",
       "189994                           @익명_146173개지랄병병신좌좀새끼ㅋㅋㅋㅋ      0\n",
       "\n",
       "[189995 rows x 2 columns]"
      ]
     },
     "execution_count": 42,
     "metadata": {},
     "output_type": "execute_result"
    }
   ],
   "source": [
    "df"
   ]
  },
  {
   "cell_type": "code",
   "execution_count": 43,
   "id": "94319b9c-a3f7-4753-8def-b0169062baad",
   "metadata": {},
   "outputs": [],
   "source": [
    "def is_only_dots(s):\n",
    "    return all(char == '.' for char in s)"
   ]
  },
  {
   "cell_type": "code",
   "execution_count": 44,
   "id": "ae381f39-c3de-4bd9-901b-367077b1d21f",
   "metadata": {},
   "outputs": [],
   "source": [
    "def is_only_space(s):\n",
    "    return all(char == ' ' for char in s)"
   ]
  },
  {
   "cell_type": "code",
   "execution_count": 45,
   "id": "cb40f1b4-b2ef-44f7-9263-5e9109422aa4",
   "metadata": {},
   "outputs": [],
   "source": [
    "def is_only_space_hangul(s):\n",
    "    return all(ord(char) == 12644 for char in s)"
   ]
  },
  {
   "cell_type": "code",
   "execution_count": 46,
   "id": "eb9b0a37-54dc-4e69-8134-570913e4e15b",
   "metadata": {},
   "outputs": [
    {
     "data": {
      "text/plain": [
       "(189995, 2)"
      ]
     },
     "execution_count": 46,
     "metadata": {},
     "output_type": "execute_result"
    }
   ],
   "source": [
    "df.shape"
   ]
  },
  {
   "cell_type": "code",
   "execution_count": 47,
   "id": "7fe180ac-1c0d-4532-b721-917350524e4d",
   "metadata": {},
   "outputs": [],
   "source": [
    "# dot만 포함하는 row 거거\n",
    "df = df[~df['text'].apply(is_only_dots)]"
   ]
  },
  {
   "cell_type": "code",
   "execution_count": 48,
   "id": "2a1681c5-c909-4c1f-a662-51414dc40d30",
   "metadata": {},
   "outputs": [
    {
     "data": {
      "text/plain": [
       "(189923, 2)"
      ]
     },
     "execution_count": 48,
     "metadata": {},
     "output_type": "execute_result"
    }
   ],
   "source": [
    "df.shape"
   ]
  },
  {
   "cell_type": "code",
   "execution_count": 49,
   "id": "5f0e464e-12b2-496d-be85-395745581104",
   "metadata": {},
   "outputs": [],
   "source": [
    "# dot만 포함하는 row 거거\n",
    "df = df[~df['text'].apply(is_only_space)]"
   ]
  },
  {
   "cell_type": "code",
   "execution_count": 50,
   "id": "80ae9165-4d0f-4e02-8539-1e9f6e9e314c",
   "metadata": {},
   "outputs": [
    {
     "data": {
      "text/plain": [
       "(189923, 2)"
      ]
     },
     "execution_count": 50,
     "metadata": {},
     "output_type": "execute_result"
    }
   ],
   "source": [
    "df.shape"
   ]
  },
  {
   "cell_type": "code",
   "execution_count": 51,
   "id": "9ce44dac-b200-4c99-ba82-e1ab2aeed5fc",
   "metadata": {},
   "outputs": [],
   "source": [
    "df = df[~df['text'].apply(is_only_space_hangul)]"
   ]
  },
  {
   "cell_type": "code",
   "execution_count": 52,
   "id": "746edc21-53bb-4837-b10e-d7974345ccbe",
   "metadata": {},
   "outputs": [
    {
     "data": {
      "text/plain": [
       "(189922, 2)"
      ]
     },
     "execution_count": 52,
     "metadata": {},
     "output_type": "execute_result"
    }
   ],
   "source": [
    "df.shape"
   ]
  },
  {
   "cell_type": "code",
   "execution_count": 53,
   "id": "1a4ea888-650b-401c-ae19-90e8ff4ba8dc",
   "metadata": {},
   "outputs": [],
   "source": [
    "df = df.reset_index(drop=True)"
   ]
  },
  {
   "cell_type": "code",
   "execution_count": 54,
   "id": "692b0dfa-5133-4d06-8a9e-3b37f31a8580",
   "metadata": {},
   "outputs": [
    {
     "name": "stdout",
     "output_type": "stream",
     "text": [
      "Normal speech counts :89992 (47.38%)\n",
      "Hate speech counts :99930 (52.62%)\n"
     ]
    }
   ],
   "source": [
    "counts = df['label'].value_counts()\n",
    "print(f'Normal speech counts :{counts[0]} ({counts[0]/len(df)*100:.2f}%)')\n",
    "print(f'Hate speech counts :{counts[1]} ({counts[1]/len(df)*100:.2f}%)')\n"
   ]
  },
  {
   "cell_type": "code",
   "execution_count": 55,
   "id": "03f66eb4-55c4-4caf-bd23-31558b668e58",
   "metadata": {},
   "outputs": [
    {
     "name": "stdout",
     "output_type": "stream",
     "text": [
      "최대 길이 : 1419\n",
      "최소 길이 : 1\n",
      "리뷰의 평균 길이 : 31.724771221870032\n"
     ]
    },
    {
     "data": {
      "image/png": "[encoded data removed]",
      "text/plain": [
       "<Figure size 1200x600 with 1 Axes>"
      ]
     },
     "metadata": {},
     "output_type": "display_data"
    }
   ],
   "source": [
    "plt.figure(figsize=(12, 6))\n",
    "print('최대 길이 :', max(len(text) for text in df['text']))\n",
    "print('최소 길이 :', min(len(text) for text in df['text']))\n",
    "print('리뷰의 평균 길이 :', sum(df['text'].str.len())/len(df))\n",
    "plt.hist([len(text) for text in df['text']], bins=200)\n",
    "plt.xlabel('length of samples')\n",
    "plt.ylabel('number of samples')\n",
    "plt.show()"
   ]
  },
  {
   "cell_type": "code",
   "execution_count": 56,
   "id": "d8c0e53a-be77-4497-8746-c78bcea4531e",
   "metadata": {},
   "outputs": [],
   "source": [
    "def below_threshold_len(max_len, nested_list):\n",
    "  count = 0\n",
    "  for sentence in nested_list:\n",
    "    if(len(sentence) <= max_len):\n",
    "        count = count + 1\n",
    "  print('전체 샘플 중 길이가 %s 이하인 샘플의 비율: %s'%(max_len, (count / len(nested_list))*100))"
   ]
  },
  {
   "cell_type": "code",
   "execution_count": 57,
   "id": "1d3ea901-6f37-4dc9-a391-07b40268524e",
   "metadata": {},
   "outputs": [],
   "source": [
    "threshold = 50"
   ]
  },
  {
   "cell_type": "code",
   "execution_count": 58,
   "id": "0d6c4aeb-c8c1-4d15-86f0-418ffe050015",
   "metadata": {},
   "outputs": [
    {
     "name": "stdout",
     "output_type": "stream",
     "text": [
      "전체 샘플 중 길이가 50 이하인 샘플의 비율: 85.3060730194501\n"
     ]
    }
   ],
   "source": [
    "below_threshold_len(threshold, df['text'])"
   ]
  },
  {
   "cell_type": "code",
   "execution_count": 59,
   "id": "3b1c29e1-03c4-493e-97e7-ecd500ab9cea",
   "metadata": {},
   "outputs": [],
   "source": [
    "# threshold보다 문장이 작으면 반복적으로 붙여주는 작업을 함\n",
    "# threshold보다 문장이 길면 슬라이싱을 함\n",
    "def add_cut_sentence(sentence, threshold):\n",
    "    cut_list = []\n",
    "    if len(sentence) >= threshold:\n",
    "        cut_list = sentence[:threshold]\n",
    "    else:\n",
    "        while True:\n",
    "            if len(cut_list) >= threshold:\n",
    "                cut_list = cut_list[:threshold]\n",
    "                break\n",
    "            cut_list += sentence\n",
    "    return \"\".join(cut_list)"
   ]
  },
  {
   "cell_type": "code",
   "execution_count": 60,
   "id": "617651b9-9739-4a29-905b-342e1a821df1",
   "metadata": {},
   "outputs": [],
   "source": [
    "# threshold보다 문장이 작으면 반복적으로 붙여주는 작업을 함\n",
    "# threshold보다 문장이 길면 슬라이싱을 함\n",
    "def cut_sentence(sentence, threshold):\n",
    "    cut_list = []\n",
    "    cut_list = sentence[:threshold]\n",
    "    return cut_list"
   ]
  },
  {
   "cell_type": "code",
   "execution_count": 61,
   "id": "6083f26e-9a0f-4870-b023-83e7261915f5",
   "metadata": {},
   "outputs": [],
   "source": [
    "df['text'] = df['text'].apply(lambda text: add_cut_sentence(text, threshold))"
   ]
  },
  {
   "cell_type": "code",
   "execution_count": 62,
   "id": "1a7ef28e-b4e9-4c9a-9c08-c7f38380c6d8",
   "metadata": {},
   "outputs": [],
   "source": [
    "# df['text'] = df['text'].apply(lambda text: cut_sentence(text, threshold))"
   ]
  },
  {
   "cell_type": "code",
   "execution_count": 63,
   "id": "2d9072fb-9070-43c3-a18d-88d5587436e6",
   "metadata": {},
   "outputs": [
    {
     "data": {
      "text/html": [
       "<div>\n",
       "<style scoped>\n",
       "    .dataframe tbody tr th:only-of-type {\n",
       "        vertical-align: middle;\n",
       "    }\n",
       "\n",
       "    .dataframe tbody tr th {\n",
       "        vertical-align: top;\n",
       "    }\n",
       "\n",
       "    .dataframe thead th {\n",
       "        text-align: right;\n",
       "    }\n",
       "</style>\n",
       "<table border=\"1\" class=\"dataframe\">\n",
       "  <thead>\n",
       "    <tr style=\"text-align: right;\">\n",
       "      <th></th>\n",
       "      <th>text</th>\n",
       "      <th>label</th>\n",
       "    </tr>\n",
       "  </thead>\n",
       "  <tbody>\n",
       "    <tr>\n",
       "      <th>0</th>\n",
       "      <td>정말재밌다연기도좋고디카프리오짱정말재밌다연기도좋고디카프리오짱정말재밌다연기도좋고디카프리...</td>\n",
       "      <td>1</td>\n",
       "    </tr>\n",
       "    <tr>\n",
       "      <th>1</th>\n",
       "      <td>심쿵심쿵미치네요이수혁땜에잠못자겠어요ㅠ자꾸아른거림ㅠ심쿵심쿵미치네요이수혁땜에잠못자겠어요...</td>\n",
       "      <td>1</td>\n",
       "    </tr>\n",
       "    <tr>\n",
       "      <th>2</th>\n",
       "      <td>하지만이니후빨러들은이런거관심하나도없음하지만이니후빨러들은이런거관심하나도없음하지만이니후...</td>\n",
       "      <td>0</td>\n",
       "    </tr>\n",
       "    <tr>\n",
       "      <th>3</th>\n",
       "      <td>@착한아이임당A4용지덮고?@착한아이임당A4용지덮고?@착한아이임당A4용지덮고?@착한아...</td>\n",
       "      <td>0</td>\n",
       "    </tr>\n",
       "    <tr>\n",
       "      <th>4</th>\n",
       "      <td>진짜평점믿으면안된다는걸현실로보여주는영화입니다.네티즌,전문가하나같이영화에서예술성과철학...</td>\n",
       "      <td>1</td>\n",
       "    </tr>\n",
       "    <tr>\n",
       "      <th>...</th>\n",
       "      <td>...</td>\n",
       "      <td>...</td>\n",
       "    </tr>\n",
       "    <tr>\n",
       "      <th>189917</th>\n",
       "      <td>원작을읽을때이런건절대영상화하기힘들다고생각했는데벤휘쇼의연기와더불어나름잘표현해주었다.향...</td>\n",
       "      <td>1</td>\n",
       "    </tr>\n",
       "    <tr>\n",
       "      <th>189918</th>\n",
       "      <td>케석대어깨올라간거봐라ㅋㅋ케석대어깨올라간거봐라ㅋㅋ케석대어깨올라간거봐라ㅋㅋ케석대어깨올라...</td>\n",
       "      <td>0</td>\n",
       "    </tr>\n",
       "    <tr>\n",
       "      <th>189919</th>\n",
       "      <td>@김짜꾸dayandnight\\n\\nroundtheclock\\n\\nwithoutabr...</td>\n",
       "      <td>0</td>\n",
       "    </tr>\n",
       "    <tr>\n",
       "      <th>189920</th>\n",
       "      <td>로버트다우니주니어를좋아해서봤는데너무재밌게봤던영화생각없이볼때딱좋음로버트다우니주니어를좋...</td>\n",
       "      <td>1</td>\n",
       "    </tr>\n",
       "    <tr>\n",
       "      <th>189921</th>\n",
       "      <td>@익명_146173개지랄병병신좌좀새끼ㅋㅋㅋㅋ@익명_146173개지랄병병신좌좀새끼ㅋㅋ...</td>\n",
       "      <td>0</td>\n",
       "    </tr>\n",
       "  </tbody>\n",
       "</table>\n",
       "<p>189922 rows × 2 columns</p>\n",
       "</div>"
      ],
      "text/plain": [
       "                                                     text  label\n",
       "0       정말재밌다연기도좋고디카프리오짱정말재밌다연기도좋고디카프리오짱정말재밌다연기도좋고디카프리...      1\n",
       "1       심쿵심쿵미치네요이수혁땜에잠못자겠어요ㅠ자꾸아른거림ㅠ심쿵심쿵미치네요이수혁땜에잠못자겠어요...      1\n",
       "2       하지만이니후빨러들은이런거관심하나도없음하지만이니후빨러들은이런거관심하나도없음하지만이니후...      0\n",
       "3       @착한아이임당A4용지덮고?@착한아이임당A4용지덮고?@착한아이임당A4용지덮고?@착한아...      0\n",
       "4       진짜평점믿으면안된다는걸현실로보여주는영화입니다.네티즌,전문가하나같이영화에서예술성과철학...      1\n",
       "...                                                   ...    ...\n",
       "189917  원작을읽을때이런건절대영상화하기힘들다고생각했는데벤휘쇼의연기와더불어나름잘표현해주었다.향...      1\n",
       "189918  케석대어깨올라간거봐라ㅋㅋ케석대어깨올라간거봐라ㅋㅋ케석대어깨올라간거봐라ㅋㅋ케석대어깨올라...      0\n",
       "189919  @김짜꾸dayandnight\\n\\nroundtheclock\\n\\nwithoutabr...      0\n",
       "189920  로버트다우니주니어를좋아해서봤는데너무재밌게봤던영화생각없이볼때딱좋음로버트다우니주니어를좋...      1\n",
       "189921  @익명_146173개지랄병병신좌좀새끼ㅋㅋㅋㅋ@익명_146173개지랄병병신좌좀새끼ㅋㅋ...      0\n",
       "\n",
       "[189922 rows x 2 columns]"
      ]
     },
     "execution_count": 63,
     "metadata": {},
     "output_type": "execute_result"
    }
   ],
   "source": [
    "df"
   ]
  },
  {
   "cell_type": "code",
   "execution_count": 64,
   "id": "8177069d-1f44-4698-9bce-ef4cb74eb66c",
   "metadata": {},
   "outputs": [
    {
     "data": {
      "text/plain": [
       "(189922, 2)"
      ]
     },
     "execution_count": 64,
     "metadata": {},
     "output_type": "execute_result"
    }
   ],
   "source": [
    "df.shape"
   ]
  },
  {
   "cell_type": "markdown",
   "id": "3a97a98e-df28-4de3-8b02-1ce7a63ec1fd",
   "metadata": {},
   "source": [
    "# 이미지화"
   ]
  },
  {
   "cell_type": "code",
   "execution_count": 65,
   "id": "7c795372-3f31-450d-a38a-e04070a31a0e",
   "metadata": {},
   "outputs": [],
   "source": [
    "# 이미지로 변환하는 함수\n",
    "def create_sentence_image(sentence, font_path, font_size, background_color=(0, 0, 0), text_color=(255, 255, 255)):\n",
    "  sentence_split = sentence.split('\\n')\n",
    "  width = len(max(sentence_split, key=len)) # 길이가 가장 긴 리스트의 길이로 너비 결정\n",
    "  height = len(sentence_split) # 개행으로 나눠진 리스트의 길이로 높이 결정\n",
    "\n",
    "  image_width, image_height = (width*16), height*24  # 픽셀 사이즈 조정\n",
    "  image = Image.new('RGB', (image_width, image_height), background_color)\n",
    "  draw = ImageDraw.Draw(image)\n",
    "\n",
    "  # 폰트 호출\n",
    "  font = ImageFont.truetype(font_path, font_size)\n",
    "\n",
    "  # Get the text size\n",
    "  # text_width, text_height = draw.textlength(sentence, font=font)\n",
    "  _, _, text_width, text_height = draw.textbbox((0, 0), sentence, font=font)\n",
    "\n",
    "  # Calculate the position to center the text\n",
    "  x = (image_width - text_width) // 2\n",
    "  y = (image_height - text_height) // 2\n",
    "\n",
    "  # Draw the letter on the image\n",
    "  draw.text((x, y), sentence, font=font, fill=text_color)\n",
    "\n",
    "  # Convert image to numpy array\n",
    "  img_array = np.array(image)\n",
    "\n",
    "  # Find the bounding box of non-background pixels\n",
    "  non_background = np.where(img_array != background_color)\n",
    "  top, left = np.min(non_background[0]), np.min(non_background[1])\n",
    "  bottom, right = np.max(non_background[0]), np.max(non_background[1])\n",
    "\n",
    "  # Crop the image\n",
    "  cropped_image = image.crop((left, top, right+1, bottom+1))\n",
    "\n",
    "  return np.array(cropped_image)"
   ]
  },
  {
   "cell_type": "code",
   "execution_count": 66,
   "id": "9ccf3574-fde1-4b29-b346-54c7858e88fe",
   "metadata": {},
   "outputs": [],
   "source": [
    "# 폰트 설정\n",
    "font_path = \"./utils/arial-unicode.ttf\"\n",
    "font_size = 12"
   ]
  },
  {
   "cell_type": "code",
   "execution_count": 67,
   "id": "355da47e-40a1-48f3-8144-2a15183691f6",
   "metadata": {
    "scrolled": true
   },
   "outputs": [
    {
     "data": {
      "text/plain": [
       "array([[[  0,   0,   0],\n",
       "        [  0,   0,   0],\n",
       "        [  0,   0,   0],\n",
       "        ...,\n",
       "        [  0,   0,   0],\n",
       "        [  0,   0,   0],\n",
       "        [  0,   0,   0]],\n",
       "\n",
       "       [[  0,   0,   0],\n",
       "        [113, 113, 113],\n",
       "        [223, 223, 223],\n",
       "        ...,\n",
       "        [  0,   0,   0],\n",
       "        [  0,   0,   0],\n",
       "        [  0,   0,   0]],\n",
       "\n",
       "       [[ 94,  94,  94],\n",
       "        [207, 207, 207],\n",
       "        [ 43,  43,  43],\n",
       "        ...,\n",
       "        [  0,   0,   0],\n",
       "        [  0,   0,   0],\n",
       "        [  0,   0,   0]],\n",
       "\n",
       "       ...,\n",
       "\n",
       "       [[  0,   0,   0],\n",
       "        [188, 188, 188],\n",
       "        [ 52,  52,  52],\n",
       "        ...,\n",
       "        [  0,   0,   0],\n",
       "        [  0,   0,   0],\n",
       "        [  0,   0,   0]],\n",
       "\n",
       "       [[  0,   0,   0],\n",
       "        [188, 188, 188],\n",
       "        [ 52,  52,  52],\n",
       "        ...,\n",
       "        [  0,   0,   0],\n",
       "        [240, 240, 240],\n",
       "        [ 68,  68,  68]],\n",
       "\n",
       "       [[  0,   0,   0],\n",
       "        [188, 188, 188],\n",
       "        [255, 255, 255],\n",
       "        ...,\n",
       "        [  0,   0,   0],\n",
       "        [  0,   0,   0],\n",
       "        [  0,   0,   0]]], dtype=uint8)"
      ]
     },
     "metadata": {},
     "output_type": "display_data"
    }
   ],
   "source": [
    "text = \"안녕하세요???? 테스트 데이터입니다.............\"\n",
    "# text = df['text'][2]\n",
    "sample = replace_space(text)\n",
    "# sample = text\n",
    "img = create_sentence_image(str(sample), font_path, font_size)\n",
    "display(img)"
   ]
  },
  {
   "cell_type": "code",
   "execution_count": 68,
   "id": "8cc22da8-9388-4ea0-8816-5f12c3031b48",
   "metadata": {},
   "outputs": [
    {
     "name": "stdout",
     "output_type": "stream",
     "text": [
      "Y axis max value: 11\n",
      "X axis max value: 237\n"
     ]
    }
   ],
   "source": [
    "print(f\"Y axis max value: {img.shape[0]}\")\n",
    "print(f\"X axis max value: {img.shape[1]}\")"
   ]
  },
  {
   "cell_type": "markdown",
   "id": "8518ff22-a1e1-472e-b875-7e7d3245d69e",
   "metadata": {},
   "source": [
    "# coordinates 추출"
   ]
  },
  {
   "cell_type": "code",
   "execution_count": 69,
   "id": "162b6fdf-92b6-4a2e-a28f-81cccc8a6ac1",
   "metadata": {},
   "outputs": [],
   "source": [
    "# convert image into coordinates\n",
    "def get_coordinates(img):\n",
    "  img_arr = np.array(img)\n",
    "  coordinates = []\n",
    "  for x in range(len(img_arr)):\n",
    "    for y in range(len(img_arr[x])):\n",
    "      if max(img_arr[x][y]) != 0:\n",
    "        coordinates.append([y,x])\n",
    "  return np.array(coordinates)"
   ]
  },
  {
   "cell_type": "code",
   "execution_count": 70,
   "id": "ad517714-ca2d-4b70-bf81-7ac1b49606af",
   "metadata": {},
   "outputs": [],
   "source": [
    "def extract_x_y(img_arr, coordinates):\n",
    "  # x = np.array([point[0] for point in coordinates]) / len(img_arr[0])\n",
    "  # y = np.array([point[1] for point in coordinates]) / len(img_arr)\n",
    "  x = np.array([point[0] for point in coordinates])\n",
    "  y = np.array([point[1] for point in coordinates])\n",
    "  # y = 1-y\n",
    "  return x, y"
   ]
  },
  {
   "cell_type": "code",
   "execution_count": 71,
   "id": "cfea5f28-cf79-4a1d-b626-09752535dc9a",
   "metadata": {},
   "outputs": [],
   "source": [
    "def draw_text(x, y):\n",
    "  # plotting\n",
    "  plt.scatter(x, y, color='blue')\n",
    "\n",
    "  # Set plot title and labels\n",
    "  plt.title('Coordinates for Sentence')\n",
    "  plt.xlabel('X-axis')\n",
    "  plt.ylabel('Y-axis')\n",
    "\n",
    "  # Display plot\n",
    "  plt.show()"
   ]
  },
  {
   "cell_type": "code",
   "execution_count": 72,
   "id": "130b0c01-2ee6-4cfc-9945-b982f6b50ce3",
   "metadata": {},
   "outputs": [],
   "source": [
    "coordinates = get_coordinates(img)"
   ]
  },
  {
   "cell_type": "code",
   "execution_count": 73,
   "id": "dcee5027-39bd-4966-986d-594cc44edc1d",
   "metadata": {},
   "outputs": [
    {
     "data": {
      "text/plain": [
       "(965, 2)"
      ]
     },
     "execution_count": 73,
     "metadata": {},
     "output_type": "execute_result"
    }
   ],
   "source": [
    "coordinates.shape"
   ]
  },
  {
   "cell_type": "code",
   "execution_count": 74,
   "id": "b99fa256-c7bd-483b-a617-9b1fc73026a7",
   "metadata": {},
   "outputs": [
    {
     "data": {
      "image/png": "[encoded data removed]",
      "text/plain": [
       "<Figure size 1200x100 with 1 Axes>"
      ]
     },
     "metadata": {},
     "output_type": "display_data"
    }
   ],
   "source": [
    "# plotting\n",
    "import matplotlib.pyplot as plt\n",
    "\n",
    "x, y = extract_x_y(img, coordinates)\n",
    "\n",
    "plt.figure(figsize=(12, 1))\n",
    "plt.scatter(x, y, color='blue')\n",
    "\n",
    "# Set plot title and labels\n",
    "plt.title('Coordinates for Sentence')\n",
    "plt.gca().invert_yaxis()\n",
    "plt.xlabel('X-axis')\n",
    "plt.ylabel('Y-axis')\n",
    "plt.grid(True)  # 그리드 추가\n",
    "\n",
    "# Display plot\n",
    "plt.show()"
   ]
  },
  {
   "cell_type": "markdown",
   "id": "12be6de6-83f5-4cad-899f-cfdb0b98307d",
   "metadata": {},
   "source": [
    "# 좌표값 정규화"
   ]
  },
  {
   "cell_type": "code",
   "execution_count": 75,
   "id": "7f925d27-89b5-4b7d-828a-e9f64cf9a891",
   "metadata": {},
   "outputs": [],
   "source": [
    "def std_coordinates(data, max_x, max_y):\n",
    "    standardized_data = np.zeros_like(data, dtype=float)\n",
    "    standardized_data[:, 0] = data[:, 0] / max_x\n",
    "    standardized_data[:, 1] = data[:, 1] / max_y\n",
    "    return standardized_data"
   ]
  },
  {
   "cell_type": "code",
   "execution_count": 76,
   "id": "56b2b095-bfcd-4b75-af10-2641990106f8",
   "metadata": {},
   "outputs": [
    {
     "data": {
      "text/plain": [
       "array([130,   3])"
      ]
     },
     "execution_count": 76,
     "metadata": {},
     "output_type": "execute_result"
    }
   ],
   "source": [
    "coordinates[300]"
   ]
  },
  {
   "cell_type": "code",
   "execution_count": 77,
   "id": "80419a9d-a58e-448e-b5d8-d8d8c16c4069",
   "metadata": {},
   "outputs": [
    {
     "data": {
      "text/plain": [
       "(11, 237, 3)"
      ]
     },
     "execution_count": 77,
     "metadata": {},
     "output_type": "execute_result"
    }
   ],
   "source": [
    "img.shape"
   ]
  },
  {
   "cell_type": "code",
   "execution_count": 78,
   "id": "698b40e4-b9da-439a-b18f-a43b90ac71ae",
   "metadata": {},
   "outputs": [],
   "source": [
    "std_coords = std_coordinates(coordinates, img.shape[1], img.shape[0])"
   ]
  },
  {
   "cell_type": "code",
   "execution_count": 79,
   "id": "22d84925-328e-41c6-bda9-e1117a2d3959",
   "metadata": {},
   "outputs": [
    {
     "data": {
      "text/plain": [
       "(965, 2)"
      ]
     },
     "execution_count": 79,
     "metadata": {},
     "output_type": "execute_result"
    }
   ],
   "source": [
    "std_coords.shape"
   ]
  },
  {
   "cell_type": "code",
   "execution_count": 80,
   "id": "f465658f-32e8-4912-867d-af565a3bf259",
   "metadata": {},
   "outputs": [
    {
     "data": {
      "image/png": "[encoded data removed]",
      "text/plain": [
       "<Figure size 1200x100 with 1 Axes>"
      ]
     },
     "metadata": {},
     "output_type": "display_data"
    }
   ],
   "source": [
    "# 산점도 그리기\n",
    "plt.figure(figsize=(12, 1))\n",
    "plt.scatter(std_coords[:, 0], std_coords[:, 1], alpha=0.5)\n",
    "plt.title('Standardized Coordinates')\n",
    "plt.xlabel('X-axis')\n",
    "plt.ylabel('Y-axis')\n",
    "plt.gca().invert_yaxis()\n",
    "# plt.xlim(0, 1)  # x축 범위를 0에서 1로 설정\n",
    "# plt.ylim(0, 1)  # y축 범위를 0에서 1로 설정\n",
    "plt.grid(True)  # 그리드 추가\n",
    "\n",
    "# 플롯 표시\n",
    "plt.show()"
   ]
  },
  {
   "cell_type": "markdown",
   "id": "408c44d7-1076-430c-94fb-13a1014b6146",
   "metadata": {},
   "source": [
    "# 전처리"
   ]
  },
  {
   "cell_type": "code",
   "execution_count": 81,
   "id": "f4a83713-b734-47d8-bbcb-4de7db2fcb71",
   "metadata": {},
   "outputs": [],
   "source": [
    "# 패딩\n",
    "def pad_coords(coords, pad_size=3000):\n",
    "    sorted_data = coords[coords[:, 0].argsort()]\n",
    "    if len(sorted_data) >= pad_size:\n",
    "        return sorted_data[:pad_size]        \n",
    "    else:\n",
    "        diff = pad_size - len(sorted_data)\n",
    "        sorted_data = np.pad(sorted_data, ((0, diff), (0, 0)), mode='constant', constant_values=0)\n",
    "    return sorted_data"
   ]
  },
  {
   "cell_type": "code",
   "execution_count": 82,
   "id": "13de9a26-cc8e-4ceb-befc-ef0b901f302b",
   "metadata": {
    "scrolled": true
   },
   "outputs": [
    {
     "name": "stdout",
     "output_type": "stream",
     "text": [
      "0\n",
      "1000\n",
      "2000\n",
      "3000\n",
      "4000\n",
      "5000\n",
      "6000\n",
      "7000\n",
      "8000\n",
      "9000\n",
      "10000\n",
      "11000\n",
      "12000\n",
      "13000\n",
      "14000\n",
      "15000\n",
      "16000\n",
      "17000\n",
      "18000\n",
      "19000\n",
      "20000\n",
      "21000\n",
      "22000\n",
      "23000\n",
      "24000\n",
      "25000\n",
      "26000\n",
      "27000\n",
      "28000\n",
      "29000\n",
      "30000\n",
      "31000\n",
      "32000\n",
      "33000\n",
      "34000\n",
      "35000\n",
      "36000\n",
      "37000\n",
      "38000\n",
      "39000\n",
      "40000\n",
      "41000\n",
      "42000\n",
      "43000\n",
      "44000\n",
      "45000\n",
      "46000\n",
      "47000\n",
      "48000\n",
      "49000\n",
      "50000\n",
      "51000\n",
      "52000\n",
      "53000\n",
      "54000\n",
      "55000\n",
      "56000\n",
      "57000\n",
      "58000\n",
      "59000\n",
      "60000\n",
      "61000\n",
      "62000\n",
      "63000\n",
      "64000\n",
      "65000\n",
      "66000\n",
      "67000\n",
      "68000\n",
      "69000\n",
      "70000\n",
      "71000\n",
      "72000\n",
      "73000\n",
      "74000\n",
      "75000\n",
      "76000\n",
      "77000\n",
      "78000\n",
      "79000\n",
      "80000\n",
      "81000\n",
      "82000\n",
      "83000\n",
      "84000\n",
      "85000\n",
      "86000\n",
      "87000\n",
      "88000\n",
      "89000\n",
      "90000\n",
      "91000\n",
      "92000\n",
      "93000\n",
      "94000\n",
      "95000\n",
      "96000\n",
      "97000\n",
      "98000\n",
      "99000\n",
      "100000\n",
      "101000\n",
      "102000\n",
      "103000\n",
      "104000\n",
      "105000\n",
      "106000\n",
      "107000\n",
      "108000\n",
      "109000\n",
      "110000\n",
      "111000\n",
      "112000\n",
      "113000\n",
      "114000\n",
      "115000\n",
      "116000\n",
      "117000\n",
      "118000\n",
      "119000\n",
      "120000\n",
      "121000\n",
      "122000\n",
      "123000\n",
      "124000\n",
      "125000\n",
      "126000\n",
      "127000\n",
      "128000\n",
      "129000\n",
      "130000\n",
      "131000\n",
      "132000\n",
      "133000\n",
      "134000\n",
      "135000\n",
      "136000\n",
      "137000\n",
      "138000\n",
      "139000\n",
      "140000\n",
      "141000\n",
      "142000\n",
      "143000\n",
      "144000\n",
      "145000\n",
      "146000\n",
      "147000\n",
      "148000\n",
      "149000\n",
      "150000\n",
      "151000\n",
      "152000\n",
      "153000\n",
      "154000\n",
      "155000\n",
      "156000\n",
      "157000\n",
      "158000\n",
      "159000\n",
      "160000\n",
      "161000\n",
      "162000\n",
      "163000\n",
      "164000\n",
      "165000\n",
      "166000\n",
      "167000\n",
      "168000\n",
      "169000\n",
      "170000\n",
      "171000\n",
      "172000\n",
      "173000\n",
      "174000\n",
      "175000\n",
      "176000\n",
      "177000\n",
      "178000\n",
      "179000\n",
      "180000\n",
      "181000\n",
      "182000\n",
      "183000\n",
      "184000\n",
      "185000\n",
      "186000\n",
      "187000\n",
      "188000\n",
      "189000\n",
      "Preprocess complete\n",
      "189922\n"
     ]
    }
   ],
   "source": [
    "data = []\n",
    "# sorting and slicing\n",
    "pad_size = 3500\n",
    "\n",
    "for i in range(len(df)):\n",
    "    # 이미지화\n",
    "    text = df['text'][i]\n",
    "    sample = replace_space(text)\n",
    "    img = create_sentence_image(str(text), font_path, font_size)\n",
    "    \n",
    "    # 좌표 추출\n",
    "    coordinates = get_coordinates(img)\n",
    "    \n",
    "    x_lim = img.shape[1]\n",
    "    y_lim = img.shape[0]\n",
    "    \n",
    "    # 좌표 정규화\n",
    "    std_coords = std_coordinates(coordinates, x_lim, y_lim)\n",
    "    padded_coords = pad_coords(std_coords, pad_size)\n",
    "\n",
    "    data.append(padded_coords)\n",
    "\n",
    "    if i % 1000 == 0:\n",
    "        print(i)\n",
    "    \n",
    "print(\"Preprocess complete\")\n",
    "print(len(data))"
   ]
  },
  {
   "cell_type": "code",
   "execution_count": 171,
   "id": "7d489431-20b2-4608-b8c3-b08c58b8dbb1",
   "metadata": {},
   "outputs": [
    {
     "data": {
      "image/png": "[encoded data removed]",
      "text/plain": [
       "<Figure size 1200x100 with 1 Axes>"
      ]
     },
     "metadata": {},
     "output_type": "display_data"
    }
   ],
   "source": [
    "# 산점도 그리기\n",
    "plt.figure(figsize=(12, 1))\n",
    "plt.scatter(data[1][:, 0], data[1][:, 1], alpha=0.5)\n",
    "plt.title('Standardized Coordinates')\n",
    "plt.xlabel('X-axis')\n",
    "plt.ylabel('Y-axis')\n",
    "plt.gca().invert_yaxis()\n",
    "# plt.xlim(0, 1)  # x축 범위를 0에서 1로 설정\n",
    "# plt.ylim(0, 1)  # y축 범위를 0에서 1로 설정\n",
    "plt.grid(True)  # 그리드 추가\n",
    "\n",
    "# 플롯 표시\n",
    "plt.show()"
   ]
  },
  {
   "cell_type": "code",
   "execution_count": 172,
   "id": "268de62e-449d-4229-bab4-b4f4a77b09e1",
   "metadata": {},
   "outputs": [
    {
     "name": "stdout",
     "output_type": "stream",
     "text": [
      "max length:  3500\n",
      "min length:  3500\n",
      "avg length:  3500.0\n"
     ]
    }
   ],
   "source": [
    "max_len = max(len(i) for i in data)\n",
    "min_len = min(len(i) for i in data)\n",
    "average = sum(len(i) for i in data) / len(data)\n",
    "\n",
    "print(\"max length: \", max_len)\n",
    "print(\"min length: \", min_len)\n",
    "print(\"avg length: \", average)"
   ]
  },
  {
   "cell_type": "markdown",
   "id": "34111206-410b-4b85-a227-90d6b55d8b9c",
   "metadata": {},
   "source": [
    "# 정규화"
   ]
  },
  {
   "cell_type": "code",
   "execution_count": 83,
   "id": "f55a88a3-2ad2-49a1-815c-32767dbb77f4",
   "metadata": {},
   "outputs": [
    {
     "data": {
      "text/plain": [
       "(189922, 3500, 2)"
      ]
     },
     "execution_count": 83,
     "metadata": {},
     "output_type": "execute_result"
    }
   ],
   "source": [
    "np.array(data).shape"
   ]
  },
  {
   "cell_type": "code",
   "execution_count": 84,
   "id": "b6953a16-716e-4602-ab24-1576c0daeda7",
   "metadata": {},
   "outputs": [],
   "source": [
    "data = np.array(data)"
   ]
  },
  {
   "cell_type": "code",
   "execution_count": 85,
   "id": "edcb2078-9fa4-43f8-b51b-eaceb1f7b195",
   "metadata": {},
   "outputs": [
    {
     "data": {
      "text/plain": [
       "(189922, 3500, 2)"
      ]
     },
     "execution_count": 85,
     "metadata": {},
     "output_type": "execute_result"
    }
   ],
   "source": [
    "data.shape"
   ]
  },
  {
   "cell_type": "markdown",
   "id": "347eb802-9671-4382-aab8-74deef39a253",
   "metadata": {},
   "source": [
    "# 데이터 분할"
   ]
  },
  {
   "cell_type": "code",
   "execution_count": 86,
   "id": "b183eb22-06dd-4550-90b4-b826767d06ae",
   "metadata": {},
   "outputs": [
    {
     "name": "stdout",
     "output_type": "stream",
     "text": [
      "(160000, 3500, 2)\n",
      "(160000,)\n",
      "(29922, 3500, 2)\n",
      "(29922,)\n"
     ]
    }
   ],
   "source": [
    "# # 데이터 분할\n",
    "x_train = data[:160000]\n",
    "y_train = df[:160000]['label']\n",
    "\n",
    "x_test = data[160000:]\n",
    "y_test = df[160000:]['label']\n",
    "\n",
    "print(x_train.shape)\n",
    "print(y_train.shape)\n",
    "print(x_test.shape)\n",
    "print(y_test.shape)"
   ]
  },
  {
   "cell_type": "markdown",
   "id": "030a798e-67da-4ee4-82fc-904b061f4996",
   "metadata": {},
   "source": [
    "# 모델 설계"
   ]
  },
  {
   "cell_type": "code",
   "execution_count": 89,
   "id": "fd7daf39-6ff9-4091-be16-22ec53a25f42",
   "metadata": {},
   "outputs": [],
   "source": [
    "import tensorflow as tf\n",
    "from tensorflow.keras import layers, models\n",
    "\n",
    "# Define the CNN model\n",
    "model = models.Sequential([\n",
    "    layers.Conv1D(64, 2, activation='relu', input_shape=(3500,2)),\n",
    "    layers.Conv1D(128, 2, activation='relu', padding='same'),\n",
    "    layers.MaxPooling1D(),\n",
    "    layers.Conv1D(256, 2, activation='relu', padding='same'),\n",
    "    layers.MaxPooling1D(),\n",
    "    layers.Flatten(),\n",
    "    layers.Dense(256, activation='relu'),\n",
    "    layers.Dropout(0.4),\n",
    "    layers.Dense(256, activation='relu'),\n",
    "    layers.Dense(1, activation='sigmoid')\n",
    "])"
   ]
  },
  {
   "cell_type": "code",
   "execution_count": 90,
   "id": "e26e65d5-e2df-47fe-a5f9-959838789911",
   "metadata": {},
   "outputs": [
    {
     "data": {
      "text/html": [
       "<pre style=\"white-space:pre;overflow-x:auto;line-height:normal;font-family:Menlo,'DejaVu Sans Mono',consolas,'Courier New',monospace\"><span style=\"font-weight: bold\">Model: \"sequential_1\"</span>\n",
       "</pre>\n"
      ],
      "text/plain": [
       "\u001b[1mModel: \"sequential_1\"\u001b[0m\n"
      ]
     },
     "metadata": {},
     "output_type": "display_data"
    },
    {
     "data": {
      "text/html": [
       "<pre style=\"white-space:pre;overflow-x:auto;line-height:normal;font-family:Menlo,'DejaVu Sans Mono',consolas,'Courier New',monospace\">┏━━━━━━━━━━━━━━━━━━━━━━━━━━━━━━━━━┳━━━━━━━━━━━━━━━━━━━━━━━━┳━━━━━━━━━━━━━━━┓\n",
       "┃<span style=\"font-weight: bold\"> Layer (type)                    </span>┃<span style=\"font-weight: bold\"> Output Shape           </span>┃<span style=\"font-weight: bold\">       Param # </span>┃\n",
       "┡━━━━━━━━━━━━━━━━━━━━━━━━━━━━━━━━━╇━━━━━━━━━━━━━━━━━━━━━━━━╇━━━━━━━━━━━━━━━┩\n",
       "│ conv1d_3 (<span style=\"color: #0087ff; text-decoration-color: #0087ff\">Conv1D</span>)               │ (<span style=\"color: #00d7ff; text-decoration-color: #00d7ff\">None</span>, <span style=\"color: #00af00; text-decoration-color: #00af00\">3499</span>, <span style=\"color: #00af00; text-decoration-color: #00af00\">64</span>)       │           <span style=\"color: #00af00; text-decoration-color: #00af00\">320</span> │\n",
       "├─────────────────────────────────┼────────────────────────┼───────────────┤\n",
       "│ conv1d_4 (<span style=\"color: #0087ff; text-decoration-color: #0087ff\">Conv1D</span>)               │ (<span style=\"color: #00d7ff; text-decoration-color: #00d7ff\">None</span>, <span style=\"color: #00af00; text-decoration-color: #00af00\">3499</span>, <span style=\"color: #00af00; text-decoration-color: #00af00\">128</span>)      │        <span style=\"color: #00af00; text-decoration-color: #00af00\">16,512</span> │\n",
       "├─────────────────────────────────┼────────────────────────┼───────────────┤\n",
       "│ max_pooling1d_2 (<span style=\"color: #0087ff; text-decoration-color: #0087ff\">MaxPooling1D</span>)  │ (<span style=\"color: #00d7ff; text-decoration-color: #00d7ff\">None</span>, <span style=\"color: #00af00; text-decoration-color: #00af00\">1749</span>, <span style=\"color: #00af00; text-decoration-color: #00af00\">128</span>)      │             <span style=\"color: #00af00; text-decoration-color: #00af00\">0</span> │\n",
       "├─────────────────────────────────┼────────────────────────┼───────────────┤\n",
       "│ conv1d_5 (<span style=\"color: #0087ff; text-decoration-color: #0087ff\">Conv1D</span>)               │ (<span style=\"color: #00d7ff; text-decoration-color: #00d7ff\">None</span>, <span style=\"color: #00af00; text-decoration-color: #00af00\">1749</span>, <span style=\"color: #00af00; text-decoration-color: #00af00\">256</span>)      │        <span style=\"color: #00af00; text-decoration-color: #00af00\">65,792</span> │\n",
       "├─────────────────────────────────┼────────────────────────┼───────────────┤\n",
       "│ max_pooling1d_3 (<span style=\"color: #0087ff; text-decoration-color: #0087ff\">MaxPooling1D</span>)  │ (<span style=\"color: #00d7ff; text-decoration-color: #00d7ff\">None</span>, <span style=\"color: #00af00; text-decoration-color: #00af00\">874</span>, <span style=\"color: #00af00; text-decoration-color: #00af00\">256</span>)       │             <span style=\"color: #00af00; text-decoration-color: #00af00\">0</span> │\n",
       "├─────────────────────────────────┼────────────────────────┼───────────────┤\n",
       "│ flatten_1 (<span style=\"color: #0087ff; text-decoration-color: #0087ff\">Flatten</span>)             │ (<span style=\"color: #00d7ff; text-decoration-color: #00d7ff\">None</span>, <span style=\"color: #00af00; text-decoration-color: #00af00\">223744</span>)         │             <span style=\"color: #00af00; text-decoration-color: #00af00\">0</span> │\n",
       "├─────────────────────────────────┼────────────────────────┼───────────────┤\n",
       "│ dense_3 (<span style=\"color: #0087ff; text-decoration-color: #0087ff\">Dense</span>)                 │ (<span style=\"color: #00d7ff; text-decoration-color: #00d7ff\">None</span>, <span style=\"color: #00af00; text-decoration-color: #00af00\">256</span>)            │    <span style=\"color: #00af00; text-decoration-color: #00af00\">57,278,720</span> │\n",
       "├─────────────────────────────────┼────────────────────────┼───────────────┤\n",
       "│ dropout_1 (<span style=\"color: #0087ff; text-decoration-color: #0087ff\">Dropout</span>)             │ (<span style=\"color: #00d7ff; text-decoration-color: #00d7ff\">None</span>, <span style=\"color: #00af00; text-decoration-color: #00af00\">256</span>)            │             <span style=\"color: #00af00; text-decoration-color: #00af00\">0</span> │\n",
       "├─────────────────────────────────┼────────────────────────┼───────────────┤\n",
       "│ dense_4 (<span style=\"color: #0087ff; text-decoration-color: #0087ff\">Dense</span>)                 │ (<span style=\"color: #00d7ff; text-decoration-color: #00d7ff\">None</span>, <span style=\"color: #00af00; text-decoration-color: #00af00\">256</span>)            │        <span style=\"color: #00af00; text-decoration-color: #00af00\">65,792</span> │\n",
       "├─────────────────────────────────┼────────────────────────┼───────────────┤\n",
       "│ dense_5 (<span style=\"color: #0087ff; text-decoration-color: #0087ff\">Dense</span>)                 │ (<span style=\"color: #00d7ff; text-decoration-color: #00d7ff\">None</span>, <span style=\"color: #00af00; text-decoration-color: #00af00\">1</span>)              │           <span style=\"color: #00af00; text-decoration-color: #00af00\">257</span> │\n",
       "└─────────────────────────────────┴────────────────────────┴───────────────┘\n",
       "</pre>\n"
      ],
      "text/plain": [
       "┏━━━━━━━━━━━━━━━━━━━━━━━━━━━━━━━━━┳━━━━━━━━━━━━━━━━━━━━━━━━┳━━━━━━━━━━━━━━━┓\n",
       "┃\u001b[1m \u001b[0m\u001b[1mLayer (type)                   \u001b[0m\u001b[1m \u001b[0m┃\u001b[1m \u001b[0m\u001b[1mOutput Shape          \u001b[0m\u001b[1m \u001b[0m┃\u001b[1m \u001b[0m\u001b[1m      Param #\u001b[0m\u001b[1m \u001b[0m┃\n",
       "┡━━━━━━━━━━━━━━━━━━━━━━━━━━━━━━━━━╇━━━━━━━━━━━━━━━━━━━━━━━━╇━━━━━━━━━━━━━━━┩\n",
       "│ conv1d_3 (\u001b[38;5;33mConv1D\u001b[0m)               │ (\u001b[38;5;45mNone\u001b[0m, \u001b[38;5;34m3499\u001b[0m, \u001b[38;5;34m64\u001b[0m)       │           \u001b[38;5;34m320\u001b[0m │\n",
       "├─────────────────────────────────┼────────────────────────┼───────────────┤\n",
       "│ conv1d_4 (\u001b[38;5;33mConv1D\u001b[0m)               │ (\u001b[38;5;45mNone\u001b[0m, \u001b[38;5;34m3499\u001b[0m, \u001b[38;5;34m128\u001b[0m)      │        \u001b[38;5;34m16,512\u001b[0m │\n",
       "├─────────────────────────────────┼────────────────────────┼───────────────┤\n",
       "│ max_pooling1d_2 (\u001b[38;5;33mMaxPooling1D\u001b[0m)  │ (\u001b[38;5;45mNone\u001b[0m, \u001b[38;5;34m1749\u001b[0m, \u001b[38;5;34m128\u001b[0m)      │             \u001b[38;5;34m0\u001b[0m │\n",
       "├─────────────────────────────────┼────────────────────────┼───────────────┤\n",
       "│ conv1d_5 (\u001b[38;5;33mConv1D\u001b[0m)               │ (\u001b[38;5;45mNone\u001b[0m, \u001b[38;5;34m1749\u001b[0m, \u001b[38;5;34m256\u001b[0m)      │        \u001b[38;5;34m65,792\u001b[0m │\n",
       "├─────────────────────────────────┼────────────────────────┼───────────────┤\n",
       "│ max_pooling1d_3 (\u001b[38;5;33mMaxPooling1D\u001b[0m)  │ (\u001b[38;5;45mNone\u001b[0m, \u001b[38;5;34m874\u001b[0m, \u001b[38;5;34m256\u001b[0m)       │             \u001b[38;5;34m0\u001b[0m │\n",
       "├─────────────────────────────────┼────────────────────────┼───────────────┤\n",
       "│ flatten_1 (\u001b[38;5;33mFlatten\u001b[0m)             │ (\u001b[38;5;45mNone\u001b[0m, \u001b[38;5;34m223744\u001b[0m)         │             \u001b[38;5;34m0\u001b[0m │\n",
       "├─────────────────────────────────┼────────────────────────┼───────────────┤\n",
       "│ dense_3 (\u001b[38;5;33mDense\u001b[0m)                 │ (\u001b[38;5;45mNone\u001b[0m, \u001b[38;5;34m256\u001b[0m)            │    \u001b[38;5;34m57,278,720\u001b[0m │\n",
       "├─────────────────────────────────┼────────────────────────┼───────────────┤\n",
       "│ dropout_1 (\u001b[38;5;33mDropout\u001b[0m)             │ (\u001b[38;5;45mNone\u001b[0m, \u001b[38;5;34m256\u001b[0m)            │             \u001b[38;5;34m0\u001b[0m │\n",
       "├─────────────────────────────────┼────────────────────────┼───────────────┤\n",
       "│ dense_4 (\u001b[38;5;33mDense\u001b[0m)                 │ (\u001b[38;5;45mNone\u001b[0m, \u001b[38;5;34m256\u001b[0m)            │        \u001b[38;5;34m65,792\u001b[0m │\n",
       "├─────────────────────────────────┼────────────────────────┼───────────────┤\n",
       "│ dense_5 (\u001b[38;5;33mDense\u001b[0m)                 │ (\u001b[38;5;45mNone\u001b[0m, \u001b[38;5;34m1\u001b[0m)              │           \u001b[38;5;34m257\u001b[0m │\n",
       "└─────────────────────────────────┴────────────────────────┴───────────────┘\n"
      ]
     },
     "metadata": {},
     "output_type": "display_data"
    },
    {
     "data": {
      "text/html": [
       "<pre style=\"white-space:pre;overflow-x:auto;line-height:normal;font-family:Menlo,'DejaVu Sans Mono',consolas,'Courier New',monospace\"><span style=\"font-weight: bold\"> Total params: </span><span style=\"color: #00af00; text-decoration-color: #00af00\">57,427,393</span> (219.07 MB)\n",
       "</pre>\n"
      ],
      "text/plain": [
       "\u001b[1m Total params: \u001b[0m\u001b[38;5;34m57,427,393\u001b[0m (219.07 MB)\n"
      ]
     },
     "metadata": {},
     "output_type": "display_data"
    },
    {
     "data": {
      "text/html": [
       "<pre style=\"white-space:pre;overflow-x:auto;line-height:normal;font-family:Menlo,'DejaVu Sans Mono',consolas,'Courier New',monospace\"><span style=\"font-weight: bold\"> Trainable params: </span><span style=\"color: #00af00; text-decoration-color: #00af00\">57,427,393</span> (219.07 MB)\n",
       "</pre>\n"
      ],
      "text/plain": [
       "\u001b[1m Trainable params: \u001b[0m\u001b[38;5;34m57,427,393\u001b[0m (219.07 MB)\n"
      ]
     },
     "metadata": {},
     "output_type": "display_data"
    },
    {
     "data": {
      "text/html": [
       "<pre style=\"white-space:pre;overflow-x:auto;line-height:normal;font-family:Menlo,'DejaVu Sans Mono',consolas,'Courier New',monospace\"><span style=\"font-weight: bold\"> Non-trainable params: </span><span style=\"color: #00af00; text-decoration-color: #00af00\">0</span> (0.00 B)\n",
       "</pre>\n"
      ],
      "text/plain": [
       "\u001b[1m Non-trainable params: \u001b[0m\u001b[38;5;34m0\u001b[0m (0.00 B)\n"
      ]
     },
     "metadata": {},
     "output_type": "display_data"
    }
   ],
   "source": [
    "model.summary()"
   ]
  },
  {
   "cell_type": "code",
   "execution_count": 91,
   "id": "f3b40f21-cd79-4e4b-9098-98c171ffb798",
   "metadata": {},
   "outputs": [],
   "source": [
    "# Compile the model\n",
    "model.compile(optimizer='adam', loss='binary_crossentropy', metrics=['accuracy'])"
   ]
  },
  {
   "cell_type": "code",
   "execution_count": 92,
   "id": "8a70166e-3ea3-4a9e-a2fb-b0617490da53",
   "metadata": {},
   "outputs": [
    {
     "name": "stdout",
     "output_type": "stream",
     "text": [
      "Epoch 1/5\n"
     ]
    },
    {
     "name": "stderr",
     "output_type": "stream",
     "text": [
      "WARNING: All log messages before absl::InitializeLog() is called are written to STDERR\n",
      "I0000 00:00:1722989366.609906  278139 service.cc:146] XLA service 0x7fef7401d300 initialized for platform CUDA (this does not guarantee that XLA will be used). Devices:\n",
      "I0000 00:00:1722989366.613263  278139 service.cc:154]   StreamExecutor device (0): NVIDIA GeForce RTX 4090, Compute Capability 8.9\n",
      "2024-08-07 09:09:26.725302: I tensorflow/compiler/mlir/tensorflow/utils/dump_mlir_util.cc:268] disabling MLIR crash reproducer, set env var `MLIR_CRASH_REPRODUCER_DIRECTORY` to enable.\n",
      "2024-08-07 09:09:26.996405: I external/local_xla/xla/stream_executor/cuda/cuda_dnn.cc:531] Loaded cuDNN version 8902\n"
     ]
    },
    {
     "name": "stdout",
     "output_type": "stream",
     "text": [
      "\u001b[1m  3/563\u001b[0m \u001b[37m━━━━━━━━━━━━━━━━━━━━\u001b[0m \u001b[1m26s\u001b[0m 48ms/step - accuracy: 0.5152 - loss: 1.5718  "
     ]
    },
    {
     "name": "stderr",
     "output_type": "stream",
     "text": [
      "I0000 00:00:1722989372.804903  278139 device_compiler.h:188] Compiled cluster using XLA!  This line is logged at most once for the lifetime of the process.\n"
     ]
    },
    {
     "name": "stdout",
     "output_type": "stream",
     "text": [
      "\u001b[1m563/563\u001b[0m \u001b[32m━━━━━━━━━━━━━━━━━━━━\u001b[0m\u001b[37m\u001b[0m \u001b[1m42s\u001b[0m 58ms/step - accuracy: 0.6267 - loss: 0.6729 - val_accuracy: 0.7231 - val_loss: 0.5150\n",
      "Epoch 2/5\n",
      "\u001b[1m563/563\u001b[0m \u001b[32m━━━━━━━━━━━━━━━━━━━━\u001b[0m\u001b[37m\u001b[0m \u001b[1m27s\u001b[0m 47ms/step - accuracy: 0.7277 - loss: 0.5075 - val_accuracy: 0.7454 - val_loss: 0.4977\n",
      "Epoch 3/5\n",
      "\u001b[1m563/563\u001b[0m \u001b[32m━━━━━━━━━━━━━━━━━━━━\u001b[0m\u001b[37m\u001b[0m \u001b[1m27s\u001b[0m 47ms/step - accuracy: 0.7464 - loss: 0.4805 - val_accuracy: 0.7519 - val_loss: 0.4768\n",
      "Epoch 4/5\n",
      "\u001b[1m563/563\u001b[0m \u001b[32m━━━━━━━━━━━━━━━━━━━━\u001b[0m\u001b[37m\u001b[0m \u001b[1m27s\u001b[0m 47ms/step - accuracy: 0.7759 - loss: 0.4402 - val_accuracy: 0.7571 - val_loss: 0.4698\n",
      "Epoch 5/5\n",
      "\u001b[1m563/563\u001b[0m \u001b[32m━━━━━━━━━━━━━━━━━━━━\u001b[0m\u001b[37m\u001b[0m \u001b[1m27s\u001b[0m 47ms/step - accuracy: 0.8229 - loss: 0.3729 - val_accuracy: 0.7384 - val_loss: 0.5018\n",
      "Test loss: 0.5040799975395203\n",
      "Test accuracy: 0.7407258749008179\n"
     ]
    }
   ],
   "source": [
    "batch_size = 256\n",
    "epochs = 5\n",
    "\n",
    "# Train the model\n",
    "history = model.fit(x_train, y_train, batch_size=batch_size, epochs=epochs, validation_split=0.1)\n",
    "\n",
    "# Evaluate the model\n",
    "score = model.evaluate(x_test, y_test, verbose=0)\n",
    "print(\"Test loss:\", score[0])\n",
    "print(\"Test accuracy:\", score[1])"
   ]
  },
  {
   "cell_type": "code",
   "execution_count": null,
   "id": "0f726a53-8787-4ffe-92e7-e92e22cac4cb",
   "metadata": {},
   "outputs": [],
   "source": []
  }
 ],
 "metadata": {
  "kernelspec": {
   "display_name": "Python 3 (ipykernel)",
   "language": "python",
   "name": "python3"
  },
  "language_info": {
   "codemirror_mode": {
    "name": "ipython",
    "version": 3
   },
   "file_extension": ".py",
   "mimetype": "text/x-python",
   "name": "python",
   "nbconvert_exporter": "python",
   "pygments_lexer": "ipython3",
   "version": "3.9.19"
  }
 },
 "nbformat": 4,
 "nbformat_minor": 5
}
