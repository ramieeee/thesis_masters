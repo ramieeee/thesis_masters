{
 "cells": [
  {
   "cell_type": "code",
   "execution_count": 1,
   "id": "1bf41cd5-ab91-4c96-a9fd-06471052d918",
   "metadata": {},
   "outputs": [
    {
     "name": "stderr",
     "output_type": "stream",
     "text": [
      "2024-09-28 17:48:07.399597: I tensorflow/core/util/port.cc:153] oneDNN custom operations are on. You may see slightly different numerical results due to floating-point round-off errors from different computation orders. To turn them off, set the environment variable `TF_ENABLE_ONEDNN_OPTS=0`.\n",
      "2024-09-28 17:48:07.412122: E external/local_xla/xla/stream_executor/cuda/cuda_fft.cc:485] Unable to register cuFFT factory: Attempting to register factory for plugin cuFFT when one has already been registered\n",
      "2024-09-28 17:48:07.421368: E external/local_xla/xla/stream_executor/cuda/cuda_dnn.cc:8454] Unable to register cuDNN factory: Attempting to register factory for plugin cuDNN when one has already been registered\n",
      "2024-09-28 17:48:07.424566: E external/local_xla/xla/stream_executor/cuda/cuda_blas.cc:1452] Unable to register cuBLAS factory: Attempting to register factory for plugin cuBLAS when one has already been registered\n",
      "2024-09-28 17:48:07.431879: I tensorflow/core/platform/cpu_feature_guard.cc:210] This TensorFlow binary is optimized to use available CPU instructions in performance-critical operations.\n",
      "To enable the following instructions: AVX2 AVX_VNNI FMA, in other operations, rebuild TensorFlow with the appropriate compiler flags.\n",
      "2024-09-28 17:48:08.118034: W tensorflow/compiler/tf2tensorrt/utils/py_utils.cc:38] TF-TRT Warning: Could not find TensorRT\n"
     ]
    },
    {
     "name": "stdout",
     "output_type": "stream",
     "text": [
      "[PhysicalDevice(name='/physical_device:GPU:0', device_type='GPU')]\n"
     ]
    },
    {
     "name": "stderr",
     "output_type": "stream",
     "text": [
      "WARNING: All log messages before absl::InitializeLog() is called are written to STDERR\n",
      "I0000 00:00:1727513292.659323   24883 cuda_executor.cc:1001] could not open file to read NUMA node: /sys/bus/pci/devices/0000:01:00.0/numa_node\n",
      "Your kernel may have been built without NUMA support.\n",
      "I0000 00:00:1727513292.724786   24883 cuda_executor.cc:1001] could not open file to read NUMA node: /sys/bus/pci/devices/0000:01:00.0/numa_node\n",
      "Your kernel may have been built without NUMA support.\n",
      "I0000 00:00:1727513292.724838   24883 cuda_executor.cc:1001] could not open file to read NUMA node: /sys/bus/pci/devices/0000:01:00.0/numa_node\n",
      "Your kernel may have been built without NUMA support.\n"
     ]
    }
   ],
   "source": [
    "import tensorflow as tf\n",
    "print(tf.config.list_physical_devices('GPU'))"
   ]
  },
  {
   "cell_type": "code",
   "execution_count": 3,
   "id": "ee259028-cb14-469d-9daa-69657f45d43f",
   "metadata": {},
   "outputs": [],
   "source": [
    "import pandas as pd\n",
    "import numpy as np\n",
    "import tensorflow as tf\n",
    "from PIL import Image, ImageDraw, ImageFont\n",
    "import matplotlib.pyplot as plt\n",
    "import re\n",
    "import fasttext"
   ]
  },
  {
   "cell_type": "markdown",
   "id": "f9a8ba5f-22f4-4107-a10c-eecf5f532535",
   "metadata": {},
   "source": [
    "# 데이터 호출 및 파악"
   ]
  },
  {
   "cell_type": "code",
   "execution_count": 19,
   "id": "0c514d6b-da9b-4433-a8b8-25c119120647",
   "metadata": {},
   "outputs": [],
   "source": [
    "df = pd.read_csv('./datasets/hate_speech_binary_dataset.csv', encoding='utf-8')\n",
    "# df = df[['text', 'label']]\n",
    "df = df.dropna()\n",
    "df = df.reset_index(drop=True)\n",
    "# df = df[['document', 'label']]\n",
    "df.columns=['text','label']"
   ]
  },
  {
   "cell_type": "code",
   "execution_count": 20,
   "id": "0211615b-d95f-447c-bf1c-31bf11f82322",
   "metadata": {},
   "outputs": [
    {
     "data": {
      "text/plain": [
       "label\n",
       "1    99996\n",
       "0    89999\n",
       "Name: count, dtype: int64"
      ]
     },
     "execution_count": 20,
     "metadata": {},
     "output_type": "execute_result"
    }
   ],
   "source": [
    "df['label'].value_counts()"
   ]
  },
  {
   "cell_type": "code",
   "execution_count": 15,
   "id": "160a99bb-24d0-4880-a407-1390c597be92",
   "metadata": {},
   "outputs": [],
   "source": [
    "def replace_space(sentence):\n",
    "    new = \"\".join([\"\" if ch == \" \" else ch for ch in sentence])\n",
    "    return new"
   ]
  },
  {
   "cell_type": "code",
   "execution_count": 22,
   "id": "6f835974-0076-4b62-afd2-fbe549ebd174",
   "metadata": {},
   "outputs": [],
   "source": [
    "# df['text'] = df['text'].apply(replace_space)"
   ]
  },
  {
   "cell_type": "code",
   "execution_count": 23,
   "id": "b53b5212-ba79-4983-b0e5-fe1062a5bde4",
   "metadata": {},
   "outputs": [
    {
     "data": {
      "text/html": [
       "<div>\n",
       "<style scoped>\n",
       "    .dataframe tbody tr th:only-of-type {\n",
       "        vertical-align: middle;\n",
       "    }\n",
       "\n",
       "    .dataframe tbody tr th {\n",
       "        vertical-align: top;\n",
       "    }\n",
       "\n",
       "    .dataframe thead th {\n",
       "        text-align: right;\n",
       "    }\n",
       "</style>\n",
       "<table border=\"1\" class=\"dataframe\">\n",
       "  <thead>\n",
       "    <tr style=\"text-align: right;\">\n",
       "      <th></th>\n",
       "      <th>text</th>\n",
       "      <th>label</th>\n",
       "    </tr>\n",
       "  </thead>\n",
       "  <tbody>\n",
       "    <tr>\n",
       "      <th>0</th>\n",
       "      <td>정말 재밌다 연기도 좋고 디카프리오 짱</td>\n",
       "      <td>1</td>\n",
       "    </tr>\n",
       "    <tr>\n",
       "      <th>1</th>\n",
       "      <td>심쿵심쿵 미치네요이수혁땜에 잠 못자겠어요ㅠ자꾸 아른거림ㅠ</td>\n",
       "      <td>1</td>\n",
       "    </tr>\n",
       "    <tr>\n",
       "      <th>2</th>\n",
       "      <td>하지만 이니후빨러들은 이런거 관심 하나도 없음</td>\n",
       "      <td>0</td>\n",
       "    </tr>\n",
       "    <tr>\n",
       "      <th>3</th>\n",
       "      <td>@착한아이임당 A4 용지 덮고?</td>\n",
       "      <td>0</td>\n",
       "    </tr>\n",
       "    <tr>\n",
       "      <th>4</th>\n",
       "      <td>진짜 평점 믿으면 안된 다는 걸 현실로 보여주는 영화입니다. 네티즌,전문가 하나같이...</td>\n",
       "      <td>1</td>\n",
       "    </tr>\n",
       "    <tr>\n",
       "      <th>...</th>\n",
       "      <td>...</td>\n",
       "      <td>...</td>\n",
       "    </tr>\n",
       "    <tr>\n",
       "      <th>189990</th>\n",
       "      <td>원작을 읽을 때 이런 건 절대 영상화하기 힘들다고 생각했는데 벤휘쇼의 연기와 더불어...</td>\n",
       "      <td>1</td>\n",
       "    </tr>\n",
       "    <tr>\n",
       "      <th>189991</th>\n",
       "      <td>케석대 어깨 올라간거봐라 ㅋㅋ</td>\n",
       "      <td>0</td>\n",
       "    </tr>\n",
       "    <tr>\n",
       "      <th>189992</th>\n",
       "      <td>@김짜꾸 day and night\\n\\nround the clock\\n\\nwitho...</td>\n",
       "      <td>0</td>\n",
       "    </tr>\n",
       "    <tr>\n",
       "      <th>189993</th>\n",
       "      <td>로버트다우니주니어를 좋아해서 봤는데너무재밌게 봤던영화생각없이 볼때 딱좋음</td>\n",
       "      <td>1</td>\n",
       "    </tr>\n",
       "    <tr>\n",
       "      <th>189994</th>\n",
       "      <td>@익명_146173 개지랄병 병신좌좀새끼ㅋㅋㅋㅋ</td>\n",
       "      <td>0</td>\n",
       "    </tr>\n",
       "  </tbody>\n",
       "</table>\n",
       "<p>189995 rows × 2 columns</p>\n",
       "</div>"
      ],
      "text/plain": [
       "                                                     text  label\n",
       "0                                   정말 재밌다 연기도 좋고 디카프리오 짱      1\n",
       "1                         심쿵심쿵 미치네요이수혁땜에 잠 못자겠어요ㅠ자꾸 아른거림ㅠ      1\n",
       "2                               하지만 이니후빨러들은 이런거 관심 하나도 없음      0\n",
       "3                                       @착한아이임당 A4 용지 덮고?      0\n",
       "4       진짜 평점 믿으면 안된 다는 걸 현실로 보여주는 영화입니다. 네티즌,전문가 하나같이...      1\n",
       "...                                                   ...    ...\n",
       "189990  원작을 읽을 때 이런 건 절대 영상화하기 힘들다고 생각했는데 벤휘쇼의 연기와 더불어...      1\n",
       "189991                                   케석대 어깨 올라간거봐라 ㅋㅋ      0\n",
       "189992  @김짜꾸 day and night\\n\\nround the clock\\n\\nwitho...      0\n",
       "189993           로버트다우니주니어를 좋아해서 봤는데너무재밌게 봤던영화생각없이 볼때 딱좋음      1\n",
       "189994                         @익명_146173 개지랄병 병신좌좀새끼ㅋㅋㅋㅋ      0\n",
       "\n",
       "[189995 rows x 2 columns]"
      ]
     },
     "execution_count": 23,
     "metadata": {},
     "output_type": "execute_result"
    }
   ],
   "source": [
    "df"
   ]
  },
  {
   "cell_type": "code",
   "execution_count": 16,
   "id": "94319b9c-a3f7-4753-8def-b0169062baad",
   "metadata": {},
   "outputs": [],
   "source": [
    "def is_only_dots(s):\n",
    "    return all(char == '.' for char in s)"
   ]
  },
  {
   "cell_type": "code",
   "execution_count": 17,
   "id": "ae381f39-c3de-4bd9-901b-367077b1d21f",
   "metadata": {},
   "outputs": [],
   "source": [
    "def is_only_space(s):\n",
    "    return all(char == ' ' for char in s)"
   ]
  },
  {
   "cell_type": "code",
   "execution_count": 18,
   "id": "cb40f1b4-b2ef-44f7-9263-5e9109422aa4",
   "metadata": {},
   "outputs": [],
   "source": [
    "def is_only_space_hangul(s):\n",
    "    return all(ord(char) == 12644 for char in s)"
   ]
  },
  {
   "cell_type": "code",
   "execution_count": 27,
   "id": "eb9b0a37-54dc-4e69-8134-570913e4e15b",
   "metadata": {},
   "outputs": [
    {
     "data": {
      "text/plain": [
       "(189995, 2)"
      ]
     },
     "execution_count": 27,
     "metadata": {},
     "output_type": "execute_result"
    }
   ],
   "source": [
    "df.shape"
   ]
  },
  {
   "cell_type": "code",
   "execution_count": 28,
   "id": "7fe180ac-1c0d-4532-b721-917350524e4d",
   "metadata": {},
   "outputs": [],
   "source": [
    "# dot만 포함하는 row\n",
    "df = df[~df['text'].apply(is_only_dots)]"
   ]
  },
  {
   "cell_type": "code",
   "execution_count": 29,
   "id": "2a1681c5-c909-4c1f-a662-51414dc40d30",
   "metadata": {},
   "outputs": [
    {
     "data": {
      "text/plain": [
       "(189923, 2)"
      ]
     },
     "execution_count": 29,
     "metadata": {},
     "output_type": "execute_result"
    }
   ],
   "source": [
    "df.shape"
   ]
  },
  {
   "cell_type": "code",
   "execution_count": 30,
   "id": "5f0e464e-12b2-496d-be85-395745581104",
   "metadata": {},
   "outputs": [],
   "source": [
    "df = df[~df['text'].apply(is_only_space)]"
   ]
  },
  {
   "cell_type": "code",
   "execution_count": 31,
   "id": "80ae9165-4d0f-4e02-8539-1e9f6e9e314c",
   "metadata": {},
   "outputs": [
    {
     "data": {
      "text/plain": [
       "(189923, 2)"
      ]
     },
     "execution_count": 31,
     "metadata": {},
     "output_type": "execute_result"
    }
   ],
   "source": [
    "df.shape"
   ]
  },
  {
   "cell_type": "code",
   "execution_count": 32,
   "id": "9ce44dac-b200-4c99-ba82-e1ab2aeed5fc",
   "metadata": {},
   "outputs": [],
   "source": [
    "df = df[~df['text'].apply(is_only_space_hangul)]"
   ]
  },
  {
   "cell_type": "code",
   "execution_count": 33,
   "id": "746edc21-53bb-4837-b10e-d7974345ccbe",
   "metadata": {},
   "outputs": [
    {
     "data": {
      "text/plain": [
       "(189922, 2)"
      ]
     },
     "execution_count": 33,
     "metadata": {},
     "output_type": "execute_result"
    }
   ],
   "source": [
    "df.shape"
   ]
  },
  {
   "cell_type": "code",
   "execution_count": 34,
   "id": "1a4ea888-650b-401c-ae19-90e8ff4ba8dc",
   "metadata": {},
   "outputs": [],
   "source": [
    "df = df.reset_index(drop=True)"
   ]
  },
  {
   "cell_type": "code",
   "execution_count": 35,
   "id": "f43c9dd2-1783-4392-b127-e11108a7407c",
   "metadata": {},
   "outputs": [],
   "source": [
    "# 테스트를 위해 1만개만 샘플링\n",
    "# df = df.sample(n=len(df))\n",
    "# df = df.reset_index(drop=True)\n",
    "# df = df[:20000]"
   ]
  },
  {
   "cell_type": "code",
   "execution_count": 36,
   "id": "6bcee8c5-3a33-4c91-a980-3439ebbf00b8",
   "metadata": {},
   "outputs": [
    {
     "data": {
      "text/plain": [
       "(189922, 2)"
      ]
     },
     "execution_count": 36,
     "metadata": {},
     "output_type": "execute_result"
    }
   ],
   "source": [
    "df.shape"
   ]
  },
  {
   "cell_type": "code",
   "execution_count": 37,
   "id": "220910f1-a84b-41b9-bc13-1dc5ec876795",
   "metadata": {},
   "outputs": [
    {
     "data": {
      "text/html": [
       "<div>\n",
       "<style scoped>\n",
       "    .dataframe tbody tr th:only-of-type {\n",
       "        vertical-align: middle;\n",
       "    }\n",
       "\n",
       "    .dataframe tbody tr th {\n",
       "        vertical-align: top;\n",
       "    }\n",
       "\n",
       "    .dataframe thead th {\n",
       "        text-align: right;\n",
       "    }\n",
       "</style>\n",
       "<table border=\"1\" class=\"dataframe\">\n",
       "  <thead>\n",
       "    <tr style=\"text-align: right;\">\n",
       "      <th></th>\n",
       "      <th>text</th>\n",
       "      <th>label</th>\n",
       "    </tr>\n",
       "  </thead>\n",
       "  <tbody>\n",
       "    <tr>\n",
       "      <th>0</th>\n",
       "      <td>정말 재밌다 연기도 좋고 디카프리오 짱</td>\n",
       "      <td>1</td>\n",
       "    </tr>\n",
       "    <tr>\n",
       "      <th>1</th>\n",
       "      <td>심쿵심쿵 미치네요이수혁땜에 잠 못자겠어요ㅠ자꾸 아른거림ㅠ</td>\n",
       "      <td>1</td>\n",
       "    </tr>\n",
       "    <tr>\n",
       "      <th>2</th>\n",
       "      <td>하지만 이니후빨러들은 이런거 관심 하나도 없음</td>\n",
       "      <td>0</td>\n",
       "    </tr>\n",
       "    <tr>\n",
       "      <th>3</th>\n",
       "      <td>@착한아이임당 A4 용지 덮고?</td>\n",
       "      <td>0</td>\n",
       "    </tr>\n",
       "    <tr>\n",
       "      <th>4</th>\n",
       "      <td>진짜 평점 믿으면 안된 다는 걸 현실로 보여주는 영화입니다. 네티즌,전문가 하나같이...</td>\n",
       "      <td>1</td>\n",
       "    </tr>\n",
       "    <tr>\n",
       "      <th>...</th>\n",
       "      <td>...</td>\n",
       "      <td>...</td>\n",
       "    </tr>\n",
       "    <tr>\n",
       "      <th>189917</th>\n",
       "      <td>원작을 읽을 때 이런 건 절대 영상화하기 힘들다고 생각했는데 벤휘쇼의 연기와 더불어...</td>\n",
       "      <td>1</td>\n",
       "    </tr>\n",
       "    <tr>\n",
       "      <th>189918</th>\n",
       "      <td>케석대 어깨 올라간거봐라 ㅋㅋ</td>\n",
       "      <td>0</td>\n",
       "    </tr>\n",
       "    <tr>\n",
       "      <th>189919</th>\n",
       "      <td>@김짜꾸 day and night\\n\\nround the clock\\n\\nwitho...</td>\n",
       "      <td>0</td>\n",
       "    </tr>\n",
       "    <tr>\n",
       "      <th>189920</th>\n",
       "      <td>로버트다우니주니어를 좋아해서 봤는데너무재밌게 봤던영화생각없이 볼때 딱좋음</td>\n",
       "      <td>1</td>\n",
       "    </tr>\n",
       "    <tr>\n",
       "      <th>189921</th>\n",
       "      <td>@익명_146173 개지랄병 병신좌좀새끼ㅋㅋㅋㅋ</td>\n",
       "      <td>0</td>\n",
       "    </tr>\n",
       "  </tbody>\n",
       "</table>\n",
       "<p>189922 rows × 2 columns</p>\n",
       "</div>"
      ],
      "text/plain": [
       "                                                     text  label\n",
       "0                                   정말 재밌다 연기도 좋고 디카프리오 짱      1\n",
       "1                         심쿵심쿵 미치네요이수혁땜에 잠 못자겠어요ㅠ자꾸 아른거림ㅠ      1\n",
       "2                               하지만 이니후빨러들은 이런거 관심 하나도 없음      0\n",
       "3                                       @착한아이임당 A4 용지 덮고?      0\n",
       "4       진짜 평점 믿으면 안된 다는 걸 현실로 보여주는 영화입니다. 네티즌,전문가 하나같이...      1\n",
       "...                                                   ...    ...\n",
       "189917  원작을 읽을 때 이런 건 절대 영상화하기 힘들다고 생각했는데 벤휘쇼의 연기와 더불어...      1\n",
       "189918                                   케석대 어깨 올라간거봐라 ㅋㅋ      0\n",
       "189919  @김짜꾸 day and night\\n\\nround the clock\\n\\nwitho...      0\n",
       "189920           로버트다우니주니어를 좋아해서 봤는데너무재밌게 봤던영화생각없이 볼때 딱좋음      1\n",
       "189921                         @익명_146173 개지랄병 병신좌좀새끼ㅋㅋㅋㅋ      0\n",
       "\n",
       "[189922 rows x 2 columns]"
      ]
     },
     "execution_count": 37,
     "metadata": {},
     "output_type": "execute_result"
    }
   ],
   "source": [
    "df"
   ]
  },
  {
   "cell_type": "code",
   "execution_count": 38,
   "id": "692b0dfa-5133-4d06-8a9e-3b37f31a8580",
   "metadata": {},
   "outputs": [
    {
     "name": "stdout",
     "output_type": "stream",
     "text": [
      "Normal speech counts :99930 (52.62%)\n",
      "Hate speech counts :89992 (47.38%)\n"
     ]
    }
   ],
   "source": [
    "counts = df['label'].value_counts()\n",
    "print(f'Normal speech counts :{counts[1]} ({counts[1]/len(df)*100:.2f}%)')\n",
    "print(f'Hate speech counts :{counts[0]} ({counts[0]/len(df)*100:.2f}%)')"
   ]
  },
  {
   "cell_type": "code",
   "execution_count": 39,
   "id": "03f66eb4-55c4-4caf-bd23-31558b668e58",
   "metadata": {},
   "outputs": [
    {
     "name": "stdout",
     "output_type": "stream",
     "text": [
      "최대 길이 : 1735\n",
      "최소 길이 : 1\n",
      "리뷰의 평균 길이 : 38.86689798970104\n"
     ]
    },
    {
     "data": {
      "image/png": "[encoded data removed]",
      "text/plain": [
       "<Figure size 1200x600 with 1 Axes>"
      ]
     },
     "metadata": {},
     "output_type": "display_data"
    }
   ],
   "source": [
    "plt.figure(figsize=(12, 6))\n",
    "print('최대 길이 :', max(len(text) for text in df['text']))\n",
    "print('최소 길이 :', min(len(text) for text in df['text']))\n",
    "print('리뷰의 평균 길이 :', sum(df['text'].str.len())/len(df))\n",
    "plt.hist([len(text) for text in df['text']], bins=200)\n",
    "plt.xlabel('length of samples')\n",
    "plt.ylabel('number of samples')\n",
    "plt.show()"
   ]
  },
  {
   "cell_type": "code",
   "execution_count": 19,
   "id": "d8c0e53a-be77-4497-8746-c78bcea4531e",
   "metadata": {},
   "outputs": [],
   "source": [
    "def below_threshold_len(max_len, nested_list):\n",
    "  count = 0\n",
    "  for sentence in nested_list:\n",
    "    if(len(sentence) <= max_len):\n",
    "        count = count + 1\n",
    "  print('전체 샘플 중 길이가 %s 이하인 샘플의 비율: %s'%(max_len, (count / len(nested_list))*100))"
   ]
  },
  {
   "cell_type": "code",
   "execution_count": 41,
   "id": "1d3ea901-6f37-4dc9-a391-07b40268524e",
   "metadata": {},
   "outputs": [],
   "source": [
    "threshold = 40"
   ]
  },
  {
   "cell_type": "code",
   "execution_count": 42,
   "id": "0d6c4aeb-c8c1-4d15-86f0-418ffe050015",
   "metadata": {},
   "outputs": [
    {
     "name": "stdout",
     "output_type": "stream",
     "text": [
      "전체 샘플 중 길이가 40 이하인 샘플의 비율: 71.40773580733143\n"
     ]
    }
   ],
   "source": [
    "below_threshold_len(threshold, df['text'])"
   ]
  },
  {
   "cell_type": "code",
   "execution_count": 43,
   "id": "703c8165-22dd-4db4-94c6-3fe9c9c0e4c7",
   "metadata": {},
   "outputs": [
    {
     "name": "stdout",
     "output_type": "stream",
     "text": [
      "Normal speech counts :89992 (47.38%)\n",
      "Hate speech counts :99930 (52.62%)\n"
     ]
    }
   ],
   "source": [
    "counts = df['label'].value_counts()\n",
    "print(f'Normal speech counts :{counts[0]} ({counts[0]/len(df)*100:.2f}%)')\n",
    "print(f'Hate speech counts :{counts[1]} ({counts[1]/len(df)*100:.2f}%)')"
   ]
  },
  {
   "cell_type": "code",
   "execution_count": 44,
   "id": "2d9072fb-9070-43c3-a18d-88d5587436e6",
   "metadata": {},
   "outputs": [
    {
     "data": {
      "text/html": [
       "<div>\n",
       "<style scoped>\n",
       "    .dataframe tbody tr th:only-of-type {\n",
       "        vertical-align: middle;\n",
       "    }\n",
       "\n",
       "    .dataframe tbody tr th {\n",
       "        vertical-align: top;\n",
       "    }\n",
       "\n",
       "    .dataframe thead th {\n",
       "        text-align: right;\n",
       "    }\n",
       "</style>\n",
       "<table border=\"1\" class=\"dataframe\">\n",
       "  <thead>\n",
       "    <tr style=\"text-align: right;\">\n",
       "      <th></th>\n",
       "      <th>text</th>\n",
       "      <th>label</th>\n",
       "    </tr>\n",
       "  </thead>\n",
       "  <tbody>\n",
       "    <tr>\n",
       "      <th>0</th>\n",
       "      <td>정말 재밌다 연기도 좋고 디카프리오 짱</td>\n",
       "      <td>1</td>\n",
       "    </tr>\n",
       "    <tr>\n",
       "      <th>1</th>\n",
       "      <td>심쿵심쿵 미치네요이수혁땜에 잠 못자겠어요ㅠ자꾸 아른거림ㅠ</td>\n",
       "      <td>1</td>\n",
       "    </tr>\n",
       "    <tr>\n",
       "      <th>2</th>\n",
       "      <td>하지만 이니후빨러들은 이런거 관심 하나도 없음</td>\n",
       "      <td>0</td>\n",
       "    </tr>\n",
       "    <tr>\n",
       "      <th>3</th>\n",
       "      <td>@착한아이임당 A4 용지 덮고?</td>\n",
       "      <td>0</td>\n",
       "    </tr>\n",
       "    <tr>\n",
       "      <th>4</th>\n",
       "      <td>진짜 평점 믿으면 안된 다는 걸 현실로 보여주는 영화입니다. 네티즌,전문가 하나같이...</td>\n",
       "      <td>1</td>\n",
       "    </tr>\n",
       "    <tr>\n",
       "      <th>...</th>\n",
       "      <td>...</td>\n",
       "      <td>...</td>\n",
       "    </tr>\n",
       "    <tr>\n",
       "      <th>189917</th>\n",
       "      <td>원작을 읽을 때 이런 건 절대 영상화하기 힘들다고 생각했는데 벤휘쇼의 연기와 더불어...</td>\n",
       "      <td>1</td>\n",
       "    </tr>\n",
       "    <tr>\n",
       "      <th>189918</th>\n",
       "      <td>케석대 어깨 올라간거봐라 ㅋㅋ</td>\n",
       "      <td>0</td>\n",
       "    </tr>\n",
       "    <tr>\n",
       "      <th>189919</th>\n",
       "      <td>@김짜꾸 day and night\\n\\nround the clock\\n\\nwitho...</td>\n",
       "      <td>0</td>\n",
       "    </tr>\n",
       "    <tr>\n",
       "      <th>189920</th>\n",
       "      <td>로버트다우니주니어를 좋아해서 봤는데너무재밌게 봤던영화생각없이 볼때 딱좋음</td>\n",
       "      <td>1</td>\n",
       "    </tr>\n",
       "    <tr>\n",
       "      <th>189921</th>\n",
       "      <td>@익명_146173 개지랄병 병신좌좀새끼ㅋㅋㅋㅋ</td>\n",
       "      <td>0</td>\n",
       "    </tr>\n",
       "  </tbody>\n",
       "</table>\n",
       "<p>189922 rows × 2 columns</p>\n",
       "</div>"
      ],
      "text/plain": [
       "                                                     text  label\n",
       "0                                   정말 재밌다 연기도 좋고 디카프리오 짱      1\n",
       "1                         심쿵심쿵 미치네요이수혁땜에 잠 못자겠어요ㅠ자꾸 아른거림ㅠ      1\n",
       "2                               하지만 이니후빨러들은 이런거 관심 하나도 없음      0\n",
       "3                                       @착한아이임당 A4 용지 덮고?      0\n",
       "4       진짜 평점 믿으면 안된 다는 걸 현실로 보여주는 영화입니다. 네티즌,전문가 하나같이...      1\n",
       "...                                                   ...    ...\n",
       "189917  원작을 읽을 때 이런 건 절대 영상화하기 힘들다고 생각했는데 벤휘쇼의 연기와 더불어...      1\n",
       "189918                                   케석대 어깨 올라간거봐라 ㅋㅋ      0\n",
       "189919  @김짜꾸 day and night\\n\\nround the clock\\n\\nwitho...      0\n",
       "189920           로버트다우니주니어를 좋아해서 봤는데너무재밌게 봤던영화생각없이 볼때 딱좋음      1\n",
       "189921                         @익명_146173 개지랄병 병신좌좀새끼ㅋㅋㅋㅋ      0\n",
       "\n",
       "[189922 rows x 2 columns]"
      ]
     },
     "execution_count": 44,
     "metadata": {},
     "output_type": "execute_result"
    }
   ],
   "source": [
    "df"
   ]
  },
  {
   "cell_type": "code",
   "execution_count": 45,
   "id": "8177069d-1f44-4698-9bce-ef4cb74eb66c",
   "metadata": {},
   "outputs": [
    {
     "data": {
      "text/plain": [
       "(189922, 2)"
      ]
     },
     "execution_count": 45,
     "metadata": {},
     "output_type": "execute_result"
    }
   ],
   "source": [
    "df.shape"
   ]
  },
  {
   "cell_type": "markdown",
   "id": "3a97a98e-df28-4de3-8b02-1ce7a63ec1fd",
   "metadata": {},
   "source": [
    "# 이미지화"
   ]
  },
  {
   "cell_type": "code",
   "execution_count": 20,
   "id": "7c795372-3f31-450d-a38a-e04070a31a0e",
   "metadata": {},
   "outputs": [],
   "source": [
    "# 이미지로 변환하는 함수\n",
    "def create_sentence_image(sentence, font_path, font_size, background_color=(0, 0, 0), text_color=(255, 255, 255)):\n",
    "  sentence_split = sentence.split('\\n')\n",
    "  width = len(max(sentence_split, key=len)) # 길이가 가장 긴 리스트의 길이로 너비 결정\n",
    "  height = len(sentence_split) # 개행으로 나눠진 리스트의 길이로 높이 결정\n",
    "\n",
    "  image_width, image_height = (width*16), height*24  # 픽셀 사이즈 조정\n",
    "  image = Image.new('RGB', (image_width, image_height), background_color)\n",
    "  draw = ImageDraw.Draw(image)\n",
    "\n",
    "  # 폰트 호출\n",
    "  font = ImageFont.truetype(font_path, font_size)\n",
    "\n",
    "  # Get the text size\n",
    "  # text_width, text_height = draw.textlength(sentence, font=font)\n",
    "  _, _, text_width, text_height = draw.textbbox((0, 0), sentence, font=font)\n",
    "\n",
    "  # Calculate the position to center the text\n",
    "  x = (image_width - text_width) // 2\n",
    "  y = (image_height - text_height) // 2\n",
    "\n",
    "  # Draw the letter on the image\n",
    "  draw.text((x, y), sentence, font=font, fill=text_color)\n",
    "\n",
    "  # Convert image to numpy array\n",
    "  img_array = np.array(image)\n",
    "\n",
    "  # Find the bounding box of non-background pixels\n",
    "  non_background = np.where(img_array != background_color)\n",
    "  top, left = np.min(non_background[0]), np.min(non_background[1])\n",
    "  bottom, right = np.max(non_background[0]), np.max(non_background[1])\n",
    "\n",
    "  # Crop the image\n",
    "  cropped_image = image.crop((left, top, right+1, bottom+1))\n",
    "\n",
    "  return cropped_image"
   ]
  },
  {
   "cell_type": "code",
   "execution_count": 47,
   "id": "6a2896a6-983d-4518-93a7-fa20cf13befc",
   "metadata": {},
   "outputs": [],
   "source": [
    "# # 이미지 사이즈 조절. resize\n",
    "# def resize_image(img):\n",
    "#   resized_img = img.resize((32,32))\n",
    "#   return resized_img"
   ]
  },
  {
   "cell_type": "code",
   "execution_count": 35,
   "id": "9ccf3574-fde1-4b29-b346-54c7858e88fe",
   "metadata": {},
   "outputs": [],
   "source": [
    "# 폰트 설정\n",
    "font_path = \"./utils/arial-unicode.ttf\"\n",
    "font_size = 12"
   ]
  },
  {
   "cell_type": "code",
   "execution_count": 49,
   "id": "355da47e-40a1-48f3-8144-2a15183691f6",
   "metadata": {
    "scrolled": true
   },
   "outputs": [
    {
     "data": {
      "image/jpeg": "[encoded data removed]",
      "image/png": "[encoded data removed]",
      "text/plain": [
       "<PIL.Image.Image image mode=RGB size=237x11>"
      ]
     },
     "metadata": {},
     "output_type": "display_data"
    }
   ],
   "source": [
    "text = \"안녕하세요???? 테스트 데이터입니다.............\"\n",
    "sample = replace_space(text)\n",
    "img = create_sentence_image(str(sample), font_path, font_size)\n",
    "display(img)\n",
    "img = np.array(img)"
   ]
  },
  {
   "cell_type": "code",
   "execution_count": 50,
   "id": "8cc22da8-9388-4ea0-8816-5f12c3031b48",
   "metadata": {},
   "outputs": [
    {
     "name": "stdout",
     "output_type": "stream",
     "text": [
      "Y axis max value: 11\n",
      "X axis max value: 237\n"
     ]
    }
   ],
   "source": [
    "print(f\"Y axis max value: {img.shape[0]}\")\n",
    "print(f\"X axis max value: {img.shape[1]}\")"
   ]
  },
  {
   "cell_type": "code",
   "execution_count": 51,
   "id": "76426582-2a90-4d8d-8a84-8a8f50a0d307",
   "metadata": {},
   "outputs": [],
   "source": [
    "# print(np.array(resized_img).shape)"
   ]
  },
  {
   "cell_type": "markdown",
   "id": "8518ff22-a1e1-472e-b875-7e7d3245d69e",
   "metadata": {},
   "source": [
    "# coordinates 추출"
   ]
  },
  {
   "cell_type": "code",
   "execution_count": 21,
   "id": "162b6fdf-92b6-4a2e-a28f-81cccc8a6ac1",
   "metadata": {},
   "outputs": [],
   "source": [
    "# convert image into coordinates\n",
    "def get_coordinates(img):\n",
    "  img_arr = np.array(img)\n",
    "  coordinates = []\n",
    "  for x in range(len(img_arr)):\n",
    "    for y in range(len(img_arr[x])):\n",
    "      if max(img_arr[x][y]) != 0:\n",
    "        coordinates.append([y,x])\n",
    "  return np.array(coordinates)"
   ]
  },
  {
   "cell_type": "code",
   "execution_count": 22,
   "id": "ad517714-ca2d-4b70-bf81-7ac1b49606af",
   "metadata": {},
   "outputs": [],
   "source": [
    "def extract_x_y(img_arr, coordinates):\n",
    "  # x = np.array([point[0] for point in coordinates]) / len(img_arr[0])\n",
    "  # y = np.array([point[1] for point in coordinates]) / len(img_arr)\n",
    "  x = np.array([point[0] for point in coordinates])\n",
    "  y = np.array([point[1] for point in coordinates])\n",
    "  # y = 1-y\n",
    "  return x, y"
   ]
  },
  {
   "cell_type": "code",
   "execution_count": 23,
   "id": "cfea5f28-cf79-4a1d-b626-09752535dc9a",
   "metadata": {},
   "outputs": [],
   "source": [
    "def draw_text(x, y):\n",
    "  # plotting\n",
    "  plt.scatter(x, y, color='blue')\n",
    "\n",
    "  # Set plot title and labels\n",
    "  plt.title('Coordinates for Sentence')\n",
    "  plt.xlabel('X-axis')\n",
    "  plt.ylabel('Y-axis')\n",
    "\n",
    "  # Display plot\n",
    "  plt.show()"
   ]
  },
  {
   "cell_type": "code",
   "execution_count": 55,
   "id": "130b0c01-2ee6-4cfc-9945-b982f6b50ce3",
   "metadata": {},
   "outputs": [],
   "source": [
    "coordinates = get_coordinates(img)"
   ]
  },
  {
   "cell_type": "code",
   "execution_count": 56,
   "id": "dcee5027-39bd-4966-986d-594cc44edc1d",
   "metadata": {},
   "outputs": [
    {
     "data": {
      "text/plain": [
       "(965, 2)"
      ]
     },
     "execution_count": 56,
     "metadata": {},
     "output_type": "execute_result"
    }
   ],
   "source": [
    "coordinates.shape"
   ]
  },
  {
   "cell_type": "code",
   "execution_count": 57,
   "id": "b99fa256-c7bd-483b-a617-9b1fc73026a7",
   "metadata": {},
   "outputs": [
    {
     "data": {
      "image/png": "[encoded data removed]",
      "text/plain": [
       "<Figure size 1200x100 with 1 Axes>"
      ]
     },
     "metadata": {},
     "output_type": "display_data"
    }
   ],
   "source": [
    "# plotting\n",
    "import matplotlib.pyplot as plt\n",
    "\n",
    "x, y = extract_x_y(img, coordinates)\n",
    "\n",
    "plt.figure(figsize=(12, 1))\n",
    "plt.scatter(x, y, color='blue')\n",
    "\n",
    "# Set plot title and labels\n",
    "plt.title('Coordinates for Sentence')\n",
    "plt.gca().invert_yaxis()\n",
    "plt.xlabel('X-axis')\n",
    "plt.ylabel('Y-axis')\n",
    "plt.grid(True)  # 그리드 추가\n",
    "\n",
    "# Display plot\n",
    "plt.show()"
   ]
  },
  {
   "cell_type": "markdown",
   "id": "12be6de6-83f5-4cad-899f-cfdb0b98307d",
   "metadata": {},
   "source": [
    "# 좌표값 정규화"
   ]
  },
  {
   "cell_type": "code",
   "execution_count": 24,
   "id": "7f925d27-89b5-4b7d-828a-e9f64cf9a891",
   "metadata": {},
   "outputs": [],
   "source": [
    "def std_coordinates(data, max_x, max_y):\n",
    "    standardized_data = np.zeros_like(data, dtype=float)\n",
    "    standardized_data[:, 0] = data[:, 0] / max_x\n",
    "    standardized_data[:, 1] = data[:, 1] / max_y\n",
    "    return standardized_data"
   ]
  },
  {
   "cell_type": "code",
   "execution_count": 59,
   "id": "56b2b095-bfcd-4b75-af10-2641990106f8",
   "metadata": {},
   "outputs": [
    {
     "data": {
      "text/plain": [
       "array([130,   3])"
      ]
     },
     "execution_count": 59,
     "metadata": {},
     "output_type": "execute_result"
    }
   ],
   "source": [
    "coordinates[300]"
   ]
  },
  {
   "cell_type": "code",
   "execution_count": 60,
   "id": "80419a9d-a58e-448e-b5d8-d8d8c16c4069",
   "metadata": {},
   "outputs": [
    {
     "data": {
      "text/plain": [
       "(11, 237, 3)"
      ]
     },
     "execution_count": 60,
     "metadata": {},
     "output_type": "execute_result"
    }
   ],
   "source": [
    "img.shape"
   ]
  },
  {
   "cell_type": "code",
   "execution_count": 61,
   "id": "698b40e4-b9da-439a-b18f-a43b90ac71ae",
   "metadata": {},
   "outputs": [],
   "source": [
    "std_coords = std_coordinates(coordinates, img.shape[1], img.shape[0])"
   ]
  },
  {
   "cell_type": "code",
   "execution_count": 62,
   "id": "22d84925-328e-41c6-bda9-e1117a2d3959",
   "metadata": {},
   "outputs": [
    {
     "data": {
      "text/plain": [
       "(965, 2)"
      ]
     },
     "execution_count": 62,
     "metadata": {},
     "output_type": "execute_result"
    }
   ],
   "source": [
    "std_coords.shape"
   ]
  },
  {
   "cell_type": "code",
   "execution_count": 63,
   "id": "f465658f-32e8-4912-867d-af565a3bf259",
   "metadata": {},
   "outputs": [
    {
     "data": {
      "image/png": "[encoded data removed]",
      "text/plain": [
       "<Figure size 1200x100 with 1 Axes>"
      ]
     },
     "metadata": {},
     "output_type": "display_data"
    }
   ],
   "source": [
    "# 산점도 그리기\n",
    "plt.figure(figsize=(12, 1))\n",
    "plt.scatter(std_coords[:, 0], std_coords[:, 1], alpha=0.5)\n",
    "plt.title('Standardized Coordinates')\n",
    "plt.xlabel('X-axis')\n",
    "plt.ylabel('Y-axis')\n",
    "plt.gca().invert_yaxis()\n",
    "# plt.xlim(0, 1)  # x축 범위를 0에서 1로 설정\n",
    "# plt.ylim(0, 1)  # y축 범위를 0에서 1로 설정\n",
    "plt.grid(True)  # 그리드 추가\n",
    "\n",
    "# 플롯 표시\n",
    "plt.show()"
   ]
  },
  {
   "cell_type": "code",
   "execution_count": 25,
   "id": "b3459e3a-94d8-40d6-8214-b642209eccef",
   "metadata": {},
   "outputs": [],
   "source": [
    "# 패딩\n",
    "def pad_coords(coords, pad_size=3000):\n",
    "    sorted_data = coords[coords[:, 0].argsort()]\n",
    "    if len(sorted_data) >= pad_size:\n",
    "        return sorted_data[:pad_size]\n",
    "    else:\n",
    "        diff = pad_size - len(sorted_data)\n",
    "        sorted_data = np.pad(sorted_data, ((0, diff), (0, 0)), mode='constant', constant_values=0)\n",
    "    return sorted_data"
   ]
  },
  {
   "cell_type": "code",
   "execution_count": 65,
   "id": "d518c2d7-e7a6-4df5-b56c-96ea5e7a7abb",
   "metadata": {},
   "outputs": [],
   "source": [
    "padded_coords = pad_coords(std_coords)"
   ]
  },
  {
   "cell_type": "code",
   "execution_count": 66,
   "id": "3c46d3c0-ed0d-4e9a-b78a-b91b33d47da7",
   "metadata": {},
   "outputs": [
    {
     "data": {
      "image/png": "[encoded data removed]",
      "text/plain": [
       "<Figure size 1200x100 with 1 Axes>"
      ]
     },
     "metadata": {},
     "output_type": "display_data"
    }
   ],
   "source": [
    "# 산점도 그리기\n",
    "plt.figure(figsize=(12, 1))\n",
    "plt.scatter(padded_coords[:, 0], padded_coords[:, 1], alpha=0.5)\n",
    "plt.title('Padded Coordinates')\n",
    "plt.xlabel('X-axis')\n",
    "plt.ylabel('Y-axis')\n",
    "plt.gca().invert_yaxis()\n",
    "# plt.xlim(0, 1)  # x축 범위를 0에서 1로 설정\n",
    "# plt.ylim(0, 1)  # y축 범위를 0에서 1로 설정\n",
    "plt.grid(True)  # 그리드 추가\n",
    "\n",
    "# 플롯 표시\n",
    "plt.show()"
   ]
  },
  {
   "cell_type": "markdown",
   "id": "408c44d7-1076-430c-94fb-13a1014b6146",
   "metadata": {},
   "source": [
    "# 전처리"
   ]
  },
  {
   "cell_type": "code",
   "execution_count": 26,
   "id": "05945b60-0e70-407d-b6e6-3f80fc5f9b0b",
   "metadata": {},
   "outputs": [],
   "source": [
    "# stopwords 호출\n",
    "with open('./datasets/stopwords.txt', 'r') as f:\n",
    "    lines = f.readlines()\n",
    "\n",
    "# lines = [line.strip() for line in lines]\n",
    "stopwords = list([line.strip() for line in lines if line != \"\"][1:])"
   ]
  },
  {
   "cell_type": "code",
   "execution_count": 27,
   "id": "2d1a218a-385a-4dd4-8593-84a65c382ec0",
   "metadata": {},
   "outputs": [],
   "source": [
    "# fasttext 모델 load\n",
    "fasttext_model = fasttext.load_model(\"fasttext_jamo_model.bin\")"
   ]
  },
  {
   "cell_type": "code",
   "execution_count": 28,
   "id": "377c92ef-0c09-4e66-b7dd-a5128be928e3",
   "metadata": {},
   "outputs": [],
   "source": [
    "from jamo import h2j, j2hcj\n",
    "from konlpy.tag import Okt\n",
    "okt = Okt()"
   ]
  },
  {
   "cell_type": "code",
   "execution_count": 29,
   "id": "9e0c6dcb-456a-4b6c-aa53-5106ee4cfe1c",
   "metadata": {},
   "outputs": [],
   "source": [
    "def vectorize_text(morph_list, model):\n",
    "    vectors = []\n",
    "    for i in range(len(morph_list)):\n",
    "        vectors.append(model[morph_list[i]])\n",
    "    return vectors"
   ]
  },
  {
   "cell_type": "code",
   "execution_count": 30,
   "id": "5292b75a-19a1-4530-9d66-f2b1bdd11455",
   "metadata": {},
   "outputs": [],
   "source": [
    "# 정규식 패턴: 같은 문자가 3번 이상 반복되는 경우\n",
    "def reduce_repeated_chars(s):\n",
    "    pattern = r'(.)\\1{2,}'\n",
    "    return re.sub(pattern, r'\\1\\1\\1', s)"
   ]
  },
  {
   "cell_type": "code",
   "execution_count": 31,
   "id": "2d24a803-f246-4881-9c7f-31b98484242a",
   "metadata": {},
   "outputs": [],
   "source": [
    "def get_jamo(s):\n",
    "    reduced_char = reduce_repeated_chars(s)\n",
    "    words = okt.morphs(reduced_char, norm=True)\n",
    "    processed_words = [word for word in words if word not in stopwords]\n",
    "    jamo_list = [j2hcj(h2j(word)) for word in processed_words]\n",
    "    return jamo_list"
   ]
  },
  {
   "cell_type": "code",
   "execution_count": 14,
   "id": "93cfd7d6-3b23-40e9-90a5-33e0b64690f1",
   "metadata": {},
   "outputs": [
    {
     "name": "stderr",
     "output_type": "stream",
     "text": [
      "<>:1: SyntaxWarning: invalid escape sequence '\\-'\n",
      "<>:1: SyntaxWarning: invalid escape sequence '\\-'\n",
      "/tmp/ipykernel_24883/3797488092.py:1: SyntaxWarning: invalid escape sequence '\\-'\n",
      "  s = '재밌다 ㅋㅋㅋㅋㅋㅋㅋㅋ ㄱ\\-ㅈ\\- test..... !+ 테스트당 아'\n",
      "/tmp/ipykernel_24883/3797488092.py:1: SyntaxWarning: invalid escape sequence '\\-'\n",
      "  s = '재밌다 ㅋㅋㅋㅋㅋㅋㅋㅋ ㄱ\\-ㅈ\\- test..... !+ 테스트당 아'\n"
     ]
    },
    {
     "ename": "NameError",
     "evalue": "name 'reduce_repeated_chars' is not defined",
     "output_type": "error",
     "traceback": [
      "\u001b[0;31m---------------------------------------------------------------------------\u001b[0m",
      "\u001b[0;31mNameError\u001b[0m                                 Traceback (most recent call last)",
      "Cell \u001b[0;32mIn[14], line 2\u001b[0m\n\u001b[1;32m      1\u001b[0m s \u001b[38;5;241m=\u001b[39m \u001b[38;5;124m'\u001b[39m\u001b[38;5;124m재밌다 ㅋㅋㅋㅋㅋㅋㅋㅋ ㄱ\u001b[39m\u001b[38;5;124m\\\u001b[39m\u001b[38;5;124m-ㅈ\u001b[39m\u001b[38;5;124m\\\u001b[39m\u001b[38;5;124m- test..... !+ 테스트당 아\u001b[39m\u001b[38;5;124m'\u001b[39m\n\u001b[0;32m----> 2\u001b[0m s \u001b[38;5;241m=\u001b[39m \u001b[43mreduce_repeated_chars\u001b[49m(s)\n\u001b[1;32m      3\u001b[0m s \u001b[38;5;241m=\u001b[39m okt\u001b[38;5;241m.\u001b[39mmorphs(s, norm\u001b[38;5;241m=\u001b[39m\u001b[38;5;28;01mTrue\u001b[39;00m)\n\u001b[1;32m      4\u001b[0m s\n",
      "\u001b[0;31mNameError\u001b[0m: name 'reduce_repeated_chars' is not defined"
     ]
    }
   ],
   "source": [
    "s = '재밌다 ㅋㅋㅋㅋㅋㅋㅋㅋ ㄱ\\-ㅈ\\- test..... !+ 테스트당 아'\n",
    "s = reduce_repeated_chars(s)\n",
    "s = okt.morphs(s, norm=True)\n",
    "s"
   ]
  },
  {
   "cell_type": "code",
   "execution_count": 74,
   "id": "f5b15c8e-1737-40f0-bd52-fa8b52aa4387",
   "metadata": {},
   "outputs": [
    {
     "name": "stderr",
     "output_type": "stream",
     "text": [
      "<>:1: SyntaxWarning: invalid escape sequence '\\-'\n",
      "<>:1: SyntaxWarning: invalid escape sequence '\\-'\n",
      "/tmp/ipykernel_22151/3188698262.py:1: SyntaxWarning: invalid escape sequence '\\-'\n",
      "  s = '재밌다 ㅋㅋㅋㅋㅋㅋㅋㅋ ㄱ\\-ㅈ\\- test..... !+ 테스트당 아'\n"
     ]
    },
    {
     "data": {
      "text/plain": [
       "['ㅈㅐㅁㅣㅆㄷㅏ',\n",
       " 'ㅋㅋㅋ',\n",
       " 'ㄱ',\n",
       " '\\\\-',\n",
       " 'ㅈ',\n",
       " '\\\\-',\n",
       " 'test',\n",
       " '...',\n",
       " '!+',\n",
       " 'ㅌㅔㅅㅡㅌㅡ',\n",
       " 'ㄷㅏㅇ']"
      ]
     },
     "execution_count": 74,
     "metadata": {},
     "output_type": "execute_result"
    }
   ],
   "source": [
    "s = '재밌다 ㅋㅋㅋㅋㅋㅋㅋㅋ ㄱ\\-ㅈ\\- test..... !+ 테스트당 아'\n",
    "get_jamo(s)"
   ]
  },
  {
   "cell_type": "code",
   "execution_count": 75,
   "id": "bb8eb47c-dafc-449d-ad80-11b0561efdc9",
   "metadata": {},
   "outputs": [
    {
     "name": "stderr",
     "output_type": "stream",
     "text": [
      "<>:1: SyntaxWarning: invalid escape sequence '\\-'\n",
      "<>:1: SyntaxWarning: invalid escape sequence '\\-'\n",
      "/tmp/ipykernel_22151/2800769426.py:1: SyntaxWarning: invalid escape sequence '\\-'\n",
      "  s = '재밌다 ㅋㅋㅋㅋㅋㅋㅋㅋ ㄱ\\-ㅈ\\- test..... !+ 테스트당 아'\n"
     ]
    },
    {
     "data": {
      "text/plain": [
       "'재밌다ㅋㅋㅋㅋㅋㅋㅋㅋㄱ\\\\-ㅈ\\\\-test.....!+테스트당아'"
      ]
     },
     "execution_count": 75,
     "metadata": {},
     "output_type": "execute_result"
    }
   ],
   "source": [
    "s = '재밌다 ㅋㅋㅋㅋㅋㅋㅋㅋ ㄱ\\-ㅈ\\- test..... !+ 테스트당 아'\n",
    "replace_space(s)"
   ]
  },
  {
   "cell_type": "code",
   "execution_count": 76,
   "id": "a1a4da9f-c390-4057-9c6b-d0f5a18ab67c",
   "metadata": {},
   "outputs": [],
   "source": [
    "test = vectorize_text(get_jamo('안녕? ㅎㅎ 사랑해'), fasttext_model)"
   ]
  },
  {
   "cell_type": "code",
   "execution_count": 77,
   "id": "7a55f9a9-47cc-4251-a268-1eb2dc24d50d",
   "metadata": {},
   "outputs": [
    {
     "data": {
      "text/plain": [
       "['ㅅㅏㄹㅏㅇ', 'ㅎㅐ']"
      ]
     },
     "execution_count": 77,
     "metadata": {},
     "output_type": "execute_result"
    }
   ],
   "source": [
    "get_jamo(\"사랑해\")"
   ]
  },
  {
   "cell_type": "code",
   "execution_count": 78,
   "id": "b660c28b-950e-4544-8884-9ba261b997a7",
   "metadata": {},
   "outputs": [
    {
     "data": {
      "text/plain": [
       "(100,)"
      ]
     },
     "execution_count": 78,
     "metadata": {},
     "output_type": "execute_result"
    }
   ],
   "source": [
    "np.array(test[0]).shape"
   ]
  },
  {
   "cell_type": "code",
   "execution_count": 79,
   "id": "45234996-791c-4a8b-a69a-dd946abc27dd",
   "metadata": {},
   "outputs": [
    {
     "data": {
      "text/plain": [
       "array([ True,  True,  True,  True,  True,  True,  True,  True,  True,\n",
       "        True,  True,  True,  True,  True,  True,  True,  True,  True,\n",
       "        True,  True,  True,  True,  True,  True,  True,  True,  True,\n",
       "        True,  True,  True,  True,  True,  True,  True,  True,  True,\n",
       "        True,  True,  True,  True,  True,  True,  True,  True,  True,\n",
       "        True,  True,  True,  True,  True,  True,  True,  True,  True,\n",
       "        True,  True,  True,  True,  True,  True,  True,  True,  True,\n",
       "        True,  True,  True,  True,  True,  True,  True,  True,  True,\n",
       "        True,  True,  True,  True,  True,  True,  True,  True,  True,\n",
       "        True,  True,  True,  True,  True,  True,  True,  True,  True,\n",
       "        True,  True,  True,  True,  True,  True,  True,  True,  True,\n",
       "        True])"
      ]
     },
     "execution_count": 79,
     "metadata": {},
     "output_type": "execute_result"
    }
   ],
   "source": [
    "test[-1] == fasttext_model['ㅎㅐ']"
   ]
  },
  {
   "cell_type": "code",
   "execution_count": 38,
   "id": "b29de837-3f99-471d-8f1f-6ad7ba04e685",
   "metadata": {},
   "outputs": [],
   "source": [
    "pad_size = 3000"
   ]
  },
  {
   "cell_type": "code",
   "execution_count": 77,
   "id": "13de9a26-cc8e-4ceb-befc-ef0b901f302b",
   "metadata": {
    "scrolled": true
   },
   "outputs": [
    {
     "name": "stdout",
     "output_type": "stream",
     "text": [
      "0\n"
     ]
    },
    {
     "ename": "KeyboardInterrupt",
     "evalue": "",
     "output_type": "error",
     "traceback": [
      "\u001b[0;31m---------------------------------------------------------------------------\u001b[0m",
      "\u001b[0;31mKeyboardInterrupt\u001b[0m                         Traceback (most recent call last)",
      "Cell \u001b[0;32mIn[77], line 23\u001b[0m\n\u001b[1;32m     20\u001b[0m img \u001b[38;5;241m=\u001b[39m np\u001b[38;5;241m.\u001b[39marray(img)\n\u001b[1;32m     22\u001b[0m \u001b[38;5;66;03m# 좌표 추출\u001b[39;00m\n\u001b[0;32m---> 23\u001b[0m coordinates \u001b[38;5;241m=\u001b[39m \u001b[43mget_coordinates\u001b[49m\u001b[43m(\u001b[49m\u001b[43mimg\u001b[49m\u001b[43m)\u001b[49m\n\u001b[1;32m     25\u001b[0m x_lim \u001b[38;5;241m=\u001b[39m img\u001b[38;5;241m.\u001b[39mshape[\u001b[38;5;241m1\u001b[39m]\n\u001b[1;32m     26\u001b[0m y_lim \u001b[38;5;241m=\u001b[39m img\u001b[38;5;241m.\u001b[39mshape[\u001b[38;5;241m0\u001b[39m]\n",
      "Cell \u001b[0;32mIn[38], line 7\u001b[0m, in \u001b[0;36mget_coordinates\u001b[0;34m(img)\u001b[0m\n\u001b[1;32m      5\u001b[0m \u001b[38;5;28;01mfor\u001b[39;00m x \u001b[38;5;129;01min\u001b[39;00m \u001b[38;5;28mrange\u001b[39m(\u001b[38;5;28mlen\u001b[39m(img_arr)):\n\u001b[1;32m      6\u001b[0m   \u001b[38;5;28;01mfor\u001b[39;00m y \u001b[38;5;129;01min\u001b[39;00m \u001b[38;5;28mrange\u001b[39m(\u001b[38;5;28mlen\u001b[39m(img_arr[x])):\n\u001b[0;32m----> 7\u001b[0m     \u001b[38;5;28;01mif\u001b[39;00m \u001b[38;5;28mmax\u001b[39m(img_arr[x][y]) \u001b[38;5;241m!=\u001b[39m \u001b[38;5;241m0\u001b[39m:\n\u001b[1;32m      8\u001b[0m       coordinates\u001b[38;5;241m.\u001b[39mappend([y,x])\n\u001b[1;32m      9\u001b[0m \u001b[38;5;28;01mreturn\u001b[39;00m np\u001b[38;5;241m.\u001b[39marray(coordinates)\n",
      "\u001b[0;31mKeyboardInterrupt\u001b[0m: "
     ]
    }
   ],
   "source": [
    "vector_data = []\n",
    "coords_data = []\n",
    "# img_data = []\n",
    "coords_by_length = []\n",
    "label_list = []\n",
    "\n",
    "for i in range(len(df)):\n",
    "    text = df['text'][i]\n",
    "    processed_text = get_jamo(text)\n",
    "    vector_list = vectorize_text(processed_text, fasttext_model)\n",
    "    if len(vector_list) == 0:\n",
    "        continue\n",
    "    else:\n",
    "        vector_data.append(vector_list)\n",
    "        # spaceless_text = replace_space(text)\n",
    "        spaceless_text = replace_space(\" \".join(processed_text))\n",
    "        img = create_sentence_image(spaceless_text, font_path, font_size)\n",
    "        # resized_img = resize_image(img)\n",
    "        # img_data.append(resized_img)\n",
    "        img = np.array(img)\n",
    "        \n",
    "        # 좌표 추출\n",
    "        coordinates = get_coordinates(img)\n",
    "        \n",
    "        x_lim = img.shape[1]\n",
    "        y_lim = img.shape[0]\n",
    "        \n",
    "        # 좌표 정규화\n",
    "        std_coords = std_coordinates(coordinates, x_lim, y_lim)\n",
    "        coords_by_length.append(std_coords.shape[0])\n",
    "        padded_coords = pad_coords(std_coords, pad_size)\n",
    "    \n",
    "        coords_data.append(padded_coords)\n",
    "        label_list.append(df['label'][i])\n",
    "\n",
    "    if i % 1000 == 0:\n",
    "        print(i)\n",
    "    \n",
    "print(\"Preprocess complete\")\n",
    "print(len(coords_data))"
   ]
  },
  {
   "cell_type": "code",
   "execution_count": 4,
   "id": "7ea83194-3759-4638-bfd7-e990a6dc6017",
   "metadata": {},
   "outputs": [],
   "source": [
    "# load processed data\n",
    "padded_vector_data = np.load('./datasets/padded_vector_data_hate.npy')\n",
    "coords_data = np.load('./datasets/coords_data_hate.npy')\n",
    "label_list = np.load('./datasets/label_list_hate.npy')"
   ]
  },
  {
   "cell_type": "code",
   "execution_count": 82,
   "id": "3e2ea63c-3141-4f6b-98df-1c33607e9ae7",
   "metadata": {},
   "outputs": [
    {
     "data": {
      "text/plain": [
       "'심쿵심쿵 미치네요이수혁땜에 잠 못자겠어요ㅠ자꾸 아른거림ㅠ'"
      ]
     },
     "execution_count": 82,
     "metadata": {},
     "output_type": "execute_result"
    }
   ],
   "source": [
    "df['text'][1]"
   ]
  },
  {
   "cell_type": "code",
   "execution_count": 83,
   "id": "5fcbf044-1828-41cc-a681-61c702f97b75",
   "metadata": {},
   "outputs": [],
   "source": [
    "# display(img_data[0])"
   ]
  },
  {
   "cell_type": "code",
   "execution_count": 84,
   "id": "7d489431-20b2-4608-b8c3-b08c58b8dbb1",
   "metadata": {},
   "outputs": [
    {
     "data": {
      "image/png": "[encoded data removed]",
      "text/plain": [
       "<Figure size 1200x100 with 1 Axes>"
      ]
     },
     "metadata": {},
     "output_type": "display_data"
    }
   ],
   "source": [
    "plt.figure(figsize=(12, 1))\n",
    "plt.scatter(coords_data[1][:, 0], coords_data[1][:, 1], alpha=0.5)\n",
    "plt.title('Standardized Coordinates')\n",
    "plt.xlabel('X-axis')\n",
    "plt.ylabel('Y-axis')\n",
    "plt.gca().invert_yaxis()\n",
    "# plt.xlim(0, 1)\n",
    "# plt.ylim(0, 1)\n",
    "plt.grid(True)\n",
    "\n",
    "# 플롯 표시\n",
    "plt.show()"
   ]
  },
  {
   "cell_type": "code",
   "execution_count": 82,
   "id": "268de62e-449d-4229-bab4-b4f4a77b09e1",
   "metadata": {},
   "outputs": [
    {
     "ename": "NameError",
     "evalue": "name 'coords_by_length' is not defined",
     "output_type": "error",
     "traceback": [
      "\u001b[0;31m---------------------------------------------------------------------------\u001b[0m",
      "\u001b[0;31mNameError\u001b[0m                                 Traceback (most recent call last)",
      "Cell \u001b[0;32mIn[82], line 2\u001b[0m\n\u001b[1;32m      1\u001b[0m \u001b[38;5;66;03m# coords 평균 길이\u001b[39;00m\n\u001b[0;32m----> 2\u001b[0m max_len \u001b[38;5;241m=\u001b[39m \u001b[38;5;28mmax\u001b[39m(i \u001b[38;5;28;01mfor\u001b[39;00m i \u001b[38;5;129;01min\u001b[39;00m \u001b[43mcoords_by_length\u001b[49m)\n\u001b[1;32m      3\u001b[0m min_len \u001b[38;5;241m=\u001b[39m \u001b[38;5;28mmin\u001b[39m(i \u001b[38;5;28;01mfor\u001b[39;00m i \u001b[38;5;129;01min\u001b[39;00m coords_by_length)\n\u001b[1;32m      4\u001b[0m average \u001b[38;5;241m=\u001b[39m \u001b[38;5;28msum\u001b[39m(i \u001b[38;5;28;01mfor\u001b[39;00m i \u001b[38;5;129;01min\u001b[39;00m coords_by_length) \u001b[38;5;241m/\u001b[39m \u001b[38;5;28mlen\u001b[39m(coords_by_length)\n",
      "\u001b[0;31mNameError\u001b[0m: name 'coords_by_length' is not defined"
     ]
    }
   ],
   "source": [
    "# coords 평균 길이\n",
    "max_len = max(i for i in coords_by_length)\n",
    "min_len = min(i for i in coords_by_length)\n",
    "average = sum(i for i in coords_by_length) / len(coords_by_length)\n",
    "\n",
    "print(\"max length: \", max_len)\n",
    "print(\"min length: \", min_len)\n",
    "print(\"avg length: \", average)"
   ]
  },
  {
   "cell_type": "code",
   "execution_count": 83,
   "id": "0d1e1e60-20e8-4a13-858e-c2cd9008f429",
   "metadata": {},
   "outputs": [
    {
     "ename": "NameError",
     "evalue": "name 'vector_data' is not defined",
     "output_type": "error",
     "traceback": [
      "\u001b[0;31m---------------------------------------------------------------------------\u001b[0m",
      "\u001b[0;31mNameError\u001b[0m                                 Traceback (most recent call last)",
      "Cell \u001b[0;32mIn[83], line 2\u001b[0m\n\u001b[1;32m      1\u001b[0m \u001b[38;5;66;03m# vector 평균 길이\u001b[39;00m\n\u001b[0;32m----> 2\u001b[0m vec_max_len \u001b[38;5;241m=\u001b[39m \u001b[38;5;28mmax\u001b[39m(\u001b[38;5;28mlen\u001b[39m(i) \u001b[38;5;28;01mfor\u001b[39;00m i \u001b[38;5;129;01min\u001b[39;00m \u001b[43mvector_data\u001b[49m)\n\u001b[1;32m      3\u001b[0m vec_min_len \u001b[38;5;241m=\u001b[39m \u001b[38;5;28mmin\u001b[39m(\u001b[38;5;28mlen\u001b[39m(i) \u001b[38;5;28;01mfor\u001b[39;00m i \u001b[38;5;129;01min\u001b[39;00m vector_data)\n\u001b[1;32m      4\u001b[0m vec_average \u001b[38;5;241m=\u001b[39m \u001b[38;5;28msum\u001b[39m(\u001b[38;5;28mlen\u001b[39m(i) \u001b[38;5;28;01mfor\u001b[39;00m i \u001b[38;5;129;01min\u001b[39;00m vector_data) \u001b[38;5;241m/\u001b[39m \u001b[38;5;28mlen\u001b[39m(vector_data)\n",
      "\u001b[0;31mNameError\u001b[0m: name 'vector_data' is not defined"
     ]
    }
   ],
   "source": [
    "# vector 평균 길이\n",
    "vec_max_len = max(len(i) for i in vector_data)\n",
    "vec_min_len = min(len(i) for i in vector_data)\n",
    "vec_average = sum(len(i) for i in vector_data) / len(vector_data)\n",
    "\n",
    "print(\"max length: \", vec_max_len)\n",
    "print(\"min length: \", vec_min_len)\n",
    "print(\"avg length: \", vec_average)"
   ]
  },
  {
   "cell_type": "markdown",
   "id": "34111206-410b-4b85-a227-90d6b55d8b9c",
   "metadata": {},
   "source": [
    "# 정규화"
   ]
  },
  {
   "cell_type": "code",
   "execution_count": 32,
   "id": "019819cc-ea7c-48c0-ba1a-85c72ef8e1d1",
   "metadata": {},
   "outputs": [],
   "source": [
    "# vector 패딩\n",
    "def pad_vector(vec, pad_size=30):\n",
    "    padded = []\n",
    "    if len(vec) >= pad_size:\n",
    "        return np.array(vec[:pad_size])\n",
    "    else:\n",
    "        diff = pad_size - len(vec)\n",
    "        padded = np.pad(vec, ((0, diff), (0, 0)), mode='constant', constant_values=0)\n",
    "    return np.array(padded)"
   ]
  },
  {
   "cell_type": "code",
   "execution_count": 85,
   "id": "0cf667be-f764-4b42-97d9-c71077f11def",
   "metadata": {},
   "outputs": [
    {
     "ename": "NameError",
     "evalue": "name 'vector_data' is not defined",
     "output_type": "error",
     "traceback": [
      "\u001b[0;31m---------------------------------------------------------------------------\u001b[0m",
      "\u001b[0;31mNameError\u001b[0m                                 Traceback (most recent call last)",
      "Cell \u001b[0;32mIn[85], line 1\u001b[0m\n\u001b[0;32m----> 1\u001b[0m pad_vector(\u001b[43mvector_data\u001b[49m[\u001b[38;5;241m0\u001b[39m],\u001b[38;5;241m50\u001b[39m)\u001b[38;5;241m.\u001b[39mshape\n",
      "\u001b[0;31mNameError\u001b[0m: name 'vector_data' is not defined"
     ]
    }
   ],
   "source": [
    "pad_vector(vector_data[0],50).shape"
   ]
  },
  {
   "cell_type": "code",
   "execution_count": 82,
   "id": "d9e1bcce-abeb-4856-83ff-2dea06d1d75d",
   "metadata": {},
   "outputs": [],
   "source": [
    "# 벡터 제로패딩\n",
    "padded_vector_data = []\n",
    "for i in range(len(vector_data)):\n",
    "    padded_vector_data.append(pad_vector(vector_data[i], 30))\n",
    "padded_vector_data = np.array(padded_vector_data)"
   ]
  },
  {
   "cell_type": "code",
   "execution_count": 83,
   "id": "88f87c24-a76d-4400-a73d-d9672704013e",
   "metadata": {},
   "outputs": [
    {
     "data": {
      "text/plain": [
       "1"
      ]
     },
     "execution_count": 83,
     "metadata": {},
     "output_type": "execute_result"
    }
   ],
   "source": [
    "len(vector_data)"
   ]
  },
  {
   "cell_type": "code",
   "execution_count": 84,
   "id": "5d9ad0ef-0606-404c-b053-6366390f6607",
   "metadata": {},
   "outputs": [
    {
     "data": {
      "text/plain": [
       "0"
      ]
     },
     "execution_count": 84,
     "metadata": {},
     "output_type": "execute_result"
    }
   ],
   "source": [
    "len(coords_data)"
   ]
  },
  {
   "cell_type": "code",
   "execution_count": 85,
   "id": "6a2f3499-7127-497b-94f1-cd0d5e1e6df6",
   "metadata": {},
   "outputs": [
    {
     "data": {
      "text/plain": [
       "(1, 30, 100)"
      ]
     },
     "execution_count": 85,
     "metadata": {},
     "output_type": "execute_result"
    }
   ],
   "source": [
    "padded_vector_data.shape"
   ]
  },
  {
   "cell_type": "code",
   "execution_count": null,
   "id": "8459cc58-81d6-40f4-a7c3-728daa4216ba",
   "metadata": {},
   "outputs": [],
   "source": [
    "# # save processed data\n",
    "# np.save('./datasets/padded_vector_data_hate.npy', np.array(padded_vector_data))\n",
    "# np.save('./datasets/coords_data_hate.npy', np.array(coords_data))\n",
    "# np.save('./datasets/label_list_hate.npy', np.array(label_list))"
   ]
  },
  {
   "cell_type": "markdown",
   "id": "347eb802-9671-4382-aab8-74deef39a253",
   "metadata": {},
   "source": [
    "# 데이터 분할"
   ]
  },
  {
   "cell_type": "code",
   "execution_count": 5,
   "id": "b183eb22-06dd-4550-90b4-b826767d06ae",
   "metadata": {},
   "outputs": [
    {
     "name": "stdout",
     "output_type": "stream",
     "text": [
      "(152000, 30, 100)\n",
      "(152000, 3000, 2)\n",
      "(152000,)\n",
      "(37859, 30, 100)\n",
      "(37859, 3000, 2)\n",
      "(37859,)\n"
     ]
    }
   ],
   "source": [
    "# # 데이터 분할\n",
    "x_train = padded_vector_data[:152000]\n",
    "x_train_coords = np.array(coords_data)[:152000]\n",
    "# x_train_img = np.array(img_data)[:40000]\n",
    "y_train = np.array(label_list)[:152000]\n",
    "\n",
    "x_test = padded_vector_data[152000:]\n",
    "x_test_coords = np.array(coords_data)[152000:]\n",
    "# x_test_img = np.array(img_data)[40000:]\n",
    "y_test = np.array(label_list)[152000:]\n",
    "\n",
    "print(x_train.shape)\n",
    "print(x_train_coords.shape)\n",
    "# print(x_train_img.shape)\n",
    "print(y_train.shape)\n",
    "print(x_test.shape)\n",
    "print(x_test_coords.shape)\n",
    "# print(x_test_img.shape)\n",
    "print(y_test.shape)"
   ]
  },
  {
   "cell_type": "markdown",
   "id": "030a798e-67da-4ee4-82fc-904b061f4996",
   "metadata": {},
   "source": [
    "# 모델 설계"
   ]
  },
  {
   "cell_type": "code",
   "execution_count": 6,
   "id": "781b16d6-14b6-4ab4-bfb8-73b197792af3",
   "metadata": {},
   "outputs": [],
   "source": [
    "import tensorflow.keras.layers\n",
    "from tensorflow.keras.layers import Input, Conv2D, Conv1D, Flatten, Dense, Concatenate, MaxPool2D, MaxPool1D, Dropout, LSTM, Embedding\n",
    "from tensorflow.keras.models import Model, Sequential"
   ]
  },
  {
   "cell_type": "code",
   "execution_count": 7,
   "id": "70624e7c-6d3b-410d-8d70-cd524b5bba7d",
   "metadata": {},
   "outputs": [
    {
     "name": "stderr",
     "output_type": "stream",
     "text": [
      "I0000 00:00:1727513349.663788   24883 cuda_executor.cc:1001] could not open file to read NUMA node: /sys/bus/pci/devices/0000:01:00.0/numa_node\n",
      "Your kernel may have been built without NUMA support.\n",
      "I0000 00:00:1727513349.663898   24883 cuda_executor.cc:1001] could not open file to read NUMA node: /sys/bus/pci/devices/0000:01:00.0/numa_node\n",
      "Your kernel may have been built without NUMA support.\n",
      "I0000 00:00:1727513349.663915   24883 cuda_executor.cc:1001] could not open file to read NUMA node: /sys/bus/pci/devices/0000:01:00.0/numa_node\n",
      "Your kernel may have been built without NUMA support.\n",
      "I0000 00:00:1727513349.837059   24883 cuda_executor.cc:1001] could not open file to read NUMA node: /sys/bus/pci/devices/0000:01:00.0/numa_node\n",
      "Your kernel may have been built without NUMA support.\n",
      "I0000 00:00:1727513349.837132   24883 cuda_executor.cc:1001] could not open file to read NUMA node: /sys/bus/pci/devices/0000:01:00.0/numa_node\n",
      "Your kernel may have been built without NUMA support.\n",
      "2024-09-28 17:49:09.837169: I tensorflow/core/common_runtime/gpu/gpu_device.cc:2112] Could not identify NUMA node of platform GPU id 0, defaulting to 0.  Your kernel may not have been built with NUMA support.\n",
      "I0000 00:00:1727513349.837218   24883 cuda_executor.cc:1001] could not open file to read NUMA node: /sys/bus/pci/devices/0000:01:00.0/numa_node\n",
      "Your kernel may have been built without NUMA support.\n",
      "2024-09-28 17:49:09.837455: I tensorflow/core/common_runtime/gpu/gpu_device.cc:2021] Created device /job:localhost/replica:0/task:0/device:GPU:0 with 21458 MB memory:  -> device: 0, name: NVIDIA GeForce RTX 4090, pci bus id: 0000:01:00.0, compute capability: 8.9\n"
     ]
    }
   ],
   "source": [
    "# # 벡터 입력\n",
    "# vector_input = Input(shape=(30, 100))\n",
    "# x1 = LSTM(128, activation='relu')(vector_input)\n",
    "# x1 = Flatten()(x1)\n",
    "\n",
    "# # 글자 좌표 입력\n",
    "# coords_input = Input(shape=(3000,2))\n",
    "# x2 = Dense(512, activation='relu')(coords_input)\n",
    "# x2 = Dense(128, activation='relu')(x2)\n",
    "# x2 = Flatten()(x2)  # Flatten the output of Dense layer\n",
    "\n",
    "# # 결합\n",
    "# combined = Concatenate()([x1, x2])\n",
    "# x3 = Dense(64, activation='relu')(combined)\n",
    "# x3 = Dense(32, activation='relu')(x3)\n",
    "# output = Dense(1, activation='sigmoid')(x3)\n",
    "\n",
    "# # 모델 정의\n",
    "# model = Model(inputs=[vector_input, coords_input], outputs=output) --- 84.92 acc\n",
    "\n",
    "\n",
    "# 벡터 입력\n",
    "vector_input = Input(shape=(30, 100))\n",
    "x1 = LSTM(64, activation='relu')(vector_input)\n",
    "x1 = Flatten()(x1)\n",
    "\n",
    "# 글자 좌표 입력\n",
    "coords_input = Input(shape=(3000,2))\n",
    "x2 = Dense(512, activation='relu')(coords_input)\n",
    "x2 = Dense(128, activation='relu')(x2)\n",
    "x2 = Flatten()(x2)  # Flatten the output of Dense layer\n",
    "\n",
    "# 결합\n",
    "combined = Concatenate()([x1, x2])\n",
    "x3 = Dense(64, activation='relu')(combined)\n",
    "x3 = Dense(32, activation='relu')(x3)\n",
    "output = Dense(1, activation='sigmoid')(x3)\n",
    "\n",
    "# 모델 정의\n",
    "model = Model(inputs=[vector_input, coords_input], outputs=output)"
   ]
  },
  {
   "cell_type": "code",
   "execution_count": 92,
   "id": "ad154f92-4d97-4b69-b49d-902d3fa28a7e",
   "metadata": {},
   "outputs": [],
   "source": [
    "# 좌표만\n",
    "# 글자 좌표 입력\n",
    "coords_input = Input(shape=(3000,2))\n",
    "x1 = Dense(512, activation='relu')(coords_input)\n",
    "x1 = Dense(128, activation='relu')(x1)\n",
    "x1 = Flatten()(x1)\n",
    "x1 = Dense(64, activation='relu')(x1)\n",
    "x1 = Dense(32, activation='relu')(x1)\n",
    "output = Dense(1, activation='sigmoid')(x1)\n",
    "\n",
    "# 모델 정의\n",
    "model = Model(inputs=coords_input, outputs=output)"
   ]
  },
  {
   "cell_type": "code",
   "execution_count": 148,
   "id": "a6208dc4-f3db-410b-902f-2ac9c7bc735b",
   "metadata": {},
   "outputs": [
    {
     "name": "stderr",
     "output_type": "stream",
     "text": [
      "/home/sdm/miniconda3/envs/dl/lib/python3.12/site-packages/keras/src/layers/rnn/rnn.py:204: UserWarning: Do not pass an `input_shape`/`input_dim` argument to a layer. When using Sequential models, prefer using an `Input(shape)` object as the first layer in the model instead.\n",
      "  super().__init__(**kwargs)\n"
     ]
    }
   ],
   "source": [
    "model = Sequential([\n",
    "    LSTM(128, input_shape=(30, 100)),\n",
    "    Dense(1, activation='sigmoid')\n",
    "])"
   ]
  },
  {
   "cell_type": "code",
   "execution_count": 30,
   "id": "5e20b11a-49db-4b6e-8c12-1e793e531dee",
   "metadata": {},
   "outputs": [],
   "source": [
    "# LSTM, CNN\n",
    "vector_input = Input(shape=(30, 100))\n",
    "x1 = LSTM(128, activation='relu')(vector_input)\n",
    "\n",
    "# 결합\n",
    "coords_input = Input(shape=(3000, 2))\n",
    "x2 = Conv1D(64, 3, activation='relu')(coords_input)\n",
    "x2 = MaxPool1D()(x2)\n",
    "x2 = Dropout(0.25)(x2)\n",
    "x2 = Conv1D(32, 3, activation='relu')(x2)\n",
    "x2 = MaxPool1D()(x2)\n",
    "x2 = Flatten()(x2)\n",
    "\n",
    "# 결합\n",
    "combined = Concatenate()([x1, x2])\n",
    "x3 = Dense(512, activation='relu')(combined)\n",
    "x3 = Dropout(0.25)(x3)\n",
    "output = Dense(1, activation='sigmoid')(x3)\n",
    "\n",
    "# 모델 정의\n",
    "model = Model(inputs=[vector_input, coords_input], outputs=output)"
   ]
  },
  {
   "cell_type": "code",
   "execution_count": 8,
   "id": "e26e65d5-e2df-47fe-a5f9-959838789911",
   "metadata": {},
   "outputs": [
    {
     "data": {
      "text/html": [
       "<pre style=\"white-space:pre;overflow-x:auto;line-height:normal;font-family:Menlo,'DejaVu Sans Mono',consolas,'Courier New',monospace\"><span style=\"font-weight: bold\">Model: \"functional\"</span>\n",
       "</pre>\n"
      ],
      "text/plain": [
       "\u001b[1mModel: \"functional\"\u001b[0m\n"
      ]
     },
     "metadata": {},
     "output_type": "display_data"
    },
    {
     "data": {
      "text/html": [
       "<pre style=\"white-space:pre;overflow-x:auto;line-height:normal;font-family:Menlo,'DejaVu Sans Mono',consolas,'Courier New',monospace\">┏━━━━━━━━━━━━━━━━━━━━━┳━━━━━━━━━━━━━━━━━━━┳━━━━━━━━━━━━┳━━━━━━━━━━━━━━━━━━━┓\n",
       "┃<span style=\"font-weight: bold\"> Layer (type)        </span>┃<span style=\"font-weight: bold\"> Output Shape      </span>┃<span style=\"font-weight: bold\">    Param # </span>┃<span style=\"font-weight: bold\"> Connected to      </span>┃\n",
       "┡━━━━━━━━━━━━━━━━━━━━━╇━━━━━━━━━━━━━━━━━━━╇━━━━━━━━━━━━╇━━━━━━━━━━━━━━━━━━━┩\n",
       "│ input_layer_1       │ (<span style=\"color: #00d7ff; text-decoration-color: #00d7ff\">None</span>, <span style=\"color: #00af00; text-decoration-color: #00af00\">3000</span>, <span style=\"color: #00af00; text-decoration-color: #00af00\">2</span>)   │          <span style=\"color: #00af00; text-decoration-color: #00af00\">0</span> │ -                 │\n",
       "│ (<span style=\"color: #0087ff; text-decoration-color: #0087ff\">InputLayer</span>)        │                   │            │                   │\n",
       "├─────────────────────┼───────────────────┼────────────┼───────────────────┤\n",
       "│ input_layer         │ (<span style=\"color: #00d7ff; text-decoration-color: #00d7ff\">None</span>, <span style=\"color: #00af00; text-decoration-color: #00af00\">30</span>, <span style=\"color: #00af00; text-decoration-color: #00af00\">100</span>)   │          <span style=\"color: #00af00; text-decoration-color: #00af00\">0</span> │ -                 │\n",
       "│ (<span style=\"color: #0087ff; text-decoration-color: #0087ff\">InputLayer</span>)        │                   │            │                   │\n",
       "├─────────────────────┼───────────────────┼────────────┼───────────────────┤\n",
       "│ dense (<span style=\"color: #0087ff; text-decoration-color: #0087ff\">Dense</span>)       │ (<span style=\"color: #00d7ff; text-decoration-color: #00d7ff\">None</span>, <span style=\"color: #00af00; text-decoration-color: #00af00\">3000</span>, <span style=\"color: #00af00; text-decoration-color: #00af00\">512</span>) │      <span style=\"color: #00af00; text-decoration-color: #00af00\">1,536</span> │ input_layer_1[<span style=\"color: #00af00; text-decoration-color: #00af00\">0</span>]… │\n",
       "├─────────────────────┼───────────────────┼────────────┼───────────────────┤\n",
       "│ lstm (<span style=\"color: #0087ff; text-decoration-color: #0087ff\">LSTM</span>)         │ (<span style=\"color: #00d7ff; text-decoration-color: #00d7ff\">None</span>, <span style=\"color: #00af00; text-decoration-color: #00af00\">64</span>)        │     <span style=\"color: #00af00; text-decoration-color: #00af00\">42,240</span> │ input_layer[<span style=\"color: #00af00; text-decoration-color: #00af00\">0</span>][<span style=\"color: #00af00; text-decoration-color: #00af00\">0</span>] │\n",
       "├─────────────────────┼───────────────────┼────────────┼───────────────────┤\n",
       "│ dense_1 (<span style=\"color: #0087ff; text-decoration-color: #0087ff\">Dense</span>)     │ (<span style=\"color: #00d7ff; text-decoration-color: #00d7ff\">None</span>, <span style=\"color: #00af00; text-decoration-color: #00af00\">3000</span>, <span style=\"color: #00af00; text-decoration-color: #00af00\">128</span>) │     <span style=\"color: #00af00; text-decoration-color: #00af00\">65,664</span> │ dense[<span style=\"color: #00af00; text-decoration-color: #00af00\">0</span>][<span style=\"color: #00af00; text-decoration-color: #00af00\">0</span>]       │\n",
       "├─────────────────────┼───────────────────┼────────────┼───────────────────┤\n",
       "│ flatten (<span style=\"color: #0087ff; text-decoration-color: #0087ff\">Flatten</span>)   │ (<span style=\"color: #00d7ff; text-decoration-color: #00d7ff\">None</span>, <span style=\"color: #00af00; text-decoration-color: #00af00\">64</span>)        │          <span style=\"color: #00af00; text-decoration-color: #00af00\">0</span> │ lstm[<span style=\"color: #00af00; text-decoration-color: #00af00\">0</span>][<span style=\"color: #00af00; text-decoration-color: #00af00\">0</span>]        │\n",
       "├─────────────────────┼───────────────────┼────────────┼───────────────────┤\n",
       "│ flatten_1 (<span style=\"color: #0087ff; text-decoration-color: #0087ff\">Flatten</span>) │ (<span style=\"color: #00d7ff; text-decoration-color: #00d7ff\">None</span>, <span style=\"color: #00af00; text-decoration-color: #00af00\">384000</span>)    │          <span style=\"color: #00af00; text-decoration-color: #00af00\">0</span> │ dense_1[<span style=\"color: #00af00; text-decoration-color: #00af00\">0</span>][<span style=\"color: #00af00; text-decoration-color: #00af00\">0</span>]     │\n",
       "├─────────────────────┼───────────────────┼────────────┼───────────────────┤\n",
       "│ concatenate         │ (<span style=\"color: #00d7ff; text-decoration-color: #00d7ff\">None</span>, <span style=\"color: #00af00; text-decoration-color: #00af00\">384064</span>)    │          <span style=\"color: #00af00; text-decoration-color: #00af00\">0</span> │ flatten[<span style=\"color: #00af00; text-decoration-color: #00af00\">0</span>][<span style=\"color: #00af00; text-decoration-color: #00af00\">0</span>],    │\n",
       "│ (<span style=\"color: #0087ff; text-decoration-color: #0087ff\">Concatenate</span>)       │                   │            │ flatten_1[<span style=\"color: #00af00; text-decoration-color: #00af00\">0</span>][<span style=\"color: #00af00; text-decoration-color: #00af00\">0</span>]   │\n",
       "├─────────────────────┼───────────────────┼────────────┼───────────────────┤\n",
       "│ dense_2 (<span style=\"color: #0087ff; text-decoration-color: #0087ff\">Dense</span>)     │ (<span style=\"color: #00d7ff; text-decoration-color: #00d7ff\">None</span>, <span style=\"color: #00af00; text-decoration-color: #00af00\">64</span>)        │ <span style=\"color: #00af00; text-decoration-color: #00af00\">24,580,160</span> │ concatenate[<span style=\"color: #00af00; text-decoration-color: #00af00\">0</span>][<span style=\"color: #00af00; text-decoration-color: #00af00\">0</span>] │\n",
       "├─────────────────────┼───────────────────┼────────────┼───────────────────┤\n",
       "│ dense_3 (<span style=\"color: #0087ff; text-decoration-color: #0087ff\">Dense</span>)     │ (<span style=\"color: #00d7ff; text-decoration-color: #00d7ff\">None</span>, <span style=\"color: #00af00; text-decoration-color: #00af00\">32</span>)        │      <span style=\"color: #00af00; text-decoration-color: #00af00\">2,080</span> │ dense_2[<span style=\"color: #00af00; text-decoration-color: #00af00\">0</span>][<span style=\"color: #00af00; text-decoration-color: #00af00\">0</span>]     │\n",
       "├─────────────────────┼───────────────────┼────────────┼───────────────────┤\n",
       "│ dense_4 (<span style=\"color: #0087ff; text-decoration-color: #0087ff\">Dense</span>)     │ (<span style=\"color: #00d7ff; text-decoration-color: #00d7ff\">None</span>, <span style=\"color: #00af00; text-decoration-color: #00af00\">1</span>)         │         <span style=\"color: #00af00; text-decoration-color: #00af00\">33</span> │ dense_3[<span style=\"color: #00af00; text-decoration-color: #00af00\">0</span>][<span style=\"color: #00af00; text-decoration-color: #00af00\">0</span>]     │\n",
       "└─────────────────────┴───────────────────┴────────────┴───────────────────┘\n",
       "</pre>\n"
      ],
      "text/plain": [
       "┏━━━━━━━━━━━━━━━━━━━━━┳━━━━━━━━━━━━━━━━━━━┳━━━━━━━━━━━━┳━━━━━━━━━━━━━━━━━━━┓\n",
       "┃\u001b[1m \u001b[0m\u001b[1mLayer (type)       \u001b[0m\u001b[1m \u001b[0m┃\u001b[1m \u001b[0m\u001b[1mOutput Shape     \u001b[0m\u001b[1m \u001b[0m┃\u001b[1m \u001b[0m\u001b[1m   Param #\u001b[0m\u001b[1m \u001b[0m┃\u001b[1m \u001b[0m\u001b[1mConnected to     \u001b[0m\u001b[1m \u001b[0m┃\n",
       "┡━━━━━━━━━━━━━━━━━━━━━╇━━━━━━━━━━━━━━━━━━━╇━━━━━━━━━━━━╇━━━━━━━━━━━━━━━━━━━┩\n",
       "│ input_layer_1       │ (\u001b[38;5;45mNone\u001b[0m, \u001b[38;5;34m3000\u001b[0m, \u001b[38;5;34m2\u001b[0m)   │          \u001b[38;5;34m0\u001b[0m │ -                 │\n",
       "│ (\u001b[38;5;33mInputLayer\u001b[0m)        │                   │            │                   │\n",
       "├─────────────────────┼───────────────────┼────────────┼───────────────────┤\n",
       "│ input_layer         │ (\u001b[38;5;45mNone\u001b[0m, \u001b[38;5;34m30\u001b[0m, \u001b[38;5;34m100\u001b[0m)   │          \u001b[38;5;34m0\u001b[0m │ -                 │\n",
       "│ (\u001b[38;5;33mInputLayer\u001b[0m)        │                   │            │                   │\n",
       "├─────────────────────┼───────────────────┼────────────┼───────────────────┤\n",
       "│ dense (\u001b[38;5;33mDense\u001b[0m)       │ (\u001b[38;5;45mNone\u001b[0m, \u001b[38;5;34m3000\u001b[0m, \u001b[38;5;34m512\u001b[0m) │      \u001b[38;5;34m1,536\u001b[0m │ input_layer_1[\u001b[38;5;34m0\u001b[0m]… │\n",
       "├─────────────────────┼───────────────────┼────────────┼───────────────────┤\n",
       "│ lstm (\u001b[38;5;33mLSTM\u001b[0m)         │ (\u001b[38;5;45mNone\u001b[0m, \u001b[38;5;34m64\u001b[0m)        │     \u001b[38;5;34m42,240\u001b[0m │ input_layer[\u001b[38;5;34m0\u001b[0m][\u001b[38;5;34m0\u001b[0m] │\n",
       "├─────────────────────┼───────────────────┼────────────┼───────────────────┤\n",
       "│ dense_1 (\u001b[38;5;33mDense\u001b[0m)     │ (\u001b[38;5;45mNone\u001b[0m, \u001b[38;5;34m3000\u001b[0m, \u001b[38;5;34m128\u001b[0m) │     \u001b[38;5;34m65,664\u001b[0m │ dense[\u001b[38;5;34m0\u001b[0m][\u001b[38;5;34m0\u001b[0m]       │\n",
       "├─────────────────────┼───────────────────┼────────────┼───────────────────┤\n",
       "│ flatten (\u001b[38;5;33mFlatten\u001b[0m)   │ (\u001b[38;5;45mNone\u001b[0m, \u001b[38;5;34m64\u001b[0m)        │          \u001b[38;5;34m0\u001b[0m │ lstm[\u001b[38;5;34m0\u001b[0m][\u001b[38;5;34m0\u001b[0m]        │\n",
       "├─────────────────────┼───────────────────┼────────────┼───────────────────┤\n",
       "│ flatten_1 (\u001b[38;5;33mFlatten\u001b[0m) │ (\u001b[38;5;45mNone\u001b[0m, \u001b[38;5;34m384000\u001b[0m)    │          \u001b[38;5;34m0\u001b[0m │ dense_1[\u001b[38;5;34m0\u001b[0m][\u001b[38;5;34m0\u001b[0m]     │\n",
       "├─────────────────────┼───────────────────┼────────────┼───────────────────┤\n",
       "│ concatenate         │ (\u001b[38;5;45mNone\u001b[0m, \u001b[38;5;34m384064\u001b[0m)    │          \u001b[38;5;34m0\u001b[0m │ flatten[\u001b[38;5;34m0\u001b[0m][\u001b[38;5;34m0\u001b[0m],    │\n",
       "│ (\u001b[38;5;33mConcatenate\u001b[0m)       │                   │            │ flatten_1[\u001b[38;5;34m0\u001b[0m][\u001b[38;5;34m0\u001b[0m]   │\n",
       "├─────────────────────┼───────────────────┼────────────┼───────────────────┤\n",
       "│ dense_2 (\u001b[38;5;33mDense\u001b[0m)     │ (\u001b[38;5;45mNone\u001b[0m, \u001b[38;5;34m64\u001b[0m)        │ \u001b[38;5;34m24,580,160\u001b[0m │ concatenate[\u001b[38;5;34m0\u001b[0m][\u001b[38;5;34m0\u001b[0m] │\n",
       "├─────────────────────┼───────────────────┼────────────┼───────────────────┤\n",
       "│ dense_3 (\u001b[38;5;33mDense\u001b[0m)     │ (\u001b[38;5;45mNone\u001b[0m, \u001b[38;5;34m32\u001b[0m)        │      \u001b[38;5;34m2,080\u001b[0m │ dense_2[\u001b[38;5;34m0\u001b[0m][\u001b[38;5;34m0\u001b[0m]     │\n",
       "├─────────────────────┼───────────────────┼────────────┼───────────────────┤\n",
       "│ dense_4 (\u001b[38;5;33mDense\u001b[0m)     │ (\u001b[38;5;45mNone\u001b[0m, \u001b[38;5;34m1\u001b[0m)         │         \u001b[38;5;34m33\u001b[0m │ dense_3[\u001b[38;5;34m0\u001b[0m][\u001b[38;5;34m0\u001b[0m]     │\n",
       "└─────────────────────┴───────────────────┴────────────┴───────────────────┘\n"
      ]
     },
     "metadata": {},
     "output_type": "display_data"
    },
    {
     "data": {
      "text/html": [
       "<pre style=\"white-space:pre;overflow-x:auto;line-height:normal;font-family:Menlo,'DejaVu Sans Mono',consolas,'Courier New',monospace\"><span style=\"font-weight: bold\"> Total params: </span><span style=\"color: #00af00; text-decoration-color: #00af00\">24,691,713</span> (94.19 MB)\n",
       "</pre>\n"
      ],
      "text/plain": [
       "\u001b[1m Total params: \u001b[0m\u001b[38;5;34m24,691,713\u001b[0m (94.19 MB)\n"
      ]
     },
     "metadata": {},
     "output_type": "display_data"
    },
    {
     "data": {
      "text/html": [
       "<pre style=\"white-space:pre;overflow-x:auto;line-height:normal;font-family:Menlo,'DejaVu Sans Mono',consolas,'Courier New',monospace\"><span style=\"font-weight: bold\"> Trainable params: </span><span style=\"color: #00af00; text-decoration-color: #00af00\">24,691,713</span> (94.19 MB)\n",
       "</pre>\n"
      ],
      "text/plain": [
       "\u001b[1m Trainable params: \u001b[0m\u001b[38;5;34m24,691,713\u001b[0m (94.19 MB)\n"
      ]
     },
     "metadata": {},
     "output_type": "display_data"
    },
    {
     "data": {
      "text/html": [
       "<pre style=\"white-space:pre;overflow-x:auto;line-height:normal;font-family:Menlo,'DejaVu Sans Mono',consolas,'Courier New',monospace\"><span style=\"font-weight: bold\"> Non-trainable params: </span><span style=\"color: #00af00; text-decoration-color: #00af00\">0</span> (0.00 B)\n",
       "</pre>\n"
      ],
      "text/plain": [
       "\u001b[1m Non-trainable params: \u001b[0m\u001b[38;5;34m0\u001b[0m (0.00 B)\n"
      ]
     },
     "metadata": {},
     "output_type": "display_data"
    }
   ],
   "source": [
    "model.summary()"
   ]
  },
  {
   "cell_type": "code",
   "execution_count": 133,
   "id": "23674da1-cd5f-4bac-9f0a-14b733648d3a",
   "metadata": {},
   "outputs": [
    {
     "data": {
      "text/html": [
       "<pre style=\"white-space:pre;overflow-x:auto;line-height:normal;font-family:Menlo,'DejaVu Sans Mono',consolas,'Courier New',monospace\"><span style=\"font-weight: bold\">Model: \"sequential\"</span>\n",
       "</pre>\n"
      ],
      "text/plain": [
       "\u001b[1mModel: \"sequential\"\u001b[0m\n"
      ]
     },
     "metadata": {},
     "output_type": "display_data"
    },
    {
     "data": {
      "text/html": [
       "<pre style=\"white-space:pre;overflow-x:auto;line-height:normal;font-family:Menlo,'DejaVu Sans Mono',consolas,'Courier New',monospace\">┏━━━━━━━━━━━━━━━━━━━━━━━━━━━━━━━━━┳━━━━━━━━━━━━━━━━━━━━━━━━┳━━━━━━━━━━━━━━━┓\n",
       "┃<span style=\"font-weight: bold\"> Layer (type)                    </span>┃<span style=\"font-weight: bold\"> Output Shape           </span>┃<span style=\"font-weight: bold\">       Param # </span>┃\n",
       "┡━━━━━━━━━━━━━━━━━━━━━━━━━━━━━━━━━╇━━━━━━━━━━━━━━━━━━━━━━━━╇━━━━━━━━━━━━━━━┩\n",
       "│ lstm_1 (<span style=\"color: #0087ff; text-decoration-color: #0087ff\">LSTM</span>)                   │ (<span style=\"color: #00d7ff; text-decoration-color: #00d7ff\">None</span>, <span style=\"color: #00af00; text-decoration-color: #00af00\">128</span>)            │       <span style=\"color: #00af00; text-decoration-color: #00af00\">117,248</span> │\n",
       "├─────────────────────────────────┼────────────────────────┼───────────────┤\n",
       "│ dense_5 (<span style=\"color: #0087ff; text-decoration-color: #0087ff\">Dense</span>)                 │ (<span style=\"color: #00d7ff; text-decoration-color: #00d7ff\">None</span>, <span style=\"color: #00af00; text-decoration-color: #00af00\">1</span>)              │           <span style=\"color: #00af00; text-decoration-color: #00af00\">129</span> │\n",
       "└─────────────────────────────────┴────────────────────────┴───────────────┘\n",
       "</pre>\n"
      ],
      "text/plain": [
       "┏━━━━━━━━━━━━━━━━━━━━━━━━━━━━━━━━━┳━━━━━━━━━━━━━━━━━━━━━━━━┳━━━━━━━━━━━━━━━┓\n",
       "┃\u001b[1m \u001b[0m\u001b[1mLayer (type)                   \u001b[0m\u001b[1m \u001b[0m┃\u001b[1m \u001b[0m\u001b[1mOutput Shape          \u001b[0m\u001b[1m \u001b[0m┃\u001b[1m \u001b[0m\u001b[1m      Param #\u001b[0m\u001b[1m \u001b[0m┃\n",
       "┡━━━━━━━━━━━━━━━━━━━━━━━━━━━━━━━━━╇━━━━━━━━━━━━━━━━━━━━━━━━╇━━━━━━━━━━━━━━━┩\n",
       "│ lstm_1 (\u001b[38;5;33mLSTM\u001b[0m)                   │ (\u001b[38;5;45mNone\u001b[0m, \u001b[38;5;34m128\u001b[0m)            │       \u001b[38;5;34m117,248\u001b[0m │\n",
       "├─────────────────────────────────┼────────────────────────┼───────────────┤\n",
       "│ dense_5 (\u001b[38;5;33mDense\u001b[0m)                 │ (\u001b[38;5;45mNone\u001b[0m, \u001b[38;5;34m1\u001b[0m)              │           \u001b[38;5;34m129\u001b[0m │\n",
       "└─────────────────────────────────┴────────────────────────┴───────────────┘\n"
      ]
     },
     "metadata": {},
     "output_type": "display_data"
    },
    {
     "data": {
      "text/html": [
       "<pre style=\"white-space:pre;overflow-x:auto;line-height:normal;font-family:Menlo,'DejaVu Sans Mono',consolas,'Courier New',monospace\"><span style=\"font-weight: bold\"> Total params: </span><span style=\"color: #00af00; text-decoration-color: #00af00\">117,377</span> (458.50 KB)\n",
       "</pre>\n"
      ],
      "text/plain": [
       "\u001b[1m Total params: \u001b[0m\u001b[38;5;34m117,377\u001b[0m (458.50 KB)\n"
      ]
     },
     "metadata": {},
     "output_type": "display_data"
    },
    {
     "data": {
      "text/html": [
       "<pre style=\"white-space:pre;overflow-x:auto;line-height:normal;font-family:Menlo,'DejaVu Sans Mono',consolas,'Courier New',monospace\"><span style=\"font-weight: bold\"> Trainable params: </span><span style=\"color: #00af00; text-decoration-color: #00af00\">117,377</span> (458.50 KB)\n",
       "</pre>\n"
      ],
      "text/plain": [
       "\u001b[1m Trainable params: \u001b[0m\u001b[38;5;34m117,377\u001b[0m (458.50 KB)\n"
      ]
     },
     "metadata": {},
     "output_type": "display_data"
    },
    {
     "data": {
      "text/html": [
       "<pre style=\"white-space:pre;overflow-x:auto;line-height:normal;font-family:Menlo,'DejaVu Sans Mono',consolas,'Courier New',monospace\"><span style=\"font-weight: bold\"> Non-trainable params: </span><span style=\"color: #00af00; text-decoration-color: #00af00\">0</span> (0.00 B)\n",
       "</pre>\n"
      ],
      "text/plain": [
       "\u001b[1m Non-trainable params: \u001b[0m\u001b[38;5;34m0\u001b[0m (0.00 B)\n"
      ]
     },
     "metadata": {},
     "output_type": "display_data"
    }
   ],
   "source": [
    "model.summary()"
   ]
  },
  {
   "cell_type": "code",
   "execution_count": 93,
   "id": "e2fdc0d4-668d-4fe4-8593-231b850d7c2d",
   "metadata": {},
   "outputs": [
    {
     "data": {
      "text/html": [
       "<pre style=\"white-space:pre;overflow-x:auto;line-height:normal;font-family:Menlo,'DejaVu Sans Mono',consolas,'Courier New',monospace\"><span style=\"font-weight: bold\">Model: \"functional_2\"</span>\n",
       "</pre>\n"
      ],
      "text/plain": [
       "\u001b[1mModel: \"functional_2\"\u001b[0m\n"
      ]
     },
     "metadata": {},
     "output_type": "display_data"
    },
    {
     "data": {
      "text/html": [
       "<pre style=\"white-space:pre;overflow-x:auto;line-height:normal;font-family:Menlo,'DejaVu Sans Mono',consolas,'Courier New',monospace\">┏━━━━━━━━━━━━━━━━━━━━━━━━━━━━━━━━━┳━━━━━━━━━━━━━━━━━━━━━━━━┳━━━━━━━━━━━━━━━┓\n",
       "┃<span style=\"font-weight: bold\"> Layer (type)                    </span>┃<span style=\"font-weight: bold\"> Output Shape           </span>┃<span style=\"font-weight: bold\">       Param # </span>┃\n",
       "┡━━━━━━━━━━━━━━━━━━━━━━━━━━━━━━━━━╇━━━━━━━━━━━━━━━━━━━━━━━━╇━━━━━━━━━━━━━━━┩\n",
       "│ input_layer_2 (<span style=\"color: #0087ff; text-decoration-color: #0087ff\">InputLayer</span>)      │ (<span style=\"color: #00d7ff; text-decoration-color: #00d7ff\">None</span>, <span style=\"color: #00af00; text-decoration-color: #00af00\">3000</span>, <span style=\"color: #00af00; text-decoration-color: #00af00\">2</span>)        │             <span style=\"color: #00af00; text-decoration-color: #00af00\">0</span> │\n",
       "├─────────────────────────────────┼────────────────────────┼───────────────┤\n",
       "│ dense_10 (<span style=\"color: #0087ff; text-decoration-color: #0087ff\">Dense</span>)                │ (<span style=\"color: #00d7ff; text-decoration-color: #00d7ff\">None</span>, <span style=\"color: #00af00; text-decoration-color: #00af00\">3000</span>, <span style=\"color: #00af00; text-decoration-color: #00af00\">512</span>)      │         <span style=\"color: #00af00; text-decoration-color: #00af00\">1,536</span> │\n",
       "├─────────────────────────────────┼────────────────────────┼───────────────┤\n",
       "│ dense_11 (<span style=\"color: #0087ff; text-decoration-color: #0087ff\">Dense</span>)                │ (<span style=\"color: #00d7ff; text-decoration-color: #00d7ff\">None</span>, <span style=\"color: #00af00; text-decoration-color: #00af00\">3000</span>, <span style=\"color: #00af00; text-decoration-color: #00af00\">128</span>)      │        <span style=\"color: #00af00; text-decoration-color: #00af00\">65,664</span> │\n",
       "├─────────────────────────────────┼────────────────────────┼───────────────┤\n",
       "│ flatten_1 (<span style=\"color: #0087ff; text-decoration-color: #0087ff\">Flatten</span>)             │ (<span style=\"color: #00d7ff; text-decoration-color: #00d7ff\">None</span>, <span style=\"color: #00af00; text-decoration-color: #00af00\">384000</span>)         │             <span style=\"color: #00af00; text-decoration-color: #00af00\">0</span> │\n",
       "├─────────────────────────────────┼────────────────────────┼───────────────┤\n",
       "│ dense_12 (<span style=\"color: #0087ff; text-decoration-color: #0087ff\">Dense</span>)                │ (<span style=\"color: #00d7ff; text-decoration-color: #00d7ff\">None</span>, <span style=\"color: #00af00; text-decoration-color: #00af00\">64</span>)             │    <span style=\"color: #00af00; text-decoration-color: #00af00\">24,576,064</span> │\n",
       "├─────────────────────────────────┼────────────────────────┼───────────────┤\n",
       "│ dense_13 (<span style=\"color: #0087ff; text-decoration-color: #0087ff\">Dense</span>)                │ (<span style=\"color: #00d7ff; text-decoration-color: #00d7ff\">None</span>, <span style=\"color: #00af00; text-decoration-color: #00af00\">32</span>)             │         <span style=\"color: #00af00; text-decoration-color: #00af00\">2,080</span> │\n",
       "├─────────────────────────────────┼────────────────────────┼───────────────┤\n",
       "│ dense_14 (<span style=\"color: #0087ff; text-decoration-color: #0087ff\">Dense</span>)                │ (<span style=\"color: #00d7ff; text-decoration-color: #00d7ff\">None</span>, <span style=\"color: #00af00; text-decoration-color: #00af00\">1</span>)              │            <span style=\"color: #00af00; text-decoration-color: #00af00\">33</span> │\n",
       "└─────────────────────────────────┴────────────────────────┴───────────────┘\n",
       "</pre>\n"
      ],
      "text/plain": [
       "┏━━━━━━━━━━━━━━━━━━━━━━━━━━━━━━━━━┳━━━━━━━━━━━━━━━━━━━━━━━━┳━━━━━━━━━━━━━━━┓\n",
       "┃\u001b[1m \u001b[0m\u001b[1mLayer (type)                   \u001b[0m\u001b[1m \u001b[0m┃\u001b[1m \u001b[0m\u001b[1mOutput Shape          \u001b[0m\u001b[1m \u001b[0m┃\u001b[1m \u001b[0m\u001b[1m      Param #\u001b[0m\u001b[1m \u001b[0m┃\n",
       "┡━━━━━━━━━━━━━━━━━━━━━━━━━━━━━━━━━╇━━━━━━━━━━━━━━━━━━━━━━━━╇━━━━━━━━━━━━━━━┩\n",
       "│ input_layer_2 (\u001b[38;5;33mInputLayer\u001b[0m)      │ (\u001b[38;5;45mNone\u001b[0m, \u001b[38;5;34m3000\u001b[0m, \u001b[38;5;34m2\u001b[0m)        │             \u001b[38;5;34m0\u001b[0m │\n",
       "├─────────────────────────────────┼────────────────────────┼───────────────┤\n",
       "│ dense_10 (\u001b[38;5;33mDense\u001b[0m)                │ (\u001b[38;5;45mNone\u001b[0m, \u001b[38;5;34m3000\u001b[0m, \u001b[38;5;34m512\u001b[0m)      │         \u001b[38;5;34m1,536\u001b[0m │\n",
       "├─────────────────────────────────┼────────────────────────┼───────────────┤\n",
       "│ dense_11 (\u001b[38;5;33mDense\u001b[0m)                │ (\u001b[38;5;45mNone\u001b[0m, \u001b[38;5;34m3000\u001b[0m, \u001b[38;5;34m128\u001b[0m)      │        \u001b[38;5;34m65,664\u001b[0m │\n",
       "├─────────────────────────────────┼────────────────────────┼───────────────┤\n",
       "│ flatten_1 (\u001b[38;5;33mFlatten\u001b[0m)             │ (\u001b[38;5;45mNone\u001b[0m, \u001b[38;5;34m384000\u001b[0m)         │             \u001b[38;5;34m0\u001b[0m │\n",
       "├─────────────────────────────────┼────────────────────────┼───────────────┤\n",
       "│ dense_12 (\u001b[38;5;33mDense\u001b[0m)                │ (\u001b[38;5;45mNone\u001b[0m, \u001b[38;5;34m64\u001b[0m)             │    \u001b[38;5;34m24,576,064\u001b[0m │\n",
       "├─────────────────────────────────┼────────────────────────┼───────────────┤\n",
       "│ dense_13 (\u001b[38;5;33mDense\u001b[0m)                │ (\u001b[38;5;45mNone\u001b[0m, \u001b[38;5;34m32\u001b[0m)             │         \u001b[38;5;34m2,080\u001b[0m │\n",
       "├─────────────────────────────────┼────────────────────────┼───────────────┤\n",
       "│ dense_14 (\u001b[38;5;33mDense\u001b[0m)                │ (\u001b[38;5;45mNone\u001b[0m, \u001b[38;5;34m1\u001b[0m)              │            \u001b[38;5;34m33\u001b[0m │\n",
       "└─────────────────────────────────┴────────────────────────┴───────────────┘\n"
      ]
     },
     "metadata": {},
     "output_type": "display_data"
    },
    {
     "data": {
      "text/html": [
       "<pre style=\"white-space:pre;overflow-x:auto;line-height:normal;font-family:Menlo,'DejaVu Sans Mono',consolas,'Courier New',monospace\"><span style=\"font-weight: bold\"> Total params: </span><span style=\"color: #00af00; text-decoration-color: #00af00\">24,645,377</span> (94.01 MB)\n",
       "</pre>\n"
      ],
      "text/plain": [
       "\u001b[1m Total params: \u001b[0m\u001b[38;5;34m24,645,377\u001b[0m (94.01 MB)\n"
      ]
     },
     "metadata": {},
     "output_type": "display_data"
    },
    {
     "data": {
      "text/html": [
       "<pre style=\"white-space:pre;overflow-x:auto;line-height:normal;font-family:Menlo,'DejaVu Sans Mono',consolas,'Courier New',monospace\"><span style=\"font-weight: bold\"> Trainable params: </span><span style=\"color: #00af00; text-decoration-color: #00af00\">24,645,377</span> (94.01 MB)\n",
       "</pre>\n"
      ],
      "text/plain": [
       "\u001b[1m Trainable params: \u001b[0m\u001b[38;5;34m24,645,377\u001b[0m (94.01 MB)\n"
      ]
     },
     "metadata": {},
     "output_type": "display_data"
    },
    {
     "data": {
      "text/html": [
       "<pre style=\"white-space:pre;overflow-x:auto;line-height:normal;font-family:Menlo,'DejaVu Sans Mono',consolas,'Courier New',monospace\"><span style=\"font-weight: bold\"> Non-trainable params: </span><span style=\"color: #00af00; text-decoration-color: #00af00\">0</span> (0.00 B)\n",
       "</pre>\n"
      ],
      "text/plain": [
       "\u001b[1m Non-trainable params: \u001b[0m\u001b[38;5;34m0\u001b[0m (0.00 B)\n"
      ]
     },
     "metadata": {},
     "output_type": "display_data"
    }
   ],
   "source": [
    "model.summary()"
   ]
  },
  {
   "cell_type": "code",
   "execution_count": 31,
   "id": "5d5f8714-4c44-4aa5-9991-dc3523604984",
   "metadata": {},
   "outputs": [
    {
     "data": {
      "text/html": [
       "<pre style=\"white-space:pre;overflow-x:auto;line-height:normal;font-family:Menlo,'DejaVu Sans Mono',consolas,'Courier New',monospace\"><span style=\"font-weight: bold\">Model: \"functional_7\"</span>\n",
       "</pre>\n"
      ],
      "text/plain": [
       "\u001b[1mModel: \"functional_7\"\u001b[0m\n"
      ]
     },
     "metadata": {},
     "output_type": "display_data"
    },
    {
     "data": {
      "text/html": [
       "<pre style=\"white-space:pre;overflow-x:auto;line-height:normal;font-family:Menlo,'DejaVu Sans Mono',consolas,'Courier New',monospace\">┏━━━━━━━━━━━━━━━━━━━━━┳━━━━━━━━━━━━━━━━━━━┳━━━━━━━━━━━━┳━━━━━━━━━━━━━━━━━━━┓\n",
       "┃<span style=\"font-weight: bold\"> Layer (type)        </span>┃<span style=\"font-weight: bold\"> Output Shape      </span>┃<span style=\"font-weight: bold\">    Param # </span>┃<span style=\"font-weight: bold\"> Connected to      </span>┃\n",
       "┡━━━━━━━━━━━━━━━━━━━━━╇━━━━━━━━━━━━━━━━━━━╇━━━━━━━━━━━━╇━━━━━━━━━━━━━━━━━━━┩\n",
       "│ input_layer_23      │ (<span style=\"color: #00d7ff; text-decoration-color: #00d7ff\">None</span>, <span style=\"color: #00af00; text-decoration-color: #00af00\">3000</span>, <span style=\"color: #00af00; text-decoration-color: #00af00\">2</span>)   │          <span style=\"color: #00af00; text-decoration-color: #00af00\">0</span> │ -                 │\n",
       "│ (<span style=\"color: #0087ff; text-decoration-color: #0087ff\">InputLayer</span>)        │                   │            │                   │\n",
       "├─────────────────────┼───────────────────┼────────────┼───────────────────┤\n",
       "│ conv1d_17 (<span style=\"color: #0087ff; text-decoration-color: #0087ff\">Conv1D</span>)  │ (<span style=\"color: #00d7ff; text-decoration-color: #00d7ff\">None</span>, <span style=\"color: #00af00; text-decoration-color: #00af00\">2998</span>, <span style=\"color: #00af00; text-decoration-color: #00af00\">64</span>)  │        <span style=\"color: #00af00; text-decoration-color: #00af00\">448</span> │ input_layer_23[<span style=\"color: #00af00; text-decoration-color: #00af00\">0</span>… │\n",
       "├─────────────────────┼───────────────────┼────────────┼───────────────────┤\n",
       "│ max_pooling1d_15    │ (<span style=\"color: #00d7ff; text-decoration-color: #00d7ff\">None</span>, <span style=\"color: #00af00; text-decoration-color: #00af00\">1499</span>, <span style=\"color: #00af00; text-decoration-color: #00af00\">64</span>)  │          <span style=\"color: #00af00; text-decoration-color: #00af00\">0</span> │ conv1d_17[<span style=\"color: #00af00; text-decoration-color: #00af00\">0</span>][<span style=\"color: #00af00; text-decoration-color: #00af00\">0</span>]   │\n",
       "│ (<span style=\"color: #0087ff; text-decoration-color: #0087ff\">MaxPooling1D</span>)      │                   │            │                   │\n",
       "├─────────────────────┼───────────────────┼────────────┼───────────────────┤\n",
       "│ dropout_5 (<span style=\"color: #0087ff; text-decoration-color: #0087ff\">Dropout</span>) │ (<span style=\"color: #00d7ff; text-decoration-color: #00d7ff\">None</span>, <span style=\"color: #00af00; text-decoration-color: #00af00\">1499</span>, <span style=\"color: #00af00; text-decoration-color: #00af00\">64</span>)  │          <span style=\"color: #00af00; text-decoration-color: #00af00\">0</span> │ max_pooling1d_15… │\n",
       "├─────────────────────┼───────────────────┼────────────┼───────────────────┤\n",
       "│ conv1d_18 (<span style=\"color: #0087ff; text-decoration-color: #0087ff\">Conv1D</span>)  │ (<span style=\"color: #00d7ff; text-decoration-color: #00d7ff\">None</span>, <span style=\"color: #00af00; text-decoration-color: #00af00\">1497</span>, <span style=\"color: #00af00; text-decoration-color: #00af00\">32</span>)  │      <span style=\"color: #00af00; text-decoration-color: #00af00\">6,176</span> │ dropout_5[<span style=\"color: #00af00; text-decoration-color: #00af00\">0</span>][<span style=\"color: #00af00; text-decoration-color: #00af00\">0</span>]   │\n",
       "├─────────────────────┼───────────────────┼────────────┼───────────────────┤\n",
       "│ input_layer_22      │ (<span style=\"color: #00d7ff; text-decoration-color: #00d7ff\">None</span>, <span style=\"color: #00af00; text-decoration-color: #00af00\">30</span>, <span style=\"color: #00af00; text-decoration-color: #00af00\">100</span>)   │          <span style=\"color: #00af00; text-decoration-color: #00af00\">0</span> │ -                 │\n",
       "│ (<span style=\"color: #0087ff; text-decoration-color: #0087ff\">InputLayer</span>)        │                   │            │                   │\n",
       "├─────────────────────┼───────────────────┼────────────┼───────────────────┤\n",
       "│ max_pooling1d_16    │ (<span style=\"color: #00d7ff; text-decoration-color: #00d7ff\">None</span>, <span style=\"color: #00af00; text-decoration-color: #00af00\">748</span>, <span style=\"color: #00af00; text-decoration-color: #00af00\">32</span>)   │          <span style=\"color: #00af00; text-decoration-color: #00af00\">0</span> │ conv1d_18[<span style=\"color: #00af00; text-decoration-color: #00af00\">0</span>][<span style=\"color: #00af00; text-decoration-color: #00af00\">0</span>]   │\n",
       "│ (<span style=\"color: #0087ff; text-decoration-color: #0087ff\">MaxPooling1D</span>)      │                   │            │                   │\n",
       "├─────────────────────┼───────────────────┼────────────┼───────────────────┤\n",
       "│ lstm_11 (<span style=\"color: #0087ff; text-decoration-color: #0087ff\">LSTM</span>)      │ (<span style=\"color: #00d7ff; text-decoration-color: #00d7ff\">None</span>, <span style=\"color: #00af00; text-decoration-color: #00af00\">128</span>)       │    <span style=\"color: #00af00; text-decoration-color: #00af00\">117,248</span> │ input_layer_22[<span style=\"color: #00af00; text-decoration-color: #00af00\">0</span>… │\n",
       "├─────────────────────┼───────────────────┼────────────┼───────────────────┤\n",
       "│ flatten_10          │ (<span style=\"color: #00d7ff; text-decoration-color: #00d7ff\">None</span>, <span style=\"color: #00af00; text-decoration-color: #00af00\">23936</span>)     │          <span style=\"color: #00af00; text-decoration-color: #00af00\">0</span> │ max_pooling1d_16… │\n",
       "│ (<span style=\"color: #0087ff; text-decoration-color: #0087ff\">Flatten</span>)           │                   │            │                   │\n",
       "├─────────────────────┼───────────────────┼────────────┼───────────────────┤\n",
       "│ concatenate_9       │ (<span style=\"color: #00d7ff; text-decoration-color: #00d7ff\">None</span>, <span style=\"color: #00af00; text-decoration-color: #00af00\">24064</span>)     │          <span style=\"color: #00af00; text-decoration-color: #00af00\">0</span> │ lstm_11[<span style=\"color: #00af00; text-decoration-color: #00af00\">0</span>][<span style=\"color: #00af00; text-decoration-color: #00af00\">0</span>],    │\n",
       "│ (<span style=\"color: #0087ff; text-decoration-color: #0087ff\">Concatenate</span>)       │                   │            │ flatten_10[<span style=\"color: #00af00; text-decoration-color: #00af00\">0</span>][<span style=\"color: #00af00; text-decoration-color: #00af00\">0</span>]  │\n",
       "├─────────────────────┼───────────────────┼────────────┼───────────────────┤\n",
       "│ dense_24 (<span style=\"color: #0087ff; text-decoration-color: #0087ff\">Dense</span>)    │ (<span style=\"color: #00d7ff; text-decoration-color: #00d7ff\">None</span>, <span style=\"color: #00af00; text-decoration-color: #00af00\">512</span>)       │ <span style=\"color: #00af00; text-decoration-color: #00af00\">12,321,280</span> │ concatenate_9[<span style=\"color: #00af00; text-decoration-color: #00af00\">0</span>]… │\n",
       "├─────────────────────┼───────────────────┼────────────┼───────────────────┤\n",
       "│ dropout_6 (<span style=\"color: #0087ff; text-decoration-color: #0087ff\">Dropout</span>) │ (<span style=\"color: #00d7ff; text-decoration-color: #00d7ff\">None</span>, <span style=\"color: #00af00; text-decoration-color: #00af00\">512</span>)       │          <span style=\"color: #00af00; text-decoration-color: #00af00\">0</span> │ dense_24[<span style=\"color: #00af00; text-decoration-color: #00af00\">0</span>][<span style=\"color: #00af00; text-decoration-color: #00af00\">0</span>]    │\n",
       "├─────────────────────┼───────────────────┼────────────┼───────────────────┤\n",
       "│ dense_25 (<span style=\"color: #0087ff; text-decoration-color: #0087ff\">Dense</span>)    │ (<span style=\"color: #00d7ff; text-decoration-color: #00d7ff\">None</span>, <span style=\"color: #00af00; text-decoration-color: #00af00\">1</span>)         │        <span style=\"color: #00af00; text-decoration-color: #00af00\">513</span> │ dropout_6[<span style=\"color: #00af00; text-decoration-color: #00af00\">0</span>][<span style=\"color: #00af00; text-decoration-color: #00af00\">0</span>]   │\n",
       "└─────────────────────┴───────────────────┴────────────┴───────────────────┘\n",
       "</pre>\n"
      ],
      "text/plain": [
       "┏━━━━━━━━━━━━━━━━━━━━━┳━━━━━━━━━━━━━━━━━━━┳━━━━━━━━━━━━┳━━━━━━━━━━━━━━━━━━━┓\n",
       "┃\u001b[1m \u001b[0m\u001b[1mLayer (type)       \u001b[0m\u001b[1m \u001b[0m┃\u001b[1m \u001b[0m\u001b[1mOutput Shape     \u001b[0m\u001b[1m \u001b[0m┃\u001b[1m \u001b[0m\u001b[1m   Param #\u001b[0m\u001b[1m \u001b[0m┃\u001b[1m \u001b[0m\u001b[1mConnected to     \u001b[0m\u001b[1m \u001b[0m┃\n",
       "┡━━━━━━━━━━━━━━━━━━━━━╇━━━━━━━━━━━━━━━━━━━╇━━━━━━━━━━━━╇━━━━━━━━━━━━━━━━━━━┩\n",
       "│ input_layer_23      │ (\u001b[38;5;45mNone\u001b[0m, \u001b[38;5;34m3000\u001b[0m, \u001b[38;5;34m2\u001b[0m)   │          \u001b[38;5;34m0\u001b[0m │ -                 │\n",
       "│ (\u001b[38;5;33mInputLayer\u001b[0m)        │                   │            │                   │\n",
       "├─────────────────────┼───────────────────┼────────────┼───────────────────┤\n",
       "│ conv1d_17 (\u001b[38;5;33mConv1D\u001b[0m)  │ (\u001b[38;5;45mNone\u001b[0m, \u001b[38;5;34m2998\u001b[0m, \u001b[38;5;34m64\u001b[0m)  │        \u001b[38;5;34m448\u001b[0m │ input_layer_23[\u001b[38;5;34m0\u001b[0m… │\n",
       "├─────────────────────┼───────────────────┼────────────┼───────────────────┤\n",
       "│ max_pooling1d_15    │ (\u001b[38;5;45mNone\u001b[0m, \u001b[38;5;34m1499\u001b[0m, \u001b[38;5;34m64\u001b[0m)  │          \u001b[38;5;34m0\u001b[0m │ conv1d_17[\u001b[38;5;34m0\u001b[0m][\u001b[38;5;34m0\u001b[0m]   │\n",
       "│ (\u001b[38;5;33mMaxPooling1D\u001b[0m)      │                   │            │                   │\n",
       "├─────────────────────┼───────────────────┼────────────┼───────────────────┤\n",
       "│ dropout_5 (\u001b[38;5;33mDropout\u001b[0m) │ (\u001b[38;5;45mNone\u001b[0m, \u001b[38;5;34m1499\u001b[0m, \u001b[38;5;34m64\u001b[0m)  │          \u001b[38;5;34m0\u001b[0m │ max_pooling1d_15… │\n",
       "├─────────────────────┼───────────────────┼────────────┼───────────────────┤\n",
       "│ conv1d_18 (\u001b[38;5;33mConv1D\u001b[0m)  │ (\u001b[38;5;45mNone\u001b[0m, \u001b[38;5;34m1497\u001b[0m, \u001b[38;5;34m32\u001b[0m)  │      \u001b[38;5;34m6,176\u001b[0m │ dropout_5[\u001b[38;5;34m0\u001b[0m][\u001b[38;5;34m0\u001b[0m]   │\n",
       "├─────────────────────┼───────────────────┼────────────┼───────────────────┤\n",
       "│ input_layer_22      │ (\u001b[38;5;45mNone\u001b[0m, \u001b[38;5;34m30\u001b[0m, \u001b[38;5;34m100\u001b[0m)   │          \u001b[38;5;34m0\u001b[0m │ -                 │\n",
       "│ (\u001b[38;5;33mInputLayer\u001b[0m)        │                   │            │                   │\n",
       "├─────────────────────┼───────────────────┼────────────┼───────────────────┤\n",
       "│ max_pooling1d_16    │ (\u001b[38;5;45mNone\u001b[0m, \u001b[38;5;34m748\u001b[0m, \u001b[38;5;34m32\u001b[0m)   │          \u001b[38;5;34m0\u001b[0m │ conv1d_18[\u001b[38;5;34m0\u001b[0m][\u001b[38;5;34m0\u001b[0m]   │\n",
       "│ (\u001b[38;5;33mMaxPooling1D\u001b[0m)      │                   │            │                   │\n",
       "├─────────────────────┼───────────────────┼────────────┼───────────────────┤\n",
       "│ lstm_11 (\u001b[38;5;33mLSTM\u001b[0m)      │ (\u001b[38;5;45mNone\u001b[0m, \u001b[38;5;34m128\u001b[0m)       │    \u001b[38;5;34m117,248\u001b[0m │ input_layer_22[\u001b[38;5;34m0\u001b[0m… │\n",
       "├─────────────────────┼───────────────────┼────────────┼───────────────────┤\n",
       "│ flatten_10          │ (\u001b[38;5;45mNone\u001b[0m, \u001b[38;5;34m23936\u001b[0m)     │          \u001b[38;5;34m0\u001b[0m │ max_pooling1d_16… │\n",
       "│ (\u001b[38;5;33mFlatten\u001b[0m)           │                   │            │                   │\n",
       "├─────────────────────┼───────────────────┼────────────┼───────────────────┤\n",
       "│ concatenate_9       │ (\u001b[38;5;45mNone\u001b[0m, \u001b[38;5;34m24064\u001b[0m)     │          \u001b[38;5;34m0\u001b[0m │ lstm_11[\u001b[38;5;34m0\u001b[0m][\u001b[38;5;34m0\u001b[0m],    │\n",
       "│ (\u001b[38;5;33mConcatenate\u001b[0m)       │                   │            │ flatten_10[\u001b[38;5;34m0\u001b[0m][\u001b[38;5;34m0\u001b[0m]  │\n",
       "├─────────────────────┼───────────────────┼────────────┼───────────────────┤\n",
       "│ dense_24 (\u001b[38;5;33mDense\u001b[0m)    │ (\u001b[38;5;45mNone\u001b[0m, \u001b[38;5;34m512\u001b[0m)       │ \u001b[38;5;34m12,321,280\u001b[0m │ concatenate_9[\u001b[38;5;34m0\u001b[0m]… │\n",
       "├─────────────────────┼───────────────────┼────────────┼───────────────────┤\n",
       "│ dropout_6 (\u001b[38;5;33mDropout\u001b[0m) │ (\u001b[38;5;45mNone\u001b[0m, \u001b[38;5;34m512\u001b[0m)       │          \u001b[38;5;34m0\u001b[0m │ dense_24[\u001b[38;5;34m0\u001b[0m][\u001b[38;5;34m0\u001b[0m]    │\n",
       "├─────────────────────┼───────────────────┼────────────┼───────────────────┤\n",
       "│ dense_25 (\u001b[38;5;33mDense\u001b[0m)    │ (\u001b[38;5;45mNone\u001b[0m, \u001b[38;5;34m1\u001b[0m)         │        \u001b[38;5;34m513\u001b[0m │ dropout_6[\u001b[38;5;34m0\u001b[0m][\u001b[38;5;34m0\u001b[0m]   │\n",
       "└─────────────────────┴───────────────────┴────────────┴───────────────────┘\n"
      ]
     },
     "metadata": {},
     "output_type": "display_data"
    },
    {
     "data": {
      "text/html": [
       "<pre style=\"white-space:pre;overflow-x:auto;line-height:normal;font-family:Menlo,'DejaVu Sans Mono',consolas,'Courier New',monospace\"><span style=\"font-weight: bold\"> Total params: </span><span style=\"color: #00af00; text-decoration-color: #00af00\">12,445,665</span> (47.48 MB)\n",
       "</pre>\n"
      ],
      "text/plain": [
       "\u001b[1m Total params: \u001b[0m\u001b[38;5;34m12,445,665\u001b[0m (47.48 MB)\n"
      ]
     },
     "metadata": {},
     "output_type": "display_data"
    },
    {
     "data": {
      "text/html": [
       "<pre style=\"white-space:pre;overflow-x:auto;line-height:normal;font-family:Menlo,'DejaVu Sans Mono',consolas,'Courier New',monospace\"><span style=\"font-weight: bold\"> Trainable params: </span><span style=\"color: #00af00; text-decoration-color: #00af00\">12,445,665</span> (47.48 MB)\n",
       "</pre>\n"
      ],
      "text/plain": [
       "\u001b[1m Trainable params: \u001b[0m\u001b[38;5;34m12,445,665\u001b[0m (47.48 MB)\n"
      ]
     },
     "metadata": {},
     "output_type": "display_data"
    },
    {
     "data": {
      "text/html": [
       "<pre style=\"white-space:pre;overflow-x:auto;line-height:normal;font-family:Menlo,'DejaVu Sans Mono',consolas,'Courier New',monospace\"><span style=\"font-weight: bold\"> Non-trainable params: </span><span style=\"color: #00af00; text-decoration-color: #00af00\">0</span> (0.00 B)\n",
       "</pre>\n"
      ],
      "text/plain": [
       "\u001b[1m Non-trainable params: \u001b[0m\u001b[38;5;34m0\u001b[0m (0.00 B)\n"
      ]
     },
     "metadata": {},
     "output_type": "display_data"
    }
   ],
   "source": [
    "# LSTM, CNN\n",
    "model.summary()"
   ]
  },
  {
   "cell_type": "code",
   "execution_count": 9,
   "id": "f3b40f21-cd79-4e4b-9098-98c171ffb798",
   "metadata": {},
   "outputs": [],
   "source": [
    "# Compile the model\n",
    "model.compile(optimizer='adam', loss='binary_crossentropy', metrics=['accuracy'])"
   ]
  },
  {
   "cell_type": "code",
   "execution_count": 10,
   "id": "8a70166e-3ea3-4a9e-a2fb-b0617490da53",
   "metadata": {
    "scrolled": true
   },
   "outputs": [
    {
     "name": "stdout",
     "output_type": "stream",
     "text": [
      "Epoch 1/5\n"
     ]
    },
    {
     "name": "stderr",
     "output_type": "stream",
     "text": [
      "WARNING: All log messages before absl::InitializeLog() is called are written to STDERR\n",
      "I0000 00:00:1727513369.675496   25092 service.cc:146] XLA service 0x7f9b5000c3e0 initialized for platform CUDA (this does not guarantee that XLA will be used). Devices:\n",
      "I0000 00:00:1727513369.675559   25092 service.cc:154]   StreamExecutor device (0): NVIDIA GeForce RTX 4090, Compute Capability 8.9\n",
      "2024-09-28 17:49:29.728150: I tensorflow/compiler/mlir/tensorflow/utils/dump_mlir_util.cc:268] disabling MLIR crash reproducer, set env var `MLIR_CRASH_REPRODUCER_DIRECTORY` to enable.\n",
      "2024-09-28 17:49:29.975494: I external/local_xla/xla/stream_executor/cuda/cuda_dnn.cc:531] Loaded cuDNN version 8902\n",
      "2024-09-28 17:49:30.949350: I external/local_xla/xla/stream_executor/cuda/cuda_asm_compiler.cc:393] ptxas warning : Registers are spilled to local memory in function 'gemm_fusion_dot_1', 12 bytes spill stores, 12 bytes spill loads\n",
      "\n",
      "2024-09-28 17:49:31.236014: I external/local_xla/xla/stream_executor/cuda/cuda_asm_compiler.cc:393] ptxas warning : Registers are spilled to local memory in function 'gemm_fusion_dot_1', 324 bytes spill stores, 272 bytes spill loads\n",
      "\n",
      "2024-09-28 17:49:31.275910: I external/local_xla/xla/stream_executor/cuda/cuda_asm_compiler.cc:393] ptxas warning : Registers are spilled to local memory in function 'gemm_fusion_dot_12', 32 bytes spill stores, 32 bytes spill loads\n",
      "\n",
      "2024-09-28 17:49:31.411619: I external/local_xla/xla/stream_executor/cuda/cuda_asm_compiler.cc:393] ptxas warning : Registers are spilled to local memory in function 'gemm_fusion_dot_12', 212 bytes spill stores, 200 bytes spill loads\n",
      "\n"
     ]
    },
    {
     "name": "stdout",
     "output_type": "stream",
     "text": [
      "\u001b[1m   8/1069\u001b[0m \u001b[37m━━━━━━━━━━━━━━━━━━━━\u001b[0m \u001b[1m17s\u001b[0m 16ms/step - accuracy: 0.4974 - loss: 0.8068"
     ]
    },
    {
     "name": "stderr",
     "output_type": "stream",
     "text": [
      "I0000 00:00:1727513372.861028   25092 device_compiler.h:188] Compiled cluster using XLA!  This line is logged at most once for the lifetime of the process.\n"
     ]
    },
    {
     "name": "stdout",
     "output_type": "stream",
     "text": [
      "\u001b[1m1068/1069\u001b[0m \u001b[32m━━━━━━━━━━━━━━━━━━━\u001b[0m\u001b[37m━\u001b[0m \u001b[1m0s\u001b[0m 16ms/step - accuracy: 0.8518 - loss: 0.3367"
     ]
    },
    {
     "name": "stderr",
     "output_type": "stream",
     "text": [
      "2024-09-28 17:49:50.109873: I external/local_xla/xla/stream_executor/cuda/cuda_asm_compiler.cc:393] ptxas warning : Registers are spilled to local memory in function 'gemm_fusion_dot_1', 12 bytes spill stores, 12 bytes spill loads\n",
      "\n",
      "2024-09-28 17:49:50.293243: I external/local_xla/xla/stream_executor/cuda/cuda_asm_compiler.cc:393] ptxas warning : Registers are spilled to local memory in function 'gemm_fusion_dot_1', 324 bytes spill stores, 272 bytes spill loads\n",
      "\n",
      "2024-09-28 17:49:50.349628: I external/local_xla/xla/stream_executor/cuda/cuda_asm_compiler.cc:393] ptxas warning : Registers are spilled to local memory in function 'gemm_fusion_dot_12', 148 bytes spill stores, 148 bytes spill loads\n",
      "\n",
      "2024-09-28 17:49:50.537624: I external/local_xla/xla/stream_executor/cuda/cuda_asm_compiler.cc:393] ptxas warning : Registers are spilled to local memory in function 'gemm_fusion_dot_12', 212 bytes spill stores, 200 bytes spill loads\n",
      "\n"
     ]
    },
    {
     "name": "stdout",
     "output_type": "stream",
     "text": [
      "\u001b[1m1069/1069\u001b[0m \u001b[32m━━━━━━━━━━━━━━━━━━━━\u001b[0m\u001b[37m\u001b[0m \u001b[1m25s\u001b[0m 19ms/step - accuracy: 0.8518 - loss: 0.3366 - val_accuracy: 0.9067 - val_loss: 0.2260\n",
      "Epoch 2/5\n",
      "\u001b[1m1069/1069\u001b[0m \u001b[32m━━━━━━━━━━━━━━━━━━━━\u001b[0m\u001b[37m\u001b[0m \u001b[1m20s\u001b[0m 19ms/step - accuracy: 0.9206 - loss: 0.1963 - val_accuracy: 0.9433 - val_loss: 0.1455\n",
      "Epoch 3/5\n",
      "\u001b[1m1069/1069\u001b[0m \u001b[32m━━━━━━━━━━━━━━━━━━━━\u001b[0m\u001b[37m\u001b[0m \u001b[1m17s\u001b[0m 16ms/step - accuracy: 0.9446 - loss: 0.1377 - val_accuracy: 0.9461 - val_loss: 0.1400\n",
      "Epoch 4/5\n",
      "\u001b[1m1069/1069\u001b[0m \u001b[32m━━━━━━━━━━━━━━━━━━━━\u001b[0m\u001b[37m\u001b[0m \u001b[1m20s\u001b[0m 19ms/step - accuracy: 0.9508 - loss: 0.1263 - val_accuracy: 0.9480 - val_loss: 0.1305\n",
      "Epoch 5/5\n",
      "\u001b[1m1069/1069\u001b[0m \u001b[32m━━━━━━━━━━━━━━━━━━━━\u001b[0m\u001b[37m\u001b[0m \u001b[1m17s\u001b[0m 16ms/step - accuracy: 0.9563 - loss: 0.1112 - val_accuracy: 0.9466 - val_loss: 0.1338\n"
     ]
    }
   ],
   "source": [
    "batch_size = 128\n",
    "epochs = 5\n",
    "\n",
    "# Train the model\n",
    "history = model.fit([x_train, x_train_coords], y_train, batch_size=batch_size, epochs=epochs, validation_split=0.1)"
   ]
  },
  {
   "cell_type": "code",
   "execution_count": 150,
   "id": "a1b237e8-399e-4920-9345-80b0c2c046b0",
   "metadata": {},
   "outputs": [
    {
     "name": "stdout",
     "output_type": "stream",
     "text": [
      "Epoch 1/5\n",
      "\u001b[1m1069/1069\u001b[0m \u001b[32m━━━━━━━━━━━━━━━━━━━━\u001b[0m\u001b[37m\u001b[0m \u001b[1m7s\u001b[0m 5ms/step - accuracy: 0.9279 - loss: 0.1898 - val_accuracy: 0.9488 - val_loss: 0.1289\n",
      "Epoch 2/5\n",
      "\u001b[1m1069/1069\u001b[0m \u001b[32m━━━━━━━━━━━━━━━━━━━━\u001b[0m\u001b[37m\u001b[0m \u001b[1m5s\u001b[0m 5ms/step - accuracy: 0.9521 - loss: 0.1217 - val_accuracy: 0.9530 - val_loss: 0.1231\n",
      "Epoch 3/5\n",
      "\u001b[1m1069/1069\u001b[0m \u001b[32m━━━━━━━━━━━━━━━━━━━━\u001b[0m\u001b[37m\u001b[0m \u001b[1m5s\u001b[0m 4ms/step - accuracy: 0.9569 - loss: 0.1089 - val_accuracy: 0.9537 - val_loss: 0.1211\n",
      "Epoch 4/5\n",
      "\u001b[1m1069/1069\u001b[0m \u001b[32m━━━━━━━━━━━━━━━━━━━━\u001b[0m\u001b[37m\u001b[0m \u001b[1m4s\u001b[0m 4ms/step - accuracy: 0.9618 - loss: 0.0971 - val_accuracy: 0.9552 - val_loss: 0.1160\n",
      "Epoch 5/5\n",
      "\u001b[1m1069/1069\u001b[0m \u001b[32m━━━━━━━━━━━━━━━━━━━━\u001b[0m\u001b[37m\u001b[0m \u001b[1m5s\u001b[0m 5ms/step - accuracy: 0.9652 - loss: 0.0878 - val_accuracy: 0.9556 - val_loss: 0.1181\n"
     ]
    }
   ],
   "source": [
    "# LSTM model\n",
    "batch_size = 128\n",
    "epochs = 5\n",
    "\n",
    "# Train the model\n",
    "history = model.fit(x_train, y_train, batch_size=batch_size, epochs=epochs, validation_split=0.1)"
   ]
  },
  {
   "cell_type": "code",
   "execution_count": 95,
   "id": "2a7567fd-c0de-43df-949f-f6609d65aed2",
   "metadata": {
    "scrolled": true
   },
   "outputs": [
    {
     "name": "stdout",
     "output_type": "stream",
     "text": [
      "Epoch 1/5\n"
     ]
    },
    {
     "name": "stderr",
     "output_type": "stream",
     "text": [
      "WARNING: All log messages before absl::InitializeLog() is called are written to STDERR\n",
      "I0000 00:00:1727497646.022948   22642 service.cc:146] XLA service 0x7fd3c4004b80 initialized for platform CUDA (this does not guarantee that XLA will be used). Devices:\n",
      "I0000 00:00:1727497646.022990   22642 service.cc:154]   StreamExecutor device (0): NVIDIA GeForce RTX 4090, Compute Capability 8.9\n",
      "2024-09-28 13:27:26.045879: I tensorflow/compiler/mlir/tensorflow/utils/dump_mlir_util.cc:268] disabling MLIR crash reproducer, set env var `MLIR_CRASH_REPRODUCER_DIRECTORY` to enable.\n",
      "2024-09-28 13:27:26.167430: I external/local_xla/xla/stream_executor/cuda/cuda_dnn.cc:531] Loaded cuDNN version 8902\n",
      "2024-09-28 13:27:27.436525: I external/local_xla/xla/stream_executor/cuda/cuda_asm_compiler.cc:393] ptxas warning : Registers are spilled to local memory in function 'gemm_fusion_dot_234', 140 bytes spill stores, 140 bytes spill loads\n",
      "\n",
      "2024-09-28 13:27:27.485972: I external/local_xla/xla/stream_executor/cuda/cuda_asm_compiler.cc:393] ptxas warning : Registers are spilled to local memory in function 'gemm_fusion_dot_1', 324 bytes spill stores, 272 bytes spill loads\n",
      "\n",
      "2024-09-28 13:27:27.522091: I external/local_xla/xla/stream_executor/cuda/cuda_asm_compiler.cc:393] ptxas warning : Registers are spilled to local memory in function 'gemm_fusion_dot_234', 140 bytes spill stores, 140 bytes spill loads\n",
      "\n",
      "2024-09-28 13:27:27.625109: I external/local_xla/xla/stream_executor/cuda/cuda_asm_compiler.cc:393] ptxas warning : Registers are spilled to local memory in function 'gemm_fusion_dot_12', 32 bytes spill stores, 32 bytes spill loads\n",
      "\n",
      "2024-09-28 13:27:27.798293: I external/local_xla/xla/stream_executor/cuda/cuda_asm_compiler.cc:393] ptxas warning : Registers are spilled to local memory in function 'gemm_fusion_dot_1', 12 bytes spill stores, 12 bytes spill loads\n",
      "\n",
      "2024-09-28 13:27:28.008438: I external/local_xla/xla/stream_executor/cuda/cuda_asm_compiler.cc:393] ptxas warning : Registers are spilled to local memory in function 'gemm_fusion_dot_12', 212 bytes spill stores, 200 bytes spill loads\n",
      "\n"
     ]
    },
    {
     "name": "stdout",
     "output_type": "stream",
     "text": [
      "\u001b[1m  15/1069\u001b[0m \u001b[37m━━━━━━━━━━━━━━━━━━━━\u001b[0m \u001b[1m12s\u001b[0m 12ms/step - accuracy: 0.4956 - loss: 0.8420"
     ]
    },
    {
     "name": "stderr",
     "output_type": "stream",
     "text": [
      "I0000 00:00:1727497649.668482   22642 device_compiler.h:188] Compiled cluster using XLA!  This line is logged at most once for the lifetime of the process.\n"
     ]
    },
    {
     "name": "stdout",
     "output_type": "stream",
     "text": [
      "\u001b[1m1066/1069\u001b[0m \u001b[32m━━━━━━━━━━━━━━━━━━━\u001b[0m\u001b[37m━\u001b[0m \u001b[1m0s\u001b[0m 11ms/step - accuracy: 0.6825 - loss: 0.5677"
     ]
    },
    {
     "name": "stderr",
     "output_type": "stream",
     "text": [
      "2024-09-28 13:27:42.309939: I external/local_xla/xla/stream_executor/cuda/cuda_asm_compiler.cc:393] ptxas warning : Registers are spilled to local memory in function 'gemm_fusion_dot_1', 12 bytes spill stores, 12 bytes spill loads\n",
      "\n",
      "2024-09-28 13:27:42.431140: I external/local_xla/xla/stream_executor/cuda/cuda_asm_compiler.cc:393] ptxas warning : Registers are spilled to local memory in function 'gemm_fusion_dot_234', 140 bytes spill stores, 140 bytes spill loads\n",
      "\n",
      "2024-09-28 13:27:42.480868: I external/local_xla/xla/stream_executor/cuda/cuda_asm_compiler.cc:393] ptxas warning : Registers are spilled to local memory in function 'gemm_fusion_dot_234', 140 bytes spill stores, 140 bytes spill loads\n",
      "\n",
      "2024-09-28 13:27:42.529070: I external/local_xla/xla/stream_executor/cuda/cuda_asm_compiler.cc:393] ptxas warning : Registers are spilled to local memory in function 'gemm_fusion_dot_1', 324 bytes spill stores, 272 bytes spill loads\n",
      "\n",
      "2024-09-28 13:27:42.944238: I external/local_xla/xla/stream_executor/cuda/cuda_asm_compiler.cc:393] ptxas warning : Registers are spilled to local memory in function 'gemm_fusion_dot_12', 148 bytes spill stores, 148 bytes spill loads\n",
      "\n",
      "2024-09-28 13:27:43.138974: I external/local_xla/xla/stream_executor/cuda/cuda_asm_compiler.cc:393] ptxas warning : Registers are spilled to local memory in function 'gemm_fusion_dot_12', 212 bytes spill stores, 200 bytes spill loads\n",
      "\n"
     ]
    },
    {
     "name": "stdout",
     "output_type": "stream",
     "text": [
      "\u001b[1m1069/1069\u001b[0m \u001b[32m━━━━━━━━━━━━━━━━━━━━\u001b[0m\u001b[37m\u001b[0m \u001b[1m24s\u001b[0m 18ms/step - accuracy: 0.6827 - loss: 0.5675 - val_accuracy: 0.7462 - val_loss: 0.4892\n",
      "Epoch 2/5\n",
      "\u001b[1m1069/1069\u001b[0m \u001b[32m━━━━━━━━━━━━━━━━━━━━\u001b[0m\u001b[37m\u001b[0m \u001b[1m13s\u001b[0m 12ms/step - accuracy: 0.7507 - loss: 0.4762 - val_accuracy: 0.7514 - val_loss: 0.4771\n",
      "Epoch 3/5\n",
      "\u001b[1m1069/1069\u001b[0m \u001b[32m━━━━━━━━━━━━━━━━━━━━\u001b[0m\u001b[37m\u001b[0m \u001b[1m13s\u001b[0m 12ms/step - accuracy: 0.7655 - loss: 0.4516 - val_accuracy: 0.7507 - val_loss: 0.4721\n",
      "Epoch 4/5\n",
      "\u001b[1m1069/1069\u001b[0m \u001b[32m━━━━━━━━━━━━━━━━━━━━\u001b[0m\u001b[37m\u001b[0m \u001b[1m16s\u001b[0m 15ms/step - accuracy: 0.7778 - loss: 0.4311 - val_accuracy: 0.7563 - val_loss: 0.4715\n",
      "Epoch 5/5\n",
      "\u001b[1m1069/1069\u001b[0m \u001b[32m━━━━━━━━━━━━━━━━━━━━\u001b[0m\u001b[37m\u001b[0m \u001b[1m12s\u001b[0m 12ms/step - accuracy: 0.7982 - loss: 0.3978 - val_accuracy: 0.7564 - val_loss: 0.4980\n"
     ]
    }
   ],
   "source": [
    "# coords model\n",
    "batch_size = 128\n",
    "epochs = 5\n",
    "\n",
    "# Train the model\n",
    "history = model.fit(x_train_coords, y_train, batch_size=batch_size, epochs=epochs, validation_split=0.1)"
   ]
  },
  {
   "cell_type": "code",
   "execution_count": 33,
   "id": "e96b499f-5626-4855-a355-42b8e62bf657",
   "metadata": {},
   "outputs": [
    {
     "name": "stdout",
     "output_type": "stream",
     "text": [
      "Epoch 1/5\n"
     ]
    },
    {
     "name": "stderr",
     "output_type": "stream",
     "text": [
      "2024-09-01 20:44:09.512249: I external/local_xla/xla/stream_executor/cuda/cuda_asm_compiler.cc:393] ptxas warning : Registers are spilled to local memory in function 'gemm_fusion_dot_2527', 8 bytes spill stores, 8 bytes spill loads\n",
      "\n",
      "2024-09-01 20:44:09.605114: I external/local_xla/xla/stream_executor/cuda/cuda_asm_compiler.cc:393] ptxas warning : Registers are spilled to local memory in function 'gemm_fusion_dot_2527', 4 bytes spill stores, 4 bytes spill loads\n",
      "\n"
     ]
    },
    {
     "name": "stdout",
     "output_type": "stream",
     "text": [
      "\u001b[1m1196/1196\u001b[0m \u001b[32m━━━━━━━━━━━━━━━━━━━━\u001b[0m\u001b[37m\u001b[0m \u001b[1m21s\u001b[0m 15ms/step - accuracy: 0.7479 - loss: 0.5012 - val_accuracy: 0.8491 - val_loss: 0.3420\n",
      "Epoch 2/5\n",
      "\u001b[1m1196/1196\u001b[0m \u001b[32m━━━━━━━━━━━━━━━━━━━━\u001b[0m\u001b[37m\u001b[0m \u001b[1m13s\u001b[0m 11ms/step - accuracy: 0.8509 - loss: 0.3442 - val_accuracy: 0.8401 - val_loss: 0.3520\n",
      "Epoch 3/5\n",
      "\u001b[1m1196/1196\u001b[0m \u001b[32m━━━━━━━━━━━━━━━━━━━━\u001b[0m\u001b[37m\u001b[0m \u001b[1m13s\u001b[0m 11ms/step - accuracy: 0.8648 - loss: 0.3145 - val_accuracy: 0.8647 - val_loss: 0.3156\n",
      "Epoch 4/5\n",
      "\u001b[1m1196/1196\u001b[0m \u001b[32m━━━━━━━━━━━━━━━━━━━━\u001b[0m\u001b[37m\u001b[0m \u001b[1m16s\u001b[0m 13ms/step - accuracy: 0.8735 - loss: 0.2956 - val_accuracy: 0.8673 - val_loss: 0.3222\n",
      "Epoch 5/5\n",
      "\u001b[1m1196/1196\u001b[0m \u001b[32m━━━━━━━━━━━━━━━━━━━━\u001b[0m\u001b[37m\u001b[0m \u001b[1m13s\u001b[0m 11ms/step - accuracy: 0.8828 - loss: 0.2763 - val_accuracy: 0.8650 - val_loss: 0.3131\n"
     ]
    }
   ],
   "source": [
    "# LSTM, CNN\n",
    "batch_size = 128\n",
    "epochs = 5\n",
    "\n",
    "# Train the model\n",
    "history = model.fit([x_train, x_train_coords], y_train, batch_size=batch_size, epochs=epochs, validation_split=0.1)"
   ]
  },
  {
   "cell_type": "markdown",
   "id": "00e42c96-cd8a-43a9-9093-6b230f4deb05",
   "metadata": {},
   "source": [
    "# 정확도 그래프"
   ]
  },
  {
   "cell_type": "code",
   "execution_count": 100,
   "id": "0f726a53-8787-4ffe-92e7-e92e22cac4cb",
   "metadata": {
    "scrolled": true
   },
   "outputs": [
    {
     "name": "stderr",
     "output_type": "stream",
     "text": [
      "2024-09-27 23:37:46.794622: I external/local_xla/xla/stream_executor/cuda/cuda_asm_compiler.cc:393] ptxas warning : Registers are spilled to local memory in function 'gemm_fusion_dot_1', 12 bytes spill stores, 12 bytes spill loads\n",
      "\n",
      "2024-09-27 23:37:46.812024: I external/local_xla/xla/stream_executor/cuda/cuda_asm_compiler.cc:393] ptxas warning : Registers are spilled to local memory in function 'gemm_fusion_dot_1', 324 bytes spill stores, 272 bytes spill loads\n",
      "\n",
      "2024-09-27 23:37:51.778458: I external/local_xla/xla/stream_executor/cuda/cuda_asm_compiler.cc:393] ptxas warning : Registers are spilled to local memory in function 'gemm_fusion_dot_1', 80 bytes spill stores, 80 bytes spill loads\n",
      "\n",
      "2024-09-27 23:37:51.803599: I external/local_xla/xla/stream_executor/cuda/cuda_asm_compiler.cc:393] ptxas warning : Registers are spilled to local memory in function 'gemm_fusion_dot_1', 16 bytes spill stores, 16 bytes spill loads\n",
      "\n",
      "2024-09-27 23:37:51.957016: I external/local_xla/xla/stream_executor/cuda/cuda_asm_compiler.cc:393] ptxas warning : Registers are spilled to local memory in function 'gemm_fusion_dot_1', 592 bytes spill stores, 400 bytes spill loads\n",
      "\n"
     ]
    },
    {
     "name": "stdout",
     "output_type": "stream",
     "text": [
      "Test loss: 0.13547742366790771\n",
      "Test accuracy: 0.9564172029495239\n"
     ]
    }
   ],
   "source": [
    "# Evaluate the model\n",
    "score = model.evaluate([x_test, x_test_coords], y_test, verbose=0)\n",
    "print(\"Test loss:\", score[0])\n",
    "print(\"Test accuracy:\", score[1])"
   ]
  },
  {
   "cell_type": "code",
   "execution_count": 151,
   "id": "40411df4-8224-45de-af4e-5d6585ff0aa2",
   "metadata": {},
   "outputs": [
    {
     "name": "stdout",
     "output_type": "stream",
     "text": [
      "Test loss: 0.11779918521642685\n",
      "Test accuracy: 0.9540663957595825\n"
     ]
    }
   ],
   "source": [
    "# Evaluate LSTM\n",
    "score = model.evaluate(x_test, y_test, verbose=0)\n",
    "print(\"Test loss:\", score[0])\n",
    "print(\"Test accuracy:\", score[1])"
   ]
  },
  {
   "cell_type": "code",
   "execution_count": 96,
   "id": "f5f3a970-aba9-4896-b3a0-b47b0685b5fd",
   "metadata": {},
   "outputs": [
    {
     "name": "stderr",
     "output_type": "stream",
     "text": [
      "2024-09-28 13:30:13.781153: I external/local_xla/xla/stream_executor/cuda/cuda_asm_compiler.cc:393] ptxas warning : Registers are spilled to local memory in function 'gemm_fusion_dot_40', 140 bytes spill stores, 140 bytes spill loads\n",
      "\n",
      "2024-09-28 13:30:13.814441: I external/local_xla/xla/stream_executor/cuda/cuda_asm_compiler.cc:393] ptxas warning : Registers are spilled to local memory in function 'gemm_fusion_dot_40', 140 bytes spill stores, 140 bytes spill loads\n",
      "\n",
      "2024-09-28 13:30:13.818217: I external/local_xla/xla/stream_executor/cuda/cuda_asm_compiler.cc:393] ptxas warning : Registers are spilled to local memory in function 'gemm_fusion_dot_1', 324 bytes spill stores, 272 bytes spill loads\n",
      "\n",
      "2024-09-28 13:30:13.823830: I external/local_xla/xla/stream_executor/cuda/cuda_asm_compiler.cc:393] ptxas warning : Registers are spilled to local memory in function 'gemm_fusion_dot_1', 12 bytes spill stores, 12 bytes spill loads\n",
      "\n",
      "2024-09-28 13:30:16.024225: I external/local_xla/xla/stream_executor/cuda/cuda_asm_compiler.cc:393] ptxas warning : Registers are spilled to local memory in function 'gemm_fusion_dot_1', 16 bytes spill stores, 16 bytes spill loads\n",
      "\n",
      "2024-09-28 13:30:16.066839: I external/local_xla/xla/stream_executor/cuda/cuda_asm_compiler.cc:393] ptxas warning : Registers are spilled to local memory in function 'gemm_fusion_dot_1', 80 bytes spill stores, 80 bytes spill loads\n",
      "\n",
      "2024-09-28 13:30:16.158641: I external/local_xla/xla/stream_executor/cuda/cuda_asm_compiler.cc:393] ptxas warning : Registers are spilled to local memory in function 'gemm_fusion_dot_1', 592 bytes spill stores, 400 bytes spill loads\n",
      "\n",
      "2024-09-28 13:30:16.185351: I external/local_xla/xla/stream_executor/cuda/cuda_asm_compiler.cc:393] ptxas warning : Registers are spilled to local memory in function 'gemm_fusion_dot_40', 28 bytes spill stores, 28 bytes spill loads\n",
      "\n"
     ]
    },
    {
     "name": "stdout",
     "output_type": "stream",
     "text": [
      "Test loss: 0.5040497183799744\n",
      "Test accuracy: 0.7591853737831116\n"
     ]
    }
   ],
   "source": [
    "# Evaluate Coords Model\n",
    "score = model.evaluate(x_test_coords, y_test, verbose=0)\n",
    "print(\"Test loss:\", score[0])\n",
    "print(\"Test accuracy:\", score[1])"
   ]
  },
  {
   "cell_type": "code",
   "execution_count": 34,
   "id": "e3d4feef-fe46-4819-b820-7eeaa1d1a9d5",
   "metadata": {},
   "outputs": [
    {
     "name": "stdout",
     "output_type": "stream",
     "text": [
      "Test loss: 0.3192761242389679\n",
      "Test accuracy: 0.863295316696167\n"
     ]
    }
   ],
   "source": [
    "# Evaluate LSTM, CNN model\n",
    "score = model.evaluate([x_test, x_test_coords], y_test, verbose=0)\n",
    "print(\"Test loss:\", score[0])\n",
    "print(\"Test accuracy:\", score[1])"
   ]
  },
  {
   "cell_type": "code",
   "execution_count": 34,
   "id": "83c6bbde-b537-4eff-90a5-8053b8257a29",
   "metadata": {},
   "outputs": [
    {
     "data": {
      "text/plain": [
       "(29721,)"
      ]
     },
     "execution_count": 34,
     "metadata": {},
     "output_type": "execute_result"
    }
   ],
   "source": [
    "y_test.shape"
   ]
  },
  {
   "cell_type": "code",
   "execution_count": 101,
   "id": "6983b098-05ce-4fef-a377-0aa7c04d9b35",
   "metadata": {},
   "outputs": [
    {
     "name": "stdout",
     "output_type": "stream",
     "text": [
      "\u001b[1m1184/1184\u001b[0m \u001b[32m━━━━━━━━━━━━━━━━━━━━\u001b[0m\u001b[37m\u001b[0m \u001b[1m5s\u001b[0m 3ms/step\n",
      "F1 score: 0.9580579562785968\n"
     ]
    }
   ],
   "source": [
    "# 벡터, 좌표\n",
    "from sklearn.metrics import f1_score\n",
    "\n",
    "y_pred = model.predict([x_test, x_test_coords])\n",
    "y_pred_binary = (y_pred > 0.5).astype(int)\n",
    "f1 = f1_score(y_test, y_pred_binary)\n",
    "\n",
    "print(\"F1 score:\", f1)"
   ]
  },
  {
   "cell_type": "code",
   "execution_count": 152,
   "id": "c4025021-414f-4011-a957-9269ef6cf2d3",
   "metadata": {},
   "outputs": [
    {
     "name": "stdout",
     "output_type": "stream",
     "text": [
      "\u001b[1m1184/1184\u001b[0m \u001b[32m━━━━━━━━━━━━━━━━━━━━\u001b[0m\u001b[37m\u001b[0m \u001b[1m1s\u001b[0m 1ms/step\n",
      "F1 score: 0.9562812680694874\n"
     ]
    }
   ],
   "source": [
    "# LSTM\n",
    "from sklearn.metrics import f1_score\n",
    "\n",
    "y_pred = model.predict(x_test)\n",
    "y_pred_binary = (y_pred > 0.5).astype(int)\n",
    "f1 = f1_score(y_test, y_pred_binary)\n",
    "\n",
    "print(\"F1 score:\", f1)"
   ]
  },
  {
   "cell_type": "code",
   "execution_count": 97,
   "id": "83f1c0c1-0004-4a08-97de-fd008368688f",
   "metadata": {},
   "outputs": [
    {
     "name": "stdout",
     "output_type": "stream",
     "text": [
      "\u001b[1m1184/1184\u001b[0m \u001b[32m━━━━━━━━━━━━━━━━━━━━\u001b[0m\u001b[37m\u001b[0m \u001b[1m2s\u001b[0m 1ms/step\n",
      "F1 score: 0.792545566250256\n"
     ]
    }
   ],
   "source": [
    "# coords model\n",
    "from sklearn.metrics import f1_score\n",
    "\n",
    "y_pred = model.predict(x_test_coords)\n",
    "y_pred_binary = (y_pred > 0.5).astype(int)\n",
    "f1 = f1_score(y_test, y_pred_binary)\n",
    "\n",
    "print(\"F1 score:\", f1)"
   ]
  },
  {
   "cell_type": "code",
   "execution_count": 102,
   "id": "a05f03c1-6186-4e5c-8c44-7933c03e482f",
   "metadata": {},
   "outputs": [
    {
     "data": {
      "image/png": "[encoded data removed]",
      "text/plain": [
       "<Figure size 1000x400 with 2 Axes>"
      ]
     },
     "metadata": {},
     "output_type": "display_data"
    }
   ],
   "source": [
    "# 벡터, 좌표\n",
    "fig, ax = plt.subplots(1, 2, figsize=(10, 4))\n",
    "ax[1]\n",
    "# 정확도 그래프\n",
    "# plt.subplots(1,2,1)\n",
    "ax[0].plot(history.history['accuracy'], label='Train Accuracy')\n",
    "ax[0].plot(history.history['val_accuracy'], label='Validation Accuracy')\n",
    "ax[0].set_title('Model Accuracy')\n",
    "ax[0].set_xlabel('Epoch')\n",
    "ax[0].set_ylabel('Accuracy')\n",
    "ax[0].legend()\n",
    "ax[0].grid(True)\n",
    "\n",
    "# 손실 그래프\n",
    "ax[1].plot(history.history['loss'], label='Train Loss')\n",
    "ax[1].plot(history.history['val_loss'], label='Validation Loss')\n",
    "ax[1].set_title('Model Loss')\n",
    "ax[1].set_xlabel('Epoch')\n",
    "ax[1].set_ylabel('Loss')\n",
    "ax[1].legend()\n",
    "ax[1].grid(True)\n",
    "\n",
    "plt.tight_layout()\n",
    "plt.show()"
   ]
  },
  {
   "cell_type": "code",
   "execution_count": 153,
   "id": "119dff11-8cee-47fd-98b7-fcabaf14abdb",
   "metadata": {},
   "outputs": [
    {
     "data": {
      "image/png": "[encoded data removed]",
      "text/plain": [
       "<Figure size 1000x400 with 2 Axes>"
      ]
     },
     "metadata": {},
     "output_type": "display_data"
    }
   ],
   "source": [
    "# LSTM\n",
    "fig, ax = plt.subplots(1, 2, figsize=(10, 4))\n",
    "ax[1]\n",
    "# 정확도 그래프\n",
    "# plt.subplots(1,2,1)\n",
    "ax[0].plot(history.history['accuracy'], label='Train Accuracy')\n",
    "ax[0].plot(history.history['val_accuracy'], label='Validation Accuracy')\n",
    "ax[0].set_title('Model Accuracy')\n",
    "ax[0].set_xlabel('Epoch')\n",
    "ax[0].set_ylabel('Accuracy')\n",
    "ax[0].legend()\n",
    "ax[0].grid(True)\n",
    "\n",
    "# 손실 그래프\n",
    "ax[1].plot(history.history['loss'], label='Train Loss')\n",
    "ax[1].plot(history.history['val_loss'], label='Validation Loss')\n",
    "ax[1].set_title('Model Loss')\n",
    "ax[1].set_xlabel('Epoch')\n",
    "ax[1].set_ylabel('Loss')\n",
    "ax[1].legend()\n",
    "ax[1].grid(True)\n",
    "\n",
    "plt.tight_layout()\n",
    "plt.show()"
   ]
  },
  {
   "cell_type": "code",
   "execution_count": 35,
   "id": "24125850-23cf-49a2-9e4b-5ab9478cbbd3",
   "metadata": {},
   "outputs": [
    {
     "data": {
      "image/png": "[encoded data removed]",
      "text/plain": [
       "<Figure size 1000x400 with 2 Axes>"
      ]
     },
     "metadata": {},
     "output_type": "display_data"
    }
   ],
   "source": [
    "# coords\n",
    "fig, ax = plt.subplots(1, 2, figsize=(10, 4))\n",
    "ax[1]\n",
    "# 정확도 그래프\n",
    "# plt.subplots(1,2,1)\n",
    "ax[0].plot(history.history['accuracy'], label='Train Accuracy')\n",
    "ax[0].plot(history.history['val_accuracy'], label='Validation Accuracy')\n",
    "ax[0].set_title('Model Accuracy')\n",
    "ax[0].set_xlabel('Epoch')\n",
    "ax[0].set_ylabel('Accuracy')\n",
    "ax[0].legend()\n",
    "ax[0].grid(True)\n",
    "\n",
    "# 손실 그래프\n",
    "ax[1].plot(history.history['loss'], label='Train Loss')\n",
    "ax[1].plot(history.history['val_loss'], label='Validation Loss')\n",
    "ax[1].set_title('Model Loss')\n",
    "ax[1].set_xlabel('Epoch')\n",
    "ax[1].set_ylabel('Loss')\n",
    "ax[1].legend()\n",
    "ax[1].grid(True)\n",
    "\n",
    "plt.tight_layout()\n",
    "plt.show()"
   ]
  },
  {
   "cell_type": "markdown",
   "id": "013be9e4-864e-4320-be2e-60595bc5d550",
   "metadata": {},
   "source": [
    "# 예측 시험"
   ]
  },
  {
   "cell_type": "code",
   "execution_count": 36,
   "id": "df5bebeb-bed4-4863-a175-a6aea1ec3e99",
   "metadata": {},
   "outputs": [],
   "source": [
    "# model.predict()\n",
    "def predict_model(text):\n",
    "    sample_processed_text = get_jamo(text)\n",
    "    sample_vector = vectorize_text(sample_processed_text, fasttext_model)\n",
    "    if len(sample_vector) == 0:\n",
    "        return(\"String data is too short or not available\")\n",
    "    else:\n",
    "        sample_spaceless_text = replace_space(\" \".join(sample_processed_text))\n",
    "        sample_img = create_sentence_image(sample_spaceless_text, font_path, font_size)\n",
    "        sample_img = np.array(sample_img)\n",
    "        \n",
    "        # 좌표 추출\n",
    "        sample_coordinates = get_coordinates(sample_img)\n",
    "        \n",
    "        x_lim = sample_img.shape[1]\n",
    "        y_lim = sample_img.shape[0]\n",
    "        \n",
    "        # 좌표 정규화\n",
    "        sample_std_coords = std_coordinates(sample_coordinates, x_lim, y_lim)\n",
    "        sample_padded_coords = pad_coords(sample_std_coords, pad_size)\n",
    "    \n",
    "        # 예측\n",
    "        sample_padded_vector = pad_vector(sample_vector, 30)\n",
    "\n",
    "        sample_padded_vector = sample_padded_vector.reshape(1, 30, 100)\n",
    "        sample_padded_coords = sample_padded_coords.reshape(1, 3000, 2)\n",
    "        # print(sample_padded_vector.shape)\n",
    "        # print(sample_padded_coords.shape)\n",
    "        predict = model.predict([sample_padded_vector, sample_padded_coords], verbose=0)\n",
    "        return predict"
   ]
  },
  {
   "cell_type": "code",
   "execution_count": 70,
   "id": "c2ddc269-2266-4883-b6c2-42682101ed8a",
   "metadata": {},
   "outputs": [
    {
     "name": "stdout",
     "output_type": "stream",
     "text": [
      "[[0.02603254]]\n"
     ]
    }
   ],
   "source": [
    "sample = \"논문 봐야겠다\"\n",
    "data = predict_model(sample)\n",
    "print(data)"
   ]
  },
  {
   "cell_type": "markdown",
   "id": "d31c2f38-0015-43f6-9180-c590377d34ab",
   "metadata": {},
   "source": [
    "# 테스트 데이터"
   ]
  },
  {
   "cell_type": "code",
   "execution_count": 129,
   "id": "5193abeb-a3a1-4d5d-9cf5-d289a1ecbbc2",
   "metadata": {},
   "outputs": [],
   "source": [
    "# test df\n",
    "df_test = df[152000:]"
   ]
  },
  {
   "cell_type": "code",
   "execution_count": 130,
   "id": "0042fd5c-85b8-40aa-8ca9-9c73a3a2161f",
   "metadata": {},
   "outputs": [],
   "source": [
    "df_test = df_test.reset_index(drop=True)"
   ]
  },
  {
   "cell_type": "code",
   "execution_count": 131,
   "id": "769ebb69-263f-4e9a-a9f8-e861442a1804",
   "metadata": {},
   "outputs": [
    {
     "data": {
      "text/plain": [
       "label\n",
       "1    19826\n",
       "0    18096\n",
       "Name: count, dtype: int64"
      ]
     },
     "execution_count": 131,
     "metadata": {},
     "output_type": "execute_result"
    }
   ],
   "source": [
    "df_test['label'].value_counts()"
   ]
  },
  {
   "cell_type": "code",
   "execution_count": 132,
   "id": "1f9bd24b-2a24-48f2-b746-2bfe6bfbfe28",
   "metadata": {},
   "outputs": [
    {
     "data": {
      "text/html": [
       "<div>\n",
       "<style scoped>\n",
       "    .dataframe tbody tr th:only-of-type {\n",
       "        vertical-align: middle;\n",
       "    }\n",
       "\n",
       "    .dataframe tbody tr th {\n",
       "        vertical-align: top;\n",
       "    }\n",
       "\n",
       "    .dataframe thead th {\n",
       "        text-align: right;\n",
       "    }\n",
       "</style>\n",
       "<table border=\"1\" class=\"dataframe\">\n",
       "  <thead>\n",
       "    <tr style=\"text-align: right;\">\n",
       "      <th></th>\n",
       "      <th>text</th>\n",
       "      <th>label</th>\n",
       "    </tr>\n",
       "  </thead>\n",
       "  <tbody>\n",
       "    <tr>\n",
       "      <th>0</th>\n",
       "      <td>@한국엄마찾기협회 하도 저러다보니 조건반사로 이성은 이건아닌대 몸은 대모질</td>\n",
       "      <td>0</td>\n",
       "    </tr>\n",
       "    <tr>\n",
       "      <th>1</th>\n",
       "      <td>그림을 이렇게 아낌없이 쓸 수 있는 이북이 부럽습네다...ㅠ.ㅠ</td>\n",
       "      <td>1</td>\n",
       "    </tr>\n",
       "    <tr>\n",
       "      <th>2</th>\n",
       "      <td>8kun 디도스 공격한 새끼도 잡아냈다.\\n\\n일베 악질 친중파 우녕자덜도 각오하고...</td>\n",
       "      <td>0</td>\n",
       "    </tr>\n",
       "    <tr>\n",
       "      <th>3</th>\n",
       "      <td>어릴적에 즐겨본 추억의 영화</td>\n",
       "      <td>1</td>\n",
       "    </tr>\n",
       "    <tr>\n",
       "      <th>4</th>\n",
       "      <td>스토리는 별루인데... 화려함이 엄청나네요 ㅋㅋ</td>\n",
       "      <td>1</td>\n",
       "    </tr>\n",
       "    <tr>\n",
       "      <th>...</th>\n",
       "      <td>...</td>\n",
       "      <td>...</td>\n",
       "    </tr>\n",
       "    <tr>\n",
       "      <th>37917</th>\n",
       "      <td>원작을 읽을 때 이런 건 절대 영상화하기 힘들다고 생각했는데 벤휘쇼의 연기와 더불어...</td>\n",
       "      <td>1</td>\n",
       "    </tr>\n",
       "    <tr>\n",
       "      <th>37918</th>\n",
       "      <td>케석대 어깨 올라간거봐라 ㅋㅋ</td>\n",
       "      <td>0</td>\n",
       "    </tr>\n",
       "    <tr>\n",
       "      <th>37919</th>\n",
       "      <td>@김짜꾸 day and night\\n\\nround the clock\\n\\nwitho...</td>\n",
       "      <td>0</td>\n",
       "    </tr>\n",
       "    <tr>\n",
       "      <th>37920</th>\n",
       "      <td>로버트다우니주니어를 좋아해서 봤는데너무재밌게 봤던영화생각없이 볼때 딱좋음</td>\n",
       "      <td>1</td>\n",
       "    </tr>\n",
       "    <tr>\n",
       "      <th>37921</th>\n",
       "      <td>@익명_146173 개지랄병 병신좌좀새끼ㅋㅋㅋㅋ</td>\n",
       "      <td>0</td>\n",
       "    </tr>\n",
       "  </tbody>\n",
       "</table>\n",
       "<p>37922 rows × 2 columns</p>\n",
       "</div>"
      ],
      "text/plain": [
       "                                                    text  label\n",
       "0              @한국엄마찾기협회 하도 저러다보니 조건반사로 이성은 이건아닌대 몸은 대모질      0\n",
       "1                    그림을 이렇게 아낌없이 쓸 수 있는 이북이 부럽습네다...ㅠ.ㅠ      1\n",
       "2      8kun 디도스 공격한 새끼도 잡아냈다.\\n\\n일베 악질 친중파 우녕자덜도 각오하고...      0\n",
       "3                                        어릴적에 즐겨본 추억의 영화      1\n",
       "4                             스토리는 별루인데... 화려함이 엄청나네요 ㅋㅋ      1\n",
       "...                                                  ...    ...\n",
       "37917  원작을 읽을 때 이런 건 절대 영상화하기 힘들다고 생각했는데 벤휘쇼의 연기와 더불어...      1\n",
       "37918                                   케석대 어깨 올라간거봐라 ㅋㅋ      0\n",
       "37919  @김짜꾸 day and night\\n\\nround the clock\\n\\nwitho...      0\n",
       "37920           로버트다우니주니어를 좋아해서 봤는데너무재밌게 봤던영화생각없이 볼때 딱좋음      1\n",
       "37921                         @익명_146173 개지랄병 병신좌좀새끼ㅋㅋㅋㅋ      0\n",
       "\n",
       "[37922 rows x 2 columns]"
      ]
     },
     "execution_count": 132,
     "metadata": {},
     "output_type": "execute_result"
    }
   ],
   "source": [
    "df_test"
   ]
  },
  {
   "cell_type": "code",
   "execution_count": 133,
   "id": "31fc080a-f2fd-4c32-9b2e-0329636f2de3",
   "metadata": {
    "scrolled": true
   },
   "outputs": [
    {
     "data": {
      "text/plain": [
       "{'구': '子',\n",
       " '그': 'ユ',\n",
       " '고': 'ヱ',\n",
       " '내': 'LH',\n",
       " '뉘': '爿',\n",
       " '드': '⊆',\n",
       " '대': '머',\n",
       " '더': 'લ',\n",
       " '디': 'વ',\n",
       " '러': 'સ',\n",
       " '멍': '댕',\n",
       " '묵': '号',\n",
       " '배': 'ldH',\n",
       " '쓰': '丛',\n",
       " '스': '亼',\n",
       " '수': '㐃',\n",
       " '슴': '合',\n",
       " '슥': '今',\n",
       " '애': 'OH',\n",
       " '크': 'ヨ',\n",
       " '티': 'EL',\n",
       " '태': 'EH',\n",
       " '조': '丕',\n",
       " '류': '异',\n",
       " '니': '丩',\n",
       " '좃': '奀',\n",
       " '좆': '奀',\n",
       " '에': 'ના',\n",
       " '어': 'ન',\n",
       " '참': 'え占',\n",
       " '아': 'ØГ',\n",
       " '꺼': '77ㅓ',\n",
       " '새': '∧H',\n",
       " '끼': '77l',\n",
       " '귀': '커',\n",
       " '푸': '辛',\n",
       " '쭈': '쭈',\n",
       " '팜': '站',\n",
       " 'ㅐ': 'H',\n",
       " 'ㅂ': 'ld',\n",
       " 'ㄹ': '己',\n",
       " 'ㅁ': '口',\n",
       " 'ㅅ': '人',\n",
       " 'ㅆ': '从',\n",
       " 'ㅇ': 'O',\n",
       " 'ㅊ': 'え',\n",
       " 'ㅋ': '𐨛',\n",
       " 'ㄲ': '刀',\n",
       " 'ㅌ': 'E',\n",
       " 'ㅗ': 'ㅗ',\n",
       " 'ㅏ': '卜',\n",
       " 'ㅠ': 'π',\n",
       " 'ㄴ': 'し',\n",
       " 'y': 'ㄚ',\n",
       " 'Y': 'ㄚ',\n",
       " 'N': 'И',\n",
       " 'b': 'Ъ',\n",
       " 'w': 'ω',\n",
       " 'X': '㐅',\n",
       " 'H': 'ㅐ',\n",
       " 'L': 'ㄴ',\n",
       " 'O': 'ㅇ',\n",
       " 'T': 'ㅜ',\n",
       " 'g': '9',\n",
       " '3': 'З',\n",
       " '6': 'Б'}"
      ]
     },
     "execution_count": 133,
     "metadata": {},
     "output_type": "execute_result"
    }
   ],
   "source": [
    "from utils.char_dict import char_dict\n",
    "char_dict"
   ]
  },
  {
   "cell_type": "code",
   "execution_count": 134,
   "id": "64969c88-2feb-4f63-839d-ac6f2b07f9e3",
   "metadata": {},
   "outputs": [],
   "source": [
    "def change_char(s):\n",
    "    new_str = \"\"\n",
    "    for i in range(len(s)):\n",
    "        if s[i] in char_dict:\n",
    "            new_str += char_dict[s[i]]\n",
    "        else:\n",
    "            new_str += s[i]\n",
    "    return new_str"
   ]
  },
  {
   "cell_type": "code",
   "execution_count": 135,
   "id": "feb9f547-7adb-4969-a06d-4db011d58c35",
   "metadata": {},
   "outputs": [],
   "source": [
    "df_test['text'] = df_test['text'].apply(lambda text: change_char(text))"
   ]
  },
  {
   "cell_type": "code",
   "execution_count": 137,
   "id": "018d38c7-6e43-4113-b26c-1dee289e6c6a",
   "metadata": {},
   "outputs": [
    {
     "data": {
      "text/html": [
       "<div>\n",
       "<style scoped>\n",
       "    .dataframe tbody tr th:only-of-type {\n",
       "        vertical-align: middle;\n",
       "    }\n",
       "\n",
       "    .dataframe tbody tr th {\n",
       "        vertical-align: top;\n",
       "    }\n",
       "\n",
       "    .dataframe thead th {\n",
       "        text-align: right;\n",
       "    }\n",
       "</style>\n",
       "<table border=\"1\" class=\"dataframe\">\n",
       "  <thead>\n",
       "    <tr style=\"text-align: right;\">\n",
       "      <th></th>\n",
       "      <th>text</th>\n",
       "      <th>label</th>\n",
       "    </tr>\n",
       "  </thead>\n",
       "  <tbody>\n",
       "    <tr>\n",
       "      <th>0</th>\n",
       "      <td>@한국엄마찾기협회 하도 저સ다보丩 丕건반사로 이성은 이건ØГ닌머 몸은 머모질</td>\n",
       "      <td>0</td>\n",
       "    </tr>\n",
       "    <tr>\n",
       "      <th>1</th>\n",
       "      <td>ユ림을 이렇게 ØГ낌없이 쓸 㐃 있는 이북이 부럽습네다...π.π</td>\n",
       "      <td>1</td>\n",
       "    </tr>\n",
       "    <tr>\n",
       "      <th>2</th>\n",
       "      <td>8kun વ도亼 공격한 ∧H77l도 잡ØГ냈다.\\n\\n일베 악질 친중파 우녕자덜도 ...</td>\n",
       "      <td>0</td>\n",
       "    </tr>\n",
       "    <tr>\n",
       "      <th>3</th>\n",
       "      <td>ન릴적ના 즐겨본 추억의 영화</td>\n",
       "      <td>1</td>\n",
       "    </tr>\n",
       "    <tr>\n",
       "      <th>4</th>\n",
       "      <td>亼토리는 별루인데... 화려함이 엄청나네요 𐨛𐨛</td>\n",
       "      <td>1</td>\n",
       "    </tr>\n",
       "    <tr>\n",
       "      <th>...</th>\n",
       "      <td>...</td>\n",
       "      <td>...</td>\n",
       "    </tr>\n",
       "    <tr>\n",
       "      <th>37917</th>\n",
       "      <td>원작을 읽을 때 이런 건 절머 영상화하기 힘들다ヱ 생각했는데 벤휘쇼의 연기와 લ불ન...</td>\n",
       "      <td>1</td>\n",
       "    </tr>\n",
       "    <tr>\n",
       "      <th>37918</th>\n",
       "      <td>케석머 ન깨 올라간거봐라 𐨛𐨛</td>\n",
       "      <td>0</td>\n",
       "    </tr>\n",
       "    <tr>\n",
       "      <th>37919</th>\n",
       "      <td>@김짜꾸 daㄚ and ni9ht\\n\\nround the clock\\n\\nωitho...</td>\n",
       "      <td>0</td>\n",
       "    </tr>\n",
       "    <tr>\n",
       "      <th>37920</th>\n",
       "      <td>로버트다우丩주丩ન를 좋ØГ해서 봤는데너무재밌게 봤던영화생각없이 볼때 딱좋음</td>\n",
       "      <td>1</td>\n",
       "    </tr>\n",
       "    <tr>\n",
       "      <th>37921</th>\n",
       "      <td>@익명_14Б17З 개지랄병 병신좌좀∧H77l𐨛𐨛𐨛𐨛</td>\n",
       "      <td>0</td>\n",
       "    </tr>\n",
       "  </tbody>\n",
       "</table>\n",
       "<p>37922 rows × 2 columns</p>\n",
       "</div>"
      ],
      "text/plain": [
       "                                                    text  label\n",
       "0             @한국엄마찾기협회 하도 저સ다보丩 丕건반사로 이성은 이건ØГ닌머 몸은 머모질      0\n",
       "1                   ユ림을 이렇게 ØГ낌없이 쓸 㐃 있는 이북이 부럽습네다...π.π      1\n",
       "2      8kun વ도亼 공격한 ∧H77l도 잡ØГ냈다.\\n\\n일베 악질 친중파 우녕자덜도 ...      0\n",
       "3                                       ન릴적ના 즐겨본 추억의 영화      1\n",
       "4                             亼토리는 별루인데... 화려함이 엄청나네요 𐨛𐨛      1\n",
       "...                                                  ...    ...\n",
       "37917  원작을 읽을 때 이런 건 절머 영상화하기 힘들다ヱ 생각했는데 벤휘쇼의 연기와 લ불ન...      1\n",
       "37918                                   케석머 ન깨 올라간거봐라 𐨛𐨛      0\n",
       "37919  @김짜꾸 daㄚ and ni9ht\\n\\nround the clock\\n\\nωitho...      0\n",
       "37920          로버트다우丩주丩ન를 좋ØГ해서 봤는데너무재밌게 봤던영화생각없이 볼때 딱좋음      1\n",
       "37921                      @익명_14Б17З 개지랄병 병신좌좀∧H77l𐨛𐨛𐨛𐨛      0\n",
       "\n",
       "[37922 rows x 2 columns]"
      ]
     },
     "execution_count": 137,
     "metadata": {},
     "output_type": "execute_result"
    }
   ],
   "source": [
    "df_test"
   ]
  },
  {
   "cell_type": "code",
   "execution_count": 143,
   "id": "e0e2da54-df8a-40ab-96db-b57c8dd58f62",
   "metadata": {
    "scrolled": true
   },
   "outputs": [
    {
     "name": "stdout",
     "output_type": "stream",
     "text": [
      "0\n",
      "1000\n",
      "2000\n",
      "3000\n",
      "4000\n",
      "5000\n",
      "6000\n",
      "7000\n",
      "8000\n",
      "9000\n",
      "10000\n",
      "11000\n",
      "12000\n",
      "13000\n",
      "14000\n",
      "15000\n",
      "16000\n",
      "17000\n",
      "18000\n",
      "19000\n",
      "20000\n",
      "21000\n",
      "22000\n",
      "23000\n",
      "24000\n",
      "25000\n",
      "26000\n",
      "27000\n",
      "28000\n",
      "29000\n",
      "30000\n",
      "31000\n",
      "32000\n",
      "33000\n",
      "34000\n",
      "35000\n",
      "36000\n",
      "37000\n",
      "Preprocess complete\n",
      "37917\n"
     ]
    }
   ],
   "source": [
    "test_vector_data = []\n",
    "test_coords_data = []\n",
    "# img_data = []\n",
    "test_coords_by_length = []\n",
    "test_label_list = []\n",
    "\n",
    "for i in range(len(df_test)):\n",
    "    text = df_test['text'][i]\n",
    "    test_processed_text = get_jamo(text)\n",
    "    test_vector_list = vectorize_text(test_processed_text, fasttext_model)\n",
    "    if len(test_vector_list) == 0:\n",
    "        continue\n",
    "    else:\n",
    "        test_vector_data.append(test_vector_list)\n",
    "        # spaceless_text = replace_space(text)\n",
    "        test_spaceless_text = replace_space(\" \".join(test_processed_text))\n",
    "        test_img = create_sentence_image(test_spaceless_text, font_path, font_size)\n",
    "        # resized_img = resize_image(img)\n",
    "        # img_data.append(resized_img)\n",
    "        test_img = np.array(test_img)\n",
    "        \n",
    "        # 좌표 추출\n",
    "        test_coordinates = get_coordinates(test_img)\n",
    "        \n",
    "        x_lim = test_img.shape[1]\n",
    "        y_lim = test_img.shape[0]\n",
    "        \n",
    "        # 좌표 정규화\n",
    "        test_std_coords = std_coordinates(test_coordinates, x_lim, y_lim)\n",
    "        test_coords_by_length.append(test_std_coords.shape[0])\n",
    "        test_padded_coords = pad_coords(test_std_coords, pad_size)\n",
    "    \n",
    "        test_coords_data.append(test_padded_coords)\n",
    "        test_label_list.append(df_test['label'][i])\n",
    "\n",
    "    if i % 1000 == 0:\n",
    "        print(i)\n",
    "    \n",
    "print(\"Preprocess complete\")\n",
    "print(len(test_coords_data))"
   ]
  },
  {
   "cell_type": "code",
   "execution_count": 144,
   "id": "c9b6fc57-2d6c-4ae6-a53d-56e96cd24726",
   "metadata": {},
   "outputs": [],
   "source": [
    "# 벡터 제로패딩\n",
    "test_padded_vector_data = []\n",
    "for i in range(len(test_vector_data)):\n",
    "    test_padded_vector_data.append(pad_vector(test_vector_data[i], 30))\n",
    "test_padded_vector_data = np.array(test_padded_vector_data)"
   ]
  },
  {
   "cell_type": "code",
   "execution_count": 145,
   "id": "62705fbd-c612-4096-a870-b12cf369bb6c",
   "metadata": {},
   "outputs": [
    {
     "name": "stdout",
     "output_type": "stream",
     "text": [
      "(37917, 30, 100)\n",
      "(37917, 3000, 2)\n",
      "(37917,)\n"
     ]
    }
   ],
   "source": [
    "mod_x_test = test_padded_vector_data[:]\n",
    "mod_x_test_coords = np.array(test_coords_data)[:]\n",
    "mod_y_test = np.array(test_label_list)[:]\n",
    "\n",
    "print(mod_x_test.shape)\n",
    "print(mod_x_test_coords.shape)\n",
    "# print(x_test_img.shape)\n",
    "print(mod_y_test.shape)"
   ]
  },
  {
   "cell_type": "code",
   "execution_count": 146,
   "id": "ba442999-3163-4412-9acf-0d6232c47b12",
   "metadata": {},
   "outputs": [
    {
     "name": "stderr",
     "output_type": "stream",
     "text": [
      "2024-09-28 00:35:19.053075: I external/local_xla/xla/stream_executor/cuda/cuda_asm_compiler.cc:393] ptxas warning : Registers are spilled to local memory in function 'gemm_fusion_dot_1', 80 bytes spill stores, 80 bytes spill loads\n",
      "\n",
      "2024-09-28 00:35:19.056401: I external/local_xla/xla/stream_executor/cuda/cuda_asm_compiler.cc:393] ptxas warning : Registers are spilled to local memory in function 'gemm_fusion_dot_1', 16 bytes spill stores, 16 bytes spill loads\n",
      "\n",
      "2024-09-28 00:35:19.185047: I external/local_xla/xla/stream_executor/cuda/cuda_asm_compiler.cc:393] ptxas warning : Registers are spilled to local memory in function 'gemm_fusion_dot_1', 584 bytes spill stores, 396 bytes spill loads\n",
      "\n"
     ]
    },
    {
     "name": "stdout",
     "output_type": "stream",
     "text": [
      "Test loss: 0.1898968666791916\n",
      "Test accuracy: 0.9354115724563599\n"
     ]
    }
   ],
   "source": [
    "# Evaluate the model\n",
    "score = model.evaluate([mod_x_test, mod_x_test_coords], mod_y_test, verbose=0)\n",
    "print(\"Test loss:\", score[0])\n",
    "print(\"Test accuracy:\", score[1])"
   ]
  },
  {
   "cell_type": "code",
   "execution_count": 147,
   "id": "a65e4460-2bc9-458f-9621-850a0ef598e2",
   "metadata": {},
   "outputs": [
    {
     "name": "stdout",
     "output_type": "stream",
     "text": [
      "\u001b[1m1185/1185\u001b[0m \u001b[32m━━━━━━━━━━━━━━━━━━━━\u001b[0m\u001b[37m\u001b[0m \u001b[1m5s\u001b[0m 4ms/step\n",
      "F1 score: 0.937341691185877\n"
     ]
    }
   ],
   "source": [
    "# 벡터, 좌표\n",
    "from sklearn.metrics import f1_score\n",
    "\n",
    "mod_y_pred = model.predict([mod_x_test, mod_x_test_coords])\n",
    "mod_y_pred_binary = (mod_y_pred > 0.5).astype(int)\n",
    "mod_f1 = f1_score(mod_y_test, mod_y_pred_binary)\n",
    "\n",
    "print(\"F1 score:\", mod_f1)"
   ]
  },
  {
   "cell_type": "code",
   "execution_count": 154,
   "id": "540b8535-99b4-4cbd-b255-f4f9340be085",
   "metadata": {},
   "outputs": [
    {
     "name": "stdout",
     "output_type": "stream",
     "text": [
      "Test loss: 0.21583698689937592\n",
      "Test accuracy: 0.9202204942703247\n"
     ]
    }
   ],
   "source": [
    "# Evaluate LSTM\n",
    "mod_score = model.evaluate(mod_x_test, mod_y_test, verbose=0)\n",
    "print(\"Test loss:\", mod_score[0])\n",
    "print(\"Test accuracy:\", mod_score[1])"
   ]
  },
  {
   "cell_type": "code",
   "execution_count": 155,
   "id": "de28db0c-6c15-4f76-8eb2-7d46fbca8d42",
   "metadata": {},
   "outputs": [
    {
     "name": "stdout",
     "output_type": "stream",
     "text": [
      "\u001b[1m1185/1185\u001b[0m \u001b[32m━━━━━━━━━━━━━━━━━━━━\u001b[0m\u001b[37m\u001b[0m \u001b[1m1s\u001b[0m 1ms/step\n",
      "F1 score: 0.9221063473670658\n"
     ]
    }
   ],
   "source": [
    "# LSTM\n",
    "from sklearn.metrics import f1_score\n",
    "\n",
    "mod_y_pred = model.predict(mod_x_test)\n",
    "mod_y_pred_binary = (mod_y_pred > 0.5).astype(int)\n",
    "mod_f1 = f1_score(mod_y_test, mod_y_pred_binary)\n",
    "\n",
    "print(\"F1 score:\", mod_f1)"
   ]
  },
  {
   "cell_type": "code",
   "execution_count": null,
   "id": "f1d76955-3ed3-4687-bcd4-7d14bbcae32e",
   "metadata": {},
   "outputs": [],
   "source": []
  }
 ],
 "metadata": {
  "kernelspec": {
   "display_name": "Python 3 (ipykernel)",
   "language": "python",
   "name": "python3"
  },
  "language_info": {
   "codemirror_mode": {
    "name": "ipython",
    "version": 3
   },
   "file_extension": ".py",
   "mimetype": "text/x-python",
   "name": "python",
   "nbconvert_exporter": "python",
   "pygments_lexer": "ipython3",
   "version": "3.12.4"
  }
 },
 "nbformat": 4,
 "nbformat_minor": 5
}
