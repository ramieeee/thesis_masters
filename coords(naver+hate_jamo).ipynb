{
 "cells": [
  {
   "cell_type": "code",
   "execution_count": 1,
   "id": "1bf41cd5-ab91-4c96-a9fd-06471052d918",
   "metadata": {},
   "outputs": [
    {
     "name": "stderr",
     "output_type": "stream",
     "text": [
      "2024-08-22 09:56:19.707222: I tensorflow/core/util/port.cc:153] oneDNN custom operations are on. You may see slightly different numerical results due to floating-point round-off errors from different computation orders. To turn them off, set the environment variable `TF_ENABLE_ONEDNN_OPTS=0`.\n",
      "2024-08-22 09:56:19.855196: E external/local_xla/xla/stream_executor/cuda/cuda_fft.cc:485] Unable to register cuFFT factory: Attempting to register factory for plugin cuFFT when one has already been registered\n",
      "2024-08-22 09:56:19.913269: E external/local_xla/xla/stream_executor/cuda/cuda_dnn.cc:8454] Unable to register cuDNN factory: Attempting to register factory for plugin cuDNN when one has already been registered\n",
      "2024-08-22 09:56:19.928837: E external/local_xla/xla/stream_executor/cuda/cuda_blas.cc:1452] Unable to register cuBLAS factory: Attempting to register factory for plugin cuBLAS when one has already been registered\n",
      "2024-08-22 09:56:20.004295: I tensorflow/core/platform/cpu_feature_guard.cc:210] This TensorFlow binary is optimized to use available CPU instructions in performance-critical operations.\n",
      "To enable the following instructions: AVX2 AVX_VNNI FMA, in other operations, rebuild TensorFlow with the appropriate compiler flags.\n",
      "2024-08-22 09:56:20.803273: W tensorflow/compiler/tf2tensorrt/utils/py_utils.cc:38] TF-TRT Warning: Could not find TensorRT\n"
     ]
    },
    {
     "name": "stdout",
     "output_type": "stream",
     "text": [
      "[PhysicalDevice(name='/physical_device:GPU:0', device_type='GPU')]\n"
     ]
    },
    {
     "name": "stderr",
     "output_type": "stream",
     "text": [
      "WARNING: All log messages before absl::InitializeLog() is called are written to STDERR\n",
      "I0000 00:00:1724288182.061213    7436 cuda_executor.cc:1001] could not open file to read NUMA node: /sys/bus/pci/devices/0000:01:00.0/numa_node\n",
      "Your kernel may have been built without NUMA support.\n",
      "I0000 00:00:1724288182.196114    7436 cuda_executor.cc:1001] could not open file to read NUMA node: /sys/bus/pci/devices/0000:01:00.0/numa_node\n",
      "Your kernel may have been built without NUMA support.\n",
      "I0000 00:00:1724288182.196157    7436 cuda_executor.cc:1001] could not open file to read NUMA node: /sys/bus/pci/devices/0000:01:00.0/numa_node\n",
      "Your kernel may have been built without NUMA support.\n"
     ]
    }
   ],
   "source": [
    "import tensorflow as tf\n",
    "print(tf.config.list_physical_devices('GPU'))"
   ]
  },
  {
   "cell_type": "code",
   "execution_count": 2,
   "id": "ee259028-cb14-469d-9daa-69657f45d43f",
   "metadata": {},
   "outputs": [],
   "source": [
    "import pandas as pd\n",
    "import numpy as np\n",
    "import tensorflow as tf\n",
    "from PIL import Image, ImageDraw, ImageFont\n",
    "import matplotlib.pyplot as plt\n",
    "import re\n",
    "import fasttext"
   ]
  },
  {
   "cell_type": "markdown",
   "id": "f9a8ba5f-22f4-4107-a10c-eecf5f532535",
   "metadata": {},
   "source": [
    "# 데이터 호출 및 파악"
   ]
  },
  {
   "cell_type": "code",
   "execution_count": 4,
   "id": "0c514d6b-da9b-4433-a8b8-25c119120647",
   "metadata": {},
   "outputs": [],
   "source": [
    "df = pd.read_csv('./datasets/ratings.txt', sep='\\t', encoding='utf-8')\n",
    "# df = df[['text', 'label']]\n",
    "df = df.dropna()\n",
    "df = df.reset_index(drop=True)\n",
    "df = df[['document', 'label']]\n",
    "df.columns=['text','label']"
   ]
  },
  {
   "cell_type": "code",
   "execution_count": 5,
   "id": "0211615b-d95f-447c-bf1c-31bf11f82322",
   "metadata": {},
   "outputs": [
    {
     "data": {
      "text/plain": [
       "label\n",
       "1    99996\n",
       "0    99996\n",
       "Name: count, dtype: int64"
      ]
     },
     "execution_count": 5,
     "metadata": {},
     "output_type": "execute_result"
    }
   ],
   "source": [
    "df['label'].value_counts()"
   ]
  },
  {
   "cell_type": "code",
   "execution_count": 3,
   "id": "160a99bb-24d0-4880-a407-1390c597be92",
   "metadata": {},
   "outputs": [],
   "source": [
    "def replace_space(sentence):\n",
    "    new = \"\".join([\"\" if ch == \" \" else ch for ch in sentence])\n",
    "    return new"
   ]
  },
  {
   "cell_type": "code",
   "execution_count": 4,
   "id": "6f835974-0076-4b62-afd2-fbe549ebd174",
   "metadata": {},
   "outputs": [],
   "source": [
    "# df['text'] = df['text'].apply(replace_space)"
   ]
  },
  {
   "cell_type": "code",
   "execution_count": 5,
   "id": "b53b5212-ba79-4983-b0e5-fe1062a5bde4",
   "metadata": {},
   "outputs": [
    {
     "ename": "NameError",
     "evalue": "name 'df' is not defined",
     "output_type": "error",
     "traceback": [
      "\u001b[0;31m---------------------------------------------------------------------------\u001b[0m",
      "\u001b[0;31mNameError\u001b[0m                                 Traceback (most recent call last)",
      "Cell \u001b[0;32mIn[5], line 1\u001b[0m\n\u001b[0;32m----> 1\u001b[0m \u001b[43mdf\u001b[49m\n",
      "\u001b[0;31mNameError\u001b[0m: name 'df' is not defined"
     ]
    }
   ],
   "source": [
    "df"
   ]
  },
  {
   "cell_type": "code",
   "execution_count": null,
   "id": "94319b9c-a3f7-4753-8def-b0169062baad",
   "metadata": {},
   "outputs": [],
   "source": [
    "def is_only_dots(s):\n",
    "    return all(char == '.' for char in s)"
   ]
  },
  {
   "cell_type": "code",
   "execution_count": null,
   "id": "ae381f39-c3de-4bd9-901b-367077b1d21f",
   "metadata": {},
   "outputs": [],
   "source": [
    "def is_only_space(s):\n",
    "    return all(char == ' ' for char in s)"
   ]
  },
  {
   "cell_type": "code",
   "execution_count": null,
   "id": "cb40f1b4-b2ef-44f7-9263-5e9109422aa4",
   "metadata": {},
   "outputs": [],
   "source": [
    "def is_only_space_hangul(s):\n",
    "    return all(ord(char) == 12644 for char in s)"
   ]
  },
  {
   "cell_type": "code",
   "execution_count": null,
   "id": "eb9b0a37-54dc-4e69-8134-570913e4e15b",
   "metadata": {},
   "outputs": [],
   "source": [
    "df.shape"
   ]
  },
  {
   "cell_type": "code",
   "execution_count": null,
   "id": "7fe180ac-1c0d-4532-b721-917350524e4d",
   "metadata": {},
   "outputs": [],
   "source": [
    "# dot만 포함하는 row\n",
    "df = df[~df['text'].apply(is_only_dots)]"
   ]
  },
  {
   "cell_type": "code",
   "execution_count": 6,
   "id": "2a1681c5-c909-4c1f-a662-51414dc40d30",
   "metadata": {},
   "outputs": [
    {
     "ename": "NameError",
     "evalue": "name 'df' is not defined",
     "output_type": "error",
     "traceback": [
      "\u001b[0;31m---------------------------------------------------------------------------\u001b[0m",
      "\u001b[0;31mNameError\u001b[0m                                 Traceback (most recent call last)",
      "Cell \u001b[0;32mIn[6], line 1\u001b[0m\n\u001b[0;32m----> 1\u001b[0m \u001b[43mdf\u001b[49m\u001b[38;5;241m.\u001b[39mshape\n",
      "\u001b[0;31mNameError\u001b[0m: name 'df' is not defined"
     ]
    }
   ],
   "source": [
    "df.shape"
   ]
  },
  {
   "cell_type": "code",
   "execution_count": 7,
   "id": "5f0e464e-12b2-496d-be85-395745581104",
   "metadata": {},
   "outputs": [
    {
     "ename": "NameError",
     "evalue": "name 'df' is not defined",
     "output_type": "error",
     "traceback": [
      "\u001b[0;31m---------------------------------------------------------------------------\u001b[0m",
      "\u001b[0;31mNameError\u001b[0m                                 Traceback (most recent call last)",
      "Cell \u001b[0;32mIn[7], line 1\u001b[0m\n\u001b[0;32m----> 1\u001b[0m df \u001b[38;5;241m=\u001b[39m \u001b[43mdf\u001b[49m[\u001b[38;5;241m~\u001b[39mdf[\u001b[38;5;124m'\u001b[39m\u001b[38;5;124mtext\u001b[39m\u001b[38;5;124m'\u001b[39m]\u001b[38;5;241m.\u001b[39mapply(is_only_space)]\n",
      "\u001b[0;31mNameError\u001b[0m: name 'df' is not defined"
     ]
    }
   ],
   "source": [
    "df = df[~df['text'].apply(is_only_space)]"
   ]
  },
  {
   "cell_type": "code",
   "execution_count": 8,
   "id": "80ae9165-4d0f-4e02-8539-1e9f6e9e314c",
   "metadata": {},
   "outputs": [
    {
     "ename": "NameError",
     "evalue": "name 'df' is not defined",
     "output_type": "error",
     "traceback": [
      "\u001b[0;31m---------------------------------------------------------------------------\u001b[0m",
      "\u001b[0;31mNameError\u001b[0m                                 Traceback (most recent call last)",
      "Cell \u001b[0;32mIn[8], line 1\u001b[0m\n\u001b[0;32m----> 1\u001b[0m \u001b[43mdf\u001b[49m\u001b[38;5;241m.\u001b[39mshape\n",
      "\u001b[0;31mNameError\u001b[0m: name 'df' is not defined"
     ]
    }
   ],
   "source": [
    "df.shape"
   ]
  },
  {
   "cell_type": "code",
   "execution_count": 9,
   "id": "9ce44dac-b200-4c99-ba82-e1ab2aeed5fc",
   "metadata": {},
   "outputs": [
    {
     "ename": "NameError",
     "evalue": "name 'df' is not defined",
     "output_type": "error",
     "traceback": [
      "\u001b[0;31m---------------------------------------------------------------------------\u001b[0m",
      "\u001b[0;31mNameError\u001b[0m                                 Traceback (most recent call last)",
      "Cell \u001b[0;32mIn[9], line 1\u001b[0m\n\u001b[0;32m----> 1\u001b[0m df \u001b[38;5;241m=\u001b[39m \u001b[43mdf\u001b[49m[\u001b[38;5;241m~\u001b[39mdf[\u001b[38;5;124m'\u001b[39m\u001b[38;5;124mtext\u001b[39m\u001b[38;5;124m'\u001b[39m]\u001b[38;5;241m.\u001b[39mapply(is_only_space_hangul)]\n",
      "\u001b[0;31mNameError\u001b[0m: name 'df' is not defined"
     ]
    }
   ],
   "source": [
    "df = df[~df['text'].apply(is_only_space_hangul)]"
   ]
  },
  {
   "cell_type": "code",
   "execution_count": 10,
   "id": "746edc21-53bb-4837-b10e-d7974345ccbe",
   "metadata": {},
   "outputs": [
    {
     "ename": "NameError",
     "evalue": "name 'df' is not defined",
     "output_type": "error",
     "traceback": [
      "\u001b[0;31m---------------------------------------------------------------------------\u001b[0m",
      "\u001b[0;31mNameError\u001b[0m                                 Traceback (most recent call last)",
      "Cell \u001b[0;32mIn[10], line 1\u001b[0m\n\u001b[0;32m----> 1\u001b[0m \u001b[43mdf\u001b[49m\u001b[38;5;241m.\u001b[39mshape\n",
      "\u001b[0;31mNameError\u001b[0m: name 'df' is not defined"
     ]
    }
   ],
   "source": [
    "df.shape"
   ]
  },
  {
   "cell_type": "code",
   "execution_count": 11,
   "id": "1a4ea888-650b-401c-ae19-90e8ff4ba8dc",
   "metadata": {},
   "outputs": [
    {
     "ename": "NameError",
     "evalue": "name 'df' is not defined",
     "output_type": "error",
     "traceback": [
      "\u001b[0;31m---------------------------------------------------------------------------\u001b[0m",
      "\u001b[0;31mNameError\u001b[0m                                 Traceback (most recent call last)",
      "Cell \u001b[0;32mIn[11], line 1\u001b[0m\n\u001b[0;32m----> 1\u001b[0m df \u001b[38;5;241m=\u001b[39m \u001b[43mdf\u001b[49m\u001b[38;5;241m.\u001b[39mreset_index(drop\u001b[38;5;241m=\u001b[39m\u001b[38;5;28;01mTrue\u001b[39;00m)\n",
      "\u001b[0;31mNameError\u001b[0m: name 'df' is not defined"
     ]
    }
   ],
   "source": [
    "df = df.reset_index(drop=True)"
   ]
  },
  {
   "cell_type": "code",
   "execution_count": 12,
   "id": "f43c9dd2-1783-4392-b127-e11108a7407c",
   "metadata": {},
   "outputs": [
    {
     "ename": "NameError",
     "evalue": "name 'df' is not defined",
     "output_type": "error",
     "traceback": [
      "\u001b[0;31m---------------------------------------------------------------------------\u001b[0m",
      "\u001b[0;31mNameError\u001b[0m                                 Traceback (most recent call last)",
      "Cell \u001b[0;32mIn[12], line 2\u001b[0m\n\u001b[1;32m      1\u001b[0m \u001b[38;5;66;03m# 테스트를 위해 1만개만 샘플링\u001b[39;00m\n\u001b[0;32m----> 2\u001b[0m df \u001b[38;5;241m=\u001b[39m \u001b[43mdf\u001b[49m\u001b[38;5;241m.\u001b[39msample(n\u001b[38;5;241m=\u001b[39m\u001b[38;5;28mlen\u001b[39m(df))\n\u001b[1;32m      3\u001b[0m df \u001b[38;5;241m=\u001b[39m df\u001b[38;5;241m.\u001b[39mreset_index(drop\u001b[38;5;241m=\u001b[39m\u001b[38;5;28;01mTrue\u001b[39;00m)\n\u001b[1;32m      4\u001b[0m \u001b[38;5;66;03m# df = df[:20000]\u001b[39;00m\n",
      "\u001b[0;31mNameError\u001b[0m: name 'df' is not defined"
     ]
    }
   ],
   "source": [
    "# 테스트를 위해 1만개만 샘플링\n",
    "df = df.sample(n=len(df))\n",
    "df = df.reset_index(drop=True)\n",
    "# df = df[:20000]"
   ]
  },
  {
   "cell_type": "code",
   "execution_count": 13,
   "id": "6bcee8c5-3a33-4c91-a980-3439ebbf00b8",
   "metadata": {},
   "outputs": [
    {
     "ename": "NameError",
     "evalue": "name 'df' is not defined",
     "output_type": "error",
     "traceback": [
      "\u001b[0;31m---------------------------------------------------------------------------\u001b[0m",
      "\u001b[0;31mNameError\u001b[0m                                 Traceback (most recent call last)",
      "Cell \u001b[0;32mIn[13], line 1\u001b[0m\n\u001b[0;32m----> 1\u001b[0m \u001b[43mdf\u001b[49m\u001b[38;5;241m.\u001b[39mshape\n",
      "\u001b[0;31mNameError\u001b[0m: name 'df' is not defined"
     ]
    }
   ],
   "source": [
    "df.shape"
   ]
  },
  {
   "cell_type": "code",
   "execution_count": 14,
   "id": "220910f1-a84b-41b9-bc13-1dc5ec876795",
   "metadata": {},
   "outputs": [
    {
     "ename": "NameError",
     "evalue": "name 'df' is not defined",
     "output_type": "error",
     "traceback": [
      "\u001b[0;31m---------------------------------------------------------------------------\u001b[0m",
      "\u001b[0;31mNameError\u001b[0m                                 Traceback (most recent call last)",
      "Cell \u001b[0;32mIn[14], line 1\u001b[0m\n\u001b[0;32m----> 1\u001b[0m \u001b[43mdf\u001b[49m\n",
      "\u001b[0;31mNameError\u001b[0m: name 'df' is not defined"
     ]
    }
   ],
   "source": [
    "df"
   ]
  },
  {
   "cell_type": "code",
   "execution_count": 15,
   "id": "692b0dfa-5133-4d06-8a9e-3b37f31a8580",
   "metadata": {},
   "outputs": [
    {
     "ename": "NameError",
     "evalue": "name 'df' is not defined",
     "output_type": "error",
     "traceback": [
      "\u001b[0;31m---------------------------------------------------------------------------\u001b[0m",
      "\u001b[0;31mNameError\u001b[0m                                 Traceback (most recent call last)",
      "Cell \u001b[0;32mIn[15], line 1\u001b[0m\n\u001b[0;32m----> 1\u001b[0m counts \u001b[38;5;241m=\u001b[39m \u001b[43mdf\u001b[49m[\u001b[38;5;124m'\u001b[39m\u001b[38;5;124mlabel\u001b[39m\u001b[38;5;124m'\u001b[39m]\u001b[38;5;241m.\u001b[39mvalue_counts()\n\u001b[1;32m      2\u001b[0m \u001b[38;5;28mprint\u001b[39m(\u001b[38;5;124mf\u001b[39m\u001b[38;5;124m'\u001b[39m\u001b[38;5;124mNormal speech counts :\u001b[39m\u001b[38;5;132;01m{\u001b[39;00mcounts[\u001b[38;5;241m0\u001b[39m]\u001b[38;5;132;01m}\u001b[39;00m\u001b[38;5;124m (\u001b[39m\u001b[38;5;132;01m{\u001b[39;00mcounts[\u001b[38;5;241m0\u001b[39m]\u001b[38;5;241m/\u001b[39m\u001b[38;5;28mlen\u001b[39m(df)\u001b[38;5;241m*\u001b[39m\u001b[38;5;241m100\u001b[39m\u001b[38;5;132;01m:\u001b[39;00m\u001b[38;5;124m.2f\u001b[39m\u001b[38;5;132;01m}\u001b[39;00m\u001b[38;5;124m%)\u001b[39m\u001b[38;5;124m'\u001b[39m)\n\u001b[1;32m      3\u001b[0m \u001b[38;5;28mprint\u001b[39m(\u001b[38;5;124mf\u001b[39m\u001b[38;5;124m'\u001b[39m\u001b[38;5;124mHate speech counts :\u001b[39m\u001b[38;5;132;01m{\u001b[39;00mcounts[\u001b[38;5;241m1\u001b[39m]\u001b[38;5;132;01m}\u001b[39;00m\u001b[38;5;124m (\u001b[39m\u001b[38;5;132;01m{\u001b[39;00mcounts[\u001b[38;5;241m1\u001b[39m]\u001b[38;5;241m/\u001b[39m\u001b[38;5;28mlen\u001b[39m(df)\u001b[38;5;241m*\u001b[39m\u001b[38;5;241m100\u001b[39m\u001b[38;5;132;01m:\u001b[39;00m\u001b[38;5;124m.2f\u001b[39m\u001b[38;5;132;01m}\u001b[39;00m\u001b[38;5;124m%)\u001b[39m\u001b[38;5;124m'\u001b[39m)\n",
      "\u001b[0;31mNameError\u001b[0m: name 'df' is not defined"
     ]
    }
   ],
   "source": [
    "counts = df['label'].value_counts()\n",
    "print(f'Normal speech counts :{counts[0]} ({counts[0]/len(df)*100:.2f}%)')\n",
    "print(f'Hate speech counts :{counts[1]} ({counts[1]/len(df)*100:.2f}%)')"
   ]
  },
  {
   "cell_type": "code",
   "execution_count": 16,
   "id": "03f66eb4-55c4-4caf-bd23-31558b668e58",
   "metadata": {},
   "outputs": [
    {
     "ename": "NameError",
     "evalue": "name 'df' is not defined",
     "output_type": "error",
     "traceback": [
      "\u001b[0;31m---------------------------------------------------------------------------\u001b[0m",
      "\u001b[0;31mNameError\u001b[0m                                 Traceback (most recent call last)",
      "Cell \u001b[0;32mIn[16], line 2\u001b[0m\n\u001b[1;32m      1\u001b[0m plt\u001b[38;5;241m.\u001b[39mfigure(figsize\u001b[38;5;241m=\u001b[39m(\u001b[38;5;241m12\u001b[39m, \u001b[38;5;241m6\u001b[39m))\n\u001b[0;32m----> 2\u001b[0m \u001b[38;5;28mprint\u001b[39m(\u001b[38;5;124m'\u001b[39m\u001b[38;5;124m최대 길이 :\u001b[39m\u001b[38;5;124m'\u001b[39m, \u001b[38;5;28mmax\u001b[39m(\u001b[38;5;28mlen\u001b[39m(text) \u001b[38;5;28;01mfor\u001b[39;00m text \u001b[38;5;129;01min\u001b[39;00m \u001b[43mdf\u001b[49m[\u001b[38;5;124m'\u001b[39m\u001b[38;5;124mtext\u001b[39m\u001b[38;5;124m'\u001b[39m]))\n\u001b[1;32m      3\u001b[0m \u001b[38;5;28mprint\u001b[39m(\u001b[38;5;124m'\u001b[39m\u001b[38;5;124m최소 길이 :\u001b[39m\u001b[38;5;124m'\u001b[39m, \u001b[38;5;28mmin\u001b[39m(\u001b[38;5;28mlen\u001b[39m(text) \u001b[38;5;28;01mfor\u001b[39;00m text \u001b[38;5;129;01min\u001b[39;00m df[\u001b[38;5;124m'\u001b[39m\u001b[38;5;124mtext\u001b[39m\u001b[38;5;124m'\u001b[39m]))\n\u001b[1;32m      4\u001b[0m \u001b[38;5;28mprint\u001b[39m(\u001b[38;5;124m'\u001b[39m\u001b[38;5;124m리뷰의 평균 길이 :\u001b[39m\u001b[38;5;124m'\u001b[39m, \u001b[38;5;28msum\u001b[39m(df[\u001b[38;5;124m'\u001b[39m\u001b[38;5;124mtext\u001b[39m\u001b[38;5;124m'\u001b[39m]\u001b[38;5;241m.\u001b[39mstr\u001b[38;5;241m.\u001b[39mlen())\u001b[38;5;241m/\u001b[39m\u001b[38;5;28mlen\u001b[39m(df))\n",
      "\u001b[0;31mNameError\u001b[0m: name 'df' is not defined"
     ]
    },
    {
     "data": {
      "text/plain": [
       "<Figure size 1200x600 with 0 Axes>"
      ]
     },
     "metadata": {},
     "output_type": "display_data"
    }
   ],
   "source": [
    "plt.figure(figsize=(12, 6))\n",
    "print('최대 길이 :', max(len(text) for text in df['text']))\n",
    "print('최소 길이 :', min(len(text) for text in df['text']))\n",
    "print('리뷰의 평균 길이 :', sum(df['text'].str.len())/len(df))\n",
    "plt.hist([len(text) for text in df['text']], bins=200)\n",
    "plt.xlabel('length of samples')\n",
    "plt.ylabel('number of samples')\n",
    "plt.show()"
   ]
  },
  {
   "cell_type": "code",
   "execution_count": 17,
   "id": "d8c0e53a-be77-4497-8746-c78bcea4531e",
   "metadata": {},
   "outputs": [],
   "source": [
    "def below_threshold_len(max_len, nested_list):\n",
    "  count = 0\n",
    "  for sentence in nested_list:\n",
    "    if(len(sentence) <= max_len):\n",
    "        count = count + 1\n",
    "  print('전체 샘플 중 길이가 %s 이하인 샘플의 비율: %s'%(max_len, (count / len(nested_list))*100))"
   ]
  },
  {
   "cell_type": "code",
   "execution_count": 18,
   "id": "1d3ea901-6f37-4dc9-a391-07b40268524e",
   "metadata": {},
   "outputs": [],
   "source": [
    "threshold = 35"
   ]
  },
  {
   "cell_type": "code",
   "execution_count": 19,
   "id": "0d6c4aeb-c8c1-4d15-86f0-418ffe050015",
   "metadata": {},
   "outputs": [
    {
     "ename": "NameError",
     "evalue": "name 'df' is not defined",
     "output_type": "error",
     "traceback": [
      "\u001b[0;31m---------------------------------------------------------------------------\u001b[0m",
      "\u001b[0;31mNameError\u001b[0m                                 Traceback (most recent call last)",
      "Cell \u001b[0;32mIn[19], line 1\u001b[0m\n\u001b[0;32m----> 1\u001b[0m below_threshold_len(threshold, \u001b[43mdf\u001b[49m[\u001b[38;5;124m'\u001b[39m\u001b[38;5;124mtext\u001b[39m\u001b[38;5;124m'\u001b[39m])\n",
      "\u001b[0;31mNameError\u001b[0m: name 'df' is not defined"
     ]
    }
   ],
   "source": [
    "below_threshold_len(threshold, df['text'])"
   ]
  },
  {
   "cell_type": "code",
   "execution_count": 20,
   "id": "703c8165-22dd-4db4-94c6-3fe9c9c0e4c7",
   "metadata": {},
   "outputs": [
    {
     "ename": "NameError",
     "evalue": "name 'df' is not defined",
     "output_type": "error",
     "traceback": [
      "\u001b[0;31m---------------------------------------------------------------------------\u001b[0m",
      "\u001b[0;31mNameError\u001b[0m                                 Traceback (most recent call last)",
      "Cell \u001b[0;32mIn[20], line 1\u001b[0m\n\u001b[0;32m----> 1\u001b[0m counts \u001b[38;5;241m=\u001b[39m \u001b[43mdf\u001b[49m[\u001b[38;5;124m'\u001b[39m\u001b[38;5;124mlabel\u001b[39m\u001b[38;5;124m'\u001b[39m]\u001b[38;5;241m.\u001b[39mvalue_counts()\n\u001b[1;32m      2\u001b[0m \u001b[38;5;28mprint\u001b[39m(\u001b[38;5;124mf\u001b[39m\u001b[38;5;124m'\u001b[39m\u001b[38;5;124mNormal speech counts :\u001b[39m\u001b[38;5;132;01m{\u001b[39;00mcounts[\u001b[38;5;241m0\u001b[39m]\u001b[38;5;132;01m}\u001b[39;00m\u001b[38;5;124m (\u001b[39m\u001b[38;5;132;01m{\u001b[39;00mcounts[\u001b[38;5;241m0\u001b[39m]\u001b[38;5;241m/\u001b[39m\u001b[38;5;28mlen\u001b[39m(df)\u001b[38;5;241m*\u001b[39m\u001b[38;5;241m100\u001b[39m\u001b[38;5;132;01m:\u001b[39;00m\u001b[38;5;124m.2f\u001b[39m\u001b[38;5;132;01m}\u001b[39;00m\u001b[38;5;124m%)\u001b[39m\u001b[38;5;124m'\u001b[39m)\n\u001b[1;32m      3\u001b[0m \u001b[38;5;28mprint\u001b[39m(\u001b[38;5;124mf\u001b[39m\u001b[38;5;124m'\u001b[39m\u001b[38;5;124mHate speech counts :\u001b[39m\u001b[38;5;132;01m{\u001b[39;00mcounts[\u001b[38;5;241m1\u001b[39m]\u001b[38;5;132;01m}\u001b[39;00m\u001b[38;5;124m (\u001b[39m\u001b[38;5;132;01m{\u001b[39;00mcounts[\u001b[38;5;241m1\u001b[39m]\u001b[38;5;241m/\u001b[39m\u001b[38;5;28mlen\u001b[39m(df)\u001b[38;5;241m*\u001b[39m\u001b[38;5;241m100\u001b[39m\u001b[38;5;132;01m:\u001b[39;00m\u001b[38;5;124m.2f\u001b[39m\u001b[38;5;132;01m}\u001b[39;00m\u001b[38;5;124m%)\u001b[39m\u001b[38;5;124m'\u001b[39m)\n",
      "\u001b[0;31mNameError\u001b[0m: name 'df' is not defined"
     ]
    }
   ],
   "source": [
    "counts = df['label'].value_counts()\n",
    "print(f'Normal speech counts :{counts[0]} ({counts[0]/len(df)*100:.2f}%)')\n",
    "print(f'Hate speech counts :{counts[1]} ({counts[1]/len(df)*100:.2f}%)')"
   ]
  },
  {
   "cell_type": "code",
   "execution_count": 21,
   "id": "3b1c29e1-03c4-493e-97e7-ecd500ab9cea",
   "metadata": {},
   "outputs": [],
   "source": [
    "# threshold보다 문장이 작으면 반복적으로 붙여주는 작업을 함\n",
    "# threshold보다 문장이 길면 슬라이싱을 함\n",
    "def add_cut_sentence(sentence, threshold):\n",
    "    cut_list = []\n",
    "    if len(sentence) >= threshold:\n",
    "        cut_list = sentence[:threshold]\n",
    "    else:\n",
    "        while True:\n",
    "            if len(cut_list) >= threshold:\n",
    "                cut_list = cut_list[:threshold]\n",
    "                break\n",
    "            cut_list += sentence\n",
    "    return \"\".join(cut_list)"
   ]
  },
  {
   "cell_type": "code",
   "execution_count": 22,
   "id": "617651b9-9739-4a29-905b-342e1a821df1",
   "metadata": {},
   "outputs": [],
   "source": [
    "# threshold보다 문장이 작으면 반복적으로 붙여주는 작업을 함\n",
    "# threshold보다 문장이 길면 슬라이싱을 함\n",
    "def cut_sentence(sentence, threshold):\n",
    "    cut_list = []\n",
    "    cut_list = sentence[:threshold]\n",
    "    return cut_list"
   ]
  },
  {
   "cell_type": "code",
   "execution_count": 23,
   "id": "6083f26e-9a0f-4870-b023-83e7261915f5",
   "metadata": {},
   "outputs": [],
   "source": [
    "# df['text'] = df['text'].apply(lambda text: add_cut_sentence(text, threshold))"
   ]
  },
  {
   "cell_type": "code",
   "execution_count": 24,
   "id": "1a7ef28e-b4e9-4c9a-9c08-c7f38380c6d8",
   "metadata": {},
   "outputs": [],
   "source": [
    "# df['text'] = df['text'].apply(lambda text: cut_sentence(text, threshold))"
   ]
  },
  {
   "cell_type": "code",
   "execution_count": 25,
   "id": "2d9072fb-9070-43c3-a18d-88d5587436e6",
   "metadata": {},
   "outputs": [
    {
     "ename": "NameError",
     "evalue": "name 'df' is not defined",
     "output_type": "error",
     "traceback": [
      "\u001b[0;31m---------------------------------------------------------------------------\u001b[0m",
      "\u001b[0;31mNameError\u001b[0m                                 Traceback (most recent call last)",
      "Cell \u001b[0;32mIn[25], line 1\u001b[0m\n\u001b[0;32m----> 1\u001b[0m \u001b[43mdf\u001b[49m\n",
      "\u001b[0;31mNameError\u001b[0m: name 'df' is not defined"
     ]
    }
   ],
   "source": [
    "df"
   ]
  },
  {
   "cell_type": "code",
   "execution_count": 26,
   "id": "8177069d-1f44-4698-9bce-ef4cb74eb66c",
   "metadata": {},
   "outputs": [
    {
     "ename": "NameError",
     "evalue": "name 'df' is not defined",
     "output_type": "error",
     "traceback": [
      "\u001b[0;31m---------------------------------------------------------------------------\u001b[0m",
      "\u001b[0;31mNameError\u001b[0m                                 Traceback (most recent call last)",
      "Cell \u001b[0;32mIn[26], line 1\u001b[0m\n\u001b[0;32m----> 1\u001b[0m \u001b[43mdf\u001b[49m\u001b[38;5;241m.\u001b[39mshape\n",
      "\u001b[0;31mNameError\u001b[0m: name 'df' is not defined"
     ]
    }
   ],
   "source": [
    "df.shape"
   ]
  },
  {
   "cell_type": "markdown",
   "id": "3a97a98e-df28-4de3-8b02-1ce7a63ec1fd",
   "metadata": {},
   "source": [
    "# 이미지화"
   ]
  },
  {
   "cell_type": "code",
   "execution_count": 27,
   "id": "7c795372-3f31-450d-a38a-e04070a31a0e",
   "metadata": {},
   "outputs": [],
   "source": [
    "# 이미지로 변환하는 함수\n",
    "def create_sentence_image(sentence, font_path, font_size, background_color=(0, 0, 0), text_color=(255, 255, 255)):\n",
    "  sentence_split = sentence.split('\\n')\n",
    "  width = len(max(sentence_split, key=len)) # 길이가 가장 긴 리스트의 길이로 너비 결정\n",
    "  height = len(sentence_split) # 개행으로 나눠진 리스트의 길이로 높이 결정\n",
    "\n",
    "  image_width, image_height = (width*16), height*24  # 픽셀 사이즈 조정\n",
    "  image = Image.new('RGB', (image_width, image_height), background_color)\n",
    "  draw = ImageDraw.Draw(image)\n",
    "\n",
    "  # 폰트 호출\n",
    "  font = ImageFont.truetype(font_path, font_size)\n",
    "\n",
    "  # Get the text size\n",
    "  # text_width, text_height = draw.textlength(sentence, font=font)\n",
    "  _, _, text_width, text_height = draw.textbbox((0, 0), sentence, font=font)\n",
    "\n",
    "  # Calculate the position to center the text\n",
    "  x = (image_width - text_width) // 2\n",
    "  y = (image_height - text_height) // 2\n",
    "\n",
    "  # Draw the letter on the image\n",
    "  draw.text((x, y), sentence, font=font, fill=text_color)\n",
    "\n",
    "  # Convert image to numpy array\n",
    "  img_array = np.array(image)\n",
    "\n",
    "  # Find the bounding box of non-background pixels\n",
    "  non_background = np.where(img_array != background_color)\n",
    "  top, left = np.min(non_background[0]), np.min(non_background[1])\n",
    "  bottom, right = np.max(non_background[0]), np.max(non_background[1])\n",
    "\n",
    "  # Crop the image\n",
    "  cropped_image = image.crop((left, top, right+1, bottom+1))\n",
    "\n",
    "  return cropped_image"
   ]
  },
  {
   "cell_type": "code",
   "execution_count": 28,
   "id": "6a2896a6-983d-4518-93a7-fa20cf13befc",
   "metadata": {},
   "outputs": [],
   "source": [
    "# 이미지 사이즈 조절. resize\n",
    "def resize_image(img):\n",
    "  resized_img = img.resize((32,32))\n",
    "  return resized_img"
   ]
  },
  {
   "cell_type": "code",
   "execution_count": 29,
   "id": "9ccf3574-fde1-4b29-b346-54c7858e88fe",
   "metadata": {},
   "outputs": [],
   "source": [
    "# 폰트 설정\n",
    "font_path = \"./utils/arial-unicode.ttf\"\n",
    "font_size = 12"
   ]
  },
  {
   "cell_type": "code",
   "execution_count": 30,
   "id": "355da47e-40a1-48f3-8144-2a15183691f6",
   "metadata": {
    "scrolled": true
   },
   "outputs": [
    {
     "data": {
      "image/jpeg": "[encoded data removed]",
      "image/png": "[encoded data removed]",
      "text/plain": [
       "<PIL.Image.Image image mode=RGB size=237x11>"
      ]
     },
     "metadata": {},
     "output_type": "display_data"
    }
   ],
   "source": [
    "text = \"안녕하세요???? 테스트 데이터입니다.............\"\n",
    "# text = df['text'][2]\n",
    "sample = replace_space(text)\n",
    "# sample = text\n",
    "img = create_sentence_image(str(sample), font_path, font_size)\n",
    "resized_img = resize_image(img)\n",
    "display(img)\n",
    "img = np.array(img)"
   ]
  },
  {
   "cell_type": "code",
   "execution_count": 31,
   "id": "8cc22da8-9388-4ea0-8816-5f12c3031b48",
   "metadata": {},
   "outputs": [
    {
     "name": "stdout",
     "output_type": "stream",
     "text": [
      "Y axis max value: 11\n",
      "X axis max value: 237\n"
     ]
    }
   ],
   "source": [
    "print(f\"Y axis max value: {img.shape[0]}\")\n",
    "print(f\"X axis max value: {img.shape[1]}\")"
   ]
  },
  {
   "cell_type": "code",
   "execution_count": 32,
   "id": "76426582-2a90-4d8d-8a84-8a8f50a0d307",
   "metadata": {},
   "outputs": [
    {
     "name": "stdout",
     "output_type": "stream",
     "text": [
      "(32, 32, 3)\n"
     ]
    }
   ],
   "source": [
    "print(np.array(resized_img).shape)"
   ]
  },
  {
   "cell_type": "markdown",
   "id": "8518ff22-a1e1-472e-b875-7e7d3245d69e",
   "metadata": {},
   "source": [
    "# coordinates 추출"
   ]
  },
  {
   "cell_type": "code",
   "execution_count": 33,
   "id": "162b6fdf-92b6-4a2e-a28f-81cccc8a6ac1",
   "metadata": {},
   "outputs": [],
   "source": [
    "# convert image into coordinates\n",
    "def get_coordinates(img):\n",
    "  img_arr = np.array(img)\n",
    "  coordinates = []\n",
    "  for x in range(len(img_arr)):\n",
    "    for y in range(len(img_arr[x])):\n",
    "      if max(img_arr[x][y]) != 0:\n",
    "        coordinates.append([y,x])\n",
    "  return np.array(coordinates)"
   ]
  },
  {
   "cell_type": "code",
   "execution_count": 34,
   "id": "ad517714-ca2d-4b70-bf81-7ac1b49606af",
   "metadata": {},
   "outputs": [],
   "source": [
    "def extract_x_y(img_arr, coordinates):\n",
    "  # x = np.array([point[0] for point in coordinates]) / len(img_arr[0])\n",
    "  # y = np.array([point[1] for point in coordinates]) / len(img_arr)\n",
    "  x = np.array([point[0] for point in coordinates])\n",
    "  y = np.array([point[1] for point in coordinates])\n",
    "  # y = 1-y\n",
    "  return x, y"
   ]
  },
  {
   "cell_type": "code",
   "execution_count": 35,
   "id": "cfea5f28-cf79-4a1d-b626-09752535dc9a",
   "metadata": {},
   "outputs": [],
   "source": [
    "def draw_text(x, y):\n",
    "  # plotting\n",
    "  plt.scatter(x, y, color='blue')\n",
    "\n",
    "  # Set plot title and labels\n",
    "  plt.title('Coordinates for Sentence')\n",
    "  plt.xlabel('X-axis')\n",
    "  plt.ylabel('Y-axis')\n",
    "\n",
    "  # Display plot\n",
    "  plt.show()"
   ]
  },
  {
   "cell_type": "code",
   "execution_count": 36,
   "id": "130b0c01-2ee6-4cfc-9945-b982f6b50ce3",
   "metadata": {},
   "outputs": [],
   "source": [
    "coordinates = get_coordinates(img)"
   ]
  },
  {
   "cell_type": "code",
   "execution_count": 37,
   "id": "dcee5027-39bd-4966-986d-594cc44edc1d",
   "metadata": {},
   "outputs": [
    {
     "data": {
      "text/plain": [
       "(965, 2)"
      ]
     },
     "execution_count": 37,
     "metadata": {},
     "output_type": "execute_result"
    }
   ],
   "source": [
    "coordinates.shape"
   ]
  },
  {
   "cell_type": "code",
   "execution_count": 38,
   "id": "b99fa256-c7bd-483b-a617-9b1fc73026a7",
   "metadata": {},
   "outputs": [
    {
     "data": {
      "image/png": "[encoded data removed]",
      "text/plain": [
       "<Figure size 1200x100 with 1 Axes>"
      ]
     },
     "metadata": {},
     "output_type": "display_data"
    }
   ],
   "source": [
    "# plotting\n",
    "import matplotlib.pyplot as plt\n",
    "\n",
    "x, y = extract_x_y(img, coordinates)\n",
    "\n",
    "plt.figure(figsize=(12, 1))\n",
    "plt.scatter(x, y, color='blue')\n",
    "\n",
    "# Set plot title and labels\n",
    "plt.title('Coordinates for Sentence')\n",
    "plt.gca().invert_yaxis()\n",
    "plt.xlabel('X-axis')\n",
    "plt.ylabel('Y-axis')\n",
    "plt.grid(True)  # 그리드 추가\n",
    "\n",
    "# Display plot\n",
    "plt.show()"
   ]
  },
  {
   "cell_type": "markdown",
   "id": "12be6de6-83f5-4cad-899f-cfdb0b98307d",
   "metadata": {},
   "source": [
    "# 좌표값 정규화"
   ]
  },
  {
   "cell_type": "code",
   "execution_count": 39,
   "id": "7f925d27-89b5-4b7d-828a-e9f64cf9a891",
   "metadata": {},
   "outputs": [],
   "source": [
    "def std_coordinates(data, max_x, max_y):\n",
    "    standardized_data = np.zeros_like(data, dtype=float)\n",
    "    standardized_data[:, 0] = data[:, 0] / max_x\n",
    "    standardized_data[:, 1] = data[:, 1] / max_y\n",
    "    return standardized_data"
   ]
  },
  {
   "cell_type": "code",
   "execution_count": 40,
   "id": "56b2b095-bfcd-4b75-af10-2641990106f8",
   "metadata": {},
   "outputs": [
    {
     "data": {
      "text/plain": [
       "array([130,   3])"
      ]
     },
     "execution_count": 40,
     "metadata": {},
     "output_type": "execute_result"
    }
   ],
   "source": [
    "coordinates[300]"
   ]
  },
  {
   "cell_type": "code",
   "execution_count": 41,
   "id": "80419a9d-a58e-448e-b5d8-d8d8c16c4069",
   "metadata": {},
   "outputs": [
    {
     "data": {
      "text/plain": [
       "(11, 237, 3)"
      ]
     },
     "execution_count": 41,
     "metadata": {},
     "output_type": "execute_result"
    }
   ],
   "source": [
    "img.shape"
   ]
  },
  {
   "cell_type": "code",
   "execution_count": 42,
   "id": "698b40e4-b9da-439a-b18f-a43b90ac71ae",
   "metadata": {},
   "outputs": [],
   "source": [
    "std_coords = std_coordinates(coordinates, img.shape[1], img.shape[0])"
   ]
  },
  {
   "cell_type": "code",
   "execution_count": 43,
   "id": "22d84925-328e-41c6-bda9-e1117a2d3959",
   "metadata": {},
   "outputs": [
    {
     "data": {
      "text/plain": [
       "(965, 2)"
      ]
     },
     "execution_count": 43,
     "metadata": {},
     "output_type": "execute_result"
    }
   ],
   "source": [
    "std_coords.shape"
   ]
  },
  {
   "cell_type": "code",
   "execution_count": 44,
   "id": "f465658f-32e8-4912-867d-af565a3bf259",
   "metadata": {},
   "outputs": [
    {
     "data": {
      "image/png": "[encoded data removed]",
      "text/plain": [
       "<Figure size 1200x100 with 1 Axes>"
      ]
     },
     "metadata": {},
     "output_type": "display_data"
    }
   ],
   "source": [
    "# 산점도 그리기\n",
    "plt.figure(figsize=(12, 1))\n",
    "plt.scatter(std_coords[:, 0], std_coords[:, 1], alpha=0.5)\n",
    "plt.title('Standardized Coordinates')\n",
    "plt.xlabel('X-axis')\n",
    "plt.ylabel('Y-axis')\n",
    "plt.gca().invert_yaxis()\n",
    "# plt.xlim(0, 1)  # x축 범위를 0에서 1로 설정\n",
    "# plt.ylim(0, 1)  # y축 범위를 0에서 1로 설정\n",
    "plt.grid(True)  # 그리드 추가\n",
    "\n",
    "# 플롯 표시\n",
    "plt.show()"
   ]
  },
  {
   "cell_type": "markdown",
   "id": "408c44d7-1076-430c-94fb-13a1014b6146",
   "metadata": {},
   "source": [
    "# 전처리"
   ]
  },
  {
   "cell_type": "code",
   "execution_count": 45,
   "id": "f4a83713-b734-47d8-bbcb-4de7db2fcb71",
   "metadata": {},
   "outputs": [],
   "source": [
    "# 패딩\n",
    "def pad_coords(coords, pad_size=3000):\n",
    "    sorted_data = coords[coords[:, 0].argsort()]\n",
    "    if len(sorted_data) >= pad_size:\n",
    "        return sorted_data[:pad_size]\n",
    "    else:\n",
    "        diff = pad_size - len(sorted_data)\n",
    "        sorted_data = np.pad(sorted_data, ((0, diff), (0, 0)), mode='constant', constant_values=0)\n",
    "    return sorted_data"
   ]
  },
  {
   "cell_type": "code",
   "execution_count": 46,
   "id": "05945b60-0e70-407d-b6e6-3f80fc5f9b0b",
   "metadata": {},
   "outputs": [],
   "source": [
    "# stopwords 호출\n",
    "with open('./datasets/stopwords.txt', 'r') as f:\n",
    "    lines = f.readlines()\n",
    "\n",
    "# lines = [line.strip() for line in lines]\n",
    "stopwords = list([line.strip() for line in lines if line != \"\"][1:])"
   ]
  },
  {
   "cell_type": "code",
   "execution_count": 47,
   "id": "2d1a218a-385a-4dd4-8593-84a65c382ec0",
   "metadata": {},
   "outputs": [],
   "source": [
    "# fasttext 모델 load\n",
    "fasttext_model = fasttext.load_model(\"fasttext_jamo_model.bin\")"
   ]
  },
  {
   "cell_type": "code",
   "execution_count": 48,
   "id": "377c92ef-0c09-4e66-b7dd-a5128be928e3",
   "metadata": {},
   "outputs": [],
   "source": [
    "from jamo import h2j, j2hcj\n",
    "from konlpy.tag import Okt\n",
    "okt = Okt()"
   ]
  },
  {
   "cell_type": "code",
   "execution_count": 49,
   "id": "9e0c6dcb-456a-4b6c-aa53-5106ee4cfe1c",
   "metadata": {},
   "outputs": [],
   "source": [
    "def vectorize_text(morph_list, model):\n",
    "    vectors = []\n",
    "    for i in range(len(morph_list)):\n",
    "        vectors.append(model[morph_list[i]])\n",
    "    return vectors"
   ]
  },
  {
   "cell_type": "code",
   "execution_count": 50,
   "id": "5292b75a-19a1-4530-9d66-f2b1bdd11455",
   "metadata": {},
   "outputs": [],
   "source": [
    "# 정규식 패턴: 같은 문자가 3번 이상 반복되는 경우\n",
    "def reduce_repeated_chars(s):\n",
    "    pattern = r'(.)\\1{2,}'\n",
    "    return re.sub(pattern, r'\\1\\1\\1', s)"
   ]
  },
  {
   "cell_type": "code",
   "execution_count": 51,
   "id": "2d24a803-f246-4881-9c7f-31b98484242a",
   "metadata": {},
   "outputs": [],
   "source": [
    "def get_jamo(s):\n",
    "    reduced_char = reduce_repeated_chars(s)\n",
    "    words = okt.morphs(reduced_char, norm=True)\n",
    "    processed_words = [word for word in words if word not in stopwords]\n",
    "    jamo_list = [j2hcj(h2j(word)) for word in processed_words]\n",
    "    return jamo_list"
   ]
  },
  {
   "cell_type": "code",
   "execution_count": 52,
   "id": "f5b15c8e-1737-40f0-bd52-fa8b52aa4387",
   "metadata": {},
   "outputs": [
    {
     "name": "stderr",
     "output_type": "stream",
     "text": [
      "<>:1: SyntaxWarning: invalid escape sequence '\\-'\n",
      "<>:1: SyntaxWarning: invalid escape sequence '\\-'\n",
      "/tmp/ipykernel_5746/3188698262.py:1: SyntaxWarning: invalid escape sequence '\\-'\n",
      "  s = '재밌다 ㅋㅋㅋㅋㅋㅋㅋㅋ ㄱ\\-ㅈ\\- test..... !+ 테스트당 아'\n"
     ]
    },
    {
     "data": {
      "text/plain": [
       "['ㅈㅐㅁㅣㅆㄷㅏ',\n",
       " 'ㅋㅋㅋ',\n",
       " 'ㄱ',\n",
       " '\\\\-',\n",
       " 'ㅈ',\n",
       " '\\\\-',\n",
       " 'test',\n",
       " '...',\n",
       " '!+',\n",
       " 'ㅌㅔㅅㅡㅌㅡ',\n",
       " 'ㄷㅏㅇ']"
      ]
     },
     "execution_count": 52,
     "metadata": {},
     "output_type": "execute_result"
    }
   ],
   "source": [
    "s = '재밌다 ㅋㅋㅋㅋㅋㅋㅋㅋ ㄱ\\-ㅈ\\- test..... !+ 테스트당 아'\n",
    "get_jamo(s)"
   ]
  },
  {
   "cell_type": "code",
   "execution_count": 3,
   "id": "7ea83194-3759-4638-bfd7-e990a6dc6017",
   "metadata": {},
   "outputs": [],
   "source": [
    "# save processed data\n",
    "padded_vector_data = np.load('./datasets/padded_vector_data_naver.npy')\n",
    "coords_data = np.load('./datasets/coords_data_naver.npy')\n",
    "label_list = np.load('./datasets/label_list_naver.npy')"
   ]
  },
  {
   "cell_type": "code",
   "execution_count": 4,
   "id": "3ef3bb1e-238d-4cc0-bb88-b4e148ebc842",
   "metadata": {},
   "outputs": [],
   "source": [
    "hate_padded_vector_data = np.load('./datasets/padded_vector_data_hate.npy')\n",
    "hate_coords_data = np.load('./datasets/coords_data_hate.npy')\n",
    "hate_label_list = np.load('./datasets/label_list_hate.npy')"
   ]
  },
  {
   "cell_type": "code",
   "execution_count": 5,
   "id": "ff112d92-38eb-41e0-b9ee-465e9bb4e877",
   "metadata": {},
   "outputs": [],
   "source": [
    "padded_vector_data = np.concatenate((padded_vector_data, hate_padded_vector_data), axis=0)\n",
    "coords_data = np.concatenate((coords_data, hate_coords_data), axis=0)\n",
    "label_list = np.concatenate((label_list, hate_label_list), axis=0)"
   ]
  },
  {
   "cell_type": "code",
   "execution_count": 6,
   "id": "fc6885eb-3a04-49fd-ad44-12cfa34a2db3",
   "metadata": {},
   "outputs": [
    {
     "name": "stdout",
     "output_type": "stream",
     "text": [
      "(389580, 30, 100)\n",
      "(389580, 3000, 2)\n",
      "(389580,)\n"
     ]
    }
   ],
   "source": [
    "print(padded_vector_data.shape)\n",
    "print(coords_data.shape)\n",
    "print(label_list.shape)"
   ]
  },
  {
   "cell_type": "markdown",
   "id": "347eb802-9671-4382-aab8-74deef39a253",
   "metadata": {},
   "source": [
    "# 데이터 분할"
   ]
  },
  {
   "cell_type": "code",
   "execution_count": 7,
   "id": "b183eb22-06dd-4550-90b4-b826767d06ae",
   "metadata": {},
   "outputs": [
    {
     "name": "stdout",
     "output_type": "stream",
     "text": [
      "(330000, 30, 100)\n",
      "(330000, 3000, 2)\n",
      "(330000,)\n",
      "(59580, 30, 100)\n",
      "(59580, 3000, 2)\n",
      "(59580,)\n"
     ]
    }
   ],
   "source": [
    "# # 데이터 분할\n",
    "x_train = padded_vector_data[:330000]\n",
    "x_train_coords = np.array(coords_data)[:330000]\n",
    "y_train = np.array(label_list)[:330000]\n",
    "\n",
    "x_test = padded_vector_data[330000:]\n",
    "x_test_coords = np.array(coords_data)[330000:]\n",
    "y_test = np.array(label_list)[330000:]\n",
    "\n",
    "print(x_train.shape)\n",
    "print(x_train_coords.shape)\n",
    "print(y_train.shape)\n",
    "print(x_test.shape)\n",
    "print(x_test_coords.shape)\n",
    "print(y_test.shape)"
   ]
  },
  {
   "cell_type": "markdown",
   "id": "030a798e-67da-4ee4-82fc-904b061f4996",
   "metadata": {},
   "source": [
    "# 모델 설계"
   ]
  },
  {
   "cell_type": "code",
   "execution_count": 8,
   "id": "781b16d6-14b6-4ab4-bfb8-73b197792af3",
   "metadata": {},
   "outputs": [],
   "source": [
    "import tensorflow.keras.layers\n",
    "from tensorflow.keras.layers import Input, Conv2D, Conv1D, Flatten, Dense, Concatenate, MaxPool2D, MaxPool1D, Dropout, LSTM, Embedding\n",
    "from tensorflow.keras.models import Model, Sequential"
   ]
  },
  {
   "cell_type": "code",
   "execution_count": null,
   "id": "2fadca69-8ff0-42a6-aaed-cf0d990db42c",
   "metadata": {},
   "outputs": [],
   "source": [
    "# # 벡터 입력\n",
    "# vector_input = Input(shape=(30, 100))\n",
    "# x1 = LSTM(128, activation='relu')(vector_input)\n",
    "\n",
    "# # 결합\n",
    "# img_input = Input(shape=(32,32,3))\n",
    "# x2 = Conv2D(64, (3,3), activation='relu')(img_input)\n",
    "# x2 = MaxPool2D()(x2)\n",
    "# x2 = Dense(128, activation='relu')(x2)\n",
    "# x2 = Flatten()(x2)\n",
    "\n",
    "# # 결합\n",
    "# combined = Concatenate()([x1, x2])\n",
    "# x3 = Dense(512, activation='relu')(combined)\n",
    "# output = Dense(1, activation='sigmoid')(x3)\n",
    "\n",
    "# # 모델 정의\n",
    "# model = Model(inputs=[vector_input, img_input], outputs=output)"
   ]
  },
  {
   "cell_type": "code",
   "execution_count": 9,
   "id": "70624e7c-6d3b-410d-8d70-cd524b5bba7d",
   "metadata": {},
   "outputs": [
    {
     "name": "stderr",
     "output_type": "stream",
     "text": [
      "I0000 00:00:1724288670.565813    7436 cuda_executor.cc:1001] could not open file to read NUMA node: /sys/bus/pci/devices/0000:01:00.0/numa_node\n",
      "Your kernel may have been built without NUMA support.\n",
      "I0000 00:00:1724288670.570085    7436 cuda_executor.cc:1001] could not open file to read NUMA node: /sys/bus/pci/devices/0000:01:00.0/numa_node\n",
      "Your kernel may have been built without NUMA support.\n",
      "I0000 00:00:1724288670.570109    7436 cuda_executor.cc:1001] could not open file to read NUMA node: /sys/bus/pci/devices/0000:01:00.0/numa_node\n",
      "Your kernel may have been built without NUMA support.\n",
      "I0000 00:00:1724288673.306436    7436 cuda_executor.cc:1001] could not open file to read NUMA node: /sys/bus/pci/devices/0000:01:00.0/numa_node\n",
      "Your kernel may have been built without NUMA support.\n",
      "I0000 00:00:1724288673.307111    7436 cuda_executor.cc:1001] could not open file to read NUMA node: /sys/bus/pci/devices/0000:01:00.0/numa_node\n",
      "Your kernel may have been built without NUMA support.\n",
      "2024-08-22 10:04:33.308145: I tensorflow/core/common_runtime/gpu/gpu_device.cc:2112] Could not identify NUMA node of platform GPU id 0, defaulting to 0.  Your kernel may not have been built with NUMA support.\n",
      "I0000 00:00:1724288673.308550    7436 cuda_executor.cc:1001] could not open file to read NUMA node: /sys/bus/pci/devices/0000:01:00.0/numa_node\n",
      "Your kernel may have been built without NUMA support.\n",
      "2024-08-22 10:04:33.309148: I tensorflow/core/common_runtime/gpu/gpu_device.cc:2021] Created device /job:localhost/replica:0/task:0/device:GPU:0 with 21458 MB memory:  -> device: 0, name: NVIDIA GeForce RTX 4090, pci bus id: 0000:01:00.0, compute capability: 8.9\n"
     ]
    }
   ],
   "source": [
    "# 벡터 입력\n",
    "vector_input = Input(shape=(30, 100))\n",
    "x1 = LSTM(128, activation='relu')(vector_input)\n",
    "x1 = Flatten()(x1)\n",
    "\n",
    "# 글자 좌표 입력\n",
    "coords_input = Input(shape=(3000,2))\n",
    "x2 = Dense(512, activation='relu')(coords_input)\n",
    "x2 = Flatten()(x2)  # Flatten the output of Dense layer\n",
    "\n",
    "# 결합\n",
    "combined = Concatenate()([x1, x2])\n",
    "x3 = Dense(128, activation='relu')(combined)\n",
    "x3 = Dropout(0.4)(x3)\n",
    "output = Dense(1, activation='sigmoid')(x3)\n",
    "\n",
    "# 모델 정의\n",
    "model = Model(inputs=[vector_input, coords_input], outputs=output)"
   ]
  },
  {
   "cell_type": "code",
   "execution_count": 64,
   "id": "a6208dc4-f3db-410b-902f-2ac9c7bc735b",
   "metadata": {},
   "outputs": [
    {
     "name": "stderr",
     "output_type": "stream",
     "text": [
      "/home/sdm/miniconda3/envs/dl/lib/python3.12/site-packages/keras/src/layers/rnn/rnn.py:204: UserWarning: Do not pass an `input_shape`/`input_dim` argument to a layer. When using Sequential models, prefer using an `Input(shape)` object as the first layer in the model instead.\n",
      "  super().__init__(**kwargs)\n"
     ]
    }
   ],
   "source": [
    "model = Sequential([\n",
    "    LSTM(128, input_shape=(30, 100)),\n",
    "    Dense(1, activation='sigmoid')\n",
    "])"
   ]
  },
  {
   "cell_type": "code",
   "execution_count": 10,
   "id": "e26e65d5-e2df-47fe-a5f9-959838789911",
   "metadata": {},
   "outputs": [
    {
     "data": {
      "text/html": [
       "<pre style=\"white-space:pre;overflow-x:auto;line-height:normal;font-family:Menlo,'DejaVu Sans Mono',consolas,'Courier New',monospace\"><span style=\"font-weight: bold\">Model: \"functional\"</span>\n",
       "</pre>\n"
      ],
      "text/plain": [
       "\u001b[1mModel: \"functional\"\u001b[0m\n"
      ]
     },
     "metadata": {},
     "output_type": "display_data"
    },
    {
     "data": {
      "text/html": [
       "<pre style=\"white-space:pre;overflow-x:auto;line-height:normal;font-family:Menlo,'DejaVu Sans Mono',consolas,'Courier New',monospace\">┏━━━━━━━━━━━━━━━━━━━━━┳━━━━━━━━━━━━━━━━━━━┳━━━━━━━━━━━━┳━━━━━━━━━━━━━━━━━━━┓\n",
       "┃<span style=\"font-weight: bold\"> Layer (type)        </span>┃<span style=\"font-weight: bold\"> Output Shape      </span>┃<span style=\"font-weight: bold\">    Param # </span>┃<span style=\"font-weight: bold\"> Connected to      </span>┃\n",
       "┡━━━━━━━━━━━━━━━━━━━━━╇━━━━━━━━━━━━━━━━━━━╇━━━━━━━━━━━━╇━━━━━━━━━━━━━━━━━━━┩\n",
       "│ input_layer         │ (<span style=\"color: #00d7ff; text-decoration-color: #00d7ff\">None</span>, <span style=\"color: #00af00; text-decoration-color: #00af00\">30</span>, <span style=\"color: #00af00; text-decoration-color: #00af00\">100</span>)   │          <span style=\"color: #00af00; text-decoration-color: #00af00\">0</span> │ -                 │\n",
       "│ (<span style=\"color: #0087ff; text-decoration-color: #0087ff\">InputLayer</span>)        │                   │            │                   │\n",
       "├─────────────────────┼───────────────────┼────────────┼───────────────────┤\n",
       "│ input_layer_1       │ (<span style=\"color: #00d7ff; text-decoration-color: #00d7ff\">None</span>, <span style=\"color: #00af00; text-decoration-color: #00af00\">3000</span>, <span style=\"color: #00af00; text-decoration-color: #00af00\">2</span>)   │          <span style=\"color: #00af00; text-decoration-color: #00af00\">0</span> │ -                 │\n",
       "│ (<span style=\"color: #0087ff; text-decoration-color: #0087ff\">InputLayer</span>)        │                   │            │                   │\n",
       "├─────────────────────┼───────────────────┼────────────┼───────────────────┤\n",
       "│ lstm (<span style=\"color: #0087ff; text-decoration-color: #0087ff\">LSTM</span>)         │ (<span style=\"color: #00d7ff; text-decoration-color: #00d7ff\">None</span>, <span style=\"color: #00af00; text-decoration-color: #00af00\">128</span>)       │    <span style=\"color: #00af00; text-decoration-color: #00af00\">117,248</span> │ input_layer[<span style=\"color: #00af00; text-decoration-color: #00af00\">0</span>][<span style=\"color: #00af00; text-decoration-color: #00af00\">0</span>] │\n",
       "├─────────────────────┼───────────────────┼────────────┼───────────────────┤\n",
       "│ dense (<span style=\"color: #0087ff; text-decoration-color: #0087ff\">Dense</span>)       │ (<span style=\"color: #00d7ff; text-decoration-color: #00d7ff\">None</span>, <span style=\"color: #00af00; text-decoration-color: #00af00\">3000</span>, <span style=\"color: #00af00; text-decoration-color: #00af00\">512</span>) │      <span style=\"color: #00af00; text-decoration-color: #00af00\">1,536</span> │ input_layer_1[<span style=\"color: #00af00; text-decoration-color: #00af00\">0</span>]… │\n",
       "├─────────────────────┼───────────────────┼────────────┼───────────────────┤\n",
       "│ flatten (<span style=\"color: #0087ff; text-decoration-color: #0087ff\">Flatten</span>)   │ (<span style=\"color: #00d7ff; text-decoration-color: #00d7ff\">None</span>, <span style=\"color: #00af00; text-decoration-color: #00af00\">128</span>)       │          <span style=\"color: #00af00; text-decoration-color: #00af00\">0</span> │ lstm[<span style=\"color: #00af00; text-decoration-color: #00af00\">0</span>][<span style=\"color: #00af00; text-decoration-color: #00af00\">0</span>]        │\n",
       "├─────────────────────┼───────────────────┼────────────┼───────────────────┤\n",
       "│ flatten_1 (<span style=\"color: #0087ff; text-decoration-color: #0087ff\">Flatten</span>) │ (<span style=\"color: #00d7ff; text-decoration-color: #00d7ff\">None</span>, <span style=\"color: #00af00; text-decoration-color: #00af00\">1536000</span>)   │          <span style=\"color: #00af00; text-decoration-color: #00af00\">0</span> │ dense[<span style=\"color: #00af00; text-decoration-color: #00af00\">0</span>][<span style=\"color: #00af00; text-decoration-color: #00af00\">0</span>]       │\n",
       "├─────────────────────┼───────────────────┼────────────┼───────────────────┤\n",
       "│ concatenate         │ (<span style=\"color: #00d7ff; text-decoration-color: #00d7ff\">None</span>, <span style=\"color: #00af00; text-decoration-color: #00af00\">1536128</span>)   │          <span style=\"color: #00af00; text-decoration-color: #00af00\">0</span> │ flatten[<span style=\"color: #00af00; text-decoration-color: #00af00\">0</span>][<span style=\"color: #00af00; text-decoration-color: #00af00\">0</span>],    │\n",
       "│ (<span style=\"color: #0087ff; text-decoration-color: #0087ff\">Concatenate</span>)       │                   │            │ flatten_1[<span style=\"color: #00af00; text-decoration-color: #00af00\">0</span>][<span style=\"color: #00af00; text-decoration-color: #00af00\">0</span>]   │\n",
       "├─────────────────────┼───────────────────┼────────────┼───────────────────┤\n",
       "│ dense_1 (<span style=\"color: #0087ff; text-decoration-color: #0087ff\">Dense</span>)     │ (<span style=\"color: #00d7ff; text-decoration-color: #00d7ff\">None</span>, <span style=\"color: #00af00; text-decoration-color: #00af00\">128</span>)       │ <span style=\"color: #00af00; text-decoration-color: #00af00\">196,624,5…</span> │ concatenate[<span style=\"color: #00af00; text-decoration-color: #00af00\">0</span>][<span style=\"color: #00af00; text-decoration-color: #00af00\">0</span>] │\n",
       "├─────────────────────┼───────────────────┼────────────┼───────────────────┤\n",
       "│ dropout (<span style=\"color: #0087ff; text-decoration-color: #0087ff\">Dropout</span>)   │ (<span style=\"color: #00d7ff; text-decoration-color: #00d7ff\">None</span>, <span style=\"color: #00af00; text-decoration-color: #00af00\">128</span>)       │          <span style=\"color: #00af00; text-decoration-color: #00af00\">0</span> │ dense_1[<span style=\"color: #00af00; text-decoration-color: #00af00\">0</span>][<span style=\"color: #00af00; text-decoration-color: #00af00\">0</span>]     │\n",
       "├─────────────────────┼───────────────────┼────────────┼───────────────────┤\n",
       "│ dense_2 (<span style=\"color: #0087ff; text-decoration-color: #0087ff\">Dense</span>)     │ (<span style=\"color: #00d7ff; text-decoration-color: #00d7ff\">None</span>, <span style=\"color: #00af00; text-decoration-color: #00af00\">1</span>)         │        <span style=\"color: #00af00; text-decoration-color: #00af00\">129</span> │ dropout[<span style=\"color: #00af00; text-decoration-color: #00af00\">0</span>][<span style=\"color: #00af00; text-decoration-color: #00af00\">0</span>]     │\n",
       "└─────────────────────┴───────────────────┴────────────┴───────────────────┘\n",
       "</pre>\n"
      ],
      "text/plain": [
       "┏━━━━━━━━━━━━━━━━━━━━━┳━━━━━━━━━━━━━━━━━━━┳━━━━━━━━━━━━┳━━━━━━━━━━━━━━━━━━━┓\n",
       "┃\u001b[1m \u001b[0m\u001b[1mLayer (type)       \u001b[0m\u001b[1m \u001b[0m┃\u001b[1m \u001b[0m\u001b[1mOutput Shape     \u001b[0m\u001b[1m \u001b[0m┃\u001b[1m \u001b[0m\u001b[1m   Param #\u001b[0m\u001b[1m \u001b[0m┃\u001b[1m \u001b[0m\u001b[1mConnected to     \u001b[0m\u001b[1m \u001b[0m┃\n",
       "┡━━━━━━━━━━━━━━━━━━━━━╇━━━━━━━━━━━━━━━━━━━╇━━━━━━━━━━━━╇━━━━━━━━━━━━━━━━━━━┩\n",
       "│ input_layer         │ (\u001b[38;5;45mNone\u001b[0m, \u001b[38;5;34m30\u001b[0m, \u001b[38;5;34m100\u001b[0m)   │          \u001b[38;5;34m0\u001b[0m │ -                 │\n",
       "│ (\u001b[38;5;33mInputLayer\u001b[0m)        │                   │            │                   │\n",
       "├─────────────────────┼───────────────────┼────────────┼───────────────────┤\n",
       "│ input_layer_1       │ (\u001b[38;5;45mNone\u001b[0m, \u001b[38;5;34m3000\u001b[0m, \u001b[38;5;34m2\u001b[0m)   │          \u001b[38;5;34m0\u001b[0m │ -                 │\n",
       "│ (\u001b[38;5;33mInputLayer\u001b[0m)        │                   │            │                   │\n",
       "├─────────────────────┼───────────────────┼────────────┼───────────────────┤\n",
       "│ lstm (\u001b[38;5;33mLSTM\u001b[0m)         │ (\u001b[38;5;45mNone\u001b[0m, \u001b[38;5;34m128\u001b[0m)       │    \u001b[38;5;34m117,248\u001b[0m │ input_layer[\u001b[38;5;34m0\u001b[0m][\u001b[38;5;34m0\u001b[0m] │\n",
       "├─────────────────────┼───────────────────┼────────────┼───────────────────┤\n",
       "│ dense (\u001b[38;5;33mDense\u001b[0m)       │ (\u001b[38;5;45mNone\u001b[0m, \u001b[38;5;34m3000\u001b[0m, \u001b[38;5;34m512\u001b[0m) │      \u001b[38;5;34m1,536\u001b[0m │ input_layer_1[\u001b[38;5;34m0\u001b[0m]… │\n",
       "├─────────────────────┼───────────────────┼────────────┼───────────────────┤\n",
       "│ flatten (\u001b[38;5;33mFlatten\u001b[0m)   │ (\u001b[38;5;45mNone\u001b[0m, \u001b[38;5;34m128\u001b[0m)       │          \u001b[38;5;34m0\u001b[0m │ lstm[\u001b[38;5;34m0\u001b[0m][\u001b[38;5;34m0\u001b[0m]        │\n",
       "├─────────────────────┼───────────────────┼────────────┼───────────────────┤\n",
       "│ flatten_1 (\u001b[38;5;33mFlatten\u001b[0m) │ (\u001b[38;5;45mNone\u001b[0m, \u001b[38;5;34m1536000\u001b[0m)   │          \u001b[38;5;34m0\u001b[0m │ dense[\u001b[38;5;34m0\u001b[0m][\u001b[38;5;34m0\u001b[0m]       │\n",
       "├─────────────────────┼───────────────────┼────────────┼───────────────────┤\n",
       "│ concatenate         │ (\u001b[38;5;45mNone\u001b[0m, \u001b[38;5;34m1536128\u001b[0m)   │          \u001b[38;5;34m0\u001b[0m │ flatten[\u001b[38;5;34m0\u001b[0m][\u001b[38;5;34m0\u001b[0m],    │\n",
       "│ (\u001b[38;5;33mConcatenate\u001b[0m)       │                   │            │ flatten_1[\u001b[38;5;34m0\u001b[0m][\u001b[38;5;34m0\u001b[0m]   │\n",
       "├─────────────────────┼───────────────────┼────────────┼───────────────────┤\n",
       "│ dense_1 (\u001b[38;5;33mDense\u001b[0m)     │ (\u001b[38;5;45mNone\u001b[0m, \u001b[38;5;34m128\u001b[0m)       │ \u001b[38;5;34m196,624,5…\u001b[0m │ concatenate[\u001b[38;5;34m0\u001b[0m][\u001b[38;5;34m0\u001b[0m] │\n",
       "├─────────────────────┼───────────────────┼────────────┼───────────────────┤\n",
       "│ dropout (\u001b[38;5;33mDropout\u001b[0m)   │ (\u001b[38;5;45mNone\u001b[0m, \u001b[38;5;34m128\u001b[0m)       │          \u001b[38;5;34m0\u001b[0m │ dense_1[\u001b[38;5;34m0\u001b[0m][\u001b[38;5;34m0\u001b[0m]     │\n",
       "├─────────────────────┼───────────────────┼────────────┼───────────────────┤\n",
       "│ dense_2 (\u001b[38;5;33mDense\u001b[0m)     │ (\u001b[38;5;45mNone\u001b[0m, \u001b[38;5;34m1\u001b[0m)         │        \u001b[38;5;34m129\u001b[0m │ dropout[\u001b[38;5;34m0\u001b[0m][\u001b[38;5;34m0\u001b[0m]     │\n",
       "└─────────────────────┴───────────────────┴────────────┴───────────────────┘\n"
      ]
     },
     "metadata": {},
     "output_type": "display_data"
    },
    {
     "data": {
      "text/html": [
       "<pre style=\"white-space:pre;overflow-x:auto;line-height:normal;font-family:Menlo,'DejaVu Sans Mono',consolas,'Courier New',monospace\"><span style=\"font-weight: bold\"> Total params: </span><span style=\"color: #00af00; text-decoration-color: #00af00\">196,743,425</span> (750.52 MB)\n",
       "</pre>\n"
      ],
      "text/plain": [
       "\u001b[1m Total params: \u001b[0m\u001b[38;5;34m196,743,425\u001b[0m (750.52 MB)\n"
      ]
     },
     "metadata": {},
     "output_type": "display_data"
    },
    {
     "data": {
      "text/html": [
       "<pre style=\"white-space:pre;overflow-x:auto;line-height:normal;font-family:Menlo,'DejaVu Sans Mono',consolas,'Courier New',monospace\"><span style=\"font-weight: bold\"> Trainable params: </span><span style=\"color: #00af00; text-decoration-color: #00af00\">196,743,425</span> (750.52 MB)\n",
       "</pre>\n"
      ],
      "text/plain": [
       "\u001b[1m Trainable params: \u001b[0m\u001b[38;5;34m196,743,425\u001b[0m (750.52 MB)\n"
      ]
     },
     "metadata": {},
     "output_type": "display_data"
    },
    {
     "data": {
      "text/html": [
       "<pre style=\"white-space:pre;overflow-x:auto;line-height:normal;font-family:Menlo,'DejaVu Sans Mono',consolas,'Courier New',monospace\"><span style=\"font-weight: bold\"> Non-trainable params: </span><span style=\"color: #00af00; text-decoration-color: #00af00\">0</span> (0.00 B)\n",
       "</pre>\n"
      ],
      "text/plain": [
       "\u001b[1m Non-trainable params: \u001b[0m\u001b[38;5;34m0\u001b[0m (0.00 B)\n"
      ]
     },
     "metadata": {},
     "output_type": "display_data"
    }
   ],
   "source": [
    "model.summary()"
   ]
  },
  {
   "cell_type": "code",
   "execution_count": 65,
   "id": "9ceb4d94-9517-47af-9cda-e19842b21eed",
   "metadata": {},
   "outputs": [
    {
     "data": {
      "text/html": [
       "<pre style=\"white-space:pre;overflow-x:auto;line-height:normal;font-family:Menlo,'DejaVu Sans Mono',consolas,'Courier New',monospace\"><span style=\"font-weight: bold\">Model: \"sequential\"</span>\n",
       "</pre>\n"
      ],
      "text/plain": [
       "\u001b[1mModel: \"sequential\"\u001b[0m\n"
      ]
     },
     "metadata": {},
     "output_type": "display_data"
    },
    {
     "data": {
      "text/html": [
       "<pre style=\"white-space:pre;overflow-x:auto;line-height:normal;font-family:Menlo,'DejaVu Sans Mono',consolas,'Courier New',monospace\">┏━━━━━━━━━━━━━━━━━━━━━━━━━━━━━━━━━┳━━━━━━━━━━━━━━━━━━━━━━━━┳━━━━━━━━━━━━━━━┓\n",
       "┃<span style=\"font-weight: bold\"> Layer (type)                    </span>┃<span style=\"font-weight: bold\"> Output Shape           </span>┃<span style=\"font-weight: bold\">       Param # </span>┃\n",
       "┡━━━━━━━━━━━━━━━━━━━━━━━━━━━━━━━━━╇━━━━━━━━━━━━━━━━━━━━━━━━╇━━━━━━━━━━━━━━━┩\n",
       "│ lstm_1 (<span style=\"color: #0087ff; text-decoration-color: #0087ff\">LSTM</span>)                   │ (<span style=\"color: #00d7ff; text-decoration-color: #00d7ff\">None</span>, <span style=\"color: #00af00; text-decoration-color: #00af00\">128</span>)            │       <span style=\"color: #00af00; text-decoration-color: #00af00\">117,248</span> │\n",
       "├─────────────────────────────────┼────────────────────────┼───────────────┤\n",
       "│ dense_3 (<span style=\"color: #0087ff; text-decoration-color: #0087ff\">Dense</span>)                 │ (<span style=\"color: #00d7ff; text-decoration-color: #00d7ff\">None</span>, <span style=\"color: #00af00; text-decoration-color: #00af00\">1</span>)              │           <span style=\"color: #00af00; text-decoration-color: #00af00\">129</span> │\n",
       "└─────────────────────────────────┴────────────────────────┴───────────────┘\n",
       "</pre>\n"
      ],
      "text/plain": [
       "┏━━━━━━━━━━━━━━━━━━━━━━━━━━━━━━━━━┳━━━━━━━━━━━━━━━━━━━━━━━━┳━━━━━━━━━━━━━━━┓\n",
       "┃\u001b[1m \u001b[0m\u001b[1mLayer (type)                   \u001b[0m\u001b[1m \u001b[0m┃\u001b[1m \u001b[0m\u001b[1mOutput Shape          \u001b[0m\u001b[1m \u001b[0m┃\u001b[1m \u001b[0m\u001b[1m      Param #\u001b[0m\u001b[1m \u001b[0m┃\n",
       "┡━━━━━━━━━━━━━━━━━━━━━━━━━━━━━━━━━╇━━━━━━━━━━━━━━━━━━━━━━━━╇━━━━━━━━━━━━━━━┩\n",
       "│ lstm_1 (\u001b[38;5;33mLSTM\u001b[0m)                   │ (\u001b[38;5;45mNone\u001b[0m, \u001b[38;5;34m128\u001b[0m)            │       \u001b[38;5;34m117,248\u001b[0m │\n",
       "├─────────────────────────────────┼────────────────────────┼───────────────┤\n",
       "│ dense_3 (\u001b[38;5;33mDense\u001b[0m)                 │ (\u001b[38;5;45mNone\u001b[0m, \u001b[38;5;34m1\u001b[0m)              │           \u001b[38;5;34m129\u001b[0m │\n",
       "└─────────────────────────────────┴────────────────────────┴───────────────┘\n"
      ]
     },
     "metadata": {},
     "output_type": "display_data"
    },
    {
     "data": {
      "text/html": [
       "<pre style=\"white-space:pre;overflow-x:auto;line-height:normal;font-family:Menlo,'DejaVu Sans Mono',consolas,'Courier New',monospace\"><span style=\"font-weight: bold\"> Total params: </span><span style=\"color: #00af00; text-decoration-color: #00af00\">117,377</span> (458.50 KB)\n",
       "</pre>\n"
      ],
      "text/plain": [
       "\u001b[1m Total params: \u001b[0m\u001b[38;5;34m117,377\u001b[0m (458.50 KB)\n"
      ]
     },
     "metadata": {},
     "output_type": "display_data"
    },
    {
     "data": {
      "text/html": [
       "<pre style=\"white-space:pre;overflow-x:auto;line-height:normal;font-family:Menlo,'DejaVu Sans Mono',consolas,'Courier New',monospace\"><span style=\"font-weight: bold\"> Trainable params: </span><span style=\"color: #00af00; text-decoration-color: #00af00\">117,377</span> (458.50 KB)\n",
       "</pre>\n"
      ],
      "text/plain": [
       "\u001b[1m Trainable params: \u001b[0m\u001b[38;5;34m117,377\u001b[0m (458.50 KB)\n"
      ]
     },
     "metadata": {},
     "output_type": "display_data"
    },
    {
     "data": {
      "text/html": [
       "<pre style=\"white-space:pre;overflow-x:auto;line-height:normal;font-family:Menlo,'DejaVu Sans Mono',consolas,'Courier New',monospace\"><span style=\"font-weight: bold\"> Non-trainable params: </span><span style=\"color: #00af00; text-decoration-color: #00af00\">0</span> (0.00 B)\n",
       "</pre>\n"
      ],
      "text/plain": [
       "\u001b[1m Non-trainable params: \u001b[0m\u001b[38;5;34m0\u001b[0m (0.00 B)\n"
      ]
     },
     "metadata": {},
     "output_type": "display_data"
    }
   ],
   "source": [
    "model.summary()"
   ]
  },
  {
   "cell_type": "code",
   "execution_count": 66,
   "id": "f3b40f21-cd79-4e4b-9098-98c171ffb798",
   "metadata": {},
   "outputs": [],
   "source": [
    "# Compile the model\n",
    "model.compile(optimizer='adam', loss='binary_crossentropy', metrics=['accuracy'])"
   ]
  },
  {
   "cell_type": "code",
   "execution_count": 12,
   "id": "8a70166e-3ea3-4a9e-a2fb-b0617490da53",
   "metadata": {
    "scrolled": true
   },
   "outputs": [
    {
     "name": "stdout",
     "output_type": "stream",
     "text": [
      "Epoch 1/5\n"
     ]
    },
    {
     "name": "stderr",
     "output_type": "stream",
     "text": [
      "WARNING: All log messages before absl::InitializeLog() is called are written to STDERR\n",
      "I0000 00:00:1724288911.655758    7900 service.cc:146] XLA service 0x7efa4c00a1b0 initialized for platform CUDA (this does not guarantee that XLA will be used). Devices:\n",
      "I0000 00:00:1724288911.656727    7900 service.cc:154]   StreamExecutor device (0): NVIDIA GeForce RTX 4090, Compute Capability 8.9\n",
      "2024-08-22 10:08:32.037826: I tensorflow/compiler/mlir/tensorflow/utils/dump_mlir_util.cc:268] disabling MLIR crash reproducer, set env var `MLIR_CRASH_REPRODUCER_DIRECTORY` to enable.\n",
      "2024-08-22 10:08:32.697026: I external/local_xla/xla/stream_executor/cuda/cuda_dnn.cc:531] Loaded cuDNN version 8907\n",
      "2024-08-22 10:08:33.893654: I external/local_xla/xla/stream_executor/cuda/cuda_asm_compiler.cc:393] ptxas warning : Registers are spilled to local memory in function 'gemm_fusion_dot_1885', 8 bytes spill stores, 8 bytes spill loads\n",
      "\n",
      "2024-08-22 10:08:34.136138: I external/local_xla/xla/stream_executor/cuda/cuda_asm_compiler.cc:393] ptxas warning : Registers are spilled to local memory in function 'gemm_fusion_dot_44', 8 bytes spill stores, 8 bytes spill loads\n",
      "\n"
     ]
    },
    {
     "name": "stdout",
     "output_type": "stream",
     "text": [
      "\u001b[1m   4/2321\u001b[0m \u001b[37m━━━━━━━━━━━━━━━━━━━━\u001b[0m \u001b[1m1:37\u001b[0m 42ms/step - accuracy: 0.4896 - loss: 4.0426 "
     ]
    },
    {
     "name": "stderr",
     "output_type": "stream",
     "text": [
      "I0000 00:00:1724288917.803332    7900 device_compiler.h:188] Compiled cluster using XLA!  This line is logged at most once for the lifetime of the process.\n"
     ]
    },
    {
     "name": "stdout",
     "output_type": "stream",
     "text": [
      "\u001b[1m2319/2321\u001b[0m \u001b[32m━━━━━━━━━━━━━━━━━━━\u001b[0m\u001b[37m━\u001b[0m \u001b[1m0s\u001b[0m 26ms/step - accuracy: 0.7600 - loss: 0.6458"
     ]
    },
    {
     "name": "stderr",
     "output_type": "stream",
     "text": [
      "2024-08-22 10:09:38.767140: I external/local_xla/xla/stream_executor/cuda/cuda_asm_compiler.cc:393] ptxas warning : Registers are spilled to local memory in function 'gemm_fusion_dot_44', 452 bytes spill stores, 452 bytes spill loads\n",
      "\n",
      "2024-08-22 10:09:38.767926: I external/local_xla/xla/stream_executor/cuda/cuda_asm_compiler.cc:393] ptxas warning : Registers are spilled to local memory in function 'gemm_fusion_dot_44', 328 bytes spill stores, 328 bytes spill loads\n",
      "\n"
     ]
    },
    {
     "name": "stdout",
     "output_type": "stream",
     "text": [
      "\u001b[1m2321/2321\u001b[0m \u001b[32m━━━━━━━━━━━━━━━━━━━━\u001b[0m\u001b[37m\u001b[0m \u001b[1m84s\u001b[0m 32ms/step - accuracy: 0.7600 - loss: 0.6455 - val_accuracy: 0.9148 - val_loss: 0.2014\n",
      "Epoch 2/5\n",
      "\u001b[1m2321/2321\u001b[0m \u001b[32m━━━━━━━━━━━━━━━━━━━━\u001b[0m\u001b[37m\u001b[0m \u001b[1m61s\u001b[0m 26ms/step - accuracy: 0.8672 - loss: 0.3228 - val_accuracy: 0.9168 - val_loss: 0.2019\n",
      "Epoch 3/5\n",
      "\u001b[1m2321/2321\u001b[0m \u001b[32m━━━━━━━━━━━━━━━━━━━━\u001b[0m\u001b[37m\u001b[0m \u001b[1m64s\u001b[0m 28ms/step - accuracy: 0.8836 - loss: 0.2783 - val_accuracy: 0.9272 - val_loss: 0.1818\n",
      "Epoch 4/5\n",
      "\u001b[1m2321/2321\u001b[0m \u001b[32m━━━━━━━━━━━━━━━━━━━━\u001b[0m\u001b[37m\u001b[0m \u001b[1m65s\u001b[0m 28ms/step - accuracy: 0.8924 - loss: 0.2567 - val_accuracy: 0.9274 - val_loss: 0.1837\n",
      "Epoch 5/5\n",
      "\u001b[1m2321/2321\u001b[0m \u001b[32m━━━━━━━━━━━━━━━━━━━━\u001b[0m\u001b[37m\u001b[0m \u001b[1m64s\u001b[0m 28ms/step - accuracy: 0.9023 - loss: 0.2318 - val_accuracy: 0.9360 - val_loss: 0.1651\n"
     ]
    }
   ],
   "source": [
    "batch_size = 128\n",
    "epochs = 5\n",
    "\n",
    "# Train the model\n",
    "history = model.fit([x_train, x_train_coords], y_train, batch_size=batch_size, epochs=epochs, validation_split=0.1)"
   ]
  },
  {
   "cell_type": "code",
   "execution_count": 67,
   "id": "a1b237e8-399e-4920-9345-80b0c2c046b0",
   "metadata": {},
   "outputs": [
    {
     "name": "stdout",
     "output_type": "stream",
     "text": [
      "Epoch 1/5\n",
      "\u001b[1m2321/2321\u001b[0m \u001b[32m━━━━━━━━━━━━━━━━━━━━\u001b[0m\u001b[37m\u001b[0m \u001b[1m16s\u001b[0m 5ms/step - accuracy: 0.8428 - loss: 0.3574 - val_accuracy: 0.9101 - val_loss: 0.2112\n",
      "Epoch 2/5\n",
      "\u001b[1m2321/2321\u001b[0m \u001b[32m━━━━━━━━━━━━━━━━━━━━\u001b[0m\u001b[37m\u001b[0m \u001b[1m13s\u001b[0m 5ms/step - accuracy: 0.8793 - loss: 0.2815 - val_accuracy: 0.9072 - val_loss: 0.2122\n",
      "Epoch 3/5\n",
      "\u001b[1m2321/2321\u001b[0m \u001b[32m━━━━━━━━━━━━━━━━━━━━\u001b[0m\u001b[37m\u001b[0m \u001b[1m9s\u001b[0m 4ms/step - accuracy: 0.8939 - loss: 0.2515 - val_accuracy: 0.9203 - val_loss: 0.1859\n",
      "Epoch 4/5\n",
      "\u001b[1m2321/2321\u001b[0m \u001b[32m━━━━━━━━━━━━━━━━━━━━\u001b[0m\u001b[37m\u001b[0m \u001b[1m9s\u001b[0m 4ms/step - accuracy: 0.9033 - loss: 0.2306 - val_accuracy: 0.9312 - val_loss: 0.1709\n",
      "Epoch 5/5\n",
      "\u001b[1m2321/2321\u001b[0m \u001b[32m━━━━━━━━━━━━━━━━━━━━\u001b[0m\u001b[37m\u001b[0m \u001b[1m13s\u001b[0m 5ms/step - accuracy: 0.9134 - loss: 0.2104 - val_accuracy: 0.9334 - val_loss: 0.1614\n"
     ]
    }
   ],
   "source": [
    "# LSTM model\n",
    "batch_size = 128\n",
    "epochs = 5\n",
    "\n",
    "# Train the model\n",
    "history = model.fit(x_train, y_train, batch_size=batch_size, epochs=epochs, validation_split=0.1)"
   ]
  },
  {
   "cell_type": "markdown",
   "id": "f91000bc-22aa-467d-af2a-f84ebc8b1a7f",
   "metadata": {},
   "source": [
    "# 정확도, 그래프"
   ]
  },
  {
   "cell_type": "code",
   "execution_count": 13,
   "id": "0f726a53-8787-4ffe-92e7-e92e22cac4cb",
   "metadata": {
    "scrolled": true
   },
   "outputs": [
    {
     "name": "stdout",
     "output_type": "stream",
     "text": [
      "Test loss: 0.16704612970352173\n",
      "Test accuracy: 0.9342061281204224\n"
     ]
    }
   ],
   "source": [
    "# Evaluate the model\n",
    "score = model.evaluate([x_test, x_test_coords], y_test, verbose=0)\n",
    "print(\"Test loss:\", score[0])\n",
    "print(\"Test accuracy:\", score[1])"
   ]
  },
  {
   "cell_type": "code",
   "execution_count": 68,
   "id": "40411df4-8224-45de-af4e-5d6585ff0aa2",
   "metadata": {},
   "outputs": [
    {
     "name": "stdout",
     "output_type": "stream",
     "text": [
      "Test loss: 0.1612658053636551\n",
      "Test accuracy: 0.9328297972679138\n"
     ]
    }
   ],
   "source": [
    "# Evaluate LSTM\n",
    "score = model.evaluate(x_test, y_test, verbose=0)\n",
    "print(\"Test loss:\", score[0])\n",
    "print(\"Test accuracy:\", score[1])"
   ]
  },
  {
   "cell_type": "code",
   "execution_count": 3,
   "id": "89bdd21d-944d-4965-b07b-48ac458f2129",
   "metadata": {},
   "outputs": [
    {
     "ename": "NameError",
     "evalue": "name 'model' is not defined",
     "output_type": "error",
     "traceback": [
      "\u001b[0;31m---------------------------------------------------------------------------\u001b[0m",
      "\u001b[0;31mNameError\u001b[0m                                 Traceback (most recent call last)",
      "Cell \u001b[0;32mIn[3], line 5\u001b[0m\n\u001b[1;32m      1\u001b[0m \u001b[38;5;28;01mfrom\u001b[39;00m \u001b[38;5;21;01msklearn\u001b[39;00m\u001b[38;5;21;01m.\u001b[39;00m\u001b[38;5;21;01mmetrics\u001b[39;00m \u001b[38;5;28;01mimport\u001b[39;00m f1_score\n\u001b[1;32m      3\u001b[0m \u001b[38;5;66;03m# y_true: 실제 레이블\u001b[39;00m\n\u001b[1;32m      4\u001b[0m \u001b[38;5;66;03m# y_pred: 모델이 예측한 레이블\u001b[39;00m\n\u001b[0;32m----> 5\u001b[0m y_pred \u001b[38;5;241m=\u001b[39m \u001b[43mmodel\u001b[49m\u001b[38;5;241m.\u001b[39mpredict(x_test)\n\u001b[1;32m      6\u001b[0m f1 \u001b[38;5;241m=\u001b[39m f1_score(y_test, y_pred)\n\u001b[1;32m      8\u001b[0m \u001b[38;5;28mprint\u001b[39m(\u001b[38;5;124m\"\u001b[39m\u001b[38;5;124mF1 score:\u001b[39m\u001b[38;5;124m\"\u001b[39m, f1)\n",
      "\u001b[0;31mNameError\u001b[0m: name 'model' is not defined"
     ]
    }
   ],
   "source": [
    "from sklearn.metrics import f1_score\n",
    "\n",
    "# y_true: 실제 레이블\n",
    "# y_pred: 모델이 예측한 레이블\n",
    "y_pred = model.predict(x_test)\n",
    "f1 = f1_score(y_test, y_pred)\n",
    "\n",
    "print(\"F1 score:\", f1)"
   ]
  },
  {
   "cell_type": "code",
   "execution_count": 63,
   "id": "f0e1adaa-b4f4-4017-b6d6-d7c4f522344a",
   "metadata": {},
   "outputs": [
    {
     "data": {
      "image/png": "[encoded data removed]",
      "text/plain": [
       "<Figure size 1000x400 with 2 Axes>"
      ]
     },
     "metadata": {},
     "output_type": "display_data"
    }
   ],
   "source": [
    "# 벡터, 표표\n",
    "fig, ax = plt.subplots(1, 2, figsize=(10, 4))\n",
    "ax[1]\n",
    "# 정확도 그래프\n",
    "# plt.subplots(1,2,1)\n",
    "ax[0].plot(history.history['accuracy'], label='Train Accuracy')\n",
    "ax[0].plot(history.history['val_accuracy'], label='Validation Accuracy')\n",
    "ax[0].set_title('Model Accuracy')\n",
    "ax[0].set_xlabel('Epoch')\n",
    "ax[0].set_ylabel('Accuracy')\n",
    "ax[0].legend()\n",
    "ax[0].grid(True)\n",
    "\n",
    "# 손실 그래프\n",
    "ax[1].plot(history.history['loss'], label='Train Loss')\n",
    "ax[1].plot(history.history['val_loss'], label='Validation Loss')\n",
    "ax[1].set_title('Model Loss')\n",
    "ax[1].set_xlabel('Epoch')\n",
    "ax[1].set_ylabel('Loss')\n",
    "ax[1].legend()\n",
    "ax[1].grid(True)\n",
    "\n",
    "plt.tight_layout()\n",
    "plt.show()"
   ]
  },
  {
   "cell_type": "code",
   "execution_count": 69,
   "id": "bec2313a-3c2a-4e41-80d6-760126380980",
   "metadata": {},
   "outputs": [
    {
     "data": {
      "image/png": "[encoded data removed]",
      "text/plain": [
       "<Figure size 1000x400 with 2 Axes>"
      ]
     },
     "metadata": {},
     "output_type": "display_data"
    }
   ],
   "source": [
    "# LSTM\n",
    "fig, ax = plt.subplots(1, 2, figsize=(10, 4))\n",
    "ax[1]\n",
    "# 정확도 그래프\n",
    "# plt.subplots(1,2,1)\n",
    "ax[0].plot(history.history['accuracy'], label='Train Accuracy')\n",
    "ax[0].plot(history.history['val_accuracy'], label='Validation Accuracy')\n",
    "ax[0].set_title('Model Accuracy')\n",
    "ax[0].set_xlabel('Epoch')\n",
    "ax[0].set_ylabel('Accuracy')\n",
    "ax[0].legend()\n",
    "ax[0].grid(True)\n",
    "\n",
    "# 손실 그래프\n",
    "ax[1].plot(history.history['loss'], label='Train Loss')\n",
    "ax[1].plot(history.history['val_loss'], label='Validation Loss')\n",
    "ax[1].set_title('Model Loss')\n",
    "ax[1].set_xlabel('Epoch')\n",
    "ax[1].set_ylabel('Loss')\n",
    "ax[1].legend()\n",
    "ax[1].grid(True)\n",
    "\n",
    "plt.tight_layout()\n",
    "plt.show()"
   ]
  },
  {
   "cell_type": "markdown",
   "id": "013be9e4-864e-4320-be2e-60595bc5d550",
   "metadata": {},
   "source": [
    "# 예측 시험"
   ]
  },
  {
   "cell_type": "code",
   "execution_count": 102,
   "id": "df5bebeb-bed4-4863-a175-a6aea1ec3e99",
   "metadata": {},
   "outputs": [],
   "source": [
    "# model.predict()\n",
    "def predict_model(text):\n",
    "    sample_processed_text = get_jamo(text)\n",
    "    sample_vector = vectorize_text(sample_processed_text, fasttext_model)\n",
    "    if len(sample_vector) == 0:\n",
    "        return(\"String data is too short or not available\")\n",
    "    else:\n",
    "        sample_spaceless_text = replace_space(\" \".join(sample_processed_text))\n",
    "        sample_img = create_sentence_image(sample_spaceless_text, font_path, font_size)\n",
    "        sample_img = np.array(sample_img)\n",
    "        \n",
    "        # 좌표 추출\n",
    "        sample_coordinates = get_coordinates(sample_img)\n",
    "        \n",
    "        x_lim = sample_img.shape[1]\n",
    "        y_lim = sample_img.shape[0]\n",
    "        \n",
    "        # 좌표 정규화\n",
    "        sample_std_coords = std_coordinates(sample_coordinates, x_lim, y_lim)\n",
    "        sample_padded_coords = pad_coords(sample_std_coords, pad_size)\n",
    "    \n",
    "        # 예측\n",
    "        sample_padded_vector = pad_vector(sample_vector, 30)\n",
    "\n",
    "        sample_padded_vector = sample_padded_vector.reshape(1, 30, 100)\n",
    "        sample_padded_coords = sample_padded_coords.reshape(1, 3000, 2)\n",
    "        # print(sample_padded_vector.shape)\n",
    "        # print(sample_padded_coords.shape)\n",
    "        predict = model.predict([sample_padded_vector, sample_padded_coords], verbose=0)\n",
    "        return predict"
   ]
  },
  {
   "cell_type": "code",
   "execution_count": 183,
   "id": "c2ddc269-2266-4883-b6c2-42682101ed8a",
   "metadata": {},
   "outputs": [],
   "source": [
    "sample = \"안녕하세요???? 테스트 데이터입니다.............\"\n",
    "data = predict_model(sample)"
   ]
  },
  {
   "cell_type": "code",
   "execution_count": 184,
   "id": "0ac01850-6627-45d2-aa35-00bc758ff5a7",
   "metadata": {},
   "outputs": [
    {
     "name": "stdout",
     "output_type": "stream",
     "text": [
      "[[0.1550892]]\n"
     ]
    }
   ],
   "source": [
    "print(data)"
   ]
  },
  {
   "cell_type": "code",
   "execution_count": null,
   "id": "ede84add-3093-4932-a0fe-69fa21b31008",
   "metadata": {},
   "outputs": [],
   "source": []
  }
 ],
 "metadata": {
  "kernelspec": {
   "display_name": "Python 3 (ipykernel)",
   "language": "python",
   "name": "python3"
  },
  "language_info": {
   "codemirror_mode": {
    "name": "ipython",
    "version": 3
   },
   "file_extension": ".py",
   "mimetype": "text/x-python",
   "name": "python",
   "nbconvert_exporter": "python",
   "pygments_lexer": "ipython3",
   "version": "3.12.4"
  }
 },
 "nbformat": 4,
 "nbformat_minor": 5
}
