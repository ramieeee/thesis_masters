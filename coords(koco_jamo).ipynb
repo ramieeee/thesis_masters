{
 "cells": [
  {
   "cell_type": "code",
   "execution_count": 1,
   "id": "1bf41cd5-ab91-4c96-a9fd-06471052d918",
   "metadata": {},
   "outputs": [
    {
     "name": "stderr",
     "output_type": "stream",
     "text": [
      "2024-09-27 21:44:32.583882: I tensorflow/core/util/port.cc:153] oneDNN custom operations are on. You may see slightly different numerical results due to floating-point round-off errors from different computation orders. To turn them off, set the environment variable `TF_ENABLE_ONEDNN_OPTS=0`.\n",
      "2024-09-27 21:44:32.590516: E external/local_xla/xla/stream_executor/cuda/cuda_fft.cc:485] Unable to register cuFFT factory: Attempting to register factory for plugin cuFFT when one has already been registered\n",
      "2024-09-27 21:44:32.597931: E external/local_xla/xla/stream_executor/cuda/cuda_dnn.cc:8454] Unable to register cuDNN factory: Attempting to register factory for plugin cuDNN when one has already been registered\n",
      "2024-09-27 21:44:32.600070: E external/local_xla/xla/stream_executor/cuda/cuda_blas.cc:1452] Unable to register cuBLAS factory: Attempting to register factory for plugin cuBLAS when one has already been registered\n",
      "2024-09-27 21:44:32.605850: I tensorflow/core/platform/cpu_feature_guard.cc:210] This TensorFlow binary is optimized to use available CPU instructions in performance-critical operations.\n",
      "To enable the following instructions: AVX2 AVX_VNNI FMA, in other operations, rebuild TensorFlow with the appropriate compiler flags.\n",
      "2024-09-27 21:44:33.151734: W tensorflow/compiler/tf2tensorrt/utils/py_utils.cc:38] TF-TRT Warning: Could not find TensorRT\n"
     ]
    },
    {
     "name": "stdout",
     "output_type": "stream",
     "text": [
      "[PhysicalDevice(name='/physical_device:GPU:0', device_type='GPU')]\n"
     ]
    },
    {
     "name": "stderr",
     "output_type": "stream",
     "text": [
      "WARNING: All log messages before absl::InitializeLog() is called are written to STDERR\n",
      "I0000 00:00:1727441073.920815    2712 cuda_executor.cc:1001] could not open file to read NUMA node: /sys/bus/pci/devices/0000:01:00.0/numa_node\n",
      "Your kernel may have been built without NUMA support.\n",
      "I0000 00:00:1727441073.992493    2712 cuda_executor.cc:1001] could not open file to read NUMA node: /sys/bus/pci/devices/0000:01:00.0/numa_node\n",
      "Your kernel may have been built without NUMA support.\n",
      "I0000 00:00:1727441073.992521    2712 cuda_executor.cc:1001] could not open file to read NUMA node: /sys/bus/pci/devices/0000:01:00.0/numa_node\n",
      "Your kernel may have been built without NUMA support.\n"
     ]
    }
   ],
   "source": [
    "import tensorflow as tf\n",
    "print(tf.config.list_physical_devices('GPU'))"
   ]
  },
  {
   "cell_type": "code",
   "execution_count": 2,
   "id": "ee259028-cb14-469d-9daa-69657f45d43f",
   "metadata": {},
   "outputs": [],
   "source": [
    "import pandas as pd\n",
    "import numpy as np\n",
    "import tensorflow as tf\n",
    "from PIL import Image, ImageDraw, ImageFont\n",
    "import matplotlib.pyplot as plt\n",
    "import re\n",
    "import fasttext"
   ]
  },
  {
   "cell_type": "markdown",
   "id": "f9a8ba5f-22f4-4107-a10c-eecf5f532535",
   "metadata": {},
   "source": [
    "# 데이터 호출 및 파악"
   ]
  },
  {
   "cell_type": "code",
   "execution_count": 19,
   "id": "0c514d6b-da9b-4433-a8b8-25c119120647",
   "metadata": {},
   "outputs": [],
   "source": [
    "df = pd.read_csv('./datasets/koco.train.hate.csv', encoding='utf-8')\n",
    "# df = df[['text', 'label']]\n",
    "df = df.dropna()\n",
    "df = df.reset_index(drop=True)\n",
    "df.columns=['text','label']"
   ]
  },
  {
   "cell_type": "code",
   "execution_count": 20,
   "id": "a0a6564a-377a-4bda-92d7-6386dd8d5c16",
   "metadata": {},
   "outputs": [],
   "source": [
    "df_val = pd.read_csv('./datasets/koco.dev.hate.csv', encoding='utf-8')\n",
    "# df = df[['text', 'label']]\n",
    "df_val = df_val.dropna()\n",
    "df_val = df_val.reset_index(drop=True)\n",
    "df_val.columns=['text','label']"
   ]
  },
  {
   "cell_type": "code",
   "execution_count": 21,
   "id": "0211615b-d95f-447c-bf1c-31bf11f82322",
   "metadata": {},
   "outputs": [
    {
     "data": {
      "text/plain": [
       "label\n",
       "none         3486\n",
       "offensive    2499\n",
       "hate         1911\n",
       "Name: count, dtype: int64"
      ]
     },
     "execution_count": 21,
     "metadata": {},
     "output_type": "execute_result"
    }
   ],
   "source": [
    "df['label'].value_counts()"
   ]
  },
  {
   "cell_type": "code",
   "execution_count": 22,
   "id": "83726e59-2cec-4237-a4a9-e083e6a32bc1",
   "metadata": {},
   "outputs": [
    {
     "data": {
      "text/plain": [
       "label\n",
       "offensive    189\n",
       "none         160\n",
       "hate         122\n",
       "Name: count, dtype: int64"
      ]
     },
     "execution_count": 22,
     "metadata": {},
     "output_type": "execute_result"
    }
   ],
   "source": [
    "df_val['label'].value_counts()"
   ]
  },
  {
   "cell_type": "code",
   "execution_count": 23,
   "id": "880bd9dd-8f41-4990-a52c-fd3785bb1b64",
   "metadata": {},
   "outputs": [
    {
     "data": {
      "text/html": [
       "<div>\n",
       "<style scoped>\n",
       "    .dataframe tbody tr th:only-of-type {\n",
       "        vertical-align: middle;\n",
       "    }\n",
       "\n",
       "    .dataframe tbody tr th {\n",
       "        vertical-align: top;\n",
       "    }\n",
       "\n",
       "    .dataframe thead th {\n",
       "        text-align: right;\n",
       "    }\n",
       "</style>\n",
       "<table border=\"1\" class=\"dataframe\">\n",
       "  <thead>\n",
       "    <tr style=\"text-align: right;\">\n",
       "      <th></th>\n",
       "      <th>text</th>\n",
       "      <th>label</th>\n",
       "    </tr>\n",
       "  </thead>\n",
       "  <tbody>\n",
       "    <tr>\n",
       "      <th>0</th>\n",
       "      <td>(현재 호텔주인 심정) 아18 난 마른하늘에 날벼락맞고 호텔망하게생겼는데 누군 계속...</td>\n",
       "      <td>hate</td>\n",
       "    </tr>\n",
       "    <tr>\n",
       "      <th>1</th>\n",
       "      <td>....한국적인 미인의 대표적인 분...너무나 곱고아름다운모습...그모습뒤의 슬픔을...</td>\n",
       "      <td>none</td>\n",
       "    </tr>\n",
       "    <tr>\n",
       "      <th>2</th>\n",
       "      <td>...못된 넘들...남의 고통을 즐겼던 넘들..이젠 마땅한 처벌을 받아야지..,그래...</td>\n",
       "      <td>hate</td>\n",
       "    </tr>\n",
       "    <tr>\n",
       "      <th>3</th>\n",
       "      <td>1,2화 어설펐는데 3,4화 지나서부터는 갈수록 너무 재밌던데</td>\n",
       "      <td>none</td>\n",
       "    </tr>\n",
       "    <tr>\n",
       "      <th>4</th>\n",
       "      <td>1. 사람 얼굴 손톱으로 긁은것은 인격살해이고2. 동영상이 몰카냐? 메걸리안들 생각...</td>\n",
       "      <td>hate</td>\n",
       "    </tr>\n",
       "    <tr>\n",
       "      <th>...</th>\n",
       "      <td>...</td>\n",
       "      <td>...</td>\n",
       "    </tr>\n",
       "    <tr>\n",
       "      <th>7891</th>\n",
       "      <td>힘내세요~ 응원합니다!!</td>\n",
       "      <td>none</td>\n",
       "    </tr>\n",
       "    <tr>\n",
       "      <th>7892</th>\n",
       "      <td>힘내세요~~삼가 고인의 명복을 빕니다..</td>\n",
       "      <td>none</td>\n",
       "    </tr>\n",
       "    <tr>\n",
       "      <th>7893</th>\n",
       "      <td>힘내세용 ^^ 항상 응원합니닷 ^^ !</td>\n",
       "      <td>none</td>\n",
       "    </tr>\n",
       "    <tr>\n",
       "      <th>7894</th>\n",
       "      <td>힘내소...연기로 답해요.나도 53살 인데 이런일 저런일 다 있더라구요.인격을 믿습...</td>\n",
       "      <td>none</td>\n",
       "    </tr>\n",
       "    <tr>\n",
       "      <th>7895</th>\n",
       "      <td>힘들면 관뒀어야지 그게 현명한거다</td>\n",
       "      <td>none</td>\n",
       "    </tr>\n",
       "  </tbody>\n",
       "</table>\n",
       "<p>7896 rows × 2 columns</p>\n",
       "</div>"
      ],
      "text/plain": [
       "                                                   text label\n",
       "0     (현재 호텔주인 심정) 아18 난 마른하늘에 날벼락맞고 호텔망하게생겼는데 누군 계속...  hate\n",
       "1     ....한국적인 미인의 대표적인 분...너무나 곱고아름다운모습...그모습뒤의 슬픔을...  none\n",
       "2     ...못된 넘들...남의 고통을 즐겼던 넘들..이젠 마땅한 처벌을 받아야지..,그래...  hate\n",
       "3                    1,2화 어설펐는데 3,4화 지나서부터는 갈수록 너무 재밌던데  none\n",
       "4     1. 사람 얼굴 손톱으로 긁은것은 인격살해이고2. 동영상이 몰카냐? 메걸리안들 생각...  hate\n",
       "...                                                 ...   ...\n",
       "7891                                      힘내세요~ 응원합니다!!  none\n",
       "7892                             힘내세요~~삼가 고인의 명복을 빕니다..  none\n",
       "7893                              힘내세용 ^^ 항상 응원합니닷 ^^ !  none\n",
       "7894  힘내소...연기로 답해요.나도 53살 인데 이런일 저런일 다 있더라구요.인격을 믿습...  none\n",
       "7895                                 힘들면 관뒀어야지 그게 현명한거다  none\n",
       "\n",
       "[7896 rows x 2 columns]"
      ]
     },
     "execution_count": 23,
     "metadata": {},
     "output_type": "execute_result"
    }
   ],
   "source": [
    "df"
   ]
  },
  {
   "cell_type": "code",
   "execution_count": 24,
   "id": "13f5e56a-f24e-4cad-a24b-dcba6944efda",
   "metadata": {},
   "outputs": [
    {
     "data": {
      "text/html": [
       "<div>\n",
       "<style scoped>\n",
       "    .dataframe tbody tr th:only-of-type {\n",
       "        vertical-align: middle;\n",
       "    }\n",
       "\n",
       "    .dataframe tbody tr th {\n",
       "        vertical-align: top;\n",
       "    }\n",
       "\n",
       "    .dataframe thead th {\n",
       "        text-align: right;\n",
       "    }\n",
       "</style>\n",
       "<table border=\"1\" class=\"dataframe\">\n",
       "  <thead>\n",
       "    <tr style=\"text-align: right;\">\n",
       "      <th></th>\n",
       "      <th>text</th>\n",
       "      <th>label</th>\n",
       "    </tr>\n",
       "  </thead>\n",
       "  <tbody>\n",
       "    <tr>\n",
       "      <th>0</th>\n",
       "      <td>송중기 시대극은 믿고본다. 첫회 신선하고 좋았다.</td>\n",
       "      <td>none</td>\n",
       "    </tr>\n",
       "    <tr>\n",
       "      <th>1</th>\n",
       "      <td>지현우 나쁜놈</td>\n",
       "      <td>offensive</td>\n",
       "    </tr>\n",
       "    <tr>\n",
       "      <th>2</th>\n",
       "      <td>알바쓰고많이만들면되지 돈욕심없으면골목식당왜나온겨 기댕기게나하고 산에가서팔어라</td>\n",
       "      <td>hate</td>\n",
       "    </tr>\n",
       "    <tr>\n",
       "      <th>3</th>\n",
       "      <td>설마 ㅈ 현정 작가 아니지??</td>\n",
       "      <td>hate</td>\n",
       "    </tr>\n",
       "    <tr>\n",
       "      <th>4</th>\n",
       "      <td>이미자씨 송혜교씨 돈이 그리 많으면 탈세말고 그돈으로 평소에 불우이웃에게 기부도 좀...</td>\n",
       "      <td>offensive</td>\n",
       "    </tr>\n",
       "    <tr>\n",
       "      <th>...</th>\n",
       "      <td>...</td>\n",
       "      <td>...</td>\n",
       "    </tr>\n",
       "    <tr>\n",
       "      <th>466</th>\n",
       "      <td>지현우 범죄 저지르지 않았나요?</td>\n",
       "      <td>offensive</td>\n",
       "    </tr>\n",
       "    <tr>\n",
       "      <th>467</th>\n",
       "      <td>여자인생 망칠 일 있나 ㅋㅋ</td>\n",
       "      <td>hate</td>\n",
       "    </tr>\n",
       "    <tr>\n",
       "      <th>468</th>\n",
       "      <td>근데 전라도에서 사고가 났는데 굳이 서울까지 와서 병원에 가느 이유는?</td>\n",
       "      <td>offensive</td>\n",
       "    </tr>\n",
       "    <tr>\n",
       "      <th>469</th>\n",
       "      <td>할매젖x, 뱃살x, 몸매 s라인, 유륜은 적당해야됨(너무크거나 너무 작아도 x), ...</td>\n",
       "      <td>hate</td>\n",
       "    </tr>\n",
       "    <tr>\n",
       "      <th>470</th>\n",
       "      <td>남자가 잘못한거라면... 반성도 없다면...나였다면 ... 여자처럼 아주 못되게 할...</td>\n",
       "      <td>none</td>\n",
       "    </tr>\n",
       "  </tbody>\n",
       "</table>\n",
       "<p>471 rows × 2 columns</p>\n",
       "</div>"
      ],
      "text/plain": [
       "                                                  text      label\n",
       "0                          송중기 시대극은 믿고본다. 첫회 신선하고 좋았다.       none\n",
       "1                                              지현우 나쁜놈  offensive\n",
       "2           알바쓰고많이만들면되지 돈욕심없으면골목식당왜나온겨 기댕기게나하고 산에가서팔어라       hate\n",
       "3                                     설마 ㅈ 현정 작가 아니지??       hate\n",
       "4    이미자씨 송혜교씨 돈이 그리 많으면 탈세말고 그돈으로 평소에 불우이웃에게 기부도 좀...  offensive\n",
       "..                                                 ...        ...\n",
       "466                                  지현우 범죄 저지르지 않았나요?  offensive\n",
       "467                                    여자인생 망칠 일 있나 ㅋㅋ       hate\n",
       "468            근데 전라도에서 사고가 났는데 굳이 서울까지 와서 병원에 가느 이유는?  offensive\n",
       "469  할매젖x, 뱃살x, 몸매 s라인, 유륜은 적당해야됨(너무크거나 너무 작아도 x), ...       hate\n",
       "470  남자가 잘못한거라면... 반성도 없다면...나였다면 ... 여자처럼 아주 못되게 할...       none\n",
       "\n",
       "[471 rows x 2 columns]"
      ]
     },
     "execution_count": 24,
     "metadata": {},
     "output_type": "execute_result"
    }
   ],
   "source": [
    "df_val"
   ]
  },
  {
   "cell_type": "code",
   "execution_count": 25,
   "id": "33ba02b3-9a53-4440-bc20-d66cfc898402",
   "metadata": {},
   "outputs": [
    {
     "name": "stderr",
     "output_type": "stream",
     "text": [
      "/tmp/ipykernel_2712/164575552.py:1: FutureWarning: Downcasting behavior in `replace` is deprecated and will be removed in a future version. To retain the old behavior, explicitly call `result.infer_objects(copy=False)`. To opt-in to the future behavior, set `pd.set_option('future.no_silent_downcasting', True)`\n",
      "  df['label'] = df['label'].replace({'hate':0, 'offensive':1, 'none':2})\n",
      "/tmp/ipykernel_2712/164575552.py:2: FutureWarning: Downcasting behavior in `replace` is deprecated and will be removed in a future version. To retain the old behavior, explicitly call `result.infer_objects(copy=False)`. To opt-in to the future behavior, set `pd.set_option('future.no_silent_downcasting', True)`\n",
      "  df_val['label'] = df_val['label'].replace({'hate':0, 'offensive':1, 'none':2})\n"
     ]
    }
   ],
   "source": [
    "df['label'] = df['label'].replace({'hate':0, 'offensive':1, 'none':2})\n",
    "df_val['label'] = df_val['label'].replace({'hate':0, 'offensive':1, 'none':2})"
   ]
  },
  {
   "cell_type": "code",
   "execution_count": 26,
   "id": "160a99bb-24d0-4880-a407-1390c597be92",
   "metadata": {},
   "outputs": [],
   "source": [
    "def replace_space(sentence):\n",
    "    new = \"\".join([\"\" if ch == \" \" else ch for ch in sentence])\n",
    "    return new"
   ]
  },
  {
   "cell_type": "code",
   "execution_count": 27,
   "id": "b53b5212-ba79-4983-b0e5-fe1062a5bde4",
   "metadata": {},
   "outputs": [
    {
     "data": {
      "text/html": [
       "<div>\n",
       "<style scoped>\n",
       "    .dataframe tbody tr th:only-of-type {\n",
       "        vertical-align: middle;\n",
       "    }\n",
       "\n",
       "    .dataframe tbody tr th {\n",
       "        vertical-align: top;\n",
       "    }\n",
       "\n",
       "    .dataframe thead th {\n",
       "        text-align: right;\n",
       "    }\n",
       "</style>\n",
       "<table border=\"1\" class=\"dataframe\">\n",
       "  <thead>\n",
       "    <tr style=\"text-align: right;\">\n",
       "      <th></th>\n",
       "      <th>text</th>\n",
       "      <th>label</th>\n",
       "    </tr>\n",
       "  </thead>\n",
       "  <tbody>\n",
       "    <tr>\n",
       "      <th>0</th>\n",
       "      <td>(현재 호텔주인 심정) 아18 난 마른하늘에 날벼락맞고 호텔망하게생겼는데 누군 계속...</td>\n",
       "      <td>0</td>\n",
       "    </tr>\n",
       "    <tr>\n",
       "      <th>1</th>\n",
       "      <td>....한국적인 미인의 대표적인 분...너무나 곱고아름다운모습...그모습뒤의 슬픔을...</td>\n",
       "      <td>2</td>\n",
       "    </tr>\n",
       "    <tr>\n",
       "      <th>2</th>\n",
       "      <td>...못된 넘들...남의 고통을 즐겼던 넘들..이젠 마땅한 처벌을 받아야지..,그래...</td>\n",
       "      <td>0</td>\n",
       "    </tr>\n",
       "    <tr>\n",
       "      <th>3</th>\n",
       "      <td>1,2화 어설펐는데 3,4화 지나서부터는 갈수록 너무 재밌던데</td>\n",
       "      <td>2</td>\n",
       "    </tr>\n",
       "    <tr>\n",
       "      <th>4</th>\n",
       "      <td>1. 사람 얼굴 손톱으로 긁은것은 인격살해이고2. 동영상이 몰카냐? 메걸리안들 생각...</td>\n",
       "      <td>0</td>\n",
       "    </tr>\n",
       "    <tr>\n",
       "      <th>...</th>\n",
       "      <td>...</td>\n",
       "      <td>...</td>\n",
       "    </tr>\n",
       "    <tr>\n",
       "      <th>7891</th>\n",
       "      <td>힘내세요~ 응원합니다!!</td>\n",
       "      <td>2</td>\n",
       "    </tr>\n",
       "    <tr>\n",
       "      <th>7892</th>\n",
       "      <td>힘내세요~~삼가 고인의 명복을 빕니다..</td>\n",
       "      <td>2</td>\n",
       "    </tr>\n",
       "    <tr>\n",
       "      <th>7893</th>\n",
       "      <td>힘내세용 ^^ 항상 응원합니닷 ^^ !</td>\n",
       "      <td>2</td>\n",
       "    </tr>\n",
       "    <tr>\n",
       "      <th>7894</th>\n",
       "      <td>힘내소...연기로 답해요.나도 53살 인데 이런일 저런일 다 있더라구요.인격을 믿습...</td>\n",
       "      <td>2</td>\n",
       "    </tr>\n",
       "    <tr>\n",
       "      <th>7895</th>\n",
       "      <td>힘들면 관뒀어야지 그게 현명한거다</td>\n",
       "      <td>2</td>\n",
       "    </tr>\n",
       "  </tbody>\n",
       "</table>\n",
       "<p>7896 rows × 2 columns</p>\n",
       "</div>"
      ],
      "text/plain": [
       "                                                   text  label\n",
       "0     (현재 호텔주인 심정) 아18 난 마른하늘에 날벼락맞고 호텔망하게생겼는데 누군 계속...      0\n",
       "1     ....한국적인 미인의 대표적인 분...너무나 곱고아름다운모습...그모습뒤의 슬픔을...      2\n",
       "2     ...못된 넘들...남의 고통을 즐겼던 넘들..이젠 마땅한 처벌을 받아야지..,그래...      0\n",
       "3                    1,2화 어설펐는데 3,4화 지나서부터는 갈수록 너무 재밌던데      2\n",
       "4     1. 사람 얼굴 손톱으로 긁은것은 인격살해이고2. 동영상이 몰카냐? 메걸리안들 생각...      0\n",
       "...                                                 ...    ...\n",
       "7891                                      힘내세요~ 응원합니다!!      2\n",
       "7892                             힘내세요~~삼가 고인의 명복을 빕니다..      2\n",
       "7893                              힘내세용 ^^ 항상 응원합니닷 ^^ !      2\n",
       "7894  힘내소...연기로 답해요.나도 53살 인데 이런일 저런일 다 있더라구요.인격을 믿습...      2\n",
       "7895                                 힘들면 관뒀어야지 그게 현명한거다      2\n",
       "\n",
       "[7896 rows x 2 columns]"
      ]
     },
     "execution_count": 27,
     "metadata": {},
     "output_type": "execute_result"
    }
   ],
   "source": [
    "df"
   ]
  },
  {
   "cell_type": "code",
   "execution_count": 28,
   "id": "b051f6d5-785e-4fe3-9d82-4ad64355c778",
   "metadata": {},
   "outputs": [
    {
     "data": {
      "text/html": [
       "<div>\n",
       "<style scoped>\n",
       "    .dataframe tbody tr th:only-of-type {\n",
       "        vertical-align: middle;\n",
       "    }\n",
       "\n",
       "    .dataframe tbody tr th {\n",
       "        vertical-align: top;\n",
       "    }\n",
       "\n",
       "    .dataframe thead th {\n",
       "        text-align: right;\n",
       "    }\n",
       "</style>\n",
       "<table border=\"1\" class=\"dataframe\">\n",
       "  <thead>\n",
       "    <tr style=\"text-align: right;\">\n",
       "      <th></th>\n",
       "      <th>text</th>\n",
       "      <th>label</th>\n",
       "    </tr>\n",
       "  </thead>\n",
       "  <tbody>\n",
       "    <tr>\n",
       "      <th>0</th>\n",
       "      <td>송중기 시대극은 믿고본다. 첫회 신선하고 좋았다.</td>\n",
       "      <td>2</td>\n",
       "    </tr>\n",
       "    <tr>\n",
       "      <th>1</th>\n",
       "      <td>지현우 나쁜놈</td>\n",
       "      <td>1</td>\n",
       "    </tr>\n",
       "    <tr>\n",
       "      <th>2</th>\n",
       "      <td>알바쓰고많이만들면되지 돈욕심없으면골목식당왜나온겨 기댕기게나하고 산에가서팔어라</td>\n",
       "      <td>0</td>\n",
       "    </tr>\n",
       "    <tr>\n",
       "      <th>3</th>\n",
       "      <td>설마 ㅈ 현정 작가 아니지??</td>\n",
       "      <td>0</td>\n",
       "    </tr>\n",
       "    <tr>\n",
       "      <th>4</th>\n",
       "      <td>이미자씨 송혜교씨 돈이 그리 많으면 탈세말고 그돈으로 평소에 불우이웃에게 기부도 좀...</td>\n",
       "      <td>1</td>\n",
       "    </tr>\n",
       "    <tr>\n",
       "      <th>...</th>\n",
       "      <td>...</td>\n",
       "      <td>...</td>\n",
       "    </tr>\n",
       "    <tr>\n",
       "      <th>466</th>\n",
       "      <td>지현우 범죄 저지르지 않았나요?</td>\n",
       "      <td>1</td>\n",
       "    </tr>\n",
       "    <tr>\n",
       "      <th>467</th>\n",
       "      <td>여자인생 망칠 일 있나 ㅋㅋ</td>\n",
       "      <td>0</td>\n",
       "    </tr>\n",
       "    <tr>\n",
       "      <th>468</th>\n",
       "      <td>근데 전라도에서 사고가 났는데 굳이 서울까지 와서 병원에 가느 이유는?</td>\n",
       "      <td>1</td>\n",
       "    </tr>\n",
       "    <tr>\n",
       "      <th>469</th>\n",
       "      <td>할매젖x, 뱃살x, 몸매 s라인, 유륜은 적당해야됨(너무크거나 너무 작아도 x), ...</td>\n",
       "      <td>0</td>\n",
       "    </tr>\n",
       "    <tr>\n",
       "      <th>470</th>\n",
       "      <td>남자가 잘못한거라면... 반성도 없다면...나였다면 ... 여자처럼 아주 못되게 할...</td>\n",
       "      <td>2</td>\n",
       "    </tr>\n",
       "  </tbody>\n",
       "</table>\n",
       "<p>471 rows × 2 columns</p>\n",
       "</div>"
      ],
      "text/plain": [
       "                                                  text  label\n",
       "0                          송중기 시대극은 믿고본다. 첫회 신선하고 좋았다.      2\n",
       "1                                              지현우 나쁜놈      1\n",
       "2           알바쓰고많이만들면되지 돈욕심없으면골목식당왜나온겨 기댕기게나하고 산에가서팔어라      0\n",
       "3                                     설마 ㅈ 현정 작가 아니지??      0\n",
       "4    이미자씨 송혜교씨 돈이 그리 많으면 탈세말고 그돈으로 평소에 불우이웃에게 기부도 좀...      1\n",
       "..                                                 ...    ...\n",
       "466                                  지현우 범죄 저지르지 않았나요?      1\n",
       "467                                    여자인생 망칠 일 있나 ㅋㅋ      0\n",
       "468            근데 전라도에서 사고가 났는데 굳이 서울까지 와서 병원에 가느 이유는?      1\n",
       "469  할매젖x, 뱃살x, 몸매 s라인, 유륜은 적당해야됨(너무크거나 너무 작아도 x), ...      0\n",
       "470  남자가 잘못한거라면... 반성도 없다면...나였다면 ... 여자처럼 아주 못되게 할...      2\n",
       "\n",
       "[471 rows x 2 columns]"
      ]
     },
     "execution_count": 28,
     "metadata": {},
     "output_type": "execute_result"
    }
   ],
   "source": [
    "df_val"
   ]
  },
  {
   "cell_type": "code",
   "execution_count": 29,
   "id": "94319b9c-a3f7-4753-8def-b0169062baad",
   "metadata": {},
   "outputs": [],
   "source": [
    "def is_only_dots(s):\n",
    "    return all(char == '.' for char in s)"
   ]
  },
  {
   "cell_type": "code",
   "execution_count": 30,
   "id": "ae381f39-c3de-4bd9-901b-367077b1d21f",
   "metadata": {},
   "outputs": [],
   "source": [
    "def is_only_space(s):\n",
    "    return all(char == ' ' for char in s)"
   ]
  },
  {
   "cell_type": "code",
   "execution_count": 31,
   "id": "cb40f1b4-b2ef-44f7-9263-5e9109422aa4",
   "metadata": {},
   "outputs": [],
   "source": [
    "def is_only_space_hangul(s):\n",
    "    return all(ord(char) == 12644 for char in s)"
   ]
  },
  {
   "cell_type": "code",
   "execution_count": 32,
   "id": "eb9b0a37-54dc-4e69-8134-570913e4e15b",
   "metadata": {},
   "outputs": [
    {
     "data": {
      "text/plain": [
       "(7896, 2)"
      ]
     },
     "execution_count": 32,
     "metadata": {},
     "output_type": "execute_result"
    }
   ],
   "source": [
    "df.shape"
   ]
  },
  {
   "cell_type": "code",
   "execution_count": 35,
   "id": "7fe180ac-1c0d-4532-b721-917350524e4d",
   "metadata": {},
   "outputs": [],
   "source": [
    "# dot만 포함하는 row\n",
    "df = df[~df['text'].apply(is_only_dots)]\n",
    "df_val = df_val[~df_val['text'].apply(is_only_dots)]"
   ]
  },
  {
   "cell_type": "code",
   "execution_count": 37,
   "id": "2a1681c5-c909-4c1f-a662-51414dc40d30",
   "metadata": {},
   "outputs": [
    {
     "name": "stdout",
     "output_type": "stream",
     "text": [
      "(7896, 2)\n",
      "(471, 2)\n"
     ]
    }
   ],
   "source": [
    "print(df.shape)\n",
    "print(df_val.shape)"
   ]
  },
  {
   "cell_type": "code",
   "execution_count": 38,
   "id": "5f0e464e-12b2-496d-be85-395745581104",
   "metadata": {},
   "outputs": [],
   "source": [
    "df = df[~df['text'].apply(is_only_space)]\n",
    "df_val = df_val[~df_val['text'].apply(is_only_space)]"
   ]
  },
  {
   "cell_type": "code",
   "execution_count": 39,
   "id": "80ae9165-4d0f-4e02-8539-1e9f6e9e314c",
   "metadata": {},
   "outputs": [
    {
     "name": "stdout",
     "output_type": "stream",
     "text": [
      "(7896, 2)\n",
      "(471, 2)\n"
     ]
    }
   ],
   "source": [
    "print(df.shape)\n",
    "print(df_val.shape)"
   ]
  },
  {
   "cell_type": "code",
   "execution_count": 40,
   "id": "9ce44dac-b200-4c99-ba82-e1ab2aeed5fc",
   "metadata": {},
   "outputs": [],
   "source": [
    "df = df[~df['text'].apply(is_only_space_hangul)]\n",
    "df_val = df_val[~df_val['text'].apply(is_only_space_hangul)]"
   ]
  },
  {
   "cell_type": "code",
   "execution_count": 41,
   "id": "746edc21-53bb-4837-b10e-d7974345ccbe",
   "metadata": {},
   "outputs": [
    {
     "name": "stdout",
     "output_type": "stream",
     "text": [
      "(7896, 2)\n",
      "(471, 2)\n"
     ]
    }
   ],
   "source": [
    "print(df.shape)\n",
    "print(df_val.shape)"
   ]
  },
  {
   "cell_type": "code",
   "execution_count": 42,
   "id": "1a4ea888-650b-401c-ae19-90e8ff4ba8dc",
   "metadata": {},
   "outputs": [],
   "source": [
    "df = df.reset_index(drop=True)"
   ]
  },
  {
   "cell_type": "code",
   "execution_count": 43,
   "id": "d2ee5f90-1747-4683-bcf2-75a8148e643c",
   "metadata": {},
   "outputs": [],
   "source": [
    "sam = df[6400:]"
   ]
  },
  {
   "cell_type": "code",
   "execution_count": 44,
   "id": "220910f1-a84b-41b9-bc13-1dc5ec876795",
   "metadata": {},
   "outputs": [
    {
     "data": {
      "text/plain": [
       "(1496, 2)"
      ]
     },
     "execution_count": 44,
     "metadata": {},
     "output_type": "execute_result"
    }
   ],
   "source": [
    "sam.shape"
   ]
  },
  {
   "cell_type": "code",
   "execution_count": 68,
   "id": "b8a6a64c-257d-4ded-877e-78383dc47c84",
   "metadata": {},
   "outputs": [
    {
     "name": "stdout",
     "output_type": "stream",
     "text": [
      "Train data value count\n",
      "0: 1911개 24.20%\n",
      "1: 2499개 31.65%\n",
      "2: 3486개 44.15%\n"
     ]
    }
   ],
   "source": [
    "val_counts = df['label'].value_counts()\n",
    "print(\"Train data value count\")\n",
    "print(f\"0: {val_counts[0]}개 {val_counts[0]/len(df)*100:.2f}%\")\n",
    "print(f\"1: {val_counts[1]}개 {val_counts[1]/len(df)*100:.2f}%\")\n",
    "print(f\"2: {val_counts[2]}개 {val_counts[2]/len(df)*100:.2f}%\")"
   ]
  },
  {
   "cell_type": "code",
   "execution_count": 69,
   "id": "c5baeebc-45ec-4f35-879a-d0b4a6c25cb2",
   "metadata": {},
   "outputs": [
    {
     "name": "stdout",
     "output_type": "stream",
     "text": [
      "Test data value count\n",
      "0: 359개 24.00%\n",
      "1: 468개 31.28%\n",
      "2: 669개 44.72%\n"
     ]
    }
   ],
   "source": [
    "val_counts = sam['label'].value_counts()\n",
    "print(\"Test data value count\")\n",
    "print(f\"0: {val_counts[0]}개 {val_counts[0]/len(sam)*100:.2f}%\")\n",
    "print(f\"1: {val_counts[1]}개 {val_counts[1]/len(sam)*100:.2f}%\")\n",
    "print(f\"2: {val_counts[2]}개 {val_counts[2]/len(sam)*100:.2f}%\")"
   ]
  },
  {
   "cell_type": "code",
   "execution_count": 70,
   "id": "03f66eb4-55c4-4caf-bd23-31558b668e58",
   "metadata": {},
   "outputs": [
    {
     "name": "stdout",
     "output_type": "stream",
     "text": [
      "최대 길이 : 135\n",
      "최소 길이 : 4\n",
      "리뷰의 평균 길이 : 38.710739614994935\n"
     ]
    },
    {
     "data": {
      "image/png": "[encoded data removed]",
      "text/plain": [
       "<Figure size 1200x600 with 1 Axes>"
      ]
     },
     "metadata": {},
     "output_type": "display_data"
    }
   ],
   "source": [
    "plt.figure(figsize=(12, 6))\n",
    "print('최대 길이 :', max(len(text) for text in df['text']))\n",
    "print('최소 길이 :', min(len(text) for text in df['text']))\n",
    "print('리뷰의 평균 길이 :', sum(df['text'].str.len())/len(df))\n",
    "plt.hist([len(text) for text in df['text']], bins=200)\n",
    "plt.xlabel('length of samples')\n",
    "plt.ylabel('number of samples')\n",
    "plt.show()"
   ]
  },
  {
   "cell_type": "code",
   "execution_count": 71,
   "id": "d8c0e53a-be77-4497-8746-c78bcea4531e",
   "metadata": {},
   "outputs": [],
   "source": [
    "def below_threshold_len(max_len, nested_list):\n",
    "  count = 0\n",
    "  for sentence in nested_list:\n",
    "    if(len(sentence) <= max_len):\n",
    "        count = count + 1\n",
    "  print('전체 샘플 중 길이가 %s 이하인 샘플의 비율: %s'%(max_len, (count / len(nested_list))*100))"
   ]
  },
  {
   "cell_type": "code",
   "execution_count": 74,
   "id": "1d3ea901-6f37-4dc9-a391-07b40268524e",
   "metadata": {},
   "outputs": [],
   "source": [
    "threshold = 40"
   ]
  },
  {
   "cell_type": "code",
   "execution_count": 75,
   "id": "0d6c4aeb-c8c1-4d15-86f0-418ffe050015",
   "metadata": {},
   "outputs": [
    {
     "name": "stdout",
     "output_type": "stream",
     "text": [
      "전체 샘플 중 길이가 40 이하인 샘플의 비율: 63.28520770010132\n"
     ]
    }
   ],
   "source": [
    "below_threshold_len(threshold, df['text'])"
   ]
  },
  {
   "cell_type": "code",
   "execution_count": 64,
   "id": "703c8165-22dd-4db4-94c6-3fe9c9c0e4c7",
   "metadata": {},
   "outputs": [
    {
     "name": "stdout",
     "output_type": "stream",
     "text": [
      "Normal speech counts :1911 (24.20%)\n",
      "Hate speech counts :2499 (31.65%)\n"
     ]
    }
   ],
   "source": [
    "counts = df['label'].value_counts()\n",
    "print(f'Normal speech counts :{counts[0]} ({counts[0]/len(df)*100:.2f}%)')\n",
    "print(f'Hate speech counts :{counts[1]} ({counts[1]/len(df)*100:.2f}%)')"
   ]
  },
  {
   "cell_type": "markdown",
   "id": "3a97a98e-df28-4de3-8b02-1ce7a63ec1fd",
   "metadata": {},
   "source": [
    "# 이미지화"
   ]
  },
  {
   "cell_type": "code",
   "execution_count": 76,
   "id": "7c795372-3f31-450d-a38a-e04070a31a0e",
   "metadata": {},
   "outputs": [],
   "source": [
    "# 이미지로 변환하는 함수\n",
    "def create_sentence_image(sentence, font_path, font_size, background_color=(0, 0, 0), text_color=(255, 255, 255)):\n",
    "  sentence_split = sentence.split('\\n')\n",
    "  width = len(max(sentence_split, key=len)) # 길이가 가장 긴 리스트의 길이로 너비 결정\n",
    "  height = len(sentence_split) # 개행으로 나눠진 리스트의 길이로 높이 결정\n",
    "\n",
    "  image_width, image_height = (width*16), height*24  # 픽셀 사이즈 조정\n",
    "  image = Image.new('RGB', (image_width, image_height), background_color)\n",
    "  draw = ImageDraw.Draw(image)\n",
    "\n",
    "  # 폰트 호출\n",
    "  font = ImageFont.truetype(font_path, font_size)\n",
    "\n",
    "  # Get the text size\n",
    "  # text_width, text_height = draw.textlength(sentence, font=font)\n",
    "  _, _, text_width, text_height = draw.textbbox((0, 0), sentence, font=font)\n",
    "\n",
    "  # Calculate the position to center the text\n",
    "  x = (image_width - text_width) // 2\n",
    "  y = (image_height - text_height) // 2\n",
    "\n",
    "  # Draw the letter on the image\n",
    "  draw.text((x, y), sentence, font=font, fill=text_color)\n",
    "\n",
    "  # Convert image to numpy array\n",
    "  img_array = np.array(image)\n",
    "\n",
    "  # Find the bounding box of non-background pixels\n",
    "  non_background = np.where(img_array != background_color)\n",
    "  top, left = np.min(non_background[0]), np.min(non_background[1])\n",
    "  bottom, right = np.max(non_background[0]), np.max(non_background[1])\n",
    "\n",
    "  # Crop the image\n",
    "  cropped_image = image.crop((left, top, right+1, bottom+1))\n",
    "\n",
    "  return cropped_image"
   ]
  },
  {
   "cell_type": "code",
   "execution_count": 77,
   "id": "9ccf3574-fde1-4b29-b346-54c7858e88fe",
   "metadata": {},
   "outputs": [],
   "source": [
    "# 폰트 설정\n",
    "font_path = \"./utils/arial-unicode.ttf\"\n",
    "font_size = 12"
   ]
  },
  {
   "cell_type": "code",
   "execution_count": 78,
   "id": "355da47e-40a1-48f3-8144-2a15183691f6",
   "metadata": {
    "scrolled": true
   },
   "outputs": [
    {
     "data": {
      "image/jpeg": "[encoded data removed]",
      "image/png": "[encoded data removed]",
      "text/plain": [
       "<PIL.Image.Image image mode=RGB size=237x11>"
      ]
     },
     "metadata": {},
     "output_type": "display_data"
    }
   ],
   "source": [
    "text = \"안녕하세요???? 테스트 데이터입니다.............\"\n",
    "sample = replace_space(text)\n",
    "img = create_sentence_image(str(sample), font_path, font_size)\n",
    "display(img)\n",
    "img = np.array(img)"
   ]
  },
  {
   "cell_type": "code",
   "execution_count": 79,
   "id": "8cc22da8-9388-4ea0-8816-5f12c3031b48",
   "metadata": {},
   "outputs": [
    {
     "name": "stdout",
     "output_type": "stream",
     "text": [
      "Y axis max value: 11\n",
      "X axis max value: 237\n"
     ]
    }
   ],
   "source": [
    "print(f\"Y axis max value: {img.shape[0]}\")\n",
    "print(f\"X axis max value: {img.shape[1]}\")"
   ]
  },
  {
   "cell_type": "markdown",
   "id": "8518ff22-a1e1-472e-b875-7e7d3245d69e",
   "metadata": {},
   "source": [
    "# coordinates 추출"
   ]
  },
  {
   "cell_type": "code",
   "execution_count": 80,
   "id": "162b6fdf-92b6-4a2e-a28f-81cccc8a6ac1",
   "metadata": {},
   "outputs": [],
   "source": [
    "# convert image into coordinates\n",
    "def get_coordinates(img):\n",
    "  img_arr = np.array(img)\n",
    "  coordinates = []\n",
    "  for x in range(len(img_arr)):\n",
    "    for y in range(len(img_arr[x])):\n",
    "      if max(img_arr[x][y]) != 0:\n",
    "        coordinates.append([y,x])\n",
    "  return np.array(coordinates)"
   ]
  },
  {
   "cell_type": "code",
   "execution_count": 81,
   "id": "ad517714-ca2d-4b70-bf81-7ac1b49606af",
   "metadata": {},
   "outputs": [],
   "source": [
    "def extract_x_y(img_arr, coordinates):\n",
    "  # x = np.array([point[0] for point in coordinates]) / len(img_arr[0])\n",
    "  # y = np.array([point[1] for point in coordinates]) / len(img_arr)\n",
    "  x = np.array([point[0] for point in coordinates])\n",
    "  y = np.array([point[1] for point in coordinates])\n",
    "  # y = 1-y\n",
    "  return x, y"
   ]
  },
  {
   "cell_type": "code",
   "execution_count": 82,
   "id": "cfea5f28-cf79-4a1d-b626-09752535dc9a",
   "metadata": {},
   "outputs": [],
   "source": [
    "def draw_text(x, y):\n",
    "  # plotting\n",
    "  plt.scatter(x, y, color='blue')\n",
    "\n",
    "  # Set plot title and labels\n",
    "  plt.title('Coordinates for Sentence')\n",
    "  plt.xlabel('X-axis')\n",
    "  plt.ylabel('Y-axis')\n",
    "\n",
    "  # Display plot\n",
    "  plt.show()"
   ]
  },
  {
   "cell_type": "code",
   "execution_count": 83,
   "id": "130b0c01-2ee6-4cfc-9945-b982f6b50ce3",
   "metadata": {},
   "outputs": [],
   "source": [
    "coordinates = get_coordinates(img)"
   ]
  },
  {
   "cell_type": "code",
   "execution_count": 84,
   "id": "dcee5027-39bd-4966-986d-594cc44edc1d",
   "metadata": {},
   "outputs": [
    {
     "data": {
      "text/plain": [
       "(965, 2)"
      ]
     },
     "execution_count": 84,
     "metadata": {},
     "output_type": "execute_result"
    }
   ],
   "source": [
    "coordinates.shape"
   ]
  },
  {
   "cell_type": "code",
   "execution_count": 85,
   "id": "b99fa256-c7bd-483b-a617-9b1fc73026a7",
   "metadata": {},
   "outputs": [
    {
     "data": {
      "image/png": "[encoded data removed]",
      "text/plain": [
       "<Figure size 1200x100 with 1 Axes>"
      ]
     },
     "metadata": {},
     "output_type": "display_data"
    }
   ],
   "source": [
    "# plotting\n",
    "import matplotlib.pyplot as plt\n",
    "\n",
    "x, y = extract_x_y(img, coordinates)\n",
    "\n",
    "plt.figure(figsize=(12, 1))\n",
    "plt.scatter(x, y, color='blue')\n",
    "\n",
    "# Set plot title and labels\n",
    "plt.title('Coordinates for Sentence')\n",
    "plt.gca().invert_yaxis()\n",
    "plt.xlabel('X-axis')\n",
    "plt.ylabel('Y-axis')\n",
    "plt.grid(True)  # 그리드 추가\n",
    "\n",
    "# Display plot\n",
    "plt.show()"
   ]
  },
  {
   "cell_type": "markdown",
   "id": "12be6de6-83f5-4cad-899f-cfdb0b98307d",
   "metadata": {},
   "source": [
    "# 좌표값 정규화"
   ]
  },
  {
   "cell_type": "code",
   "execution_count": 86,
   "id": "7f925d27-89b5-4b7d-828a-e9f64cf9a891",
   "metadata": {},
   "outputs": [],
   "source": [
    "def std_coordinates(data, max_x, max_y):\n",
    "    standardized_data = np.zeros_like(data, dtype=float)\n",
    "    standardized_data[:, 0] = data[:, 0] / max_x\n",
    "    standardized_data[:, 1] = data[:, 1] / max_y\n",
    "    return standardized_data"
   ]
  },
  {
   "cell_type": "code",
   "execution_count": 87,
   "id": "56b2b095-bfcd-4b75-af10-2641990106f8",
   "metadata": {},
   "outputs": [
    {
     "data": {
      "text/plain": [
       "array([130,   3])"
      ]
     },
     "execution_count": 87,
     "metadata": {},
     "output_type": "execute_result"
    }
   ],
   "source": [
    "coordinates[300]"
   ]
  },
  {
   "cell_type": "code",
   "execution_count": 88,
   "id": "80419a9d-a58e-448e-b5d8-d8d8c16c4069",
   "metadata": {},
   "outputs": [
    {
     "data": {
      "text/plain": [
       "(11, 237, 3)"
      ]
     },
     "execution_count": 88,
     "metadata": {},
     "output_type": "execute_result"
    }
   ],
   "source": [
    "img.shape"
   ]
  },
  {
   "cell_type": "code",
   "execution_count": 89,
   "id": "698b40e4-b9da-439a-b18f-a43b90ac71ae",
   "metadata": {},
   "outputs": [],
   "source": [
    "std_coords = std_coordinates(coordinates, img.shape[1], img.shape[0])"
   ]
  },
  {
   "cell_type": "code",
   "execution_count": 90,
   "id": "22d84925-328e-41c6-bda9-e1117a2d3959",
   "metadata": {},
   "outputs": [
    {
     "data": {
      "text/plain": [
       "(965, 2)"
      ]
     },
     "execution_count": 90,
     "metadata": {},
     "output_type": "execute_result"
    }
   ],
   "source": [
    "std_coords.shape"
   ]
  },
  {
   "cell_type": "code",
   "execution_count": 91,
   "id": "f465658f-32e8-4912-867d-af565a3bf259",
   "metadata": {},
   "outputs": [
    {
     "data": {
      "image/png": "[encoded data removed]",
      "text/plain": [
       "<Figure size 1200x100 with 1 Axes>"
      ]
     },
     "metadata": {},
     "output_type": "display_data"
    }
   ],
   "source": [
    "# 산점도 그리기\n",
    "plt.figure(figsize=(12, 1))\n",
    "plt.scatter(std_coords[:, 0], std_coords[:, 1], alpha=0.5)\n",
    "plt.title('Standardized Coordinates')\n",
    "plt.xlabel('X-axis')\n",
    "plt.ylabel('Y-axis')\n",
    "plt.gca().invert_yaxis()\n",
    "# plt.xlim(0, 1)  # x축 범위를 0에서 1로 설정\n",
    "# plt.ylim(0, 1)  # y축 범위를 0에서 1로 설정\n",
    "plt.grid(True)  # 그리드 추가\n",
    "\n",
    "# 플롯 표시\n",
    "plt.show()"
   ]
  },
  {
   "cell_type": "code",
   "execution_count": 93,
   "id": "d518c2d7-e7a6-4df5-b56c-96ea5e7a7abb",
   "metadata": {},
   "outputs": [],
   "source": [
    "padded_coords = pad_coords(std_coords)"
   ]
  },
  {
   "cell_type": "code",
   "execution_count": 94,
   "id": "3c46d3c0-ed0d-4e9a-b78a-b91b33d47da7",
   "metadata": {},
   "outputs": [
    {
     "data": {
      "image/png": "[encoded data removed]",
      "text/plain": [
       "<Figure size 1200x100 with 1 Axes>"
      ]
     },
     "metadata": {},
     "output_type": "display_data"
    }
   ],
   "source": [
    "# 산점도 그리기\n",
    "plt.figure(figsize=(12, 1))\n",
    "plt.scatter(padded_coords[:, 0], padded_coords[:, 1], alpha=0.5)\n",
    "plt.title('Padded Coordinates')\n",
    "plt.xlabel('X-axis')\n",
    "plt.ylabel('Y-axis')\n",
    "plt.gca().invert_yaxis()\n",
    "# plt.xlim(0, 1)  # x축 범위를 0에서 1로 설정\n",
    "# plt.ylim(0, 1)  # y축 범위를 0에서 1로 설정\n",
    "plt.grid(True)  # 그리드 추가\n",
    "\n",
    "# 플롯 표시\n",
    "plt.show()"
   ]
  },
  {
   "cell_type": "markdown",
   "id": "408c44d7-1076-430c-94fb-13a1014b6146",
   "metadata": {},
   "source": [
    "# 전처리"
   ]
  },
  {
   "cell_type": "code",
   "execution_count": 92,
   "id": "f4a83713-b734-47d8-bbcb-4de7db2fcb71",
   "metadata": {},
   "outputs": [],
   "source": [
    "# 패딩\n",
    "def pad_coords(coords, pad_size=3000):\n",
    "    sorted_data = coords[coords[:, 0].argsort()]\n",
    "    if len(sorted_data) >= pad_size:\n",
    "        return sorted_data[:pad_size]\n",
    "    else:\n",
    "        diff = pad_size - len(sorted_data)\n",
    "        sorted_data = np.pad(sorted_data, ((0, diff), (0, 0)), mode='constant', constant_values=0)\n",
    "    return sorted_data"
   ]
  },
  {
   "cell_type": "code",
   "execution_count": 95,
   "id": "05945b60-0e70-407d-b6e6-3f80fc5f9b0b",
   "metadata": {},
   "outputs": [],
   "source": [
    "# stopwords 호출\n",
    "with open('./datasets/stopwords.txt', 'r') as f:\n",
    "    lines = f.readlines()\n",
    "\n",
    "# lines = [line.strip() for line in lines]\n",
    "stopwords = list([line.strip() for line in lines if line != \"\"][1:])"
   ]
  },
  {
   "cell_type": "code",
   "execution_count": 96,
   "id": "2d1a218a-385a-4dd4-8593-84a65c382ec0",
   "metadata": {},
   "outputs": [],
   "source": [
    "# fasttext 모델 load\n",
    "fasttext_model = fasttext.load_model(\"fasttext_koco_jamo_model.bin\")"
   ]
  },
  {
   "cell_type": "code",
   "execution_count": 97,
   "id": "377c92ef-0c09-4e66-b7dd-a5128be928e3",
   "metadata": {},
   "outputs": [],
   "source": [
    "from jamo import h2j, j2hcj\n",
    "from konlpy.tag import Okt\n",
    "okt = Okt()"
   ]
  },
  {
   "cell_type": "code",
   "execution_count": 98,
   "id": "9e0c6dcb-456a-4b6c-aa53-5106ee4cfe1c",
   "metadata": {},
   "outputs": [],
   "source": [
    "def vectorize_text(morph_list, model):\n",
    "    vectors = []\n",
    "    for i in range(len(morph_list)):\n",
    "        vectors.append(model[morph_list[i]])\n",
    "    return vectors"
   ]
  },
  {
   "cell_type": "code",
   "execution_count": 99,
   "id": "5292b75a-19a1-4530-9d66-f2b1bdd11455",
   "metadata": {},
   "outputs": [],
   "source": [
    "# 정규식 패턴: 같은 문자가 3번 이상 반복되는 경우\n",
    "def reduce_repeated_chars(s):\n",
    "    pattern = r'(.)\\1{2,}'\n",
    "    return re.sub(pattern, r'\\1\\1\\1', s)"
   ]
  },
  {
   "cell_type": "code",
   "execution_count": 100,
   "id": "2d24a803-f246-4881-9c7f-31b98484242a",
   "metadata": {},
   "outputs": [],
   "source": [
    "def get_jamo(s):\n",
    "    reduced_char = reduce_repeated_chars(s)\n",
    "    words = okt.morphs(reduced_char, norm=True)\n",
    "    processed_words = [word for word in words if word not in stopwords]\n",
    "    jamo_list = [j2hcj(h2j(word)) for word in processed_words]\n",
    "    return jamo_list"
   ]
  },
  {
   "cell_type": "code",
   "execution_count": 101,
   "id": "93cfd7d6-3b23-40e9-90a5-33e0b64690f1",
   "metadata": {},
   "outputs": [
    {
     "name": "stderr",
     "output_type": "stream",
     "text": [
      "<>:1: SyntaxWarning: invalid escape sequence '\\-'\n",
      "<>:1: SyntaxWarning: invalid escape sequence '\\-'\n",
      "/tmp/ipykernel_2712/3797488092.py:1: SyntaxWarning: invalid escape sequence '\\-'\n",
      "  s = '재밌다 ㅋㅋㅋㅋㅋㅋㅋㅋ ㄱ\\-ㅈ\\- test..... !+ 테스트당 아'\n"
     ]
    },
    {
     "data": {
      "text/plain": [
       "['재밌다', 'ㅋㅋㅋ', 'ㄱ', '\\\\-', 'ㅈ', '\\\\-', 'test', '...', '!+', '테스트', '당', '아']"
      ]
     },
     "execution_count": 101,
     "metadata": {},
     "output_type": "execute_result"
    }
   ],
   "source": [
    "s = '재밌다 ㅋㅋㅋㅋㅋㅋㅋㅋ ㄱ\\-ㅈ\\- test..... !+ 테스트당 아'\n",
    "s = reduce_repeated_chars(s)\n",
    "s = okt.morphs(s, norm=True)\n",
    "s"
   ]
  },
  {
   "cell_type": "code",
   "execution_count": 102,
   "id": "f5b15c8e-1737-40f0-bd52-fa8b52aa4387",
   "metadata": {},
   "outputs": [
    {
     "name": "stderr",
     "output_type": "stream",
     "text": [
      "<>:1: SyntaxWarning: invalid escape sequence '\\-'\n",
      "<>:1: SyntaxWarning: invalid escape sequence '\\-'\n",
      "/tmp/ipykernel_2712/3188698262.py:1: SyntaxWarning: invalid escape sequence '\\-'\n",
      "  s = '재밌다 ㅋㅋㅋㅋㅋㅋㅋㅋ ㄱ\\-ㅈ\\- test..... !+ 테스트당 아'\n"
     ]
    },
    {
     "data": {
      "text/plain": [
       "['ㅈㅐㅁㅣㅆㄷㅏ',\n",
       " 'ㅋㅋㅋ',\n",
       " 'ㄱ',\n",
       " '\\\\-',\n",
       " 'ㅈ',\n",
       " '\\\\-',\n",
       " 'test',\n",
       " '...',\n",
       " '!+',\n",
       " 'ㅌㅔㅅㅡㅌㅡ',\n",
       " 'ㄷㅏㅇ']"
      ]
     },
     "execution_count": 102,
     "metadata": {},
     "output_type": "execute_result"
    }
   ],
   "source": [
    "s = '재밌다 ㅋㅋㅋㅋㅋㅋㅋㅋ ㄱ\\-ㅈ\\- test..... !+ 테스트당 아'\n",
    "get_jamo(s)"
   ]
  },
  {
   "cell_type": "code",
   "execution_count": 103,
   "id": "bb8eb47c-dafc-449d-ad80-11b0561efdc9",
   "metadata": {},
   "outputs": [
    {
     "name": "stderr",
     "output_type": "stream",
     "text": [
      "<>:1: SyntaxWarning: invalid escape sequence '\\-'\n",
      "<>:1: SyntaxWarning: invalid escape sequence '\\-'\n",
      "/tmp/ipykernel_2712/2800769426.py:1: SyntaxWarning: invalid escape sequence '\\-'\n",
      "  s = '재밌다 ㅋㅋㅋㅋㅋㅋㅋㅋ ㄱ\\-ㅈ\\- test..... !+ 테스트당 아'\n"
     ]
    },
    {
     "data": {
      "text/plain": [
       "'재밌다ㅋㅋㅋㅋㅋㅋㅋㅋㄱ\\\\-ㅈ\\\\-test.....!+테스트당아'"
      ]
     },
     "execution_count": 103,
     "metadata": {},
     "output_type": "execute_result"
    }
   ],
   "source": [
    "s = '재밌다 ㅋㅋㅋㅋㅋㅋㅋㅋ ㄱ\\-ㅈ\\- test..... !+ 테스트당 아'\n",
    "replace_space(s)"
   ]
  },
  {
   "cell_type": "code",
   "execution_count": 104,
   "id": "a1a4da9f-c390-4057-9c6b-d0f5a18ab67c",
   "metadata": {},
   "outputs": [],
   "source": [
    "test = vectorize_text(get_jamo('안녕? ㅎㅎ 사랑해'), fasttext_model)"
   ]
  },
  {
   "cell_type": "code",
   "execution_count": 105,
   "id": "7a55f9a9-47cc-4251-a268-1eb2dc24d50d",
   "metadata": {},
   "outputs": [
    {
     "data": {
      "text/plain": [
       "['ㅅㅏㄹㅏㅇ', 'ㅎㅐ']"
      ]
     },
     "execution_count": 105,
     "metadata": {},
     "output_type": "execute_result"
    }
   ],
   "source": [
    "get_jamo(\"사랑해\")"
   ]
  },
  {
   "cell_type": "code",
   "execution_count": 106,
   "id": "b660c28b-950e-4544-8884-9ba261b997a7",
   "metadata": {},
   "outputs": [
    {
     "data": {
      "text/plain": [
       "(100,)"
      ]
     },
     "execution_count": 106,
     "metadata": {},
     "output_type": "execute_result"
    }
   ],
   "source": [
    "np.array(test[0]).shape"
   ]
  },
  {
   "cell_type": "code",
   "execution_count": 107,
   "id": "45234996-791c-4a8b-a69a-dd946abc27dd",
   "metadata": {},
   "outputs": [
    {
     "data": {
      "text/plain": [
       "array([ True,  True,  True,  True,  True,  True,  True,  True,  True,\n",
       "        True,  True,  True,  True,  True,  True,  True,  True,  True,\n",
       "        True,  True,  True,  True,  True,  True,  True,  True,  True,\n",
       "        True,  True,  True,  True,  True,  True,  True,  True,  True,\n",
       "        True,  True,  True,  True,  True,  True,  True,  True,  True,\n",
       "        True,  True,  True,  True,  True,  True,  True,  True,  True,\n",
       "        True,  True,  True,  True,  True,  True,  True,  True,  True,\n",
       "        True,  True,  True,  True,  True,  True,  True,  True,  True,\n",
       "        True,  True,  True,  True,  True,  True,  True,  True,  True,\n",
       "        True,  True,  True,  True,  True,  True,  True,  True,  True,\n",
       "        True,  True,  True,  True,  True,  True,  True,  True,  True,\n",
       "        True])"
      ]
     },
     "execution_count": 107,
     "metadata": {},
     "output_type": "execute_result"
    }
   ],
   "source": [
    "test[-1] == fasttext_model['ㅎㅐ']"
   ]
  },
  {
   "cell_type": "code",
   "execution_count": 108,
   "id": "b29de837-3f99-471d-8f1f-6ad7ba04e685",
   "metadata": {},
   "outputs": [],
   "source": [
    "pad_size = 3000"
   ]
  },
  {
   "cell_type": "code",
   "execution_count": 109,
   "id": "13de9a26-cc8e-4ceb-befc-ef0b901f302b",
   "metadata": {
    "scrolled": true
   },
   "outputs": [
    {
     "name": "stdout",
     "output_type": "stream",
     "text": [
      "0\n",
      "1000\n",
      "2000\n",
      "3000\n",
      "4000\n",
      "5000\n",
      "6000\n",
      "7000\n",
      "Preprocess complete\n",
      "7896\n"
     ]
    }
   ],
   "source": [
    "vector_data = []\n",
    "coords_data = []\n",
    "# img_data = []\n",
    "coords_by_length = []\n",
    "label_list = []\n",
    "\n",
    "for i in range(len(df)):\n",
    "    text = df['text'][i]\n",
    "    processed_text = get_jamo(text)\n",
    "    vector_list = vectorize_text(processed_text, fasttext_model)\n",
    "    if len(vector_list) == 0:\n",
    "        continue\n",
    "    else:\n",
    "        vector_data.append(vector_list)\n",
    "        # spaceless_text = replace_space(text)\n",
    "        spaceless_text = replace_space(\" \".join(processed_text))\n",
    "        img = create_sentence_image(spaceless_text, font_path, font_size)\n",
    "        # resized_img = resize_image(img)\n",
    "        # img_data.append(resized_img)\n",
    "        img = np.array(img)\n",
    "        \n",
    "        # 좌표 추출\n",
    "        coordinates = get_coordinates(img)\n",
    "        \n",
    "        x_lim = img.shape[1]\n",
    "        y_lim = img.shape[0]\n",
    "        \n",
    "        # 좌표 정규화\n",
    "        std_coords = std_coordinates(coordinates, x_lim, y_lim)\n",
    "        coords_by_length.append(std_coords.shape[0])\n",
    "        padded_coords = pad_coords(std_coords, pad_size)\n",
    "    \n",
    "        coords_data.append(padded_coords)\n",
    "        label_list.append(df['label'][i])\n",
    "\n",
    "    if i % 1000 == 0:\n",
    "        print(i)\n",
    "    \n",
    "print(\"Preprocess complete\")\n",
    "print(len(coords_data))"
   ]
  },
  {
   "cell_type": "code",
   "execution_count": 110,
   "id": "301e58c3-f6db-4642-8443-569f6552fbcf",
   "metadata": {},
   "outputs": [
    {
     "name": "stdout",
     "output_type": "stream",
     "text": [
      "0\n",
      "Preprocess complete\n",
      "471\n"
     ]
    }
   ],
   "source": [
    "val_vector_data = []\n",
    "val_coords_data = []\n",
    "# img_data = []\n",
    "val_coords_by_length = []\n",
    "val_label_list = []\n",
    "\n",
    "for i in range(len(df_val)):\n",
    "    text = df_val['text'][i]\n",
    "    processed_text = get_jamo(text)\n",
    "    vector_list = vectorize_text(processed_text, fasttext_model)\n",
    "    if len(vector_list) == 0:\n",
    "        continue\n",
    "    else:\n",
    "        val_vector_data.append(vector_list)\n",
    "        # spaceless_text = replace_space(text)\n",
    "        spaceless_text = replace_space(\" \".join(processed_text))\n",
    "        img = create_sentence_image(spaceless_text, font_path, font_size)\n",
    "        # resized_img = resize_image(img)\n",
    "        # img_data.append(resized_img)\n",
    "        img = np.array(img)\n",
    "        \n",
    "        # 좌표 추출\n",
    "        coordinates = get_coordinates(img)\n",
    "        \n",
    "        x_lim = img.shape[1]\n",
    "        y_lim = img.shape[0]\n",
    "        \n",
    "        # 좌표 정규화\n",
    "        std_coords = std_coordinates(coordinates, x_lim, y_lim)\n",
    "        val_coords_by_length.append(std_coords.shape[0])\n",
    "        padded_coords = pad_coords(std_coords, pad_size)\n",
    "    \n",
    "        val_coords_data.append(padded_coords)\n",
    "        val_label_list.append(df['label'][i])\n",
    "\n",
    "    if i % 1000 == 0:\n",
    "        print(i)\n",
    "    \n",
    "print(\"Preprocess complete\")\n",
    "print(len(val_coords_data))"
   ]
  },
  {
   "cell_type": "code",
   "execution_count": 78,
   "id": "7ea83194-3759-4638-bfd7-e990a6dc6017",
   "metadata": {},
   "outputs": [],
   "source": [
    "# # load processed data\n",
    "# padded_vector_data = np.load('./datasets/padded_vector_data_naver.npy')\n",
    "# coords_data = np.load('./datasets/coords_data_naver.npy')\n",
    "# label_list = np.load('./datasets/label_list_naver.npy')"
   ]
  },
  {
   "cell_type": "code",
   "execution_count": 111,
   "id": "3e2ea63c-3141-4f6b-98df-1c33607e9ae7",
   "metadata": {},
   "outputs": [
    {
     "data": {
      "text/plain": [
       "'(현재 호텔주인 심정) 아18 난 마른하늘에 날벼락맞고 호텔망하게생겼는데 누군 계속 추모받네....'"
      ]
     },
     "execution_count": 111,
     "metadata": {},
     "output_type": "execute_result"
    }
   ],
   "source": [
    "df['text'][0]"
   ]
  },
  {
   "cell_type": "code",
   "execution_count": 59,
   "id": "5fcbf044-1828-41cc-a681-61c702f97b75",
   "metadata": {},
   "outputs": [],
   "source": [
    "# display(img_data[0])"
   ]
  },
  {
   "cell_type": "code",
   "execution_count": 114,
   "id": "7d489431-20b2-4608-b8c3-b08c58b8dbb1",
   "metadata": {},
   "outputs": [
    {
     "data": {
      "image/png": "[encoded data removed]",
      "text/plain": [
       "<Figure size 1200x100 with 1 Axes>"
      ]
     },
     "metadata": {},
     "output_type": "display_data"
    }
   ],
   "source": [
    "plt.figure(figsize=(12, 1))\n",
    "plt.scatter(coords_data[0][:, 0], coords_data[0][:, 1], alpha=0.5)\n",
    "plt.title('Standardized Coordinates')\n",
    "plt.xlabel('X-axis')\n",
    "plt.ylabel('Y-axis')\n",
    "plt.gca().invert_yaxis()\n",
    "# plt.xlim(0, 1)\n",
    "# plt.ylim(0, 1)\n",
    "plt.grid(True)\n",
    "\n",
    "# 플롯 표시\n",
    "plt.show()"
   ]
  },
  {
   "cell_type": "code",
   "execution_count": 115,
   "id": "268de62e-449d-4229-bab4-b4f4a77b09e1",
   "metadata": {},
   "outputs": [
    {
     "name": "stdout",
     "output_type": "stream",
     "text": [
      "max length:  6458\n",
      "min length:  28\n",
      "avg length:  1783.5181104356636\n"
     ]
    }
   ],
   "source": [
    "# coords 평균 길이\n",
    "max_len = max(i for i in coords_by_length)\n",
    "min_len = min(i for i in coords_by_length)\n",
    "average = sum(i for i in coords_by_length) / len(coords_by_length)\n",
    "\n",
    "print(\"max length: \", max_len)\n",
    "print(\"min length: \", min_len)\n",
    "print(\"avg length: \", average)"
   ]
  },
  {
   "cell_type": "code",
   "execution_count": 116,
   "id": "0d1e1e60-20e8-4a13-858e-c2cd9008f429",
   "metadata": {},
   "outputs": [
    {
     "name": "stdout",
     "output_type": "stream",
     "text": [
      "max length:  52\n",
      "min length:  1\n",
      "avg length:  13.214918946301925\n"
     ]
    }
   ],
   "source": [
    "# vector 평균 길이\n",
    "vec_max_len = max(len(i) for i in vector_data)\n",
    "vec_min_len = min(len(i) for i in vector_data)\n",
    "vec_average = sum(len(i) for i in vector_data) / len(vector_data)\n",
    "\n",
    "print(\"max length: \", vec_max_len)\n",
    "print(\"min length: \", vec_min_len)\n",
    "print(\"avg length: \", vec_average)"
   ]
  },
  {
   "cell_type": "markdown",
   "id": "34111206-410b-4b85-a227-90d6b55d8b9c",
   "metadata": {},
   "source": [
    "# 정규화"
   ]
  },
  {
   "cell_type": "code",
   "execution_count": 117,
   "id": "019819cc-ea7c-48c0-ba1a-85c72ef8e1d1",
   "metadata": {},
   "outputs": [],
   "source": [
    "# vector 패딩\n",
    "def pad_vector(vec, pad_size=30):\n",
    "    padded = []\n",
    "    if len(vec) >= pad_size:\n",
    "        return np.array(vec[:pad_size])\n",
    "    else:\n",
    "        diff = pad_size - len(vec)\n",
    "        padded = np.pad(vec, ((0, diff), (0, 0)), mode='constant', constant_values=0)\n",
    "    return np.array(padded)"
   ]
  },
  {
   "cell_type": "code",
   "execution_count": 118,
   "id": "0cf667be-f764-4b42-97d9-c71077f11def",
   "metadata": {},
   "outputs": [
    {
     "data": {
      "text/plain": [
       "(50, 100)"
      ]
     },
     "execution_count": 118,
     "metadata": {},
     "output_type": "execute_result"
    }
   ],
   "source": [
    "pad_vector(vector_data[0],50).shape"
   ]
  },
  {
   "cell_type": "code",
   "execution_count": 119,
   "id": "d9e1bcce-abeb-4856-83ff-2dea06d1d75d",
   "metadata": {},
   "outputs": [],
   "source": [
    "# 벡터 제로패딩\n",
    "padded_vector_data = []\n",
    "for i in range(len(vector_data)):\n",
    "    padded_vector_data.append(pad_vector(vector_data[i], 30))\n",
    "padded_vector_data = np.array(padded_vector_data)"
   ]
  },
  {
   "cell_type": "code",
   "execution_count": 120,
   "id": "b14f134b-ce4b-471e-9d06-bed720526473",
   "metadata": {},
   "outputs": [],
   "source": [
    "# 벡터 제로패딩\n",
    "val_padded_vector_data = []\n",
    "for i in range(len(val_vector_data)):\n",
    "    val_padded_vector_data.append(pad_vector(val_vector_data[i], 30))\n",
    "val_padded_vector_data = np.array(val_padded_vector_data)"
   ]
  },
  {
   "cell_type": "code",
   "execution_count": 125,
   "id": "88f87c24-a76d-4400-a73d-d9672704013e",
   "metadata": {},
   "outputs": [
    {
     "name": "stdout",
     "output_type": "stream",
     "text": [
      "7896\n",
      "7896\n",
      "(7896, 30, 100)\n"
     ]
    }
   ],
   "source": [
    "print(len(vector_data))\n",
    "print(len(coords_data))\n",
    "print(padded_vector_data.shape)"
   ]
  },
  {
   "cell_type": "code",
   "execution_count": 126,
   "id": "5d9ad0ef-0606-404c-b053-6366390f6607",
   "metadata": {},
   "outputs": [
    {
     "name": "stdout",
     "output_type": "stream",
     "text": [
      "471\n",
      "471\n",
      "(471, 30, 100)\n"
     ]
    }
   ],
   "source": [
    "print(len(val_vector_data))\n",
    "print(len(val_coords_data))\n",
    "print(val_padded_vector_data.shape)"
   ]
  },
  {
   "cell_type": "code",
   "execution_count": null,
   "id": "fe75cb7b-b5f5-4d24-957c-adae36c14e87",
   "metadata": {},
   "outputs": [],
   "source": []
  },
  {
   "cell_type": "markdown",
   "id": "347eb802-9671-4382-aab8-74deef39a253",
   "metadata": {},
   "source": [
    "# 데이터 분할"
   ]
  },
  {
   "cell_type": "code",
   "execution_count": 129,
   "id": "b183eb22-06dd-4550-90b4-b826767d06ae",
   "metadata": {},
   "outputs": [
    {
     "name": "stdout",
     "output_type": "stream",
     "text": [
      "(6400, 30, 100)\n",
      "(6400, 3000, 2)\n",
      "(6400,)\n",
      "(471, 30, 100)\n",
      "(471, 3000, 2)\n",
      "(471,)\n",
      "(1496, 30, 100)\n",
      "(1496, 3000, 2)\n",
      "(1496,)\n"
     ]
    }
   ],
   "source": [
    "# # 데이터 분할\n",
    "x_train = padded_vector_data[:6400]\n",
    "x_train_coords = np.array(coords_data)[:6400]\n",
    "y_train = np.array(label_list)[:6400]\n",
    "\n",
    "x_train_val = val_padded_vector_data[:]\n",
    "x_train_coords_val = np.array(val_coords_data)[:]\n",
    "y_train_val = np.array(val_label_list)[:]\n",
    "\n",
    "x_test = padded_vector_data[6400:]\n",
    "x_test_coords = np.array(coords_data)[6400:]\n",
    "y_test = np.array(label_list)[6400:]\n",
    "\n",
    "print(x_train.shape)\n",
    "print(x_train_coords.shape)\n",
    "print(y_train.shape)\n",
    "\n",
    "print(x_train_val.shape)\n",
    "print(x_train_coords_val.shape)\n",
    "print(y_train_val.shape)\n",
    "\n",
    "print(x_test.shape)\n",
    "print(x_test_coords.shape)\n",
    "print(y_test.shape)"
   ]
  },
  {
   "cell_type": "markdown",
   "id": "030a798e-67da-4ee4-82fc-904b061f4996",
   "metadata": {},
   "source": [
    "# 모델 설계"
   ]
  },
  {
   "cell_type": "code",
   "execution_count": 130,
   "id": "781b16d6-14b6-4ab4-bfb8-73b197792af3",
   "metadata": {},
   "outputs": [],
   "source": [
    "import tensorflow.keras.layers\n",
    "from tensorflow.keras.layers import Input, Conv2D, Conv1D, Flatten, Dense, Concatenate, MaxPool2D, MaxPool1D, Dropout, LSTM, Embedding\n",
    "from tensorflow.keras.models import Model, Sequential"
   ]
  },
  {
   "cell_type": "code",
   "execution_count": 144,
   "id": "70624e7c-6d3b-410d-8d70-cd524b5bba7d",
   "metadata": {},
   "outputs": [],
   "source": [
    "# # 벡터 입력\n",
    "# vector_input = Input(shape=(30, 100))\n",
    "# x1 = LSTM(128, activation='relu')(vector_input)\n",
    "# x1 = Flatten()(x1)\n",
    "\n",
    "# # 글자 좌표 입력\n",
    "# coords_input = Input(shape=(3000,2))\n",
    "# x2 = Dense(512, activation='relu')(coords_input)\n",
    "# x2 = Dense(128, activation='relu')(x2)\n",
    "# x2 = Flatten()(x2)  # Flatten the output of Dense layer\n",
    "\n",
    "# # 결합\n",
    "# combined = Concatenate()([x1, x2])\n",
    "# x3 = Dense(64, activation='relu')(combined)\n",
    "# x3 = Dense(32, activation='relu')(x3)\n",
    "# output = Dense(1, activation='sigmoid')(x3)\n",
    "\n",
    "# # 모델 정의\n",
    "# model = Model(inputs=[vector_input, coords_input], outputs=output) --- 84.92 acc\n",
    "\n",
    "\n",
    "# 벡터 입력\n",
    "vector_input = Input(shape=(30, 100))\n",
    "x1 = LSTM(64, activation='relu')(vector_input)\n",
    "x1 = Flatten()(x1)\n",
    "\n",
    "# 글자 좌표 입력\n",
    "coords_input = Input(shape=(3000,2))\n",
    "x2 = Dense(512, activation='relu')(coords_input)\n",
    "x2 = Dense(128, activation='relu')(x2)\n",
    "x2 = Flatten()(x2)  # Flatten the output of Dense layer\n",
    "\n",
    "# 결합\n",
    "combined = Concatenate()([x1, x2])\n",
    "x3 = Dense(64, activation='relu')(combined)\n",
    "x3 = Dense(32, activation='relu')(x3)\n",
    "output = Dense(3, activation='softmax')(x3)\n",
    "\n",
    "# 모델 정의\n",
    "model = Model(inputs=[vector_input, coords_input], outputs=output)"
   ]
  },
  {
   "cell_type": "code",
   "execution_count": 29,
   "id": "ad154f92-4d97-4b69-b49d-902d3fa28a7e",
   "metadata": {},
   "outputs": [],
   "source": [
    "# 좌표만\n",
    "# 글자 좌표 입력\n",
    "coords_input = Input(shape=(3000,2))\n",
    "x1 = Dense(512, activation='relu')(coords_input)\n",
    "x1 = Flatten()(x1)  # Flatten the output of Dense layer\n",
    "x1 = Dense(128, activation='relu')(x1)\n",
    "x1 = Dropout(0.4)(x1)\n",
    "output = Dense(1, activation='sigmoid')(x1)\n",
    "\n",
    "# 모델 정의\n",
    "model = Model(inputs=coords_input, outputs=output)"
   ]
  },
  {
   "cell_type": "code",
   "execution_count": 132,
   "id": "a6208dc4-f3db-410b-902f-2ac9c7bc735b",
   "metadata": {},
   "outputs": [
    {
     "name": "stderr",
     "output_type": "stream",
     "text": [
      "/home/sdm/miniconda3/envs/dl/lib/python3.12/site-packages/keras/src/layers/rnn/rnn.py:204: UserWarning: Do not pass an `input_shape`/`input_dim` argument to a layer. When using Sequential models, prefer using an `Input(shape)` object as the first layer in the model instead.\n",
      "  super().__init__(**kwargs)\n"
     ]
    }
   ],
   "source": [
    "model = Sequential([\n",
    "    LSTM(128, input_shape=(30, 100)),\n",
    "    Dense(1, activation='sigmoid')\n",
    "])"
   ]
  },
  {
   "cell_type": "code",
   "execution_count": 30,
   "id": "5e20b11a-49db-4b6e-8c12-1e793e531dee",
   "metadata": {},
   "outputs": [],
   "source": [
    "# LSTM, CNN\n",
    "vector_input = Input(shape=(30, 100))\n",
    "x1 = LSTM(128, activation='relu')(vector_input)\n",
    "\n",
    "# 결합\n",
    "coords_input = Input(shape=(3000, 2))\n",
    "x2 = Conv1D(64, 3, activation='relu')(coords_input)\n",
    "x2 = MaxPool1D()(x2)\n",
    "x2 = Dropout(0.25)(x2)\n",
    "x2 = Conv1D(32, 3, activation='relu')(x2)\n",
    "x2 = MaxPool1D()(x2)\n",
    "x2 = Flatten()(x2)\n",
    "\n",
    "# 결합\n",
    "combined = Concatenate()([x1, x2])\n",
    "x3 = Dense(512, activation='relu')(combined)\n",
    "x3 = Dropout(0.25)(x3)\n",
    "output = Dense(1, activation='sigmoid')(x3)\n",
    "\n",
    "# 모델 정의\n",
    "model = Model(inputs=[vector_input, coords_input], outputs=output)"
   ]
  },
  {
   "cell_type": "code",
   "execution_count": 137,
   "id": "e26e65d5-e2df-47fe-a5f9-959838789911",
   "metadata": {},
   "outputs": [
    {
     "data": {
      "text/html": [
       "<pre style=\"white-space:pre;overflow-x:auto;line-height:normal;font-family:Menlo,'DejaVu Sans Mono',consolas,'Courier New',monospace\"><span style=\"font-weight: bold\">Model: \"functional_1\"</span>\n",
       "</pre>\n"
      ],
      "text/plain": [
       "\u001b[1mModel: \"functional_1\"\u001b[0m\n"
      ]
     },
     "metadata": {},
     "output_type": "display_data"
    },
    {
     "data": {
      "text/html": [
       "<pre style=\"white-space:pre;overflow-x:auto;line-height:normal;font-family:Menlo,'DejaVu Sans Mono',consolas,'Courier New',monospace\">┏━━━━━━━━━━━━━━━━━━━━━┳━━━━━━━━━━━━━━━━━━━┳━━━━━━━━━━━━┳━━━━━━━━━━━━━━━━━━━┓\n",
       "┃<span style=\"font-weight: bold\"> Layer (type)        </span>┃<span style=\"font-weight: bold\"> Output Shape      </span>┃<span style=\"font-weight: bold\">    Param # </span>┃<span style=\"font-weight: bold\"> Connected to      </span>┃\n",
       "┡━━━━━━━━━━━━━━━━━━━━━╇━━━━━━━━━━━━━━━━━━━╇━━━━━━━━━━━━╇━━━━━━━━━━━━━━━━━━━┩\n",
       "│ input_layer_3       │ (<span style=\"color: #00d7ff; text-decoration-color: #00d7ff\">None</span>, <span style=\"color: #00af00; text-decoration-color: #00af00\">3000</span>, <span style=\"color: #00af00; text-decoration-color: #00af00\">2</span>)   │          <span style=\"color: #00af00; text-decoration-color: #00af00\">0</span> │ -                 │\n",
       "│ (<span style=\"color: #0087ff; text-decoration-color: #0087ff\">InputLayer</span>)        │                   │            │                   │\n",
       "├─────────────────────┼───────────────────┼────────────┼───────────────────┤\n",
       "│ input_layer_2       │ (<span style=\"color: #00d7ff; text-decoration-color: #00d7ff\">None</span>, <span style=\"color: #00af00; text-decoration-color: #00af00\">30</span>, <span style=\"color: #00af00; text-decoration-color: #00af00\">100</span>)   │          <span style=\"color: #00af00; text-decoration-color: #00af00\">0</span> │ -                 │\n",
       "│ (<span style=\"color: #0087ff; text-decoration-color: #0087ff\">InputLayer</span>)        │                   │            │                   │\n",
       "├─────────────────────┼───────────────────┼────────────┼───────────────────┤\n",
       "│ dense_5 (<span style=\"color: #0087ff; text-decoration-color: #0087ff\">Dense</span>)     │ (<span style=\"color: #00d7ff; text-decoration-color: #00d7ff\">None</span>, <span style=\"color: #00af00; text-decoration-color: #00af00\">3000</span>, <span style=\"color: #00af00; text-decoration-color: #00af00\">512</span>) │      <span style=\"color: #00af00; text-decoration-color: #00af00\">1,536</span> │ input_layer_3[<span style=\"color: #00af00; text-decoration-color: #00af00\">0</span>]… │\n",
       "├─────────────────────┼───────────────────┼────────────┼───────────────────┤\n",
       "│ lstm_1 (<span style=\"color: #0087ff; text-decoration-color: #0087ff\">LSTM</span>)       │ (<span style=\"color: #00d7ff; text-decoration-color: #00d7ff\">None</span>, <span style=\"color: #00af00; text-decoration-color: #00af00\">64</span>)        │     <span style=\"color: #00af00; text-decoration-color: #00af00\">42,240</span> │ input_layer_2[<span style=\"color: #00af00; text-decoration-color: #00af00\">0</span>]… │\n",
       "├─────────────────────┼───────────────────┼────────────┼───────────────────┤\n",
       "│ dense_6 (<span style=\"color: #0087ff; text-decoration-color: #0087ff\">Dense</span>)     │ (<span style=\"color: #00d7ff; text-decoration-color: #00d7ff\">None</span>, <span style=\"color: #00af00; text-decoration-color: #00af00\">3000</span>, <span style=\"color: #00af00; text-decoration-color: #00af00\">128</span>) │     <span style=\"color: #00af00; text-decoration-color: #00af00\">65,664</span> │ dense_5[<span style=\"color: #00af00; text-decoration-color: #00af00\">0</span>][<span style=\"color: #00af00; text-decoration-color: #00af00\">0</span>]     │\n",
       "├─────────────────────┼───────────────────┼────────────┼───────────────────┤\n",
       "│ flatten_2 (<span style=\"color: #0087ff; text-decoration-color: #0087ff\">Flatten</span>) │ (<span style=\"color: #00d7ff; text-decoration-color: #00d7ff\">None</span>, <span style=\"color: #00af00; text-decoration-color: #00af00\">64</span>)        │          <span style=\"color: #00af00; text-decoration-color: #00af00\">0</span> │ lstm_1[<span style=\"color: #00af00; text-decoration-color: #00af00\">0</span>][<span style=\"color: #00af00; text-decoration-color: #00af00\">0</span>]      │\n",
       "├─────────────────────┼───────────────────┼────────────┼───────────────────┤\n",
       "│ flatten_3 (<span style=\"color: #0087ff; text-decoration-color: #0087ff\">Flatten</span>) │ (<span style=\"color: #00d7ff; text-decoration-color: #00d7ff\">None</span>, <span style=\"color: #00af00; text-decoration-color: #00af00\">384000</span>)    │          <span style=\"color: #00af00; text-decoration-color: #00af00\">0</span> │ dense_6[<span style=\"color: #00af00; text-decoration-color: #00af00\">0</span>][<span style=\"color: #00af00; text-decoration-color: #00af00\">0</span>]     │\n",
       "├─────────────────────┼───────────────────┼────────────┼───────────────────┤\n",
       "│ concatenate_1       │ (<span style=\"color: #00d7ff; text-decoration-color: #00d7ff\">None</span>, <span style=\"color: #00af00; text-decoration-color: #00af00\">384064</span>)    │          <span style=\"color: #00af00; text-decoration-color: #00af00\">0</span> │ flatten_2[<span style=\"color: #00af00; text-decoration-color: #00af00\">0</span>][<span style=\"color: #00af00; text-decoration-color: #00af00\">0</span>],  │\n",
       "│ (<span style=\"color: #0087ff; text-decoration-color: #0087ff\">Concatenate</span>)       │                   │            │ flatten_3[<span style=\"color: #00af00; text-decoration-color: #00af00\">0</span>][<span style=\"color: #00af00; text-decoration-color: #00af00\">0</span>]   │\n",
       "├─────────────────────┼───────────────────┼────────────┼───────────────────┤\n",
       "│ dense_7 (<span style=\"color: #0087ff; text-decoration-color: #0087ff\">Dense</span>)     │ (<span style=\"color: #00d7ff; text-decoration-color: #00d7ff\">None</span>, <span style=\"color: #00af00; text-decoration-color: #00af00\">64</span>)        │ <span style=\"color: #00af00; text-decoration-color: #00af00\">24,580,160</span> │ concatenate_1[<span style=\"color: #00af00; text-decoration-color: #00af00\">0</span>]… │\n",
       "├─────────────────────┼───────────────────┼────────────┼───────────────────┤\n",
       "│ dense_8 (<span style=\"color: #0087ff; text-decoration-color: #0087ff\">Dense</span>)     │ (<span style=\"color: #00d7ff; text-decoration-color: #00d7ff\">None</span>, <span style=\"color: #00af00; text-decoration-color: #00af00\">32</span>)        │      <span style=\"color: #00af00; text-decoration-color: #00af00\">2,080</span> │ dense_7[<span style=\"color: #00af00; text-decoration-color: #00af00\">0</span>][<span style=\"color: #00af00; text-decoration-color: #00af00\">0</span>]     │\n",
       "├─────────────────────┼───────────────────┼────────────┼───────────────────┤\n",
       "│ dense_9 (<span style=\"color: #0087ff; text-decoration-color: #0087ff\">Dense</span>)     │ (<span style=\"color: #00d7ff; text-decoration-color: #00d7ff\">None</span>, <span style=\"color: #00af00; text-decoration-color: #00af00\">3</span>)         │         <span style=\"color: #00af00; text-decoration-color: #00af00\">99</span> │ dense_8[<span style=\"color: #00af00; text-decoration-color: #00af00\">0</span>][<span style=\"color: #00af00; text-decoration-color: #00af00\">0</span>]     │\n",
       "└─────────────────────┴───────────────────┴────────────┴───────────────────┘\n",
       "</pre>\n"
      ],
      "text/plain": [
       "┏━━━━━━━━━━━━━━━━━━━━━┳━━━━━━━━━━━━━━━━━━━┳━━━━━━━━━━━━┳━━━━━━━━━━━━━━━━━━━┓\n",
       "┃\u001b[1m \u001b[0m\u001b[1mLayer (type)       \u001b[0m\u001b[1m \u001b[0m┃\u001b[1m \u001b[0m\u001b[1mOutput Shape     \u001b[0m\u001b[1m \u001b[0m┃\u001b[1m \u001b[0m\u001b[1m   Param #\u001b[0m\u001b[1m \u001b[0m┃\u001b[1m \u001b[0m\u001b[1mConnected to     \u001b[0m\u001b[1m \u001b[0m┃\n",
       "┡━━━━━━━━━━━━━━━━━━━━━╇━━━━━━━━━━━━━━━━━━━╇━━━━━━━━━━━━╇━━━━━━━━━━━━━━━━━━━┩\n",
       "│ input_layer_3       │ (\u001b[38;5;45mNone\u001b[0m, \u001b[38;5;34m3000\u001b[0m, \u001b[38;5;34m2\u001b[0m)   │          \u001b[38;5;34m0\u001b[0m │ -                 │\n",
       "│ (\u001b[38;5;33mInputLayer\u001b[0m)        │                   │            │                   │\n",
       "├─────────────────────┼───────────────────┼────────────┼───────────────────┤\n",
       "│ input_layer_2       │ (\u001b[38;5;45mNone\u001b[0m, \u001b[38;5;34m30\u001b[0m, \u001b[38;5;34m100\u001b[0m)   │          \u001b[38;5;34m0\u001b[0m │ -                 │\n",
       "│ (\u001b[38;5;33mInputLayer\u001b[0m)        │                   │            │                   │\n",
       "├─────────────────────┼───────────────────┼────────────┼───────────────────┤\n",
       "│ dense_5 (\u001b[38;5;33mDense\u001b[0m)     │ (\u001b[38;5;45mNone\u001b[0m, \u001b[38;5;34m3000\u001b[0m, \u001b[38;5;34m512\u001b[0m) │      \u001b[38;5;34m1,536\u001b[0m │ input_layer_3[\u001b[38;5;34m0\u001b[0m]… │\n",
       "├─────────────────────┼───────────────────┼────────────┼───────────────────┤\n",
       "│ lstm_1 (\u001b[38;5;33mLSTM\u001b[0m)       │ (\u001b[38;5;45mNone\u001b[0m, \u001b[38;5;34m64\u001b[0m)        │     \u001b[38;5;34m42,240\u001b[0m │ input_layer_2[\u001b[38;5;34m0\u001b[0m]… │\n",
       "├─────────────────────┼───────────────────┼────────────┼───────────────────┤\n",
       "│ dense_6 (\u001b[38;5;33mDense\u001b[0m)     │ (\u001b[38;5;45mNone\u001b[0m, \u001b[38;5;34m3000\u001b[0m, \u001b[38;5;34m128\u001b[0m) │     \u001b[38;5;34m65,664\u001b[0m │ dense_5[\u001b[38;5;34m0\u001b[0m][\u001b[38;5;34m0\u001b[0m]     │\n",
       "├─────────────────────┼───────────────────┼────────────┼───────────────────┤\n",
       "│ flatten_2 (\u001b[38;5;33mFlatten\u001b[0m) │ (\u001b[38;5;45mNone\u001b[0m, \u001b[38;5;34m64\u001b[0m)        │          \u001b[38;5;34m0\u001b[0m │ lstm_1[\u001b[38;5;34m0\u001b[0m][\u001b[38;5;34m0\u001b[0m]      │\n",
       "├─────────────────────┼───────────────────┼────────────┼───────────────────┤\n",
       "│ flatten_3 (\u001b[38;5;33mFlatten\u001b[0m) │ (\u001b[38;5;45mNone\u001b[0m, \u001b[38;5;34m384000\u001b[0m)    │          \u001b[38;5;34m0\u001b[0m │ dense_6[\u001b[38;5;34m0\u001b[0m][\u001b[38;5;34m0\u001b[0m]     │\n",
       "├─────────────────────┼───────────────────┼────────────┼───────────────────┤\n",
       "│ concatenate_1       │ (\u001b[38;5;45mNone\u001b[0m, \u001b[38;5;34m384064\u001b[0m)    │          \u001b[38;5;34m0\u001b[0m │ flatten_2[\u001b[38;5;34m0\u001b[0m][\u001b[38;5;34m0\u001b[0m],  │\n",
       "│ (\u001b[38;5;33mConcatenate\u001b[0m)       │                   │            │ flatten_3[\u001b[38;5;34m0\u001b[0m][\u001b[38;5;34m0\u001b[0m]   │\n",
       "├─────────────────────┼───────────────────┼────────────┼───────────────────┤\n",
       "│ dense_7 (\u001b[38;5;33mDense\u001b[0m)     │ (\u001b[38;5;45mNone\u001b[0m, \u001b[38;5;34m64\u001b[0m)        │ \u001b[38;5;34m24,580,160\u001b[0m │ concatenate_1[\u001b[38;5;34m0\u001b[0m]… │\n",
       "├─────────────────────┼───────────────────┼────────────┼───────────────────┤\n",
       "│ dense_8 (\u001b[38;5;33mDense\u001b[0m)     │ (\u001b[38;5;45mNone\u001b[0m, \u001b[38;5;34m32\u001b[0m)        │      \u001b[38;5;34m2,080\u001b[0m │ dense_7[\u001b[38;5;34m0\u001b[0m][\u001b[38;5;34m0\u001b[0m]     │\n",
       "├─────────────────────┼───────────────────┼────────────┼───────────────────┤\n",
       "│ dense_9 (\u001b[38;5;33mDense\u001b[0m)     │ (\u001b[38;5;45mNone\u001b[0m, \u001b[38;5;34m3\u001b[0m)         │         \u001b[38;5;34m99\u001b[0m │ dense_8[\u001b[38;5;34m0\u001b[0m][\u001b[38;5;34m0\u001b[0m]     │\n",
       "└─────────────────────┴───────────────────┴────────────┴───────────────────┘\n"
      ]
     },
     "metadata": {},
     "output_type": "display_data"
    },
    {
     "data": {
      "text/html": [
       "<pre style=\"white-space:pre;overflow-x:auto;line-height:normal;font-family:Menlo,'DejaVu Sans Mono',consolas,'Courier New',monospace\"><span style=\"font-weight: bold\"> Total params: </span><span style=\"color: #00af00; text-decoration-color: #00af00\">24,691,779</span> (94.19 MB)\n",
       "</pre>\n"
      ],
      "text/plain": [
       "\u001b[1m Total params: \u001b[0m\u001b[38;5;34m24,691,779\u001b[0m (94.19 MB)\n"
      ]
     },
     "metadata": {},
     "output_type": "display_data"
    },
    {
     "data": {
      "text/html": [
       "<pre style=\"white-space:pre;overflow-x:auto;line-height:normal;font-family:Menlo,'DejaVu Sans Mono',consolas,'Courier New',monospace\"><span style=\"font-weight: bold\"> Trainable params: </span><span style=\"color: #00af00; text-decoration-color: #00af00\">24,691,779</span> (94.19 MB)\n",
       "</pre>\n"
      ],
      "text/plain": [
       "\u001b[1m Trainable params: \u001b[0m\u001b[38;5;34m24,691,779\u001b[0m (94.19 MB)\n"
      ]
     },
     "metadata": {},
     "output_type": "display_data"
    },
    {
     "data": {
      "text/html": [
       "<pre style=\"white-space:pre;overflow-x:auto;line-height:normal;font-family:Menlo,'DejaVu Sans Mono',consolas,'Courier New',monospace\"><span style=\"font-weight: bold\"> Non-trainable params: </span><span style=\"color: #00af00; text-decoration-color: #00af00\">0</span> (0.00 B)\n",
       "</pre>\n"
      ],
      "text/plain": [
       "\u001b[1m Non-trainable params: \u001b[0m\u001b[38;5;34m0\u001b[0m (0.00 B)\n"
      ]
     },
     "metadata": {},
     "output_type": "display_data"
    }
   ],
   "source": [
    "model.summary()"
   ]
  },
  {
   "cell_type": "code",
   "execution_count": 133,
   "id": "23674da1-cd5f-4bac-9f0a-14b733648d3a",
   "metadata": {},
   "outputs": [
    {
     "data": {
      "text/html": [
       "<pre style=\"white-space:pre;overflow-x:auto;line-height:normal;font-family:Menlo,'DejaVu Sans Mono',consolas,'Courier New',monospace\"><span style=\"font-weight: bold\">Model: \"sequential\"</span>\n",
       "</pre>\n"
      ],
      "text/plain": [
       "\u001b[1mModel: \"sequential\"\u001b[0m\n"
      ]
     },
     "metadata": {},
     "output_type": "display_data"
    },
    {
     "data": {
      "text/html": [
       "<pre style=\"white-space:pre;overflow-x:auto;line-height:normal;font-family:Menlo,'DejaVu Sans Mono',consolas,'Courier New',monospace\">┏━━━━━━━━━━━━━━━━━━━━━━━━━━━━━━━━━┳━━━━━━━━━━━━━━━━━━━━━━━━┳━━━━━━━━━━━━━━━┓\n",
       "┃<span style=\"font-weight: bold\"> Layer (type)                    </span>┃<span style=\"font-weight: bold\"> Output Shape           </span>┃<span style=\"font-weight: bold\">       Param # </span>┃\n",
       "┡━━━━━━━━━━━━━━━━━━━━━━━━━━━━━━━━━╇━━━━━━━━━━━━━━━━━━━━━━━━╇━━━━━━━━━━━━━━━┩\n",
       "│ lstm_1 (<span style=\"color: #0087ff; text-decoration-color: #0087ff\">LSTM</span>)                   │ (<span style=\"color: #00d7ff; text-decoration-color: #00d7ff\">None</span>, <span style=\"color: #00af00; text-decoration-color: #00af00\">128</span>)            │       <span style=\"color: #00af00; text-decoration-color: #00af00\">117,248</span> │\n",
       "├─────────────────────────────────┼────────────────────────┼───────────────┤\n",
       "│ dense_5 (<span style=\"color: #0087ff; text-decoration-color: #0087ff\">Dense</span>)                 │ (<span style=\"color: #00d7ff; text-decoration-color: #00d7ff\">None</span>, <span style=\"color: #00af00; text-decoration-color: #00af00\">1</span>)              │           <span style=\"color: #00af00; text-decoration-color: #00af00\">129</span> │\n",
       "└─────────────────────────────────┴────────────────────────┴───────────────┘\n",
       "</pre>\n"
      ],
      "text/plain": [
       "┏━━━━━━━━━━━━━━━━━━━━━━━━━━━━━━━━━┳━━━━━━━━━━━━━━━━━━━━━━━━┳━━━━━━━━━━━━━━━┓\n",
       "┃\u001b[1m \u001b[0m\u001b[1mLayer (type)                   \u001b[0m\u001b[1m \u001b[0m┃\u001b[1m \u001b[0m\u001b[1mOutput Shape          \u001b[0m\u001b[1m \u001b[0m┃\u001b[1m \u001b[0m\u001b[1m      Param #\u001b[0m\u001b[1m \u001b[0m┃\n",
       "┡━━━━━━━━━━━━━━━━━━━━━━━━━━━━━━━━━╇━━━━━━━━━━━━━━━━━━━━━━━━╇━━━━━━━━━━━━━━━┩\n",
       "│ lstm_1 (\u001b[38;5;33mLSTM\u001b[0m)                   │ (\u001b[38;5;45mNone\u001b[0m, \u001b[38;5;34m128\u001b[0m)            │       \u001b[38;5;34m117,248\u001b[0m │\n",
       "├─────────────────────────────────┼────────────────────────┼───────────────┤\n",
       "│ dense_5 (\u001b[38;5;33mDense\u001b[0m)                 │ (\u001b[38;5;45mNone\u001b[0m, \u001b[38;5;34m1\u001b[0m)              │           \u001b[38;5;34m129\u001b[0m │\n",
       "└─────────────────────────────────┴────────────────────────┴───────────────┘\n"
      ]
     },
     "metadata": {},
     "output_type": "display_data"
    },
    {
     "data": {
      "text/html": [
       "<pre style=\"white-space:pre;overflow-x:auto;line-height:normal;font-family:Menlo,'DejaVu Sans Mono',consolas,'Courier New',monospace\"><span style=\"font-weight: bold\"> Total params: </span><span style=\"color: #00af00; text-decoration-color: #00af00\">117,377</span> (458.50 KB)\n",
       "</pre>\n"
      ],
      "text/plain": [
       "\u001b[1m Total params: \u001b[0m\u001b[38;5;34m117,377\u001b[0m (458.50 KB)\n"
      ]
     },
     "metadata": {},
     "output_type": "display_data"
    },
    {
     "data": {
      "text/html": [
       "<pre style=\"white-space:pre;overflow-x:auto;line-height:normal;font-family:Menlo,'DejaVu Sans Mono',consolas,'Courier New',monospace\"><span style=\"font-weight: bold\"> Trainable params: </span><span style=\"color: #00af00; text-decoration-color: #00af00\">117,377</span> (458.50 KB)\n",
       "</pre>\n"
      ],
      "text/plain": [
       "\u001b[1m Trainable params: \u001b[0m\u001b[38;5;34m117,377\u001b[0m (458.50 KB)\n"
      ]
     },
     "metadata": {},
     "output_type": "display_data"
    },
    {
     "data": {
      "text/html": [
       "<pre style=\"white-space:pre;overflow-x:auto;line-height:normal;font-family:Menlo,'DejaVu Sans Mono',consolas,'Courier New',monospace\"><span style=\"font-weight: bold\"> Non-trainable params: </span><span style=\"color: #00af00; text-decoration-color: #00af00\">0</span> (0.00 B)\n",
       "</pre>\n"
      ],
      "text/plain": [
       "\u001b[1m Non-trainable params: \u001b[0m\u001b[38;5;34m0\u001b[0m (0.00 B)\n"
      ]
     },
     "metadata": {},
     "output_type": "display_data"
    }
   ],
   "source": [
    "model.summary()"
   ]
  },
  {
   "cell_type": "code",
   "execution_count": 30,
   "id": "e2fdc0d4-668d-4fe4-8593-231b850d7c2d",
   "metadata": {},
   "outputs": [
    {
     "data": {
      "text/html": [
       "<pre style=\"white-space:pre;overflow-x:auto;line-height:normal;font-family:Menlo,'DejaVu Sans Mono',consolas,'Courier New',monospace\"><span style=\"font-weight: bold\">Model: \"functional_4\"</span>\n",
       "</pre>\n"
      ],
      "text/plain": [
       "\u001b[1mModel: \"functional_4\"\u001b[0m\n"
      ]
     },
     "metadata": {},
     "output_type": "display_data"
    },
    {
     "data": {
      "text/html": [
       "<pre style=\"white-space:pre;overflow-x:auto;line-height:normal;font-family:Menlo,'DejaVu Sans Mono',consolas,'Courier New',monospace\">┏━━━━━━━━━━━━━━━━━━━━━━━━━━━━━━━━━┳━━━━━━━━━━━━━━━━━━━━━━━━┳━━━━━━━━━━━━━━━┓\n",
       "┃<span style=\"font-weight: bold\"> Layer (type)                    </span>┃<span style=\"font-weight: bold\"> Output Shape           </span>┃<span style=\"font-weight: bold\">       Param # </span>┃\n",
       "┡━━━━━━━━━━━━━━━━━━━━━━━━━━━━━━━━━╇━━━━━━━━━━━━━━━━━━━━━━━━╇━━━━━━━━━━━━━━━┩\n",
       "│ input_layer_6 (<span style=\"color: #0087ff; text-decoration-color: #0087ff\">InputLayer</span>)      │ (<span style=\"color: #00d7ff; text-decoration-color: #00d7ff\">None</span>, <span style=\"color: #00af00; text-decoration-color: #00af00\">3000</span>, <span style=\"color: #00af00; text-decoration-color: #00af00\">2</span>)        │             <span style=\"color: #00af00; text-decoration-color: #00af00\">0</span> │\n",
       "├─────────────────────────────────┼────────────────────────┼───────────────┤\n",
       "│ dense_12 (<span style=\"color: #0087ff; text-decoration-color: #0087ff\">Dense</span>)                │ (<span style=\"color: #00d7ff; text-decoration-color: #00d7ff\">None</span>, <span style=\"color: #00af00; text-decoration-color: #00af00\">3000</span>, <span style=\"color: #00af00; text-decoration-color: #00af00\">512</span>)      │         <span style=\"color: #00af00; text-decoration-color: #00af00\">1,536</span> │\n",
       "├─────────────────────────────────┼────────────────────────┼───────────────┤\n",
       "│ flatten_6 (<span style=\"color: #0087ff; text-decoration-color: #0087ff\">Flatten</span>)             │ (<span style=\"color: #00d7ff; text-decoration-color: #00d7ff\">None</span>, <span style=\"color: #00af00; text-decoration-color: #00af00\">1536000</span>)        │             <span style=\"color: #00af00; text-decoration-color: #00af00\">0</span> │\n",
       "├─────────────────────────────────┼────────────────────────┼───────────────┤\n",
       "│ dense_13 (<span style=\"color: #0087ff; text-decoration-color: #0087ff\">Dense</span>)                │ (<span style=\"color: #00d7ff; text-decoration-color: #00d7ff\">None</span>, <span style=\"color: #00af00; text-decoration-color: #00af00\">128</span>)            │   <span style=\"color: #00af00; text-decoration-color: #00af00\">196,608,128</span> │\n",
       "├─────────────────────────────────┼────────────────────────┼───────────────┤\n",
       "│ dropout_4 (<span style=\"color: #0087ff; text-decoration-color: #0087ff\">Dropout</span>)             │ (<span style=\"color: #00d7ff; text-decoration-color: #00d7ff\">None</span>, <span style=\"color: #00af00; text-decoration-color: #00af00\">128</span>)            │             <span style=\"color: #00af00; text-decoration-color: #00af00\">0</span> │\n",
       "├─────────────────────────────────┼────────────────────────┼───────────────┤\n",
       "│ dense_14 (<span style=\"color: #0087ff; text-decoration-color: #0087ff\">Dense</span>)                │ (<span style=\"color: #00d7ff; text-decoration-color: #00d7ff\">None</span>, <span style=\"color: #00af00; text-decoration-color: #00af00\">1</span>)              │           <span style=\"color: #00af00; text-decoration-color: #00af00\">129</span> │\n",
       "└─────────────────────────────────┴────────────────────────┴───────────────┘\n",
       "</pre>\n"
      ],
      "text/plain": [
       "┏━━━━━━━━━━━━━━━━━━━━━━━━━━━━━━━━━┳━━━━━━━━━━━━━━━━━━━━━━━━┳━━━━━━━━━━━━━━━┓\n",
       "┃\u001b[1m \u001b[0m\u001b[1mLayer (type)                   \u001b[0m\u001b[1m \u001b[0m┃\u001b[1m \u001b[0m\u001b[1mOutput Shape          \u001b[0m\u001b[1m \u001b[0m┃\u001b[1m \u001b[0m\u001b[1m      Param #\u001b[0m\u001b[1m \u001b[0m┃\n",
       "┡━━━━━━━━━━━━━━━━━━━━━━━━━━━━━━━━━╇━━━━━━━━━━━━━━━━━━━━━━━━╇━━━━━━━━━━━━━━━┩\n",
       "│ input_layer_6 (\u001b[38;5;33mInputLayer\u001b[0m)      │ (\u001b[38;5;45mNone\u001b[0m, \u001b[38;5;34m3000\u001b[0m, \u001b[38;5;34m2\u001b[0m)        │             \u001b[38;5;34m0\u001b[0m │\n",
       "├─────────────────────────────────┼────────────────────────┼───────────────┤\n",
       "│ dense_12 (\u001b[38;5;33mDense\u001b[0m)                │ (\u001b[38;5;45mNone\u001b[0m, \u001b[38;5;34m3000\u001b[0m, \u001b[38;5;34m512\u001b[0m)      │         \u001b[38;5;34m1,536\u001b[0m │\n",
       "├─────────────────────────────────┼────────────────────────┼───────────────┤\n",
       "│ flatten_6 (\u001b[38;5;33mFlatten\u001b[0m)             │ (\u001b[38;5;45mNone\u001b[0m, \u001b[38;5;34m1536000\u001b[0m)        │             \u001b[38;5;34m0\u001b[0m │\n",
       "├─────────────────────────────────┼────────────────────────┼───────────────┤\n",
       "│ dense_13 (\u001b[38;5;33mDense\u001b[0m)                │ (\u001b[38;5;45mNone\u001b[0m, \u001b[38;5;34m128\u001b[0m)            │   \u001b[38;5;34m196,608,128\u001b[0m │\n",
       "├─────────────────────────────────┼────────────────────────┼───────────────┤\n",
       "│ dropout_4 (\u001b[38;5;33mDropout\u001b[0m)             │ (\u001b[38;5;45mNone\u001b[0m, \u001b[38;5;34m128\u001b[0m)            │             \u001b[38;5;34m0\u001b[0m │\n",
       "├─────────────────────────────────┼────────────────────────┼───────────────┤\n",
       "│ dense_14 (\u001b[38;5;33mDense\u001b[0m)                │ (\u001b[38;5;45mNone\u001b[0m, \u001b[38;5;34m1\u001b[0m)              │           \u001b[38;5;34m129\u001b[0m │\n",
       "└─────────────────────────────────┴────────────────────────┴───────────────┘\n"
      ]
     },
     "metadata": {},
     "output_type": "display_data"
    },
    {
     "data": {
      "text/html": [
       "<pre style=\"white-space:pre;overflow-x:auto;line-height:normal;font-family:Menlo,'DejaVu Sans Mono',consolas,'Courier New',monospace\"><span style=\"font-weight: bold\"> Total params: </span><span style=\"color: #00af00; text-decoration-color: #00af00\">196,609,793</span> (750.01 MB)\n",
       "</pre>\n"
      ],
      "text/plain": [
       "\u001b[1m Total params: \u001b[0m\u001b[38;5;34m196,609,793\u001b[0m (750.01 MB)\n"
      ]
     },
     "metadata": {},
     "output_type": "display_data"
    },
    {
     "data": {
      "text/html": [
       "<pre style=\"white-space:pre;overflow-x:auto;line-height:normal;font-family:Menlo,'DejaVu Sans Mono',consolas,'Courier New',monospace\"><span style=\"font-weight: bold\"> Trainable params: </span><span style=\"color: #00af00; text-decoration-color: #00af00\">196,609,793</span> (750.01 MB)\n",
       "</pre>\n"
      ],
      "text/plain": [
       "\u001b[1m Trainable params: \u001b[0m\u001b[38;5;34m196,609,793\u001b[0m (750.01 MB)\n"
      ]
     },
     "metadata": {},
     "output_type": "display_data"
    },
    {
     "data": {
      "text/html": [
       "<pre style=\"white-space:pre;overflow-x:auto;line-height:normal;font-family:Menlo,'DejaVu Sans Mono',consolas,'Courier New',monospace\"><span style=\"font-weight: bold\"> Non-trainable params: </span><span style=\"color: #00af00; text-decoration-color: #00af00\">0</span> (0.00 B)\n",
       "</pre>\n"
      ],
      "text/plain": [
       "\u001b[1m Non-trainable params: \u001b[0m\u001b[38;5;34m0\u001b[0m (0.00 B)\n"
      ]
     },
     "metadata": {},
     "output_type": "display_data"
    }
   ],
   "source": [
    "model.summary()"
   ]
  },
  {
   "cell_type": "code",
   "execution_count": 31,
   "id": "5d5f8714-4c44-4aa5-9991-dc3523604984",
   "metadata": {},
   "outputs": [
    {
     "data": {
      "text/html": [
       "<pre style=\"white-space:pre;overflow-x:auto;line-height:normal;font-family:Menlo,'DejaVu Sans Mono',consolas,'Courier New',monospace\"><span style=\"font-weight: bold\">Model: \"functional_7\"</span>\n",
       "</pre>\n"
      ],
      "text/plain": [
       "\u001b[1mModel: \"functional_7\"\u001b[0m\n"
      ]
     },
     "metadata": {},
     "output_type": "display_data"
    },
    {
     "data": {
      "text/html": [
       "<pre style=\"white-space:pre;overflow-x:auto;line-height:normal;font-family:Menlo,'DejaVu Sans Mono',consolas,'Courier New',monospace\">┏━━━━━━━━━━━━━━━━━━━━━┳━━━━━━━━━━━━━━━━━━━┳━━━━━━━━━━━━┳━━━━━━━━━━━━━━━━━━━┓\n",
       "┃<span style=\"font-weight: bold\"> Layer (type)        </span>┃<span style=\"font-weight: bold\"> Output Shape      </span>┃<span style=\"font-weight: bold\">    Param # </span>┃<span style=\"font-weight: bold\"> Connected to      </span>┃\n",
       "┡━━━━━━━━━━━━━━━━━━━━━╇━━━━━━━━━━━━━━━━━━━╇━━━━━━━━━━━━╇━━━━━━━━━━━━━━━━━━━┩\n",
       "│ input_layer_23      │ (<span style=\"color: #00d7ff; text-decoration-color: #00d7ff\">None</span>, <span style=\"color: #00af00; text-decoration-color: #00af00\">3000</span>, <span style=\"color: #00af00; text-decoration-color: #00af00\">2</span>)   │          <span style=\"color: #00af00; text-decoration-color: #00af00\">0</span> │ -                 │\n",
       "│ (<span style=\"color: #0087ff; text-decoration-color: #0087ff\">InputLayer</span>)        │                   │            │                   │\n",
       "├─────────────────────┼───────────────────┼────────────┼───────────────────┤\n",
       "│ conv1d_17 (<span style=\"color: #0087ff; text-decoration-color: #0087ff\">Conv1D</span>)  │ (<span style=\"color: #00d7ff; text-decoration-color: #00d7ff\">None</span>, <span style=\"color: #00af00; text-decoration-color: #00af00\">2998</span>, <span style=\"color: #00af00; text-decoration-color: #00af00\">64</span>)  │        <span style=\"color: #00af00; text-decoration-color: #00af00\">448</span> │ input_layer_23[<span style=\"color: #00af00; text-decoration-color: #00af00\">0</span>… │\n",
       "├─────────────────────┼───────────────────┼────────────┼───────────────────┤\n",
       "│ max_pooling1d_15    │ (<span style=\"color: #00d7ff; text-decoration-color: #00d7ff\">None</span>, <span style=\"color: #00af00; text-decoration-color: #00af00\">1499</span>, <span style=\"color: #00af00; text-decoration-color: #00af00\">64</span>)  │          <span style=\"color: #00af00; text-decoration-color: #00af00\">0</span> │ conv1d_17[<span style=\"color: #00af00; text-decoration-color: #00af00\">0</span>][<span style=\"color: #00af00; text-decoration-color: #00af00\">0</span>]   │\n",
       "│ (<span style=\"color: #0087ff; text-decoration-color: #0087ff\">MaxPooling1D</span>)      │                   │            │                   │\n",
       "├─────────────────────┼───────────────────┼────────────┼───────────────────┤\n",
       "│ dropout_5 (<span style=\"color: #0087ff; text-decoration-color: #0087ff\">Dropout</span>) │ (<span style=\"color: #00d7ff; text-decoration-color: #00d7ff\">None</span>, <span style=\"color: #00af00; text-decoration-color: #00af00\">1499</span>, <span style=\"color: #00af00; text-decoration-color: #00af00\">64</span>)  │          <span style=\"color: #00af00; text-decoration-color: #00af00\">0</span> │ max_pooling1d_15… │\n",
       "├─────────────────────┼───────────────────┼────────────┼───────────────────┤\n",
       "│ conv1d_18 (<span style=\"color: #0087ff; text-decoration-color: #0087ff\">Conv1D</span>)  │ (<span style=\"color: #00d7ff; text-decoration-color: #00d7ff\">None</span>, <span style=\"color: #00af00; text-decoration-color: #00af00\">1497</span>, <span style=\"color: #00af00; text-decoration-color: #00af00\">32</span>)  │      <span style=\"color: #00af00; text-decoration-color: #00af00\">6,176</span> │ dropout_5[<span style=\"color: #00af00; text-decoration-color: #00af00\">0</span>][<span style=\"color: #00af00; text-decoration-color: #00af00\">0</span>]   │\n",
       "├─────────────────────┼───────────────────┼────────────┼───────────────────┤\n",
       "│ input_layer_22      │ (<span style=\"color: #00d7ff; text-decoration-color: #00d7ff\">None</span>, <span style=\"color: #00af00; text-decoration-color: #00af00\">30</span>, <span style=\"color: #00af00; text-decoration-color: #00af00\">100</span>)   │          <span style=\"color: #00af00; text-decoration-color: #00af00\">0</span> │ -                 │\n",
       "│ (<span style=\"color: #0087ff; text-decoration-color: #0087ff\">InputLayer</span>)        │                   │            │                   │\n",
       "├─────────────────────┼───────────────────┼────────────┼───────────────────┤\n",
       "│ max_pooling1d_16    │ (<span style=\"color: #00d7ff; text-decoration-color: #00d7ff\">None</span>, <span style=\"color: #00af00; text-decoration-color: #00af00\">748</span>, <span style=\"color: #00af00; text-decoration-color: #00af00\">32</span>)   │          <span style=\"color: #00af00; text-decoration-color: #00af00\">0</span> │ conv1d_18[<span style=\"color: #00af00; text-decoration-color: #00af00\">0</span>][<span style=\"color: #00af00; text-decoration-color: #00af00\">0</span>]   │\n",
       "│ (<span style=\"color: #0087ff; text-decoration-color: #0087ff\">MaxPooling1D</span>)      │                   │            │                   │\n",
       "├─────────────────────┼───────────────────┼────────────┼───────────────────┤\n",
       "│ lstm_11 (<span style=\"color: #0087ff; text-decoration-color: #0087ff\">LSTM</span>)      │ (<span style=\"color: #00d7ff; text-decoration-color: #00d7ff\">None</span>, <span style=\"color: #00af00; text-decoration-color: #00af00\">128</span>)       │    <span style=\"color: #00af00; text-decoration-color: #00af00\">117,248</span> │ input_layer_22[<span style=\"color: #00af00; text-decoration-color: #00af00\">0</span>… │\n",
       "├─────────────────────┼───────────────────┼────────────┼───────────────────┤\n",
       "│ flatten_10          │ (<span style=\"color: #00d7ff; text-decoration-color: #00d7ff\">None</span>, <span style=\"color: #00af00; text-decoration-color: #00af00\">23936</span>)     │          <span style=\"color: #00af00; text-decoration-color: #00af00\">0</span> │ max_pooling1d_16… │\n",
       "│ (<span style=\"color: #0087ff; text-decoration-color: #0087ff\">Flatten</span>)           │                   │            │                   │\n",
       "├─────────────────────┼───────────────────┼────────────┼───────────────────┤\n",
       "│ concatenate_9       │ (<span style=\"color: #00d7ff; text-decoration-color: #00d7ff\">None</span>, <span style=\"color: #00af00; text-decoration-color: #00af00\">24064</span>)     │          <span style=\"color: #00af00; text-decoration-color: #00af00\">0</span> │ lstm_11[<span style=\"color: #00af00; text-decoration-color: #00af00\">0</span>][<span style=\"color: #00af00; text-decoration-color: #00af00\">0</span>],    │\n",
       "│ (<span style=\"color: #0087ff; text-decoration-color: #0087ff\">Concatenate</span>)       │                   │            │ flatten_10[<span style=\"color: #00af00; text-decoration-color: #00af00\">0</span>][<span style=\"color: #00af00; text-decoration-color: #00af00\">0</span>]  │\n",
       "├─────────────────────┼───────────────────┼────────────┼───────────────────┤\n",
       "│ dense_24 (<span style=\"color: #0087ff; text-decoration-color: #0087ff\">Dense</span>)    │ (<span style=\"color: #00d7ff; text-decoration-color: #00d7ff\">None</span>, <span style=\"color: #00af00; text-decoration-color: #00af00\">512</span>)       │ <span style=\"color: #00af00; text-decoration-color: #00af00\">12,321,280</span> │ concatenate_9[<span style=\"color: #00af00; text-decoration-color: #00af00\">0</span>]… │\n",
       "├─────────────────────┼───────────────────┼────────────┼───────────────────┤\n",
       "│ dropout_6 (<span style=\"color: #0087ff; text-decoration-color: #0087ff\">Dropout</span>) │ (<span style=\"color: #00d7ff; text-decoration-color: #00d7ff\">None</span>, <span style=\"color: #00af00; text-decoration-color: #00af00\">512</span>)       │          <span style=\"color: #00af00; text-decoration-color: #00af00\">0</span> │ dense_24[<span style=\"color: #00af00; text-decoration-color: #00af00\">0</span>][<span style=\"color: #00af00; text-decoration-color: #00af00\">0</span>]    │\n",
       "├─────────────────────┼───────────────────┼────────────┼───────────────────┤\n",
       "│ dense_25 (<span style=\"color: #0087ff; text-decoration-color: #0087ff\">Dense</span>)    │ (<span style=\"color: #00d7ff; text-decoration-color: #00d7ff\">None</span>, <span style=\"color: #00af00; text-decoration-color: #00af00\">1</span>)         │        <span style=\"color: #00af00; text-decoration-color: #00af00\">513</span> │ dropout_6[<span style=\"color: #00af00; text-decoration-color: #00af00\">0</span>][<span style=\"color: #00af00; text-decoration-color: #00af00\">0</span>]   │\n",
       "└─────────────────────┴───────────────────┴────────────┴───────────────────┘\n",
       "</pre>\n"
      ],
      "text/plain": [
       "┏━━━━━━━━━━━━━━━━━━━━━┳━━━━━━━━━━━━━━━━━━━┳━━━━━━━━━━━━┳━━━━━━━━━━━━━━━━━━━┓\n",
       "┃\u001b[1m \u001b[0m\u001b[1mLayer (type)       \u001b[0m\u001b[1m \u001b[0m┃\u001b[1m \u001b[0m\u001b[1mOutput Shape     \u001b[0m\u001b[1m \u001b[0m┃\u001b[1m \u001b[0m\u001b[1m   Param #\u001b[0m\u001b[1m \u001b[0m┃\u001b[1m \u001b[0m\u001b[1mConnected to     \u001b[0m\u001b[1m \u001b[0m┃\n",
       "┡━━━━━━━━━━━━━━━━━━━━━╇━━━━━━━━━━━━━━━━━━━╇━━━━━━━━━━━━╇━━━━━━━━━━━━━━━━━━━┩\n",
       "│ input_layer_23      │ (\u001b[38;5;45mNone\u001b[0m, \u001b[38;5;34m3000\u001b[0m, \u001b[38;5;34m2\u001b[0m)   │          \u001b[38;5;34m0\u001b[0m │ -                 │\n",
       "│ (\u001b[38;5;33mInputLayer\u001b[0m)        │                   │            │                   │\n",
       "├─────────────────────┼───────────────────┼────────────┼───────────────────┤\n",
       "│ conv1d_17 (\u001b[38;5;33mConv1D\u001b[0m)  │ (\u001b[38;5;45mNone\u001b[0m, \u001b[38;5;34m2998\u001b[0m, \u001b[38;5;34m64\u001b[0m)  │        \u001b[38;5;34m448\u001b[0m │ input_layer_23[\u001b[38;5;34m0\u001b[0m… │\n",
       "├─────────────────────┼───────────────────┼────────────┼───────────────────┤\n",
       "│ max_pooling1d_15    │ (\u001b[38;5;45mNone\u001b[0m, \u001b[38;5;34m1499\u001b[0m, \u001b[38;5;34m64\u001b[0m)  │          \u001b[38;5;34m0\u001b[0m │ conv1d_17[\u001b[38;5;34m0\u001b[0m][\u001b[38;5;34m0\u001b[0m]   │\n",
       "│ (\u001b[38;5;33mMaxPooling1D\u001b[0m)      │                   │            │                   │\n",
       "├─────────────────────┼───────────────────┼────────────┼───────────────────┤\n",
       "│ dropout_5 (\u001b[38;5;33mDropout\u001b[0m) │ (\u001b[38;5;45mNone\u001b[0m, \u001b[38;5;34m1499\u001b[0m, \u001b[38;5;34m64\u001b[0m)  │          \u001b[38;5;34m0\u001b[0m │ max_pooling1d_15… │\n",
       "├─────────────────────┼───────────────────┼────────────┼───────────────────┤\n",
       "│ conv1d_18 (\u001b[38;5;33mConv1D\u001b[0m)  │ (\u001b[38;5;45mNone\u001b[0m, \u001b[38;5;34m1497\u001b[0m, \u001b[38;5;34m32\u001b[0m)  │      \u001b[38;5;34m6,176\u001b[0m │ dropout_5[\u001b[38;5;34m0\u001b[0m][\u001b[38;5;34m0\u001b[0m]   │\n",
       "├─────────────────────┼───────────────────┼────────────┼───────────────────┤\n",
       "│ input_layer_22      │ (\u001b[38;5;45mNone\u001b[0m, \u001b[38;5;34m30\u001b[0m, \u001b[38;5;34m100\u001b[0m)   │          \u001b[38;5;34m0\u001b[0m │ -                 │\n",
       "│ (\u001b[38;5;33mInputLayer\u001b[0m)        │                   │            │                   │\n",
       "├─────────────────────┼───────────────────┼────────────┼───────────────────┤\n",
       "│ max_pooling1d_16    │ (\u001b[38;5;45mNone\u001b[0m, \u001b[38;5;34m748\u001b[0m, \u001b[38;5;34m32\u001b[0m)   │          \u001b[38;5;34m0\u001b[0m │ conv1d_18[\u001b[38;5;34m0\u001b[0m][\u001b[38;5;34m0\u001b[0m]   │\n",
       "│ (\u001b[38;5;33mMaxPooling1D\u001b[0m)      │                   │            │                   │\n",
       "├─────────────────────┼───────────────────┼────────────┼───────────────────┤\n",
       "│ lstm_11 (\u001b[38;5;33mLSTM\u001b[0m)      │ (\u001b[38;5;45mNone\u001b[0m, \u001b[38;5;34m128\u001b[0m)       │    \u001b[38;5;34m117,248\u001b[0m │ input_layer_22[\u001b[38;5;34m0\u001b[0m… │\n",
       "├─────────────────────┼───────────────────┼────────────┼───────────────────┤\n",
       "│ flatten_10          │ (\u001b[38;5;45mNone\u001b[0m, \u001b[38;5;34m23936\u001b[0m)     │          \u001b[38;5;34m0\u001b[0m │ max_pooling1d_16… │\n",
       "│ (\u001b[38;5;33mFlatten\u001b[0m)           │                   │            │                   │\n",
       "├─────────────────────┼───────────────────┼────────────┼───────────────────┤\n",
       "│ concatenate_9       │ (\u001b[38;5;45mNone\u001b[0m, \u001b[38;5;34m24064\u001b[0m)     │          \u001b[38;5;34m0\u001b[0m │ lstm_11[\u001b[38;5;34m0\u001b[0m][\u001b[38;5;34m0\u001b[0m],    │\n",
       "│ (\u001b[38;5;33mConcatenate\u001b[0m)       │                   │            │ flatten_10[\u001b[38;5;34m0\u001b[0m][\u001b[38;5;34m0\u001b[0m]  │\n",
       "├─────────────────────┼───────────────────┼────────────┼───────────────────┤\n",
       "│ dense_24 (\u001b[38;5;33mDense\u001b[0m)    │ (\u001b[38;5;45mNone\u001b[0m, \u001b[38;5;34m512\u001b[0m)       │ \u001b[38;5;34m12,321,280\u001b[0m │ concatenate_9[\u001b[38;5;34m0\u001b[0m]… │\n",
       "├─────────────────────┼───────────────────┼────────────┼───────────────────┤\n",
       "│ dropout_6 (\u001b[38;5;33mDropout\u001b[0m) │ (\u001b[38;5;45mNone\u001b[0m, \u001b[38;5;34m512\u001b[0m)       │          \u001b[38;5;34m0\u001b[0m │ dense_24[\u001b[38;5;34m0\u001b[0m][\u001b[38;5;34m0\u001b[0m]    │\n",
       "├─────────────────────┼───────────────────┼────────────┼───────────────────┤\n",
       "│ dense_25 (\u001b[38;5;33mDense\u001b[0m)    │ (\u001b[38;5;45mNone\u001b[0m, \u001b[38;5;34m1\u001b[0m)         │        \u001b[38;5;34m513\u001b[0m │ dropout_6[\u001b[38;5;34m0\u001b[0m][\u001b[38;5;34m0\u001b[0m]   │\n",
       "└─────────────────────┴───────────────────┴────────────┴───────────────────┘\n"
      ]
     },
     "metadata": {},
     "output_type": "display_data"
    },
    {
     "data": {
      "text/html": [
       "<pre style=\"white-space:pre;overflow-x:auto;line-height:normal;font-family:Menlo,'DejaVu Sans Mono',consolas,'Courier New',monospace\"><span style=\"font-weight: bold\"> Total params: </span><span style=\"color: #00af00; text-decoration-color: #00af00\">12,445,665</span> (47.48 MB)\n",
       "</pre>\n"
      ],
      "text/plain": [
       "\u001b[1m Total params: \u001b[0m\u001b[38;5;34m12,445,665\u001b[0m (47.48 MB)\n"
      ]
     },
     "metadata": {},
     "output_type": "display_data"
    },
    {
     "data": {
      "text/html": [
       "<pre style=\"white-space:pre;overflow-x:auto;line-height:normal;font-family:Menlo,'DejaVu Sans Mono',consolas,'Courier New',monospace\"><span style=\"font-weight: bold\"> Trainable params: </span><span style=\"color: #00af00; text-decoration-color: #00af00\">12,445,665</span> (47.48 MB)\n",
       "</pre>\n"
      ],
      "text/plain": [
       "\u001b[1m Trainable params: \u001b[0m\u001b[38;5;34m12,445,665\u001b[0m (47.48 MB)\n"
      ]
     },
     "metadata": {},
     "output_type": "display_data"
    },
    {
     "data": {
      "text/html": [
       "<pre style=\"white-space:pre;overflow-x:auto;line-height:normal;font-family:Menlo,'DejaVu Sans Mono',consolas,'Courier New',monospace\"><span style=\"font-weight: bold\"> Non-trainable params: </span><span style=\"color: #00af00; text-decoration-color: #00af00\">0</span> (0.00 B)\n",
       "</pre>\n"
      ],
      "text/plain": [
       "\u001b[1m Non-trainable params: \u001b[0m\u001b[38;5;34m0\u001b[0m (0.00 B)\n"
      ]
     },
     "metadata": {},
     "output_type": "display_data"
    }
   ],
   "source": [
    "# LSTM, CNN\n",
    "model.summary()"
   ]
  },
  {
   "cell_type": "code",
   "execution_count": 145,
   "id": "f3b40f21-cd79-4e4b-9098-98c171ffb798",
   "metadata": {},
   "outputs": [],
   "source": [
    "# Compile the model\n",
    "model.compile(optimizer='adam', loss='sparse_categorical_crossentropy', metrics=['accuracy'])"
   ]
  },
  {
   "cell_type": "code",
   "execution_count": 146,
   "id": "8a70166e-3ea3-4a9e-a2fb-b0617490da53",
   "metadata": {
    "scrolled": true
   },
   "outputs": [
    {
     "name": "stdout",
     "output_type": "stream",
     "text": [
      "Epoch 1/10\n",
      "\u001b[1m200/200\u001b[0m \u001b[32m━━━━━━━━━━━━━━━━━━━━\u001b[0m\u001b[37m\u001b[0m \u001b[1m6s\u001b[0m 15ms/step - accuracy: 0.4450 - loss: 1.1092 - val_accuracy: 0.3609 - val_loss: 1.9715\n",
      "Epoch 2/10\n",
      "\u001b[1m200/200\u001b[0m \u001b[32m━━━━━━━━━━━━━━━━━━━━\u001b[0m\u001b[37m\u001b[0m \u001b[1m2s\u001b[0m 10ms/step - accuracy: 0.5748 - loss: 0.9029 - val_accuracy: 0.3737 - val_loss: 2.5321\n",
      "Epoch 3/10\n",
      "\u001b[1m200/200\u001b[0m \u001b[32m━━━━━━━━━━━━━━━━━━━━\u001b[0m\u001b[37m\u001b[0m \u001b[1m2s\u001b[0m 9ms/step - accuracy: 0.6139 - loss: 0.8178 - val_accuracy: 0.3609 - val_loss: 1.4133\n",
      "Epoch 4/10\n",
      "\u001b[1m200/200\u001b[0m \u001b[32m━━━━━━━━━━━━━━━━━━━━\u001b[0m\u001b[37m\u001b[0m \u001b[1m2s\u001b[0m 10ms/step - accuracy: 0.6281 - loss: 0.7826 - val_accuracy: 0.3227 - val_loss: 1.6015\n",
      "Epoch 5/10\n",
      "\u001b[1m200/200\u001b[0m \u001b[32m━━━━━━━━━━━━━━━━━━━━\u001b[0m\u001b[37m\u001b[0m \u001b[1m2s\u001b[0m 10ms/step - accuracy: 0.6783 - loss: 0.7304 - val_accuracy: 0.3652 - val_loss: 1.5949\n",
      "Epoch 6/10\n",
      "\u001b[1m200/200\u001b[0m \u001b[32m━━━━━━━━━━━━━━━━━━━━\u001b[0m\u001b[37m\u001b[0m \u001b[1m2s\u001b[0m 9ms/step - accuracy: 0.6917 - loss: 0.6982 - val_accuracy: 0.3270 - val_loss: 1.9403\n",
      "Epoch 7/10\n",
      "\u001b[1m200/200\u001b[0m \u001b[32m━━━━━━━━━━━━━━━━━━━━\u001b[0m\u001b[37m\u001b[0m \u001b[1m2s\u001b[0m 10ms/step - accuracy: 0.7259 - loss: 0.6207 - val_accuracy: 0.3291 - val_loss: 1.9927\n",
      "Epoch 8/10\n",
      "\u001b[1m200/200\u001b[0m \u001b[32m━━━━━━━━━━━━━━━━━━━━\u001b[0m\u001b[37m\u001b[0m \u001b[1m2s\u001b[0m 11ms/step - accuracy: 0.7569 - loss: 0.5627 - val_accuracy: 0.3758 - val_loss: 2.5966\n",
      "Epoch 9/10\n",
      "\u001b[1m200/200\u001b[0m \u001b[32m━━━━━━━━━━━━━━━━━━━━\u001b[0m\u001b[37m\u001b[0m \u001b[1m2s\u001b[0m 11ms/step - accuracy: 0.8164 - loss: 0.4656 - val_accuracy: 0.3503 - val_loss: 2.5640\n",
      "Epoch 10/10\n",
      "\u001b[1m200/200\u001b[0m \u001b[32m━━━━━━━━━━━━━━━━━━━━\u001b[0m\u001b[37m\u001b[0m \u001b[1m2s\u001b[0m 11ms/step - accuracy: 0.8813 - loss: 0.3157 - val_accuracy: 0.3333 - val_loss: 2.7703\n"
     ]
    }
   ],
   "source": [
    "batch_size = 32\n",
    "epochs = 10\n",
    "\n",
    "# Train the model\n",
    "history = model.fit([x_train, x_train_coords], y_train, batch_size=batch_size, epochs=epochs,\n",
    "                    validation_data=([x_train_val, x_train_coords_val], y_train_val))"
   ]
  },
  {
   "cell_type": "code",
   "execution_count": 135,
   "id": "a1b237e8-399e-4920-9345-80b0c2c046b0",
   "metadata": {},
   "outputs": [
    {
     "name": "stdout",
     "output_type": "stream",
     "text": [
      "Epoch 1/5\n",
      "\u001b[1m1125/1125\u001b[0m \u001b[32m━━━━━━━━━━━━━━━━━━━━\u001b[0m\u001b[37m\u001b[0m \u001b[1m6s\u001b[0m 4ms/step - accuracy: 0.8136 - loss: 0.4094 - val_accuracy: 0.8594 - val_loss: 0.3265\n",
      "Epoch 2/5\n",
      "\u001b[1m1125/1125\u001b[0m \u001b[32m━━━━━━━━━━━━━━━━━━━━\u001b[0m\u001b[37m\u001b[0m \u001b[1m6s\u001b[0m 6ms/step - accuracy: 0.8578 - loss: 0.3239 - val_accuracy: 0.8676 - val_loss: 0.3101\n",
      "Epoch 3/5\n",
      "\u001b[1m1125/1125\u001b[0m \u001b[32m━━━━━━━━━━━━━━━━━━━━\u001b[0m\u001b[37m\u001b[0m \u001b[1m4s\u001b[0m 4ms/step - accuracy: 0.8769 - loss: 0.2932 - val_accuracy: 0.8666 - val_loss: 0.3076\n",
      "Epoch 4/5\n",
      "\u001b[1m1125/1125\u001b[0m \u001b[32m━━━━━━━━━━━━━━━━━━━━\u001b[0m\u001b[37m\u001b[0m \u001b[1m4s\u001b[0m 3ms/step - accuracy: 0.8848 - loss: 0.2738 - val_accuracy: 0.8666 - val_loss: 0.3076\n",
      "Epoch 5/5\n",
      "\u001b[1m1125/1125\u001b[0m \u001b[32m━━━━━━━━━━━━━━━━━━━━\u001b[0m\u001b[37m\u001b[0m \u001b[1m4s\u001b[0m 3ms/step - accuracy: 0.8923 - loss: 0.2549 - val_accuracy: 0.8705 - val_loss: 0.3044\n"
     ]
    }
   ],
   "source": [
    "# LSTM model\n",
    "batch_size = 128\n",
    "epochs = 5\n",
    "\n",
    "# Train the model\n",
    "history = model.fit(x_train, y_train, batch_size=batch_size, epochs=epochs, validation_split=0.1)"
   ]
  },
  {
   "cell_type": "code",
   "execution_count": 32,
   "id": "2a7567fd-c0de-43df-949f-f6609d65aed2",
   "metadata": {
    "scrolled": true
   },
   "outputs": [
    {
     "name": "stdout",
     "output_type": "stream",
     "text": [
      "Epoch 1/5\n",
      "\u001b[1m1196/1196\u001b[0m \u001b[32m━━━━━━━━━━━━━━━━━━━━\u001b[0m\u001b[37m\u001b[0m \u001b[1m32s\u001b[0m 24ms/step - accuracy: 0.5004 - loss: 0.9598 - val_accuracy: 0.5026 - val_loss: 0.6920\n",
      "Epoch 2/5\n",
      "\u001b[1m1196/1196\u001b[0m \u001b[32m━━━━━━━━━━━━━━━━━━━━\u001b[0m\u001b[37m\u001b[0m \u001b[1m26s\u001b[0m 21ms/step - accuracy: 0.5054 - loss: 0.6920 - val_accuracy: 0.5016 - val_loss: 0.6923\n",
      "Epoch 3/5\n",
      "\u001b[1m1196/1196\u001b[0m \u001b[32m━━━━━━━━━━━━━━━━━━━━\u001b[0m\u001b[37m\u001b[0m \u001b[1m22s\u001b[0m 19ms/step - accuracy: 0.5088 - loss: 0.6908 - val_accuracy: 0.5032 - val_loss: 0.6925\n",
      "Epoch 4/5\n",
      "\u001b[1m1196/1196\u001b[0m \u001b[32m━━━━━━━━━━━━━━━━━━━━\u001b[0m\u001b[37m\u001b[0m \u001b[1m25s\u001b[0m 21ms/step - accuracy: 0.5070 - loss: 0.6900 - val_accuracy: 0.5122 - val_loss: 0.6884\n",
      "Epoch 5/5\n",
      "\u001b[1m1196/1196\u001b[0m \u001b[32m━━━━━━━━━━━━━━━━━━━━\u001b[0m\u001b[37m\u001b[0m \u001b[1m25s\u001b[0m 21ms/step - accuracy: 0.5096 - loss: 0.6889 - val_accuracy: 0.5145 - val_loss: 0.6856\n"
     ]
    }
   ],
   "source": [
    "# coords model\n",
    "batch_size = 128\n",
    "epochs = 5\n",
    "\n",
    "# Train the model\n",
    "history = model.fit(x_train_coords, y_train, batch_size=batch_size, epochs=epochs, validation_split=0.1)"
   ]
  },
  {
   "cell_type": "code",
   "execution_count": 33,
   "id": "e96b499f-5626-4855-a355-42b8e62bf657",
   "metadata": {},
   "outputs": [
    {
     "name": "stdout",
     "output_type": "stream",
     "text": [
      "Epoch 1/5\n"
     ]
    },
    {
     "name": "stderr",
     "output_type": "stream",
     "text": [
      "2024-09-01 20:44:09.512249: I external/local_xla/xla/stream_executor/cuda/cuda_asm_compiler.cc:393] ptxas warning : Registers are spilled to local memory in function 'gemm_fusion_dot_2527', 8 bytes spill stores, 8 bytes spill loads\n",
      "\n",
      "2024-09-01 20:44:09.605114: I external/local_xla/xla/stream_executor/cuda/cuda_asm_compiler.cc:393] ptxas warning : Registers are spilled to local memory in function 'gemm_fusion_dot_2527', 4 bytes spill stores, 4 bytes spill loads\n",
      "\n"
     ]
    },
    {
     "name": "stdout",
     "output_type": "stream",
     "text": [
      "\u001b[1m1196/1196\u001b[0m \u001b[32m━━━━━━━━━━━━━━━━━━━━\u001b[0m\u001b[37m\u001b[0m \u001b[1m21s\u001b[0m 15ms/step - accuracy: 0.7479 - loss: 0.5012 - val_accuracy: 0.8491 - val_loss: 0.3420\n",
      "Epoch 2/5\n",
      "\u001b[1m1196/1196\u001b[0m \u001b[32m━━━━━━━━━━━━━━━━━━━━\u001b[0m\u001b[37m\u001b[0m \u001b[1m13s\u001b[0m 11ms/step - accuracy: 0.8509 - loss: 0.3442 - val_accuracy: 0.8401 - val_loss: 0.3520\n",
      "Epoch 3/5\n",
      "\u001b[1m1196/1196\u001b[0m \u001b[32m━━━━━━━━━━━━━━━━━━━━\u001b[0m\u001b[37m\u001b[0m \u001b[1m13s\u001b[0m 11ms/step - accuracy: 0.8648 - loss: 0.3145 - val_accuracy: 0.8647 - val_loss: 0.3156\n",
      "Epoch 4/5\n",
      "\u001b[1m1196/1196\u001b[0m \u001b[32m━━━━━━━━━━━━━━━━━━━━\u001b[0m\u001b[37m\u001b[0m \u001b[1m16s\u001b[0m 13ms/step - accuracy: 0.8735 - loss: 0.2956 - val_accuracy: 0.8673 - val_loss: 0.3222\n",
      "Epoch 5/5\n",
      "\u001b[1m1196/1196\u001b[0m \u001b[32m━━━━━━━━━━━━━━━━━━━━\u001b[0m\u001b[37m\u001b[0m \u001b[1m13s\u001b[0m 11ms/step - accuracy: 0.8828 - loss: 0.2763 - val_accuracy: 0.8650 - val_loss: 0.3131\n"
     ]
    }
   ],
   "source": [
    "# LSTM, CNN\n",
    "batch_size = 128\n",
    "epochs = 5\n",
    "\n",
    "# Train the model\n",
    "history = model.fit([x_train, x_train_coords], y_train, batch_size=batch_size, epochs=epochs, validation_split=0.1)"
   ]
  },
  {
   "cell_type": "markdown",
   "id": "00e42c96-cd8a-43a9-9093-6b230f4deb05",
   "metadata": {},
   "source": [
    "# 정확도 그래프"
   ]
  },
  {
   "cell_type": "code",
   "execution_count": 147,
   "id": "0f726a53-8787-4ffe-92e7-e92e22cac4cb",
   "metadata": {
    "scrolled": true
   },
   "outputs": [
    {
     "name": "stderr",
     "output_type": "stream",
     "text": [
      "2024-09-27 22:21:28.771620: I external/local_xla/xla/stream_executor/cuda/cuda_asm_compiler.cc:393] ptxas warning : Registers are spilled to local memory in function 'gemm_fusion_dot_1', 12 bytes spill stores, 12 bytes spill loads\n",
      "\n",
      "2024-09-27 22:21:28.887355: I external/local_xla/xla/stream_executor/cuda/cuda_asm_compiler.cc:393] ptxas warning : Registers are spilled to local memory in function 'gemm_fusion_dot_1', 584 bytes spill stores, 396 bytes spill loads\n",
      "\n"
     ]
    },
    {
     "name": "stdout",
     "output_type": "stream",
     "text": [
      "Test loss: 1.0852476358413696\n",
      "Test accuracy: 0.6009358167648315\n"
     ]
    }
   ],
   "source": [
    "# Evaluate the model\n",
    "score = model.evaluate([x_test, x_test_coords], y_test, verbose=0)\n",
    "print(\"Test loss:\", score[0])\n",
    "print(\"Test accuracy:\", score[1])"
   ]
  },
  {
   "cell_type": "code",
   "execution_count": 136,
   "id": "40411df4-8224-45de-af4e-5d6585ff0aa2",
   "metadata": {},
   "outputs": [
    {
     "name": "stdout",
     "output_type": "stream",
     "text": [
      "Test loss: 0.31207460165023804\n",
      "Test accuracy: 0.8661413192749023\n"
     ]
    }
   ],
   "source": [
    "# Evaluate LSTM\n",
    "score = model.evaluate(x_test, y_test, verbose=0)\n",
    "print(\"Test loss:\", score[0])\n",
    "print(\"Test accuracy:\", score[1])"
   ]
  },
  {
   "cell_type": "code",
   "execution_count": 33,
   "id": "f5f3a970-aba9-4896-b3a0-b47b0685b5fd",
   "metadata": {},
   "outputs": [
    {
     "name": "stdout",
     "output_type": "stream",
     "text": [
      "Test loss: 0.6856207847595215\n",
      "Test accuracy: 0.5129706263542175\n"
     ]
    }
   ],
   "source": [
    "# Evaluate Coords Model\n",
    "score = model.evaluate(x_test_coords, y_test, verbose=0)\n",
    "print(\"Test loss:\", score[0])\n",
    "print(\"Test accuracy:\", score[1])"
   ]
  },
  {
   "cell_type": "code",
   "execution_count": 34,
   "id": "e3d4feef-fe46-4819-b820-7eeaa1d1a9d5",
   "metadata": {},
   "outputs": [
    {
     "name": "stdout",
     "output_type": "stream",
     "text": [
      "Test loss: 0.3192761242389679\n",
      "Test accuracy: 0.863295316696167\n"
     ]
    }
   ],
   "source": [
    "# Evaluate LSTM, CNN model\n",
    "score = model.evaluate([x_test, x_test_coords], y_test, verbose=0)\n",
    "print(\"Test loss:\", score[0])\n",
    "print(\"Test accuracy:\", score[1])"
   ]
  },
  {
   "cell_type": "code",
   "execution_count": 34,
   "id": "83c6bbde-b537-4eff-90a5-8053b8257a29",
   "metadata": {},
   "outputs": [
    {
     "data": {
      "text/plain": [
       "(29721,)"
      ]
     },
     "execution_count": 34,
     "metadata": {},
     "output_type": "execute_result"
    }
   ],
   "source": [
    "y_test.shape"
   ]
  },
  {
   "cell_type": "code",
   "execution_count": 161,
   "id": "3b262280-a4f0-4e75-8a26-b18cc88b5ad0",
   "metadata": {},
   "outputs": [
    {
     "data": {
      "text/plain": [
       "(1496,)"
      ]
     },
     "execution_count": 161,
     "metadata": {},
     "output_type": "execute_result"
    }
   ],
   "source": [
    "y_test.shape"
   ]
  },
  {
   "cell_type": "code",
   "execution_count": 165,
   "id": "6983b098-05ce-4fef-a377-0aa7c04d9b35",
   "metadata": {},
   "outputs": [
    {
     "name": "stdout",
     "output_type": "stream",
     "text": [
      "\u001b[1m47/47\u001b[0m \u001b[32m━━━━━━━━━━━━━━━━━━━━\u001b[0m\u001b[37m\u001b[0m \u001b[1m0s\u001b[0m 9ms/step\n",
      "F1 score: 0.6060501912195689\n"
     ]
    }
   ],
   "source": [
    "# 벡터, 좌표\n",
    "from sklearn.metrics import f1_score\n",
    "\n",
    "y_pred = model.predict([x_test, x_test_coords])\n",
    "y_pred = np.argmax(y_pred, axis=1)\n",
    "f1 = f1_score(y_test, y_pred, average='weighted')\n",
    "\n",
    "print(\"F1 score:\", f1)"
   ]
  },
  {
   "cell_type": "code",
   "execution_count": 137,
   "id": "c4025021-414f-4011-a957-9269ef6cf2d3",
   "metadata": {},
   "outputs": [
    {
     "name": "stdout",
     "output_type": "stream",
     "text": [
      "\u001b[1m1242/1242\u001b[0m \u001b[32m━━━━━━━━━━━━━━━━━━━━\u001b[0m\u001b[37m\u001b[0m \u001b[1m1s\u001b[0m 1ms/step\n",
      "F1 score: 0.861827915074972\n"
     ]
    }
   ],
   "source": [
    "# LSTM\n",
    "from sklearn.metrics import f1_score\n",
    "\n",
    "y_pred = model.predict(x_test)\n",
    "y_pred_binary = (y_pred > 0.5).astype(int)\n",
    "f1 = f1_score(y_test, y_pred_binary)\n",
    "\n",
    "print(\"F1 score:\", f1)"
   ]
  },
  {
   "cell_type": "code",
   "execution_count": 34,
   "id": "83f1c0c1-0004-4a08-97de-fd008368688f",
   "metadata": {},
   "outputs": [
    {
     "name": "stdout",
     "output_type": "stream",
     "text": [
      "\u001b[1m929/929\u001b[0m \u001b[32m━━━━━━━━━━━━━━━━━━━━\u001b[0m\u001b[37m\u001b[0m \u001b[1m2s\u001b[0m 2ms/step\n",
      "F1 score: 0.6572585418985154\n"
     ]
    }
   ],
   "source": [
    "# coords model\n",
    "from sklearn.metrics import f1_score\n",
    "\n",
    "y_pred = model.predict(x_test_coords)\n",
    "y_pred_binary = (y_pred > 0.5).astype(int)\n",
    "f1 = f1_score(y_test, y_pred_binary)\n",
    "\n",
    "print(\"F1 score:\", f1)"
   ]
  },
  {
   "cell_type": "code",
   "execution_count": 146,
   "id": "a05f03c1-6186-4e5c-8c44-7933c03e482f",
   "metadata": {},
   "outputs": [
    {
     "data": {
      "image/png": "[encoded data removed]",
      "text/plain": [
       "<Figure size 1000x400 with 2 Axes>"
      ]
     },
     "metadata": {},
     "output_type": "display_data"
    }
   ],
   "source": [
    "# 벡터, 좌표\n",
    "fig, ax = plt.subplots(1, 2, figsize=(10, 4))\n",
    "ax[1]\n",
    "# 정확도 그래프\n",
    "# plt.subplots(1,2,1)\n",
    "ax[0].plot(history.history['accuracy'], label='Train Accuracy')\n",
    "ax[0].plot(history.history['val_accuracy'], label='Validation Accuracy')\n",
    "ax[0].set_title('Model Accuracy')\n",
    "ax[0].set_xlabel('Epoch')\n",
    "ax[0].set_ylabel('Accuracy')\n",
    "ax[0].legend()\n",
    "ax[0].grid(True)\n",
    "\n",
    "# 손실 그래프\n",
    "ax[1].plot(history.history['loss'], label='Train Loss')\n",
    "ax[1].plot(history.history['val_loss'], label='Validation Loss')\n",
    "ax[1].set_title('Model Loss')\n",
    "ax[1].set_xlabel('Epoch')\n",
    "ax[1].set_ylabel('Loss')\n",
    "ax[1].legend()\n",
    "ax[1].grid(True)\n",
    "\n",
    "plt.tight_layout()\n",
    "plt.show()"
   ]
  },
  {
   "cell_type": "code",
   "execution_count": 138,
   "id": "119dff11-8cee-47fd-98b7-fcabaf14abdb",
   "metadata": {},
   "outputs": [
    {
     "data": {
      "image/png": "[encoded data removed]",
      "text/plain": [
       "<Figure size 1000x400 with 2 Axes>"
      ]
     },
     "metadata": {},
     "output_type": "display_data"
    }
   ],
   "source": [
    "# LSTM\n",
    "fig, ax = plt.subplots(1, 2, figsize=(10, 4))\n",
    "ax[1]\n",
    "# 정확도 그래프\n",
    "# plt.subplots(1,2,1)\n",
    "ax[0].plot(history.history['accuracy'], label='Train Accuracy')\n",
    "ax[0].plot(history.history['val_accuracy'], label='Validation Accuracy')\n",
    "ax[0].set_title('Model Accuracy')\n",
    "ax[0].set_xlabel('Epoch')\n",
    "ax[0].set_ylabel('Accuracy')\n",
    "ax[0].legend()\n",
    "ax[0].grid(True)\n",
    "\n",
    "# 손실 그래프\n",
    "ax[1].plot(history.history['loss'], label='Train Loss')\n",
    "ax[1].plot(history.history['val_loss'], label='Validation Loss')\n",
    "ax[1].set_title('Model Loss')\n",
    "ax[1].set_xlabel('Epoch')\n",
    "ax[1].set_ylabel('Loss')\n",
    "ax[1].legend()\n",
    "ax[1].grid(True)\n",
    "\n",
    "plt.tight_layout()\n",
    "plt.show()"
   ]
  },
  {
   "cell_type": "code",
   "execution_count": 35,
   "id": "24125850-23cf-49a2-9e4b-5ab9478cbbd3",
   "metadata": {},
   "outputs": [
    {
     "data": {
      "image/png": "[encoded data removed]",
      "text/plain": [
       "<Figure size 1000x400 with 2 Axes>"
      ]
     },
     "metadata": {},
     "output_type": "display_data"
    }
   ],
   "source": [
    "# coords\n",
    "fig, ax = plt.subplots(1, 2, figsize=(10, 4))\n",
    "ax[1]\n",
    "# 정확도 그래프\n",
    "# plt.subplots(1,2,1)\n",
    "ax[0].plot(history.history['accuracy'], label='Train Accuracy')\n",
    "ax[0].plot(history.history['val_accuracy'], label='Validation Accuracy')\n",
    "ax[0].set_title('Model Accuracy')\n",
    "ax[0].set_xlabel('Epoch')\n",
    "ax[0].set_ylabel('Accuracy')\n",
    "ax[0].legend()\n",
    "ax[0].grid(True)\n",
    "\n",
    "# 손실 그래프\n",
    "ax[1].plot(history.history['loss'], label='Train Loss')\n",
    "ax[1].plot(history.history['val_loss'], label='Validation Loss')\n",
    "ax[1].set_title('Model Loss')\n",
    "ax[1].set_xlabel('Epoch')\n",
    "ax[1].set_ylabel('Loss')\n",
    "ax[1].legend()\n",
    "ax[1].grid(True)\n",
    "\n",
    "plt.tight_layout()\n",
    "plt.show()"
   ]
  },
  {
   "cell_type": "markdown",
   "id": "013be9e4-864e-4320-be2e-60595bc5d550",
   "metadata": {},
   "source": [
    "# 예측 시험"
   ]
  },
  {
   "cell_type": "code",
   "execution_count": 92,
   "id": "df5bebeb-bed4-4863-a175-a6aea1ec3e99",
   "metadata": {},
   "outputs": [],
   "source": [
    "# model.predict()\n",
    "def predict_model(text):\n",
    "    sample_processed_text = get_jamo(text)\n",
    "    sample_vector = vectorize_text(sample_processed_text, fasttext_model)\n",
    "    if len(sample_vector) == 0:\n",
    "        return(\"String data is too short or not available\")\n",
    "    else:\n",
    "        sample_spaceless_text = replace_space(\" \".join(sample_processed_text))\n",
    "        sample_img = create_sentence_image(sample_spaceless_text, font_path, font_size)\n",
    "        sample_img = np.array(sample_img)\n",
    "        \n",
    "        # 좌표 추출\n",
    "        sample_coordinates = get_coordinates(sample_img)\n",
    "        \n",
    "        x_lim = sample_img.shape[1]\n",
    "        y_lim = sample_img.shape[0]\n",
    "        \n",
    "        # 좌표 정규화\n",
    "        sample_std_coords = std_coordinates(sample_coordinates, x_lim, y_lim)\n",
    "        sample_padded_coords = pad_coords(sample_std_coords, pad_size)\n",
    "    \n",
    "        # 예측\n",
    "        sample_padded_vector = pad_vector(sample_vector, 30)\n",
    "\n",
    "        sample_padded_vector = sample_padded_vector.reshape(1, 30, 100)\n",
    "        sample_padded_coords = sample_padded_coords.reshape(1, 3000, 2)\n",
    "        # print(sample_padded_vector.shape)\n",
    "        # print(sample_padded_coords.shape)\n",
    "        predict = model.predict([sample_padded_vector, sample_padded_coords], verbose=0)\n",
    "        return predict"
   ]
  },
  {
   "cell_type": "code",
   "execution_count": 101,
   "id": "c2ddc269-2266-4883-b6c2-42682101ed8a",
   "metadata": {},
   "outputs": [],
   "source": [
    "sample = \"사랑해\"\n",
    "data = predict_model(sample)"
   ]
  },
  {
   "cell_type": "code",
   "execution_count": 102,
   "id": "0ac01850-6627-45d2-aa35-00bc758ff5a7",
   "metadata": {},
   "outputs": [
    {
     "name": "stdout",
     "output_type": "stream",
     "text": [
      "[[0.8307285]]\n"
     ]
    }
   ],
   "source": [
    "print(data)"
   ]
  },
  {
   "cell_type": "markdown",
   "id": "d31c2f38-0015-43f6-9180-c590377d34ab",
   "metadata": {},
   "source": [
    "# 테스트 데이터"
   ]
  },
  {
   "cell_type": "code",
   "execution_count": 110,
   "id": "8b0c2510-8722-41eb-aec4-5b35e005e31e",
   "metadata": {},
   "outputs": [],
   "source": [
    "df = pd.read_csv('./datasets/ratings.txt', sep='\\t', encoding='utf-8')\n",
    "# df = df[['text', 'label']]\n",
    "df = df.dropna()\n",
    "df = df.reset_index(drop=True)\n",
    "df = df[['document', 'label']]\n",
    "df.columns=['text','label']"
   ]
  },
  {
   "cell_type": "code",
   "execution_count": 111,
   "id": "5193abeb-a3a1-4d5d-9cf5-d289a1ecbbc2",
   "metadata": {},
   "outputs": [],
   "source": [
    "# test df\n",
    "df = df[80000:120000]"
   ]
  },
  {
   "cell_type": "code",
   "execution_count": 112,
   "id": "6f97c0a5-3ce6-413e-a904-e9fefe48890e",
   "metadata": {},
   "outputs": [],
   "source": [
    "df = df.reset_index(drop=True)"
   ]
  },
  {
   "cell_type": "code",
   "execution_count": 113,
   "id": "769ebb69-263f-4e9a-a9f8-e861442a1804",
   "metadata": {},
   "outputs": [
    {
     "data": {
      "text/plain": [
       "label\n",
       "0    20004\n",
       "1    19996\n",
       "Name: count, dtype: int64"
      ]
     },
     "execution_count": 113,
     "metadata": {},
     "output_type": "execute_result"
    }
   ],
   "source": [
    "df['label'].value_counts()"
   ]
  },
  {
   "cell_type": "code",
   "execution_count": 104,
   "id": "1f9bd24b-2a24-48f2-b746-2bfe6bfbfe28",
   "metadata": {},
   "outputs": [
    {
     "data": {
      "text/html": [
       "<div>\n",
       "<style scoped>\n",
       "    .dataframe tbody tr th:only-of-type {\n",
       "        vertical-align: middle;\n",
       "    }\n",
       "\n",
       "    .dataframe tbody tr th {\n",
       "        vertical-align: top;\n",
       "    }\n",
       "\n",
       "    .dataframe thead th {\n",
       "        text-align: right;\n",
       "    }\n",
       "</style>\n",
       "<table border=\"1\" class=\"dataframe\">\n",
       "  <thead>\n",
       "    <tr style=\"text-align: right;\">\n",
       "      <th></th>\n",
       "      <th>text</th>\n",
       "      <th>label</th>\n",
       "    </tr>\n",
       "  </thead>\n",
       "  <tbody>\n",
       "    <tr>\n",
       "      <th>0</th>\n",
       "      <td>요즘나오는 왠만한 코믹영화보다 웃긴듯한데 ㅋㅋㅋ</td>\n",
       "      <td>1</td>\n",
       "    </tr>\n",
       "    <tr>\n",
       "      <th>1</th>\n",
       "      <td>픽사의 대표작중 하나지 ㅋ</td>\n",
       "      <td>1</td>\n",
       "    </tr>\n",
       "    <tr>\n",
       "      <th>2</th>\n",
       "      <td>CG도 너무좋았고 드라마의 러브라인도 너무좋았네요~...쳇.....</td>\n",
       "      <td>1</td>\n",
       "    </tr>\n",
       "    <tr>\n",
       "      <th>3</th>\n",
       "      <td>굳</td>\n",
       "      <td>1</td>\n",
       "    </tr>\n",
       "    <tr>\n",
       "      <th>4</th>\n",
       "      <td>역시는 역시여</td>\n",
       "      <td>1</td>\n",
       "    </tr>\n",
       "    <tr>\n",
       "      <th>...</th>\n",
       "      <td>...</td>\n",
       "      <td>...</td>\n",
       "    </tr>\n",
       "    <tr>\n",
       "      <th>29964</th>\n",
       "      <td>나는 도대체 이걸 왜 본걸까</td>\n",
       "      <td>0</td>\n",
       "    </tr>\n",
       "    <tr>\n",
       "      <th>29965</th>\n",
       "      <td>초절정 액션 활극... 이라면 별이 이렇게 많겠냐?</td>\n",
       "      <td>0</td>\n",
       "    </tr>\n",
       "    <tr>\n",
       "      <th>29966</th>\n",
       "      <td>반담형 실망이야...</td>\n",
       "      <td>0</td>\n",
       "    </tr>\n",
       "    <tr>\n",
       "      <th>29967</th>\n",
       "      <td>차마 20분을 버티지 못하고 나의 눈은 처참히 잠기고 말았다</td>\n",
       "      <td>0</td>\n",
       "    </tr>\n",
       "    <tr>\n",
       "      <th>29968</th>\n",
       "      <td>나우시카 라퓨타 센치 원령공주.. 굳이 더하자면 하울까지. 5개 이외의 지브리 작품...</td>\n",
       "      <td>0</td>\n",
       "    </tr>\n",
       "  </tbody>\n",
       "</table>\n",
       "<p>29969 rows × 2 columns</p>\n",
       "</div>"
      ],
      "text/plain": [
       "                                                    text  label\n",
       "0                             요즘나오는 왠만한 코믹영화보다 웃긴듯한데 ㅋㅋㅋ      1\n",
       "1                                         픽사의 대표작중 하나지 ㅋ      1\n",
       "2                  CG도 너무좋았고 드라마의 러브라인도 너무좋았네요~...쳇.....      1\n",
       "3                                                      굳      1\n",
       "4                                                역시는 역시여      1\n",
       "...                                                  ...    ...\n",
       "29964                                    나는 도대체 이걸 왜 본걸까      0\n",
       "29965                       초절정 액션 활극... 이라면 별이 이렇게 많겠냐?      0\n",
       "29966                                        반담형 실망이야...      0\n",
       "29967                  차마 20분을 버티지 못하고 나의 눈은 처참히 잠기고 말았다      0\n",
       "29968  나우시카 라퓨타 센치 원령공주.. 굳이 더하자면 하울까지. 5개 이외의 지브리 작품...      0\n",
       "\n",
       "[29969 rows x 2 columns]"
      ]
     },
     "execution_count": 104,
     "metadata": {},
     "output_type": "execute_result"
    }
   ],
   "source": [
    "df"
   ]
  },
  {
   "cell_type": "code",
   "execution_count": 105,
   "id": "31fc080a-f2fd-4c32-9b2e-0329636f2de3",
   "metadata": {
    "scrolled": true
   },
   "outputs": [
    {
     "data": {
      "text/plain": [
       "{'구': '子',\n",
       " '그': 'ユ',\n",
       " '고': 'ヱ',\n",
       " '내': 'LH',\n",
       " '뉘': '爿',\n",
       " '드': '⊆',\n",
       " '대': '머',\n",
       " '더': 'લ',\n",
       " '디': 'વ',\n",
       " '러': 'સ',\n",
       " '멍': '댕',\n",
       " '묵': '号',\n",
       " '배': 'ldH',\n",
       " '쓰': '丛',\n",
       " '스': '亼',\n",
       " '수': '㐃',\n",
       " '슴': '合',\n",
       " '슥': '今',\n",
       " '애': 'OH',\n",
       " '크': 'ヨ',\n",
       " '티': 'EL',\n",
       " '태': 'EH',\n",
       " '조': '丕',\n",
       " '류': '异',\n",
       " '니': '丩',\n",
       " '좃': '奀',\n",
       " '좆': '奀',\n",
       " '에': 'ના',\n",
       " '어': 'ન',\n",
       " '참': 'え占',\n",
       " '아': 'ØГ',\n",
       " '꺼': '77ㅓ',\n",
       " '새': '∧H',\n",
       " '끼': '77l',\n",
       " '귀': '커',\n",
       " '푸': '辛',\n",
       " '쭈': '쭈',\n",
       " '팜': '站',\n",
       " 'ㅐ': 'H',\n",
       " 'ㅂ': 'ld',\n",
       " 'ㄹ': '己',\n",
       " 'ㅁ': '口',\n",
       " 'ㅅ': '人',\n",
       " 'ㅆ': '从',\n",
       " 'ㅇ': 'O',\n",
       " 'ㅊ': 'え',\n",
       " 'ㅋ': '𐨛',\n",
       " 'ㄲ': '刀',\n",
       " 'ㅌ': 'E',\n",
       " 'ㅗ': 'ㅗ',\n",
       " 'ㅏ': '卜',\n",
       " 'ㅠ': 'π',\n",
       " 'ㄴ': 'し',\n",
       " 'y': 'ㄚ',\n",
       " 'Y': 'ㄚ',\n",
       " 'N': 'И',\n",
       " 'b': 'Ъ',\n",
       " 'w': 'ω',\n",
       " 'X': '㐅',\n",
       " 'H': 'ㅐ',\n",
       " 'L': 'ㄴ',\n",
       " 'O': 'ㅇ',\n",
       " 'T': 'ㅜ',\n",
       " 'g': '9',\n",
       " '3': 'З',\n",
       " '6': 'Б'}"
      ]
     },
     "execution_count": 105,
     "metadata": {},
     "output_type": "execute_result"
    }
   ],
   "source": [
    "from utils.char_dict import char_dict\n",
    "char_dict"
   ]
  },
  {
   "cell_type": "code",
   "execution_count": 106,
   "id": "64969c88-2feb-4f63-839d-ac6f2b07f9e3",
   "metadata": {},
   "outputs": [],
   "source": [
    "def change_char(s):\n",
    "    new_str = \"\"\n",
    "    for i in range(len(s)):\n",
    "        if s[i] in char_dict:\n",
    "            new_str += char_dict[s[i]]\n",
    "        else:\n",
    "            new_str += s[i]\n",
    "    return new_str"
   ]
  },
  {
   "cell_type": "code",
   "execution_count": 125,
   "id": "feb9f547-7adb-4969-a06d-4db011d58c35",
   "metadata": {},
   "outputs": [],
   "source": [
    "df['text'] = df['text'].apply(lambda text: change_char(text))"
   ]
  },
  {
   "cell_type": "code",
   "execution_count": 126,
   "id": "018d38c7-6e43-4113-b26c-1dee289e6c6a",
   "metadata": {},
   "outputs": [
    {
     "data": {
      "text/html": [
       "<div>\n",
       "<style scoped>\n",
       "    .dataframe tbody tr th:only-of-type {\n",
       "        vertical-align: middle;\n",
       "    }\n",
       "\n",
       "    .dataframe tbody tr th {\n",
       "        vertical-align: top;\n",
       "    }\n",
       "\n",
       "    .dataframe thead th {\n",
       "        text-align: right;\n",
       "    }\n",
       "</style>\n",
       "<table border=\"1\" class=\"dataframe\">\n",
       "  <thead>\n",
       "    <tr style=\"text-align: right;\">\n",
       "      <th></th>\n",
       "      <th>text</th>\n",
       "      <th>label</th>\n",
       "    </tr>\n",
       "  </thead>\n",
       "  <tbody>\n",
       "    <tr>\n",
       "      <th>0</th>\n",
       "      <td>난 재밌던데?....</td>\n",
       "      <td>1</td>\n",
       "    </tr>\n",
       "    <tr>\n",
       "      <th>1</th>\n",
       "      <td>커엽ヱ 멋지ヱ 재미있는. 매력 덩ન리</td>\n",
       "      <td>1</td>\n",
       "    </tr>\n",
       "    <tr>\n",
       "      <th>2</th>\n",
       "      <td>이방인과 현지인, ユ들이 하나가 되는 순간의 코인로커</td>\n",
       "      <td>1</td>\n",
       "    </tr>\n",
       "    <tr>\n",
       "      <th>3</th>\n",
       "      <td>♥</td>\n",
       "      <td>1</td>\n",
       "    </tr>\n",
       "    <tr>\n",
       "      <th>4</th>\n",
       "      <td>월⊆컵 기간ના 보기엔 딱 좋은 영화! 이 영화만 100번 넘게 볼 정도로 강력 추천!</td>\n",
       "      <td>1</td>\n",
       "    </tr>\n",
       "    <tr>\n",
       "      <th>...</th>\n",
       "      <td>...</td>\n",
       "      <td>...</td>\n",
       "    </tr>\n",
       "    <tr>\n",
       "      <th>39952</th>\n",
       "      <td>초반은 ユ럴듯하게 끌ヱ 가지만 마지막 급마무리로 엉성하ヱ 丕악한 연출력이 여실히 들...</td>\n",
       "      <td>0</td>\n",
       "    </tr>\n",
       "    <tr>\n",
       "      <th>39953</th>\n",
       "      <td>뒤주ØГ⊆루ØГ ⊆ 칸텔~이남자의 연기ના 경악,뜨악,여ldH우들이 완전 이쁘다~특...</td>\n",
       "      <td>0</td>\n",
       "    </tr>\n",
       "    <tr>\n",
       "      <th>39954</th>\n",
       "      <td>뻔한 亼토리 뻔한 결말 진부하다</td>\n",
       "      <td>0</td>\n",
       "    </tr>\n",
       "    <tr>\n",
       "      <th>39955</th>\n",
       "      <td>안무서운이유~~다 원작이 이상한 탓이지..</td>\n",
       "      <td>0</td>\n",
       "    </tr>\n",
       "    <tr>\n",
       "      <th>39956</th>\n",
       "      <td>별점10주는 사람은 이해할㐃가없음 끝ના도 허무하ヱ 별로ㅡㅡ 최악의영화</td>\n",
       "      <td>0</td>\n",
       "    </tr>\n",
       "  </tbody>\n",
       "</table>\n",
       "<p>39957 rows × 2 columns</p>\n",
       "</div>"
      ],
      "text/plain": [
       "                                                    text  label\n",
       "0                                            난 재밌던데?....      1\n",
       "1                                   커엽ヱ 멋지ヱ 재미있는. 매력 덩ન리      1\n",
       "2                          이방인과 현지인, ユ들이 하나가 되는 순간의 코인로커      1\n",
       "3                                                      ♥      1\n",
       "4       월⊆컵 기간ના 보기엔 딱 좋은 영화! 이 영화만 100번 넘게 볼 정도로 강력 추천!      1\n",
       "...                                                  ...    ...\n",
       "39952  초반은 ユ럴듯하게 끌ヱ 가지만 마지막 급마무리로 엉성하ヱ 丕악한 연출력이 여실히 들...      0\n",
       "39953  뒤주ØГ⊆루ØГ ⊆ 칸텔~이남자의 연기ના 경악,뜨악,여ldH우들이 완전 이쁘다~특...      0\n",
       "39954                                  뻔한 亼토리 뻔한 결말 진부하다      0\n",
       "39955                            안무서운이유~~다 원작이 이상한 탓이지..      0\n",
       "39956            별점10주는 사람은 이해할㐃가없음 끝ના도 허무하ヱ 별로ㅡㅡ 최악의영화      0\n",
       "\n",
       "[39957 rows x 2 columns]"
      ]
     },
     "execution_count": 126,
     "metadata": {},
     "output_type": "execute_result"
    }
   ],
   "source": [
    "df"
   ]
  },
  {
   "cell_type": "code",
   "execution_count": 127,
   "id": "e0e2da54-df8a-40ab-96db-b57c8dd58f62",
   "metadata": {
    "scrolled": true
   },
   "outputs": [
    {
     "name": "stdout",
     "output_type": "stream",
     "text": [
      "0\n",
      "1000\n",
      "2000\n",
      "3000\n",
      "4000\n",
      "5000\n",
      "6000\n",
      "7000\n",
      "8000\n",
      "9000\n",
      "10000\n",
      "11000\n",
      "12000\n",
      "13000\n",
      "14000\n",
      "15000\n",
      "16000\n",
      "17000\n",
      "18000\n",
      "19000\n",
      "20000\n",
      "21000\n",
      "22000\n",
      "23000\n",
      "24000\n",
      "25000\n",
      "26000\n",
      "27000\n",
      "28000\n",
      "29000\n",
      "30000\n",
      "31000\n",
      "32000\n",
      "33000\n",
      "34000\n",
      "35000\n",
      "36000\n",
      "37000\n",
      "38000\n",
      "39000\n",
      "Preprocess complete\n",
      "39946\n"
     ]
    }
   ],
   "source": [
    "test_vector_data = []\n",
    "test_coords_data = []\n",
    "# img_data = []\n",
    "test_coords_by_length = []\n",
    "test_label_list = []\n",
    "\n",
    "for i in range(len(df)):\n",
    "    text = df['text'][i]\n",
    "    test_processed_text = get_jamo(text)\n",
    "    test_vector_list = vectorize_text(test_processed_text, fasttext_model)\n",
    "    if len(test_vector_list) == 0:\n",
    "        continue\n",
    "    else:\n",
    "        test_vector_data.append(test_vector_list)\n",
    "        # spaceless_text = replace_space(text)\n",
    "        test_spaceless_text = replace_space(\" \".join(test_processed_text))\n",
    "        test_img = create_sentence_image(test_spaceless_text, font_path, font_size)\n",
    "        # resized_img = resize_image(img)\n",
    "        # img_data.append(resized_img)\n",
    "        test_img = np.array(test_img)\n",
    "        \n",
    "        # 좌표 추출\n",
    "        test_coordinates = get_coordinates(test_img)\n",
    "        \n",
    "        x_lim = test_img.shape[1]\n",
    "        y_lim = test_img.shape[0]\n",
    "        \n",
    "        # 좌표 정규화\n",
    "        test_std_coords = std_coordinates(test_coordinates, x_lim, y_lim)\n",
    "        test_coords_by_length.append(test_std_coords.shape[0])\n",
    "        test_padded_coords = pad_coords(test_std_coords, pad_size)\n",
    "    \n",
    "        test_coords_data.append(test_padded_coords)\n",
    "        test_label_list.append(df['label'][i])\n",
    "\n",
    "    if i % 1000 == 0:\n",
    "        print(i)\n",
    "    \n",
    "print(\"Preprocess complete\")\n",
    "print(len(test_coords_data))"
   ]
  },
  {
   "cell_type": "code",
   "execution_count": 128,
   "id": "c9b6fc57-2d6c-4ae6-a53d-56e96cd24726",
   "metadata": {},
   "outputs": [],
   "source": [
    "# 벡터 제로패딩\n",
    "test_padded_vector_data = []\n",
    "for i in range(len(test_vector_data)):\n",
    "    test_padded_vector_data.append(pad_vector(test_vector_data[i], 30))\n",
    "test_padded_vector_data = np.array(test_padded_vector_data)"
   ]
  },
  {
   "cell_type": "code",
   "execution_count": 129,
   "id": "62705fbd-c612-4096-a870-b12cf369bb6c",
   "metadata": {},
   "outputs": [
    {
     "name": "stdout",
     "output_type": "stream",
     "text": [
      "(39946, 30, 100)\n",
      "(39946, 3000, 2)\n",
      "(39946,)\n"
     ]
    }
   ],
   "source": [
    "mod_x_test = test_padded_vector_data[:]\n",
    "mod_x_test_coords = np.array(test_coords_data)[:]\n",
    "mod_y_test = np.array(test_label_list)[:]\n",
    "\n",
    "print(mod_x_test.shape)\n",
    "print(mod_x_test_coords.shape)\n",
    "# print(x_test_img.shape)\n",
    "print(mod_y_test.shape)"
   ]
  },
  {
   "cell_type": "code",
   "execution_count": 189,
   "id": "ba442999-3163-4412-9acf-0d6232c47b12",
   "metadata": {},
   "outputs": [
    {
     "name": "stdout",
     "output_type": "stream",
     "text": [
      "Test loss: 0.35584402084350586\n",
      "Test accuracy: 0.8382065892219543\n"
     ]
    }
   ],
   "source": [
    "# Evaluate the model\n",
    "score = model.evaluate([mod_x_test, mod_x_test_coords], mod_y_test, verbose=0)\n",
    "print(\"Test loss:\", score[0])\n",
    "print(\"Test accuracy:\", score[1])"
   ]
  },
  {
   "cell_type": "code",
   "execution_count": 190,
   "id": "a65e4460-2bc9-458f-9621-850a0ef598e2",
   "metadata": {},
   "outputs": [
    {
     "name": "stdout",
     "output_type": "stream",
     "text": [
      "\u001b[1m1249/1249\u001b[0m \u001b[32m━━━━━━━━━━━━━━━━━━━━\u001b[0m\u001b[37m\u001b[0m \u001b[1m5s\u001b[0m 3ms/step\n",
      "F1 score: 0.8290980246978872\n"
     ]
    }
   ],
   "source": [
    "# 벡터, 좌표\n",
    "from sklearn.metrics import f1_score\n",
    "\n",
    "mod_y_pred = model.predict([mod_x_test, mod_x_test_coords])\n",
    "mod_y_pred_binary = (mod_y_pred > 0.5).astype(int)\n",
    "mod_f1 = f1_score(mod_y_test, mod_y_pred_binary)\n",
    "\n",
    "print(\"F1 score:\", mod_f1)"
   ]
  },
  {
   "cell_type": "code",
   "execution_count": 139,
   "id": "540b8535-99b4-4cbd-b255-f4f9340be085",
   "metadata": {},
   "outputs": [
    {
     "name": "stdout",
     "output_type": "stream",
     "text": [
      "Test loss: 0.3816642463207245\n",
      "Test accuracy: 0.8323236107826233\n"
     ]
    }
   ],
   "source": [
    "# Evaluate LSTM\n",
    "mod_score = model.evaluate(mod_x_test, mod_y_test, verbose=0)\n",
    "print(\"Test loss:\", mod_score[0])\n",
    "print(\"Test accuracy:\", mod_score[1])"
   ]
  },
  {
   "cell_type": "code",
   "execution_count": 140,
   "id": "de28db0c-6c15-4f76-8eb2-7d46fbca8d42",
   "metadata": {},
   "outputs": [
    {
     "name": "stdout",
     "output_type": "stream",
     "text": [
      "\u001b[1m1249/1249\u001b[0m \u001b[32m━━━━━━━━━━━━━━━━━━━━\u001b[0m\u001b[37m\u001b[0m \u001b[1m1s\u001b[0m 904us/step\n",
      "F1 score: 0.8166538924778276\n"
     ]
    }
   ],
   "source": [
    "# LSTM\n",
    "from sklearn.metrics import f1_score\n",
    "\n",
    "mod_y_pred = model.predict(mod_x_test)\n",
    "mod_y_pred_binary = (mod_y_pred > 0.5).astype(int)\n",
    "mod_f1 = f1_score(mod_y_test, mod_y_pred_binary)\n",
    "\n",
    "print(\"F1 score:\", mod_f1)"
   ]
  },
  {
   "cell_type": "code",
   "execution_count": null,
   "id": "f1d76955-3ed3-4687-bcd4-7d14bbcae32e",
   "metadata": {},
   "outputs": [],
   "source": []
  }
 ],
 "metadata": {
  "kernelspec": {
   "display_name": "Python 3 (ipykernel)",
   "language": "python",
   "name": "python3"
  },
  "language_info": {
   "codemirror_mode": {
    "name": "ipython",
    "version": 3
   },
   "file_extension": ".py",
   "mimetype": "text/x-python",
   "name": "python",
   "nbconvert_exporter": "python",
   "pygments_lexer": "ipython3",
   "version": "3.12.4"
  }
 },
 "nbformat": 4,
 "nbformat_minor": 5
}
