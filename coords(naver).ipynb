{
 "cells": [
  {
   "cell_type": "code",
   "execution_count": 1,
   "id": "1bf41cd5-ab91-4c96-a9fd-06471052d918",
   "metadata": {},
   "outputs": [
    {
     "name": "stderr",
     "output_type": "stream",
     "text": [
      "2024-08-09 12:15:30.097637: I tensorflow/core/util/port.cc:153] oneDNN custom operations are on. You may see slightly different numerical results due to floating-point round-off errors from different computation orders. To turn them off, set the environment variable `TF_ENABLE_ONEDNN_OPTS=0`.\n",
      "2024-08-09 12:15:30.189371: E external/local_xla/xla/stream_executor/cuda/cuda_fft.cc:485] Unable to register cuFFT factory: Attempting to register factory for plugin cuFFT when one has already been registered\n",
      "2024-08-09 12:15:30.228547: E external/local_xla/xla/stream_executor/cuda/cuda_dnn.cc:8454] Unable to register cuDNN factory: Attempting to register factory for plugin cuDNN when one has already been registered\n",
      "2024-08-09 12:15:30.241627: E external/local_xla/xla/stream_executor/cuda/cuda_blas.cc:1452] Unable to register cuBLAS factory: Attempting to register factory for plugin cuBLAS when one has already been registered\n",
      "2024-08-09 12:15:30.305516: I tensorflow/core/platform/cpu_feature_guard.cc:210] This TensorFlow binary is optimized to use available CPU instructions in performance-critical operations.\n",
      "To enable the following instructions: AVX2 AVX_VNNI FMA, in other operations, rebuild TensorFlow with the appropriate compiler flags.\n",
      "2024-08-09 12:15:31.074103: W tensorflow/compiler/tf2tensorrt/utils/py_utils.cc:38] TF-TRT Warning: Could not find TensorRT\n"
     ]
    },
    {
     "name": "stdout",
     "output_type": "stream",
     "text": [
      "[PhysicalDevice(name='/physical_device:GPU:0', device_type='GPU')]\n"
     ]
    },
    {
     "name": "stderr",
     "output_type": "stream",
     "text": [
      "WARNING: All log messages before absl::InitializeLog() is called are written to STDERR\n",
      "I0000 00:00:1723173332.128954     954 cuda_executor.cc:1001] could not open file to read NUMA node: /sys/bus/pci/devices/0000:01:00.0/numa_node\n",
      "Your kernel may have been built without NUMA support.\n",
      "I0000 00:00:1723173332.244217     954 cuda_executor.cc:1001] could not open file to read NUMA node: /sys/bus/pci/devices/0000:01:00.0/numa_node\n",
      "Your kernel may have been built without NUMA support.\n",
      "I0000 00:00:1723173332.244254     954 cuda_executor.cc:1001] could not open file to read NUMA node: /sys/bus/pci/devices/0000:01:00.0/numa_node\n",
      "Your kernel may have been built without NUMA support.\n"
     ]
    }
   ],
   "source": [
    "import tensorflow as tf\n",
    "print(tf.config.list_physical_devices('GPU'))"
   ]
  },
  {
   "cell_type": "code",
   "execution_count": 2,
   "id": "ee259028-cb14-469d-9daa-69657f45d43f",
   "metadata": {},
   "outputs": [],
   "source": [
    "import pandas as pd\n",
    "import numpy as np\n",
    "import tensorflow as tf\n",
    "from PIL import Image, ImageDraw, ImageFont\n",
    "import matplotlib.pyplot as plt\n",
    "import re\n",
    "import fasttext"
   ]
  },
  {
   "cell_type": "markdown",
   "id": "f9a8ba5f-22f4-4107-a10c-eecf5f532535",
   "metadata": {},
   "source": [
    "# 데이터 호출 및 파악"
   ]
  },
  {
   "cell_type": "code",
   "execution_count": 3,
   "id": "0c514d6b-da9b-4433-a8b8-25c119120647",
   "metadata": {},
   "outputs": [],
   "source": [
    "df = pd.read_csv('./datasets/ratings.txt', sep='\\t', encoding='utf-8')\n",
    "# df = df[['text', 'label']]\n",
    "df = df.dropna()\n",
    "df = df.reset_index(drop=True)\n",
    "df = df[['document', 'label']]\n",
    "df.columns=['text','label']"
   ]
  },
  {
   "cell_type": "code",
   "execution_count": 4,
   "id": "0211615b-d95f-447c-bf1c-31bf11f82322",
   "metadata": {},
   "outputs": [
    {
     "data": {
      "text/plain": [
       "label\n",
       "1    99996\n",
       "0    99996\n",
       "Name: count, dtype: int64"
      ]
     },
     "execution_count": 4,
     "metadata": {},
     "output_type": "execute_result"
    }
   ],
   "source": [
    "df['label'].value_counts()"
   ]
  },
  {
   "cell_type": "code",
   "execution_count": 5,
   "id": "160a99bb-24d0-4880-a407-1390c597be92",
   "metadata": {},
   "outputs": [],
   "source": [
    "def replace_space(sentence):\n",
    "    new = \"\".join([\"\" if ch == \" \" else ch for ch in sentence])\n",
    "    return new"
   ]
  },
  {
   "cell_type": "code",
   "execution_count": 6,
   "id": "6f835974-0076-4b62-afd2-fbe549ebd174",
   "metadata": {},
   "outputs": [],
   "source": [
    "# df['text'] = df['text'].apply(replace_space)"
   ]
  },
  {
   "cell_type": "code",
   "execution_count": 7,
   "id": "b53b5212-ba79-4983-b0e5-fe1062a5bde4",
   "metadata": {},
   "outputs": [
    {
     "data": {
      "text/html": [
       "<div>\n",
       "<style scoped>\n",
       "    .dataframe tbody tr th:only-of-type {\n",
       "        vertical-align: middle;\n",
       "    }\n",
       "\n",
       "    .dataframe tbody tr th {\n",
       "        vertical-align: top;\n",
       "    }\n",
       "\n",
       "    .dataframe thead th {\n",
       "        text-align: right;\n",
       "    }\n",
       "</style>\n",
       "<table border=\"1\" class=\"dataframe\">\n",
       "  <thead>\n",
       "    <tr style=\"text-align: right;\">\n",
       "      <th></th>\n",
       "      <th>text</th>\n",
       "      <th>label</th>\n",
       "    </tr>\n",
       "  </thead>\n",
       "  <tbody>\n",
       "    <tr>\n",
       "      <th>0</th>\n",
       "      <td>어릴때보고 지금다시봐도 재밌어요ㅋㅋ</td>\n",
       "      <td>1</td>\n",
       "    </tr>\n",
       "    <tr>\n",
       "      <th>1</th>\n",
       "      <td>디자인을 배우는 학생으로, 외국디자이너와 그들이 일군 전통을 통해 발전해가는 문화산...</td>\n",
       "      <td>1</td>\n",
       "    </tr>\n",
       "    <tr>\n",
       "      <th>2</th>\n",
       "      <td>폴리스스토리 시리즈는 1부터 뉴까지 버릴께 하나도 없음.. 최고.</td>\n",
       "      <td>1</td>\n",
       "    </tr>\n",
       "    <tr>\n",
       "      <th>3</th>\n",
       "      <td>와.. 연기가 진짜 개쩔구나.. 지루할거라고 생각했는데 몰입해서 봤다.. 그래 이런...</td>\n",
       "      <td>1</td>\n",
       "    </tr>\n",
       "    <tr>\n",
       "      <th>4</th>\n",
       "      <td>안개 자욱한 밤하늘에 떠 있는 초승달 같은 영화.</td>\n",
       "      <td>1</td>\n",
       "    </tr>\n",
       "    <tr>\n",
       "      <th>...</th>\n",
       "      <td>...</td>\n",
       "      <td>...</td>\n",
       "    </tr>\n",
       "    <tr>\n",
       "      <th>199987</th>\n",
       "      <td>포켓 몬스터 짜가 ㅡㅡ;;</td>\n",
       "      <td>0</td>\n",
       "    </tr>\n",
       "    <tr>\n",
       "      <th>199988</th>\n",
       "      <td>쓰.레.기</td>\n",
       "      <td>0</td>\n",
       "    </tr>\n",
       "    <tr>\n",
       "      <th>199989</th>\n",
       "      <td>완전 사이코영화. 마지막은 더욱더 이 영화의질을 떨어트린다.</td>\n",
       "      <td>0</td>\n",
       "    </tr>\n",
       "    <tr>\n",
       "      <th>199990</th>\n",
       "      <td>왜난 재미없었지 ㅠㅠ 라따뚜이 보고나서 스머프 봐서 그런가 ㅋㅋ</td>\n",
       "      <td>0</td>\n",
       "    </tr>\n",
       "    <tr>\n",
       "      <th>199991</th>\n",
       "      <td>포풍저그가나가신다영차영차영차</td>\n",
       "      <td>0</td>\n",
       "    </tr>\n",
       "  </tbody>\n",
       "</table>\n",
       "<p>199992 rows × 2 columns</p>\n",
       "</div>"
      ],
      "text/plain": [
       "                                                     text  label\n",
       "0                                     어릴때보고 지금다시봐도 재밌어요ㅋㅋ      1\n",
       "1       디자인을 배우는 학생으로, 외국디자이너와 그들이 일군 전통을 통해 발전해가는 문화산...      1\n",
       "2                    폴리스스토리 시리즈는 1부터 뉴까지 버릴께 하나도 없음.. 최고.      1\n",
       "3       와.. 연기가 진짜 개쩔구나.. 지루할거라고 생각했는데 몰입해서 봤다.. 그래 이런...      1\n",
       "4                             안개 자욱한 밤하늘에 떠 있는 초승달 같은 영화.      1\n",
       "...                                                   ...    ...\n",
       "199987                                     포켓 몬스터 짜가 ㅡㅡ;;      0\n",
       "199988                                              쓰.레.기      0\n",
       "199989                  완전 사이코영화. 마지막은 더욱더 이 영화의질을 떨어트린다.      0\n",
       "199990                왜난 재미없었지 ㅠㅠ 라따뚜이 보고나서 스머프 봐서 그런가 ㅋㅋ      0\n",
       "199991                                    포풍저그가나가신다영차영차영차      0\n",
       "\n",
       "[199992 rows x 2 columns]"
      ]
     },
     "execution_count": 7,
     "metadata": {},
     "output_type": "execute_result"
    }
   ],
   "source": [
    "df"
   ]
  },
  {
   "cell_type": "code",
   "execution_count": 8,
   "id": "94319b9c-a3f7-4753-8def-b0169062baad",
   "metadata": {},
   "outputs": [],
   "source": [
    "def is_only_dots(s):\n",
    "    return all(char == '.' for char in s)"
   ]
  },
  {
   "cell_type": "code",
   "execution_count": 9,
   "id": "ae381f39-c3de-4bd9-901b-367077b1d21f",
   "metadata": {},
   "outputs": [],
   "source": [
    "def is_only_space(s):\n",
    "    return all(char == ' ' for char in s)"
   ]
  },
  {
   "cell_type": "code",
   "execution_count": 10,
   "id": "cb40f1b4-b2ef-44f7-9263-5e9109422aa4",
   "metadata": {},
   "outputs": [],
   "source": [
    "def is_only_space_hangul(s):\n",
    "    return all(ord(char) == 12644 for char in s)"
   ]
  },
  {
   "cell_type": "code",
   "execution_count": 11,
   "id": "eb9b0a37-54dc-4e69-8134-570913e4e15b",
   "metadata": {},
   "outputs": [
    {
     "data": {
      "text/plain": [
       "(199992, 2)"
      ]
     },
     "execution_count": 11,
     "metadata": {},
     "output_type": "execute_result"
    }
   ],
   "source": [
    "df.shape"
   ]
  },
  {
   "cell_type": "code",
   "execution_count": 12,
   "id": "7fe180ac-1c0d-4532-b721-917350524e4d",
   "metadata": {},
   "outputs": [],
   "source": [
    "# dot만 포함하는 row\n",
    "df = df[~df['text'].apply(is_only_dots)]"
   ]
  },
  {
   "cell_type": "code",
   "execution_count": 13,
   "id": "2a1681c5-c909-4c1f-a662-51414dc40d30",
   "metadata": {},
   "outputs": [
    {
     "data": {
      "text/plain": [
       "(199816, 2)"
      ]
     },
     "execution_count": 13,
     "metadata": {},
     "output_type": "execute_result"
    }
   ],
   "source": [
    "df.shape"
   ]
  },
  {
   "cell_type": "code",
   "execution_count": 14,
   "id": "5f0e464e-12b2-496d-be85-395745581104",
   "metadata": {},
   "outputs": [],
   "source": [
    "df = df[~df['text'].apply(is_only_space)]"
   ]
  },
  {
   "cell_type": "code",
   "execution_count": 15,
   "id": "80ae9165-4d0f-4e02-8539-1e9f6e9e314c",
   "metadata": {},
   "outputs": [
    {
     "data": {
      "text/plain": [
       "(199816, 2)"
      ]
     },
     "execution_count": 15,
     "metadata": {},
     "output_type": "execute_result"
    }
   ],
   "source": [
    "df.shape"
   ]
  },
  {
   "cell_type": "code",
   "execution_count": 16,
   "id": "9ce44dac-b200-4c99-ba82-e1ab2aeed5fc",
   "metadata": {},
   "outputs": [],
   "source": [
    "df = df[~df['text'].apply(is_only_space_hangul)]"
   ]
  },
  {
   "cell_type": "code",
   "execution_count": 17,
   "id": "746edc21-53bb-4837-b10e-d7974345ccbe",
   "metadata": {},
   "outputs": [
    {
     "data": {
      "text/plain": [
       "(199816, 2)"
      ]
     },
     "execution_count": 17,
     "metadata": {},
     "output_type": "execute_result"
    }
   ],
   "source": [
    "df.shape"
   ]
  },
  {
   "cell_type": "code",
   "execution_count": 18,
   "id": "1a4ea888-650b-401c-ae19-90e8ff4ba8dc",
   "metadata": {},
   "outputs": [],
   "source": [
    "df = df.reset_index(drop=True)"
   ]
  },
  {
   "cell_type": "code",
   "execution_count": 19,
   "id": "f43c9dd2-1783-4392-b127-e11108a7407c",
   "metadata": {},
   "outputs": [],
   "source": [
    "# 테스트를 위해 1만개만 샘플링\n",
    "df = df.sample(n=len(df))\n",
    "df = df.reset_index(drop=True)\n",
    "# df = df[:20000]"
   ]
  },
  {
   "cell_type": "code",
   "execution_count": 20,
   "id": "6bcee8c5-3a33-4c91-a980-3439ebbf00b8",
   "metadata": {},
   "outputs": [
    {
     "data": {
      "text/plain": [
       "(199816, 2)"
      ]
     },
     "execution_count": 20,
     "metadata": {},
     "output_type": "execute_result"
    }
   ],
   "source": [
    "df.shape"
   ]
  },
  {
   "cell_type": "code",
   "execution_count": 21,
   "id": "220910f1-a84b-41b9-bc13-1dc5ec876795",
   "metadata": {},
   "outputs": [
    {
     "data": {
      "text/html": [
       "<div>\n",
       "<style scoped>\n",
       "    .dataframe tbody tr th:only-of-type {\n",
       "        vertical-align: middle;\n",
       "    }\n",
       "\n",
       "    .dataframe tbody tr th {\n",
       "        vertical-align: top;\n",
       "    }\n",
       "\n",
       "    .dataframe thead th {\n",
       "        text-align: right;\n",
       "    }\n",
       "</style>\n",
       "<table border=\"1\" class=\"dataframe\">\n",
       "  <thead>\n",
       "    <tr style=\"text-align: right;\">\n",
       "      <th></th>\n",
       "      <th>text</th>\n",
       "      <th>label</th>\n",
       "    </tr>\n",
       "  </thead>\n",
       "  <tbody>\n",
       "    <tr>\n",
       "      <th>0</th>\n",
       "      <td>어릴때보고 지금다시봐도 재밌어요ㅋㅋ</td>\n",
       "      <td>1</td>\n",
       "    </tr>\n",
       "    <tr>\n",
       "      <th>1</th>\n",
       "      <td>디자인을 배우는 학생으로, 외국디자이너와 그들이 일군 전통을 통해 발전해가는 문화산...</td>\n",
       "      <td>1</td>\n",
       "    </tr>\n",
       "    <tr>\n",
       "      <th>2</th>\n",
       "      <td>폴리스스토리 시리즈는 1부터 뉴까지 버릴께 하나도 없음.. 최고.</td>\n",
       "      <td>1</td>\n",
       "    </tr>\n",
       "    <tr>\n",
       "      <th>3</th>\n",
       "      <td>와.. 연기가 진짜 개쩔구나.. 지루할거라고 생각했는데 몰입해서 봤다.. 그래 이런...</td>\n",
       "      <td>1</td>\n",
       "    </tr>\n",
       "    <tr>\n",
       "      <th>4</th>\n",
       "      <td>안개 자욱한 밤하늘에 떠 있는 초승달 같은 영화.</td>\n",
       "      <td>1</td>\n",
       "    </tr>\n",
       "    <tr>\n",
       "      <th>...</th>\n",
       "      <td>...</td>\n",
       "      <td>...</td>\n",
       "    </tr>\n",
       "    <tr>\n",
       "      <th>199811</th>\n",
       "      <td>포켓 몬스터 짜가 ㅡㅡ;;</td>\n",
       "      <td>0</td>\n",
       "    </tr>\n",
       "    <tr>\n",
       "      <th>199812</th>\n",
       "      <td>쓰.레.기</td>\n",
       "      <td>0</td>\n",
       "    </tr>\n",
       "    <tr>\n",
       "      <th>199813</th>\n",
       "      <td>완전 사이코영화. 마지막은 더욱더 이 영화의질을 떨어트린다.</td>\n",
       "      <td>0</td>\n",
       "    </tr>\n",
       "    <tr>\n",
       "      <th>199814</th>\n",
       "      <td>왜난 재미없었지 ㅠㅠ 라따뚜이 보고나서 스머프 봐서 그런가 ㅋㅋ</td>\n",
       "      <td>0</td>\n",
       "    </tr>\n",
       "    <tr>\n",
       "      <th>199815</th>\n",
       "      <td>포풍저그가나가신다영차영차영차</td>\n",
       "      <td>0</td>\n",
       "    </tr>\n",
       "  </tbody>\n",
       "</table>\n",
       "<p>199816 rows × 2 columns</p>\n",
       "</div>"
      ],
      "text/plain": [
       "                                                     text  label\n",
       "0                                     어릴때보고 지금다시봐도 재밌어요ㅋㅋ      1\n",
       "1       디자인을 배우는 학생으로, 외국디자이너와 그들이 일군 전통을 통해 발전해가는 문화산...      1\n",
       "2                    폴리스스토리 시리즈는 1부터 뉴까지 버릴께 하나도 없음.. 최고.      1\n",
       "3       와.. 연기가 진짜 개쩔구나.. 지루할거라고 생각했는데 몰입해서 봤다.. 그래 이런...      1\n",
       "4                             안개 자욱한 밤하늘에 떠 있는 초승달 같은 영화.      1\n",
       "...                                                   ...    ...\n",
       "199811                                     포켓 몬스터 짜가 ㅡㅡ;;      0\n",
       "199812                                              쓰.레.기      0\n",
       "199813                  완전 사이코영화. 마지막은 더욱더 이 영화의질을 떨어트린다.      0\n",
       "199814                왜난 재미없었지 ㅠㅠ 라따뚜이 보고나서 스머프 봐서 그런가 ㅋㅋ      0\n",
       "199815                                    포풍저그가나가신다영차영차영차      0\n",
       "\n",
       "[199816 rows x 2 columns]"
      ]
     },
     "execution_count": 21,
     "metadata": {},
     "output_type": "execute_result"
    }
   ],
   "source": [
    "df"
   ]
  },
  {
   "cell_type": "code",
   "execution_count": 22,
   "id": "692b0dfa-5133-4d06-8a9e-3b37f31a8580",
   "metadata": {},
   "outputs": [
    {
     "name": "stdout",
     "output_type": "stream",
     "text": [
      "Normal speech counts :99886 (49.99%)\n",
      "Hate speech counts :99930 (50.01%)\n"
     ]
    }
   ],
   "source": [
    "counts = df['label'].value_counts()\n",
    "print(f'Normal speech counts :{counts[0]} ({counts[0]/len(df)*100:.2f}%)')\n",
    "print(f'Hate speech counts :{counts[1]} ({counts[1]/len(df)*100:.2f}%)')"
   ]
  },
  {
   "cell_type": "code",
   "execution_count": 23,
   "id": "03f66eb4-55c4-4caf-bd23-31558b668e58",
   "metadata": {},
   "outputs": [
    {
     "name": "stdout",
     "output_type": "stream",
     "text": [
      "최대 길이 : 142\n",
      "최소 길이 : 1\n",
      "리뷰의 평균 길이 : 35.24269327781559\n"
     ]
    },
    {
     "data": {
      "image/png": "[encoded data removed]",
      "text/plain": [
       "<Figure size 1200x600 with 1 Axes>"
      ]
     },
     "metadata": {},
     "output_type": "display_data"
    }
   ],
   "source": [
    "plt.figure(figsize=(12, 6))\n",
    "print('최대 길이 :', max(len(text) for text in df['text']))\n",
    "print('최소 길이 :', min(len(text) for text in df['text']))\n",
    "print('리뷰의 평균 길이 :', sum(df['text'].str.len())/len(df))\n",
    "plt.hist([len(text) for text in df['text']], bins=200)\n",
    "plt.xlabel('length of samples')\n",
    "plt.ylabel('number of samples')\n",
    "plt.show()"
   ]
  },
  {
   "cell_type": "code",
   "execution_count": 24,
   "id": "d8c0e53a-be77-4497-8746-c78bcea4531e",
   "metadata": {},
   "outputs": [],
   "source": [
    "def below_threshold_len(max_len, nested_list):\n",
    "  count = 0\n",
    "  for sentence in nested_list:\n",
    "    if(len(sentence) <= max_len):\n",
    "        count = count + 1\n",
    "  print('전체 샘플 중 길이가 %s 이하인 샘플의 비율: %s'%(max_len, (count / len(nested_list))*100))"
   ]
  },
  {
   "cell_type": "code",
   "execution_count": 25,
   "id": "1d3ea901-6f37-4dc9-a391-07b40268524e",
   "metadata": {},
   "outputs": [],
   "source": [
    "threshold = 35"
   ]
  },
  {
   "cell_type": "code",
   "execution_count": 26,
   "id": "0d6c4aeb-c8c1-4d15-86f0-418ffe050015",
   "metadata": {},
   "outputs": [
    {
     "name": "stdout",
     "output_type": "stream",
     "text": [
      "전체 샘플 중 길이가 35 이하인 샘플의 비율: 65.53379108780078\n"
     ]
    }
   ],
   "source": [
    "below_threshold_len(threshold, df['text'])"
   ]
  },
  {
   "cell_type": "code",
   "execution_count": 27,
   "id": "703c8165-22dd-4db4-94c6-3fe9c9c0e4c7",
   "metadata": {},
   "outputs": [
    {
     "name": "stdout",
     "output_type": "stream",
     "text": [
      "Normal speech counts :99886 (49.99%)\n",
      "Hate speech counts :99930 (50.01%)\n"
     ]
    }
   ],
   "source": [
    "counts = df['label'].value_counts()\n",
    "print(f'Normal speech counts :{counts[0]} ({counts[0]/len(df)*100:.2f}%)')\n",
    "print(f'Hate speech counts :{counts[1]} ({counts[1]/len(df)*100:.2f}%)')"
   ]
  },
  {
   "cell_type": "code",
   "execution_count": 28,
   "id": "3b1c29e1-03c4-493e-97e7-ecd500ab9cea",
   "metadata": {},
   "outputs": [],
   "source": [
    "# threshold보다 문장이 작으면 반복적으로 붙여주는 작업을 함\n",
    "# threshold보다 문장이 길면 슬라이싱을 함\n",
    "def add_cut_sentence(sentence, threshold):\n",
    "    cut_list = []\n",
    "    if len(sentence) >= threshold:\n",
    "        cut_list = sentence[:threshold]\n",
    "    else:\n",
    "        while True:\n",
    "            if len(cut_list) >= threshold:\n",
    "                cut_list = cut_list[:threshold]\n",
    "                break\n",
    "            cut_list += sentence\n",
    "    return \"\".join(cut_list)"
   ]
  },
  {
   "cell_type": "code",
   "execution_count": 29,
   "id": "617651b9-9739-4a29-905b-342e1a821df1",
   "metadata": {},
   "outputs": [],
   "source": [
    "# threshold보다 문장이 작으면 반복적으로 붙여주는 작업을 함\n",
    "# threshold보다 문장이 길면 슬라이싱을 함\n",
    "def cut_sentence(sentence, threshold):\n",
    "    cut_list = []\n",
    "    cut_list = sentence[:threshold]\n",
    "    return cut_list"
   ]
  },
  {
   "cell_type": "code",
   "execution_count": 30,
   "id": "6083f26e-9a0f-4870-b023-83e7261915f5",
   "metadata": {},
   "outputs": [],
   "source": [
    "# df['text'] = df['text'].apply(lambda text: add_cut_sentence(text, threshold))"
   ]
  },
  {
   "cell_type": "code",
   "execution_count": 31,
   "id": "1a7ef28e-b4e9-4c9a-9c08-c7f38380c6d8",
   "metadata": {},
   "outputs": [],
   "source": [
    "# df['text'] = df['text'].apply(lambda text: cut_sentence(text, threshold))"
   ]
  },
  {
   "cell_type": "code",
   "execution_count": 32,
   "id": "2d9072fb-9070-43c3-a18d-88d5587436e6",
   "metadata": {},
   "outputs": [
    {
     "data": {
      "text/html": [
       "<div>\n",
       "<style scoped>\n",
       "    .dataframe tbody tr th:only-of-type {\n",
       "        vertical-align: middle;\n",
       "    }\n",
       "\n",
       "    .dataframe tbody tr th {\n",
       "        vertical-align: top;\n",
       "    }\n",
       "\n",
       "    .dataframe thead th {\n",
       "        text-align: right;\n",
       "    }\n",
       "</style>\n",
       "<table border=\"1\" class=\"dataframe\">\n",
       "  <thead>\n",
       "    <tr style=\"text-align: right;\">\n",
       "      <th></th>\n",
       "      <th>text</th>\n",
       "      <th>label</th>\n",
       "    </tr>\n",
       "  </thead>\n",
       "  <tbody>\n",
       "    <tr>\n",
       "      <th>0</th>\n",
       "      <td>어릴때보고 지금다시봐도 재밌어요ㅋㅋ</td>\n",
       "      <td>1</td>\n",
       "    </tr>\n",
       "    <tr>\n",
       "      <th>1</th>\n",
       "      <td>디자인을 배우는 학생으로, 외국디자이너와 그들이 일군 전통을 통해 발전해가는 문화산...</td>\n",
       "      <td>1</td>\n",
       "    </tr>\n",
       "    <tr>\n",
       "      <th>2</th>\n",
       "      <td>폴리스스토리 시리즈는 1부터 뉴까지 버릴께 하나도 없음.. 최고.</td>\n",
       "      <td>1</td>\n",
       "    </tr>\n",
       "    <tr>\n",
       "      <th>3</th>\n",
       "      <td>와.. 연기가 진짜 개쩔구나.. 지루할거라고 생각했는데 몰입해서 봤다.. 그래 이런...</td>\n",
       "      <td>1</td>\n",
       "    </tr>\n",
       "    <tr>\n",
       "      <th>4</th>\n",
       "      <td>안개 자욱한 밤하늘에 떠 있는 초승달 같은 영화.</td>\n",
       "      <td>1</td>\n",
       "    </tr>\n",
       "    <tr>\n",
       "      <th>...</th>\n",
       "      <td>...</td>\n",
       "      <td>...</td>\n",
       "    </tr>\n",
       "    <tr>\n",
       "      <th>199811</th>\n",
       "      <td>포켓 몬스터 짜가 ㅡㅡ;;</td>\n",
       "      <td>0</td>\n",
       "    </tr>\n",
       "    <tr>\n",
       "      <th>199812</th>\n",
       "      <td>쓰.레.기</td>\n",
       "      <td>0</td>\n",
       "    </tr>\n",
       "    <tr>\n",
       "      <th>199813</th>\n",
       "      <td>완전 사이코영화. 마지막은 더욱더 이 영화의질을 떨어트린다.</td>\n",
       "      <td>0</td>\n",
       "    </tr>\n",
       "    <tr>\n",
       "      <th>199814</th>\n",
       "      <td>왜난 재미없었지 ㅠㅠ 라따뚜이 보고나서 스머프 봐서 그런가 ㅋㅋ</td>\n",
       "      <td>0</td>\n",
       "    </tr>\n",
       "    <tr>\n",
       "      <th>199815</th>\n",
       "      <td>포풍저그가나가신다영차영차영차</td>\n",
       "      <td>0</td>\n",
       "    </tr>\n",
       "  </tbody>\n",
       "</table>\n",
       "<p>199816 rows × 2 columns</p>\n",
       "</div>"
      ],
      "text/plain": [
       "                                                     text  label\n",
       "0                                     어릴때보고 지금다시봐도 재밌어요ㅋㅋ      1\n",
       "1       디자인을 배우는 학생으로, 외국디자이너와 그들이 일군 전통을 통해 발전해가는 문화산...      1\n",
       "2                    폴리스스토리 시리즈는 1부터 뉴까지 버릴께 하나도 없음.. 최고.      1\n",
       "3       와.. 연기가 진짜 개쩔구나.. 지루할거라고 생각했는데 몰입해서 봤다.. 그래 이런...      1\n",
       "4                             안개 자욱한 밤하늘에 떠 있는 초승달 같은 영화.      1\n",
       "...                                                   ...    ...\n",
       "199811                                     포켓 몬스터 짜가 ㅡㅡ;;      0\n",
       "199812                                              쓰.레.기      0\n",
       "199813                  완전 사이코영화. 마지막은 더욱더 이 영화의질을 떨어트린다.      0\n",
       "199814                왜난 재미없었지 ㅠㅠ 라따뚜이 보고나서 스머프 봐서 그런가 ㅋㅋ      0\n",
       "199815                                    포풍저그가나가신다영차영차영차      0\n",
       "\n",
       "[199816 rows x 2 columns]"
      ]
     },
     "execution_count": 32,
     "metadata": {},
     "output_type": "execute_result"
    }
   ],
   "source": [
    "df"
   ]
  },
  {
   "cell_type": "code",
   "execution_count": 33,
   "id": "8177069d-1f44-4698-9bce-ef4cb74eb66c",
   "metadata": {},
   "outputs": [
    {
     "data": {
      "text/plain": [
       "(199816, 2)"
      ]
     },
     "execution_count": 33,
     "metadata": {},
     "output_type": "execute_result"
    }
   ],
   "source": [
    "df.shape"
   ]
  },
  {
   "cell_type": "markdown",
   "id": "3a97a98e-df28-4de3-8b02-1ce7a63ec1fd",
   "metadata": {},
   "source": [
    "# 이미지화"
   ]
  },
  {
   "cell_type": "code",
   "execution_count": 34,
   "id": "7c795372-3f31-450d-a38a-e04070a31a0e",
   "metadata": {},
   "outputs": [],
   "source": [
    "# 이미지로 변환하는 함수\n",
    "def create_sentence_image(sentence, font_path, font_size, background_color=(0, 0, 0), text_color=(255, 255, 255)):\n",
    "  sentence_split = sentence.split('\\n')\n",
    "  width = len(max(sentence_split, key=len)) # 길이가 가장 긴 리스트의 길이로 너비 결정\n",
    "  height = len(sentence_split) # 개행으로 나눠진 리스트의 길이로 높이 결정\n",
    "\n",
    "  image_width, image_height = (width*16), height*24  # 픽셀 사이즈 조정\n",
    "  image = Image.new('RGB', (image_width, image_height), background_color)\n",
    "  draw = ImageDraw.Draw(image)\n",
    "\n",
    "  # 폰트 호출\n",
    "  font = ImageFont.truetype(font_path, font_size)\n",
    "\n",
    "  # Get the text size\n",
    "  # text_width, text_height = draw.textlength(sentence, font=font)\n",
    "  _, _, text_width, text_height = draw.textbbox((0, 0), sentence, font=font)\n",
    "\n",
    "  # Calculate the position to center the text\n",
    "  x = (image_width - text_width) // 2\n",
    "  y = (image_height - text_height) // 2\n",
    "\n",
    "  # Draw the letter on the image\n",
    "  draw.text((x, y), sentence, font=font, fill=text_color)\n",
    "\n",
    "  # Convert image to numpy array\n",
    "  img_array = np.array(image)\n",
    "\n",
    "  # Find the bounding box of non-background pixels\n",
    "  non_background = np.where(img_array != background_color)\n",
    "  top, left = np.min(non_background[0]), np.min(non_background[1])\n",
    "  bottom, right = np.max(non_background[0]), np.max(non_background[1])\n",
    "\n",
    "  # Crop the image\n",
    "  cropped_image = image.crop((left, top, right+1, bottom+1))\n",
    "\n",
    "  return cropped_image"
   ]
  },
  {
   "cell_type": "code",
   "execution_count": 35,
   "id": "6a2896a6-983d-4518-93a7-fa20cf13befc",
   "metadata": {},
   "outputs": [],
   "source": [
    "# 이미지 사이즈 조절. resize\n",
    "def resize_image(img):\n",
    "  resized_img = img.resize((32,32))\n",
    "  return resized_img"
   ]
  },
  {
   "cell_type": "code",
   "execution_count": 36,
   "id": "9ccf3574-fde1-4b29-b346-54c7858e88fe",
   "metadata": {},
   "outputs": [],
   "source": [
    "# 폰트 설정\n",
    "font_path = \"./utils/arial-unicode.ttf\"\n",
    "font_size = 12"
   ]
  },
  {
   "cell_type": "code",
   "execution_count": 37,
   "id": "355da47e-40a1-48f3-8144-2a15183691f6",
   "metadata": {
    "scrolled": true
   },
   "outputs": [
    {
     "data": {
      "image/jpeg": "[encoded data removed]",
      "image/png": "[encoded data removed]",
      "text/plain": [
       "<PIL.Image.Image image mode=RGB size=237x11>"
      ]
     },
     "metadata": {},
     "output_type": "display_data"
    }
   ],
   "source": [
    "text = \"안녕하세요???? 테스트 데이터입니다.............\"\n",
    "# text = df['text'][2]\n",
    "sample = replace_space(text)\n",
    "# sample = text\n",
    "img = create_sentence_image(str(sample), font_path, font_size)\n",
    "resized_img = resize_image(img)\n",
    "display(img)\n",
    "img = np.array(img)"
   ]
  },
  {
   "cell_type": "code",
   "execution_count": 38,
   "id": "8cc22da8-9388-4ea0-8816-5f12c3031b48",
   "metadata": {},
   "outputs": [
    {
     "name": "stdout",
     "output_type": "stream",
     "text": [
      "Y axis max value: 11\n",
      "X axis max value: 237\n"
     ]
    }
   ],
   "source": [
    "print(f\"Y axis max value: {img.shape[0]}\")\n",
    "print(f\"X axis max value: {img.shape[1]}\")"
   ]
  },
  {
   "cell_type": "code",
   "execution_count": 39,
   "id": "76426582-2a90-4d8d-8a84-8a8f50a0d307",
   "metadata": {},
   "outputs": [
    {
     "name": "stdout",
     "output_type": "stream",
     "text": [
      "(32, 32, 3)\n"
     ]
    }
   ],
   "source": [
    "print(np.array(resized_img).shape)"
   ]
  },
  {
   "cell_type": "markdown",
   "id": "8518ff22-a1e1-472e-b875-7e7d3245d69e",
   "metadata": {},
   "source": [
    "# coordinates 추출"
   ]
  },
  {
   "cell_type": "code",
   "execution_count": 40,
   "id": "162b6fdf-92b6-4a2e-a28f-81cccc8a6ac1",
   "metadata": {},
   "outputs": [],
   "source": [
    "# convert image into coordinates\n",
    "def get_coordinates(img):\n",
    "  img_arr = np.array(img)\n",
    "  coordinates = []\n",
    "  for x in range(len(img_arr)):\n",
    "    for y in range(len(img_arr[x])):\n",
    "      if max(img_arr[x][y]) != 0:\n",
    "        coordinates.append([y,x])\n",
    "  return np.array(coordinates)"
   ]
  },
  {
   "cell_type": "code",
   "execution_count": 41,
   "id": "ad517714-ca2d-4b70-bf81-7ac1b49606af",
   "metadata": {},
   "outputs": [],
   "source": [
    "def extract_x_y(img_arr, coordinates):\n",
    "  # x = np.array([point[0] for point in coordinates]) / len(img_arr[0])\n",
    "  # y = np.array([point[1] for point in coordinates]) / len(img_arr)\n",
    "  x = np.array([point[0] for point in coordinates])\n",
    "  y = np.array([point[1] for point in coordinates])\n",
    "  # y = 1-y\n",
    "  return x, y"
   ]
  },
  {
   "cell_type": "code",
   "execution_count": 42,
   "id": "cfea5f28-cf79-4a1d-b626-09752535dc9a",
   "metadata": {},
   "outputs": [],
   "source": [
    "def draw_text(x, y):\n",
    "  # plotting\n",
    "  plt.scatter(x, y, color='blue')\n",
    "\n",
    "  # Set plot title and labels\n",
    "  plt.title('Coordinates for Sentence')\n",
    "  plt.xlabel('X-axis')\n",
    "  plt.ylabel('Y-axis')\n",
    "\n",
    "  # Display plot\n",
    "  plt.show()"
   ]
  },
  {
   "cell_type": "code",
   "execution_count": 43,
   "id": "130b0c01-2ee6-4cfc-9945-b982f6b50ce3",
   "metadata": {},
   "outputs": [],
   "source": [
    "coordinates = get_coordinates(img)"
   ]
  },
  {
   "cell_type": "code",
   "execution_count": 44,
   "id": "dcee5027-39bd-4966-986d-594cc44edc1d",
   "metadata": {},
   "outputs": [
    {
     "data": {
      "text/plain": [
       "(965, 2)"
      ]
     },
     "execution_count": 44,
     "metadata": {},
     "output_type": "execute_result"
    }
   ],
   "source": [
    "coordinates.shape"
   ]
  },
  {
   "cell_type": "code",
   "execution_count": 45,
   "id": "b99fa256-c7bd-483b-a617-9b1fc73026a7",
   "metadata": {},
   "outputs": [
    {
     "data": {
      "image/png": "[encoded data removed]",
      "text/plain": [
       "<Figure size 1200x100 with 1 Axes>"
      ]
     },
     "metadata": {},
     "output_type": "display_data"
    }
   ],
   "source": [
    "# plotting\n",
    "import matplotlib.pyplot as plt\n",
    "\n",
    "x, y = extract_x_y(img, coordinates)\n",
    "\n",
    "plt.figure(figsize=(12, 1))\n",
    "plt.scatter(x, y, color='blue')\n",
    "\n",
    "# Set plot title and labels\n",
    "plt.title('Coordinates for Sentence')\n",
    "plt.gca().invert_yaxis()\n",
    "plt.xlabel('X-axis')\n",
    "plt.ylabel('Y-axis')\n",
    "plt.grid(True)  # 그리드 추가\n",
    "\n",
    "# Display plot\n",
    "plt.show()"
   ]
  },
  {
   "cell_type": "markdown",
   "id": "12be6de6-83f5-4cad-899f-cfdb0b98307d",
   "metadata": {},
   "source": [
    "# 좌표값 정규화"
   ]
  },
  {
   "cell_type": "code",
   "execution_count": 46,
   "id": "7f925d27-89b5-4b7d-828a-e9f64cf9a891",
   "metadata": {},
   "outputs": [],
   "source": [
    "def std_coordinates(data, max_x, max_y):\n",
    "    standardized_data = np.zeros_like(data, dtype=float)\n",
    "    standardized_data[:, 0] = data[:, 0] / max_x\n",
    "    standardized_data[:, 1] = data[:, 1] / max_y\n",
    "    return standardized_data"
   ]
  },
  {
   "cell_type": "code",
   "execution_count": 47,
   "id": "56b2b095-bfcd-4b75-af10-2641990106f8",
   "metadata": {},
   "outputs": [
    {
     "data": {
      "text/plain": [
       "array([130,   3])"
      ]
     },
     "execution_count": 47,
     "metadata": {},
     "output_type": "execute_result"
    }
   ],
   "source": [
    "coordinates[300]"
   ]
  },
  {
   "cell_type": "code",
   "execution_count": 48,
   "id": "80419a9d-a58e-448e-b5d8-d8d8c16c4069",
   "metadata": {},
   "outputs": [
    {
     "data": {
      "text/plain": [
       "(11, 237, 3)"
      ]
     },
     "execution_count": 48,
     "metadata": {},
     "output_type": "execute_result"
    }
   ],
   "source": [
    "img.shape"
   ]
  },
  {
   "cell_type": "code",
   "execution_count": 49,
   "id": "698b40e4-b9da-439a-b18f-a43b90ac71ae",
   "metadata": {},
   "outputs": [],
   "source": [
    "std_coords = std_coordinates(coordinates, img.shape[1], img.shape[0])"
   ]
  },
  {
   "cell_type": "code",
   "execution_count": 50,
   "id": "22d84925-328e-41c6-bda9-e1117a2d3959",
   "metadata": {},
   "outputs": [
    {
     "data": {
      "text/plain": [
       "(965, 2)"
      ]
     },
     "execution_count": 50,
     "metadata": {},
     "output_type": "execute_result"
    }
   ],
   "source": [
    "std_coords.shape"
   ]
  },
  {
   "cell_type": "code",
   "execution_count": 51,
   "id": "f465658f-32e8-4912-867d-af565a3bf259",
   "metadata": {},
   "outputs": [
    {
     "data": {
      "image/png": "[encoded data removed]",
      "text/plain": [
       "<Figure size 1200x100 with 1 Axes>"
      ]
     },
     "metadata": {},
     "output_type": "display_data"
    }
   ],
   "source": [
    "# 산점도 그리기\n",
    "plt.figure(figsize=(12, 1))\n",
    "plt.scatter(std_coords[:, 0], std_coords[:, 1], alpha=0.5)\n",
    "plt.title('Standardized Coordinates')\n",
    "plt.xlabel('X-axis')\n",
    "plt.ylabel('Y-axis')\n",
    "plt.gca().invert_yaxis()\n",
    "# plt.xlim(0, 1)  # x축 범위를 0에서 1로 설정\n",
    "# plt.ylim(0, 1)  # y축 범위를 0에서 1로 설정\n",
    "plt.grid(True)  # 그리드 추가\n",
    "\n",
    "# 플롯 표시\n",
    "plt.show()"
   ]
  },
  {
   "cell_type": "markdown",
   "id": "408c44d7-1076-430c-94fb-13a1014b6146",
   "metadata": {},
   "source": [
    "# 전처리"
   ]
  },
  {
   "cell_type": "code",
   "execution_count": 52,
   "id": "f4a83713-b734-47d8-bbcb-4de7db2fcb71",
   "metadata": {},
   "outputs": [],
   "source": [
    "# 패딩\n",
    "def pad_coords(coords, pad_size=3000):\n",
    "    sorted_data = coords[coords[:, 0].argsort()]\n",
    "    if len(sorted_data) >= pad_size:\n",
    "        return sorted_data[:pad_size]\n",
    "    else:\n",
    "        diff = pad_size - len(sorted_data)\n",
    "        sorted_data = np.pad(sorted_data, ((0, diff), (0, 0)), mode='constant', constant_values=0)\n",
    "    return sorted_data"
   ]
  },
  {
   "cell_type": "code",
   "execution_count": 53,
   "id": "05945b60-0e70-407d-b6e6-3f80fc5f9b0b",
   "metadata": {},
   "outputs": [],
   "source": [
    "# stopwords 호출\n",
    "with open('./datasets/stopwords.txt', 'r') as f:\n",
    "    lines = f.readlines()\n",
    "\n",
    "# lines = [line.strip() for line in lines]\n",
    "stopwords = list([line.strip() for line in lines if line != \"\"][1:])"
   ]
  },
  {
   "cell_type": "code",
   "execution_count": 54,
   "id": "2d1a218a-385a-4dd4-8593-84a65c382ec0",
   "metadata": {},
   "outputs": [],
   "source": [
    "# fasttext 모델 load\n",
    "fasttext_model = fasttext.load_model(\"fasttext_model.bin\")"
   ]
  },
  {
   "cell_type": "code",
   "execution_count": 55,
   "id": "377c92ef-0c09-4e66-b7dd-a5128be928e3",
   "metadata": {},
   "outputs": [],
   "source": [
    "from konlpy.tag import Okt\n",
    "okt = Okt()"
   ]
  },
  {
   "cell_type": "code",
   "execution_count": 56,
   "id": "9e0c6dcb-456a-4b6c-aa53-5106ee4cfe1c",
   "metadata": {},
   "outputs": [],
   "source": [
    "def vectorize_text(morph_list, model):\n",
    "    vectors = []\n",
    "    for i in range(len(morph_list)):\n",
    "        vectors.append(model[morph_list[i]])\n",
    "    return vectors"
   ]
  },
  {
   "cell_type": "code",
   "execution_count": 57,
   "id": "2d24a803-f246-4881-9c7f-31b98484242a",
   "metadata": {},
   "outputs": [],
   "source": [
    "def get_morphs(s):\n",
    "    words = okt.morphs(s, norm=True)\n",
    "    processed_words = [word for word in words if word not in stopwords]\n",
    "    return processed_words"
   ]
  },
  {
   "cell_type": "code",
   "execution_count": 58,
   "id": "f5b15c8e-1737-40f0-bd52-fa8b52aa4387",
   "metadata": {},
   "outputs": [
    {
     "data": {
      "text/plain": [
       "['안녕', '?', 'ㅎㅎ']"
      ]
     },
     "execution_count": 58,
     "metadata": {},
     "output_type": "execute_result"
    }
   ],
   "source": [
    "get_morphs('안녕?ㅎㅎ')"
   ]
  },
  {
   "cell_type": "code",
   "execution_count": 59,
   "id": "a1a4da9f-c390-4057-9c6b-d0f5a18ab67c",
   "metadata": {},
   "outputs": [],
   "source": [
    "test = vectorize_text(get_morphs('안녕? ㅎㅎ 사랑해'), fasttext_model)"
   ]
  },
  {
   "cell_type": "code",
   "execution_count": 60,
   "id": "b660c28b-950e-4544-8884-9ba261b997a7",
   "metadata": {},
   "outputs": [
    {
     "data": {
      "text/plain": [
       "(100,)"
      ]
     },
     "execution_count": 60,
     "metadata": {},
     "output_type": "execute_result"
    }
   ],
   "source": [
    "np.array(test[0]).shape"
   ]
  },
  {
   "cell_type": "code",
   "execution_count": 61,
   "id": "45234996-791c-4a8b-a69a-dd946abc27dd",
   "metadata": {},
   "outputs": [
    {
     "data": {
      "text/plain": [
       "array([ True,  True,  True,  True,  True,  True,  True,  True,  True,\n",
       "        True,  True,  True,  True,  True,  True,  True,  True,  True,\n",
       "        True,  True,  True,  True,  True,  True,  True,  True,  True,\n",
       "        True,  True,  True,  True,  True,  True,  True,  True,  True,\n",
       "        True,  True,  True,  True,  True,  True,  True,  True,  True,\n",
       "        True,  True,  True,  True,  True,  True,  True,  True,  True,\n",
       "        True,  True,  True,  True,  True,  True,  True,  True,  True,\n",
       "        True,  True,  True,  True,  True,  True,  True,  True,  True,\n",
       "        True,  True,  True,  True,  True,  True,  True,  True,  True,\n",
       "        True,  True,  True,  True,  True,  True,  True,  True,  True,\n",
       "        True,  True,  True,  True,  True,  True,  True,  True,  True,\n",
       "        True])"
      ]
     },
     "execution_count": 61,
     "metadata": {},
     "output_type": "execute_result"
    }
   ],
   "source": [
    "test[3] == fasttext_model['사랑']"
   ]
  },
  {
   "cell_type": "code",
   "execution_count": 62,
   "id": "13de9a26-cc8e-4ceb-befc-ef0b901f302b",
   "metadata": {
    "scrolled": true
   },
   "outputs": [
    {
     "name": "stdout",
     "output_type": "stream",
     "text": [
      "0\n",
      "1000\n",
      "2000\n",
      "3000\n",
      "4000\n",
      "5000\n",
      "6000\n",
      "7000\n",
      "8000\n",
      "9000\n",
      "10000\n",
      "11000\n",
      "12000\n",
      "13000\n",
      "14000\n",
      "15000\n",
      "16000\n",
      "17000\n",
      "18000\n",
      "19000\n",
      "20000\n",
      "21000\n",
      "22000\n",
      "23000\n",
      "24000\n",
      "25000\n",
      "26000\n",
      "27000\n",
      "28000\n",
      "29000\n",
      "30000\n",
      "31000\n",
      "32000\n",
      "33000\n",
      "34000\n",
      "35000\n",
      "36000\n",
      "37000\n",
      "38000\n",
      "39000\n",
      "40000\n",
      "41000\n",
      "42000\n",
      "43000\n",
      "44000\n",
      "45000\n",
      "46000\n",
      "47000\n",
      "48000\n",
      "49000\n",
      "50000\n",
      "51000\n",
      "52000\n",
      "53000\n",
      "54000\n",
      "55000\n",
      "56000\n",
      "57000\n",
      "58000\n",
      "59000\n",
      "60000\n",
      "61000\n",
      "62000\n",
      "63000\n",
      "64000\n",
      "65000\n",
      "66000\n",
      "67000\n",
      "68000\n",
      "69000\n",
      "70000\n",
      "71000\n",
      "72000\n",
      "73000\n",
      "74000\n",
      "75000\n",
      "76000\n",
      "77000\n",
      "78000\n",
      "79000\n",
      "80000\n",
      "81000\n",
      "82000\n",
      "83000\n",
      "84000\n",
      "85000\n",
      "86000\n",
      "87000\n",
      "88000\n",
      "89000\n",
      "90000\n",
      "91000\n",
      "92000\n",
      "93000\n",
      "94000\n",
      "95000\n",
      "96000\n",
      "97000\n",
      "98000\n",
      "99000\n",
      "100000\n",
      "101000\n",
      "102000\n",
      "103000\n",
      "104000\n",
      "105000\n",
      "106000\n",
      "107000\n",
      "108000\n",
      "109000\n",
      "110000\n",
      "111000\n",
      "112000\n",
      "113000\n",
      "114000\n",
      "115000\n",
      "116000\n",
      "117000\n",
      "118000\n",
      "119000\n",
      "120000\n",
      "121000\n",
      "122000\n",
      "123000\n",
      "124000\n",
      "125000\n",
      "126000\n",
      "127000\n",
      "128000\n",
      "129000\n",
      "130000\n",
      "131000\n",
      "132000\n",
      "133000\n",
      "134000\n",
      "135000\n",
      "136000\n",
      "137000\n"
     ]
    },
    {
     "name": "stderr",
     "output_type": "stream",
     "text": [
      "Exception ignored in: <bound method IPythonKernel._clean_thread_parent_frames of <ipykernel.ipkernel.IPythonKernel object at 0x7f2c9b226370>>\n",
      "Traceback (most recent call last):\n",
      "  File \"/home/sdm/miniconda3/envs/dl/lib/python3.9/site-packages/ipykernel/ipkernel.py\", line 775, in _clean_thread_parent_frames\n",
      "    def _clean_thread_parent_frames(\n",
      "KeyboardInterrupt: \n",
      "\n",
      "KeyboardInterrupt\n",
      "\n"
     ]
    }
   ],
   "source": [
    "vector_data = []\n",
    "coords_data = []\n",
    "img_data = []\n",
    "coords_by_length = []\n",
    "label_list = []\n",
    "\n",
    "pad_size = 3000\n",
    "\n",
    "for i in range(len(df)):\n",
    "    text = df['text'][i]\n",
    "    processed_text = get_morphs(text)\n",
    "    vector_list = vectorize_text(processed_text, fasttext_model)\n",
    "    if len(vector_list) == 0:\n",
    "        continue\n",
    "    else:\n",
    "        vector_data.append(vector_list)\n",
    "        # spaceless_text = replace_space(text)\n",
    "        spaceless_text = replace_space(\" \".join(processed_text))\n",
    "        img = create_sentence_image(spaceless_text, font_path, font_size)\n",
    "        resized_img = resize_image(img)\n",
    "        img_data.append(resized_img)\n",
    "        img = np.array(img)\n",
    "        \n",
    "        # 좌표 추출\n",
    "        coordinates = get_coordinates(img)\n",
    "        \n",
    "        x_lim = img.shape[1]\n",
    "        y_lim = img.shape[0]\n",
    "        \n",
    "        # 좌표 정규화\n",
    "        std_coords = std_coordinates(coordinates, x_lim, y_lim)\n",
    "        coords_by_length.append(std_coords.shape[0])\n",
    "        padded_coords = pad_coords(std_coords, pad_size)\n",
    "    \n",
    "        coords_data.append(padded_coords)\n",
    "        label_list.append(df['label'][i])\n",
    "\n",
    "    if i % 1000 == 0:\n",
    "        print(i)\n",
    "    \n",
    "print(\"Preprocess complete\")\n",
    "print(len(coords_data))"
   ]
  },
  {
   "cell_type": "code",
   "execution_count": 63,
   "id": "3e2ea63c-3141-4f6b-98df-1c33607e9ae7",
   "metadata": {},
   "outputs": [
    {
     "data": {
      "text/plain": [
       "'어릴때보고 지금다시봐도 재밌어요ㅋㅋ'"
      ]
     },
     "execution_count": 63,
     "metadata": {},
     "output_type": "execute_result"
    }
   ],
   "source": [
    "df['text'][0]"
   ]
  },
  {
   "cell_type": "code",
   "execution_count": 66,
   "id": "5fcbf044-1828-41cc-a681-61c702f97b75",
   "metadata": {},
   "outputs": [],
   "source": [
    "# display(img_data[0])"
   ]
  },
  {
   "cell_type": "code",
   "execution_count": 64,
   "id": "7d489431-20b2-4608-b8c3-b08c58b8dbb1",
   "metadata": {},
   "outputs": [
    {
     "data": {
      "image/png": "[encoded data removed]",
      "text/plain": [
       "<Figure size 1200x100 with 1 Axes>"
      ]
     },
     "metadata": {},
     "output_type": "display_data"
    }
   ],
   "source": [
    "plt.figure(figsize=(12, 1))\n",
    "plt.scatter(coords_data[0][:, 0], coords_data[0][:, 1], alpha=0.5)\n",
    "plt.title('Standardized Coordinates')\n",
    "plt.xlabel('X-axis')\n",
    "plt.ylabel('Y-axis')\n",
    "plt.gca().invert_yaxis()\n",
    "# plt.xlim(0, 1)\n",
    "# plt.ylim(0, 1)\n",
    "plt.grid(True)\n",
    "\n",
    "# 플롯 표시\n",
    "plt.show()"
   ]
  },
  {
   "cell_type": "code",
   "execution_count": 65,
   "id": "268de62e-449d-4229-bab4-b4f4a77b09e1",
   "metadata": {},
   "outputs": [
    {
     "name": "stdout",
     "output_type": "stream",
     "text": [
      "max length:  10606\n",
      "min length:  2\n",
      "avg length:  1357.6970644117946\n"
     ]
    }
   ],
   "source": [
    "# coords 평균 길이\n",
    "max_len = max(i for i in coords_by_length)\n",
    "min_len = min(i for i in coords_by_length)\n",
    "average = sum(i for i in coords_by_length) / len(coords_by_length)\n",
    "\n",
    "print(\"max length: \", max_len)\n",
    "print(\"min length: \", min_len)\n",
    "print(\"avg length: \", average)"
   ]
  },
  {
   "cell_type": "code",
   "execution_count": 66,
   "id": "0d1e1e60-20e8-4a13-858e-c2cd9008f429",
   "metadata": {},
   "outputs": [
    {
     "name": "stdout",
     "output_type": "stream",
     "text": [
      "max length:  95\n",
      "min length:  1\n",
      "avg length:  11.81343776061496\n"
     ]
    }
   ],
   "source": [
    "# vector 평균 길이\n",
    "vec_max_len = max(len(i) for i in vector_data)\n",
    "vec_min_len = min(len(i) for i in vector_data)\n",
    "vec_average = sum(len(i) for i in vector_data) / len(vector_data)\n",
    "\n",
    "print(\"max length: \", vec_max_len)\n",
    "print(\"min length: \", vec_min_len)\n",
    "print(\"avg length: \", vec_average)"
   ]
  },
  {
   "cell_type": "markdown",
   "id": "34111206-410b-4b85-a227-90d6b55d8b9c",
   "metadata": {},
   "source": [
    "# 정규화"
   ]
  },
  {
   "cell_type": "code",
   "execution_count": 67,
   "id": "019819cc-ea7c-48c0-ba1a-85c72ef8e1d1",
   "metadata": {},
   "outputs": [],
   "source": [
    "# vector 패딩\n",
    "def pad_vector(vec, pad_size=30):\n",
    "    padded = []\n",
    "    if len(vec) >= pad_size:\n",
    "        return np.array(vec[:pad_size])\n",
    "    else:\n",
    "        diff = pad_size - len(vec)\n",
    "        padded = np.pad(vec, ((0, diff), (0, 0)), mode='constant', constant_values=0)\n",
    "    return np.array(padded)"
   ]
  },
  {
   "cell_type": "code",
   "execution_count": 68,
   "id": "0cf667be-f764-4b42-97d9-c71077f11def",
   "metadata": {},
   "outputs": [
    {
     "data": {
      "text/plain": [
       "(50, 100)"
      ]
     },
     "execution_count": 68,
     "metadata": {},
     "output_type": "execute_result"
    }
   ],
   "source": [
    "pad_vector(vector_data[0],50).shape"
   ]
  },
  {
   "cell_type": "code",
   "execution_count": 69,
   "id": "d9e1bcce-abeb-4856-83ff-2dea06d1d75d",
   "metadata": {},
   "outputs": [],
   "source": [
    "# 벡터 제로패딩\n",
    "padded_vector_data = []\n",
    "for i in range(len(vector_data)):\n",
    "    padded_vector_data.append(pad_vector(vector_data[i], 30))\n",
    "padded_vector_data = np.array(padded_vector_data)"
   ]
  },
  {
   "cell_type": "code",
   "execution_count": 70,
   "id": "6a2f3499-7127-497b-94f1-cd0d5e1e6df6",
   "metadata": {},
   "outputs": [
    {
     "data": {
      "text/plain": [
       "(137895, 30, 100)"
      ]
     },
     "execution_count": 70,
     "metadata": {},
     "output_type": "execute_result"
    }
   ],
   "source": [
    "padded_vector_data.shape"
   ]
  },
  {
   "cell_type": "markdown",
   "id": "347eb802-9671-4382-aab8-74deef39a253",
   "metadata": {},
   "source": [
    "# 데이터 분할"
   ]
  },
  {
   "cell_type": "code",
   "execution_count": 71,
   "id": "b183eb22-06dd-4550-90b4-b826767d06ae",
   "metadata": {},
   "outputs": [
    {
     "name": "stdout",
     "output_type": "stream",
     "text": [
      "(110000, 30, 100)\n",
      "(110000, 3000, 2)\n",
      "(110000, 32, 32, 3)\n",
      "(110000,)\n",
      "(27895, 30, 100)\n",
      "(27894, 3000, 2)\n",
      "(27895, 32, 32, 3)\n",
      "(27894,)\n"
     ]
    }
   ],
   "source": [
    "# # 데이터 분할\n",
    "x_train = padded_vector_data[:110000]\n",
    "x_train_coords = np.array(coords_data)[:110000]\n",
    "x_train_img = np.array(img_data)[:110000]\n",
    "y_train = np.array(label_list)[:110000]\n",
    "\n",
    "x_test = padded_vector_data[110000:]\n",
    "x_test_coords = np.array(coords_data)[110000:]\n",
    "x_test_img = np.array(img_data)[110000:]\n",
    "y_test = np.array(label_list)[110000:]\n",
    "\n",
    "print(x_train.shape)\n",
    "print(x_train_coords.shape)\n",
    "print(x_train_img.shape)\n",
    "print(y_train.shape)\n",
    "print(x_test.shape)\n",
    "print(x_test_coords.shape)\n",
    "print(x_test_img.shape)\n",
    "print(y_test.shape)"
   ]
  },
  {
   "cell_type": "markdown",
   "id": "030a798e-67da-4ee4-82fc-904b061f4996",
   "metadata": {},
   "source": [
    "# 모델 설계"
   ]
  },
  {
   "cell_type": "code",
   "execution_count": 72,
   "id": "781b16d6-14b6-4ab4-bfb8-73b197792af3",
   "metadata": {},
   "outputs": [],
   "source": [
    "import tensorflow.keras.layers\n",
    "from tensorflow.keras.layers import Input, Conv2D, Conv1D, Flatten, Dense, Concatenate, MaxPool2D, MaxPool1D, Dropout, LSTM, Embedding\n",
    "from tensorflow.keras.models import Model, Sequential"
   ]
  },
  {
   "cell_type": "code",
   "execution_count": null,
   "id": "2fadca69-8ff0-42a6-aaed-cf0d990db42c",
   "metadata": {},
   "outputs": [],
   "source": [
    "# # 벡터 입력\n",
    "# vector_input = Input(shape=(30, 100))\n",
    "# x1 = LSTM(128, activation='relu')(vector_input)\n",
    "\n",
    "# # 결합\n",
    "# img_input = Input(shape=(32,32,3))\n",
    "# x2 = Conv2D(64, (3,3), activation='relu')(img_input)\n",
    "# x2 = MaxPool2D()(x2)\n",
    "# x2 = Dense(128, activation='relu')(x2)\n",
    "# x2 = Flatten()(x2)\n",
    "\n",
    "# # 결합\n",
    "# combined = Concatenate()([x1, x2])\n",
    "# x3 = Dense(512, activation='relu')(combined)\n",
    "# output = Dense(1, activation='sigmoid')(x3)\n",
    "\n",
    "# # 모델 정의\n",
    "# model = Model(inputs=[vector_input, img_input], outputs=output)"
   ]
  },
  {
   "cell_type": "code",
   "execution_count": 73,
   "id": "70624e7c-6d3b-410d-8d70-cd524b5bba7d",
   "metadata": {},
   "outputs": [
    {
     "name": "stderr",
     "output_type": "stream",
     "text": [
      "I0000 00:00:1723189583.406852     954 cuda_executor.cc:1001] could not open file to read NUMA node: /sys/bus/pci/devices/0000:01:00.0/numa_node\n",
      "Your kernel may have been built without NUMA support.\n",
      "I0000 00:00:1723189583.406959     954 cuda_executor.cc:1001] could not open file to read NUMA node: /sys/bus/pci/devices/0000:01:00.0/numa_node\n",
      "Your kernel may have been built without NUMA support.\n",
      "I0000 00:00:1723189583.406971     954 cuda_executor.cc:1001] could not open file to read NUMA node: /sys/bus/pci/devices/0000:01:00.0/numa_node\n",
      "Your kernel may have been built without NUMA support.\n",
      "I0000 00:00:1723189583.533718     954 cuda_executor.cc:1001] could not open file to read NUMA node: /sys/bus/pci/devices/0000:01:00.0/numa_node\n",
      "Your kernel may have been built without NUMA support.\n",
      "I0000 00:00:1723189583.533794     954 cuda_executor.cc:1001] could not open file to read NUMA node: /sys/bus/pci/devices/0000:01:00.0/numa_node\n",
      "Your kernel may have been built without NUMA support.\n",
      "2024-08-09 16:46:23.533836: I tensorflow/core/common_runtime/gpu/gpu_device.cc:2112] Could not identify NUMA node of platform GPU id 0, defaulting to 0.  Your kernel may not have been built with NUMA support.\n",
      "I0000 00:00:1723189583.533902     954 cuda_executor.cc:1001] could not open file to read NUMA node: /sys/bus/pci/devices/0000:01:00.0/numa_node\n",
      "Your kernel may have been built without NUMA support.\n",
      "2024-08-09 16:46:23.534196: I tensorflow/core/common_runtime/gpu/gpu_device.cc:2021] Created device /job:localhost/replica:0/task:0/device:GPU:0 with 21458 MB memory:  -> device: 0, name: NVIDIA GeForce RTX 4090, pci bus id: 0000:01:00.0, compute capability: 8.9\n"
     ]
    }
   ],
   "source": [
    "# 벡터 입력\n",
    "vector_input = Input(shape=(30, 100))\n",
    "x1 = LSTM(128, activation='relu')(vector_input)\n",
    "x1 = Flatten()(x1)\n",
    "\n",
    "# 글자 좌표 입력\n",
    "coords_input = Input(shape=(pad_size,2))\n",
    "x2 = Dense(768, activation='relu')(coords_input)\n",
    "x2 = Flatten()(x2)  # Flatten the output of Dense layer\n",
    "\n",
    "# 결합\n",
    "combined = Concatenate()([x1, x2])\n",
    "x3 = Dense(128, activation='relu')(combined)\n",
    "x3 = Dropout(0.4)(x3)\n",
    "output = Dense(1, activation='sigmoid')(x3)\n",
    "\n",
    "# 모델 정의\n",
    "model = Model(inputs=[vector_input, coords_input], outputs=output)"
   ]
  },
  {
   "cell_type": "code",
   "execution_count": null,
   "id": "a6208dc4-f3db-410b-902f-2ac9c7bc735b",
   "metadata": {},
   "outputs": [],
   "source": [
    "# model = Sequential([\n",
    "#     LSTM(128, input_shape=(30, 100)),\n",
    "#     Dense(1, activation='sigmoid')\n",
    "# ])"
   ]
  },
  {
   "cell_type": "code",
   "execution_count": 74,
   "id": "e26e65d5-e2df-47fe-a5f9-959838789911",
   "metadata": {},
   "outputs": [
    {
     "data": {
      "text/html": [
       "<pre style=\"white-space:pre;overflow-x:auto;line-height:normal;font-family:Menlo,'DejaVu Sans Mono',consolas,'Courier New',monospace\"><span style=\"font-weight: bold\">Model: \"functional\"</span>\n",
       "</pre>\n"
      ],
      "text/plain": [
       "\u001b[1mModel: \"functional\"\u001b[0m\n"
      ]
     },
     "metadata": {},
     "output_type": "display_data"
    },
    {
     "data": {
      "text/html": [
       "<pre style=\"white-space:pre;overflow-x:auto;line-height:normal;font-family:Menlo,'DejaVu Sans Mono',consolas,'Courier New',monospace\">┏━━━━━━━━━━━━━━━━━━━━━┳━━━━━━━━━━━━━━━━━━━┳━━━━━━━━━━━━┳━━━━━━━━━━━━━━━━━━━┓\n",
       "┃<span style=\"font-weight: bold\"> Layer (type)        </span>┃<span style=\"font-weight: bold\"> Output Shape      </span>┃<span style=\"font-weight: bold\">    Param # </span>┃<span style=\"font-weight: bold\"> Connected to      </span>┃\n",
       "┡━━━━━━━━━━━━━━━━━━━━━╇━━━━━━━━━━━━━━━━━━━╇━━━━━━━━━━━━╇━━━━━━━━━━━━━━━━━━━┩\n",
       "│ input_layer         │ (<span style=\"color: #00d7ff; text-decoration-color: #00d7ff\">None</span>, <span style=\"color: #00af00; text-decoration-color: #00af00\">30</span>, <span style=\"color: #00af00; text-decoration-color: #00af00\">100</span>)   │          <span style=\"color: #00af00; text-decoration-color: #00af00\">0</span> │ -                 │\n",
       "│ (<span style=\"color: #0087ff; text-decoration-color: #0087ff\">InputLayer</span>)        │                   │            │                   │\n",
       "├─────────────────────┼───────────────────┼────────────┼───────────────────┤\n",
       "│ input_layer_1       │ (<span style=\"color: #00d7ff; text-decoration-color: #00d7ff\">None</span>, <span style=\"color: #00af00; text-decoration-color: #00af00\">3000</span>, <span style=\"color: #00af00; text-decoration-color: #00af00\">2</span>)   │          <span style=\"color: #00af00; text-decoration-color: #00af00\">0</span> │ -                 │\n",
       "│ (<span style=\"color: #0087ff; text-decoration-color: #0087ff\">InputLayer</span>)        │                   │            │                   │\n",
       "├─────────────────────┼───────────────────┼────────────┼───────────────────┤\n",
       "│ lstm (<span style=\"color: #0087ff; text-decoration-color: #0087ff\">LSTM</span>)         │ (<span style=\"color: #00d7ff; text-decoration-color: #00d7ff\">None</span>, <span style=\"color: #00af00; text-decoration-color: #00af00\">128</span>)       │    <span style=\"color: #00af00; text-decoration-color: #00af00\">117,248</span> │ input_layer[<span style=\"color: #00af00; text-decoration-color: #00af00\">0</span>][<span style=\"color: #00af00; text-decoration-color: #00af00\">0</span>] │\n",
       "├─────────────────────┼───────────────────┼────────────┼───────────────────┤\n",
       "│ dense (<span style=\"color: #0087ff; text-decoration-color: #0087ff\">Dense</span>)       │ (<span style=\"color: #00d7ff; text-decoration-color: #00d7ff\">None</span>, <span style=\"color: #00af00; text-decoration-color: #00af00\">3000</span>, <span style=\"color: #00af00; text-decoration-color: #00af00\">768</span>) │      <span style=\"color: #00af00; text-decoration-color: #00af00\">2,304</span> │ input_layer_1[<span style=\"color: #00af00; text-decoration-color: #00af00\">0</span>]… │\n",
       "├─────────────────────┼───────────────────┼────────────┼───────────────────┤\n",
       "│ flatten (<span style=\"color: #0087ff; text-decoration-color: #0087ff\">Flatten</span>)   │ (<span style=\"color: #00d7ff; text-decoration-color: #00d7ff\">None</span>, <span style=\"color: #00af00; text-decoration-color: #00af00\">128</span>)       │          <span style=\"color: #00af00; text-decoration-color: #00af00\">0</span> │ lstm[<span style=\"color: #00af00; text-decoration-color: #00af00\">0</span>][<span style=\"color: #00af00; text-decoration-color: #00af00\">0</span>]        │\n",
       "├─────────────────────┼───────────────────┼────────────┼───────────────────┤\n",
       "│ flatten_1 (<span style=\"color: #0087ff; text-decoration-color: #0087ff\">Flatten</span>) │ (<span style=\"color: #00d7ff; text-decoration-color: #00d7ff\">None</span>, <span style=\"color: #00af00; text-decoration-color: #00af00\">2304000</span>)   │          <span style=\"color: #00af00; text-decoration-color: #00af00\">0</span> │ dense[<span style=\"color: #00af00; text-decoration-color: #00af00\">0</span>][<span style=\"color: #00af00; text-decoration-color: #00af00\">0</span>]       │\n",
       "├─────────────────────┼───────────────────┼────────────┼───────────────────┤\n",
       "│ concatenate         │ (<span style=\"color: #00d7ff; text-decoration-color: #00d7ff\">None</span>, <span style=\"color: #00af00; text-decoration-color: #00af00\">2304128</span>)   │          <span style=\"color: #00af00; text-decoration-color: #00af00\">0</span> │ flatten[<span style=\"color: #00af00; text-decoration-color: #00af00\">0</span>][<span style=\"color: #00af00; text-decoration-color: #00af00\">0</span>],    │\n",
       "│ (<span style=\"color: #0087ff; text-decoration-color: #0087ff\">Concatenate</span>)       │                   │            │ flatten_1[<span style=\"color: #00af00; text-decoration-color: #00af00\">0</span>][<span style=\"color: #00af00; text-decoration-color: #00af00\">0</span>]   │\n",
       "├─────────────────────┼───────────────────┼────────────┼───────────────────┤\n",
       "│ dense_1 (<span style=\"color: #0087ff; text-decoration-color: #0087ff\">Dense</span>)     │ (<span style=\"color: #00d7ff; text-decoration-color: #00d7ff\">None</span>, <span style=\"color: #00af00; text-decoration-color: #00af00\">128</span>)       │ <span style=\"color: #00af00; text-decoration-color: #00af00\">294,928,5…</span> │ concatenate[<span style=\"color: #00af00; text-decoration-color: #00af00\">0</span>][<span style=\"color: #00af00; text-decoration-color: #00af00\">0</span>] │\n",
       "├─────────────────────┼───────────────────┼────────────┼───────────────────┤\n",
       "│ dropout (<span style=\"color: #0087ff; text-decoration-color: #0087ff\">Dropout</span>)   │ (<span style=\"color: #00d7ff; text-decoration-color: #00d7ff\">None</span>, <span style=\"color: #00af00; text-decoration-color: #00af00\">128</span>)       │          <span style=\"color: #00af00; text-decoration-color: #00af00\">0</span> │ dense_1[<span style=\"color: #00af00; text-decoration-color: #00af00\">0</span>][<span style=\"color: #00af00; text-decoration-color: #00af00\">0</span>]     │\n",
       "├─────────────────────┼───────────────────┼────────────┼───────────────────┤\n",
       "│ dense_2 (<span style=\"color: #0087ff; text-decoration-color: #0087ff\">Dense</span>)     │ (<span style=\"color: #00d7ff; text-decoration-color: #00d7ff\">None</span>, <span style=\"color: #00af00; text-decoration-color: #00af00\">1</span>)         │        <span style=\"color: #00af00; text-decoration-color: #00af00\">129</span> │ dropout[<span style=\"color: #00af00; text-decoration-color: #00af00\">0</span>][<span style=\"color: #00af00; text-decoration-color: #00af00\">0</span>]     │\n",
       "└─────────────────────┴───────────────────┴────────────┴───────────────────┘\n",
       "</pre>\n"
      ],
      "text/plain": [
       "┏━━━━━━━━━━━━━━━━━━━━━┳━━━━━━━━━━━━━━━━━━━┳━━━━━━━━━━━━┳━━━━━━━━━━━━━━━━━━━┓\n",
       "┃\u001b[1m \u001b[0m\u001b[1mLayer (type)       \u001b[0m\u001b[1m \u001b[0m┃\u001b[1m \u001b[0m\u001b[1mOutput Shape     \u001b[0m\u001b[1m \u001b[0m┃\u001b[1m \u001b[0m\u001b[1m   Param #\u001b[0m\u001b[1m \u001b[0m┃\u001b[1m \u001b[0m\u001b[1mConnected to     \u001b[0m\u001b[1m \u001b[0m┃\n",
       "┡━━━━━━━━━━━━━━━━━━━━━╇━━━━━━━━━━━━━━━━━━━╇━━━━━━━━━━━━╇━━━━━━━━━━━━━━━━━━━┩\n",
       "│ input_layer         │ (\u001b[38;5;45mNone\u001b[0m, \u001b[38;5;34m30\u001b[0m, \u001b[38;5;34m100\u001b[0m)   │          \u001b[38;5;34m0\u001b[0m │ -                 │\n",
       "│ (\u001b[38;5;33mInputLayer\u001b[0m)        │                   │            │                   │\n",
       "├─────────────────────┼───────────────────┼────────────┼───────────────────┤\n",
       "│ input_layer_1       │ (\u001b[38;5;45mNone\u001b[0m, \u001b[38;5;34m3000\u001b[0m, \u001b[38;5;34m2\u001b[0m)   │          \u001b[38;5;34m0\u001b[0m │ -                 │\n",
       "│ (\u001b[38;5;33mInputLayer\u001b[0m)        │                   │            │                   │\n",
       "├─────────────────────┼───────────────────┼────────────┼───────────────────┤\n",
       "│ lstm (\u001b[38;5;33mLSTM\u001b[0m)         │ (\u001b[38;5;45mNone\u001b[0m, \u001b[38;5;34m128\u001b[0m)       │    \u001b[38;5;34m117,248\u001b[0m │ input_layer[\u001b[38;5;34m0\u001b[0m][\u001b[38;5;34m0\u001b[0m] │\n",
       "├─────────────────────┼───────────────────┼────────────┼───────────────────┤\n",
       "│ dense (\u001b[38;5;33mDense\u001b[0m)       │ (\u001b[38;5;45mNone\u001b[0m, \u001b[38;5;34m3000\u001b[0m, \u001b[38;5;34m768\u001b[0m) │      \u001b[38;5;34m2,304\u001b[0m │ input_layer_1[\u001b[38;5;34m0\u001b[0m]… │\n",
       "├─────────────────────┼───────────────────┼────────────┼───────────────────┤\n",
       "│ flatten (\u001b[38;5;33mFlatten\u001b[0m)   │ (\u001b[38;5;45mNone\u001b[0m, \u001b[38;5;34m128\u001b[0m)       │          \u001b[38;5;34m0\u001b[0m │ lstm[\u001b[38;5;34m0\u001b[0m][\u001b[38;5;34m0\u001b[0m]        │\n",
       "├─────────────────────┼───────────────────┼────────────┼───────────────────┤\n",
       "│ flatten_1 (\u001b[38;5;33mFlatten\u001b[0m) │ (\u001b[38;5;45mNone\u001b[0m, \u001b[38;5;34m2304000\u001b[0m)   │          \u001b[38;5;34m0\u001b[0m │ dense[\u001b[38;5;34m0\u001b[0m][\u001b[38;5;34m0\u001b[0m]       │\n",
       "├─────────────────────┼───────────────────┼────────────┼───────────────────┤\n",
       "│ concatenate         │ (\u001b[38;5;45mNone\u001b[0m, \u001b[38;5;34m2304128\u001b[0m)   │          \u001b[38;5;34m0\u001b[0m │ flatten[\u001b[38;5;34m0\u001b[0m][\u001b[38;5;34m0\u001b[0m],    │\n",
       "│ (\u001b[38;5;33mConcatenate\u001b[0m)       │                   │            │ flatten_1[\u001b[38;5;34m0\u001b[0m][\u001b[38;5;34m0\u001b[0m]   │\n",
       "├─────────────────────┼───────────────────┼────────────┼───────────────────┤\n",
       "│ dense_1 (\u001b[38;5;33mDense\u001b[0m)     │ (\u001b[38;5;45mNone\u001b[0m, \u001b[38;5;34m128\u001b[0m)       │ \u001b[38;5;34m294,928,5…\u001b[0m │ concatenate[\u001b[38;5;34m0\u001b[0m][\u001b[38;5;34m0\u001b[0m] │\n",
       "├─────────────────────┼───────────────────┼────────────┼───────────────────┤\n",
       "│ dropout (\u001b[38;5;33mDropout\u001b[0m)   │ (\u001b[38;5;45mNone\u001b[0m, \u001b[38;5;34m128\u001b[0m)       │          \u001b[38;5;34m0\u001b[0m │ dense_1[\u001b[38;5;34m0\u001b[0m][\u001b[38;5;34m0\u001b[0m]     │\n",
       "├─────────────────────┼───────────────────┼────────────┼───────────────────┤\n",
       "│ dense_2 (\u001b[38;5;33mDense\u001b[0m)     │ (\u001b[38;5;45mNone\u001b[0m, \u001b[38;5;34m1\u001b[0m)         │        \u001b[38;5;34m129\u001b[0m │ dropout[\u001b[38;5;34m0\u001b[0m][\u001b[38;5;34m0\u001b[0m]     │\n",
       "└─────────────────────┴───────────────────┴────────────┴───────────────────┘\n"
      ]
     },
     "metadata": {},
     "output_type": "display_data"
    },
    {
     "data": {
      "text/html": [
       "<pre style=\"white-space:pre;overflow-x:auto;line-height:normal;font-family:Menlo,'DejaVu Sans Mono',consolas,'Courier New',monospace\"><span style=\"font-weight: bold\"> Total params: </span><span style=\"color: #00af00; text-decoration-color: #00af00\">295,048,193</span> (1.10 GB)\n",
       "</pre>\n"
      ],
      "text/plain": [
       "\u001b[1m Total params: \u001b[0m\u001b[38;5;34m295,048,193\u001b[0m (1.10 GB)\n"
      ]
     },
     "metadata": {},
     "output_type": "display_data"
    },
    {
     "data": {
      "text/html": [
       "<pre style=\"white-space:pre;overflow-x:auto;line-height:normal;font-family:Menlo,'DejaVu Sans Mono',consolas,'Courier New',monospace\"><span style=\"font-weight: bold\"> Trainable params: </span><span style=\"color: #00af00; text-decoration-color: #00af00\">295,048,193</span> (1.10 GB)\n",
       "</pre>\n"
      ],
      "text/plain": [
       "\u001b[1m Trainable params: \u001b[0m\u001b[38;5;34m295,048,193\u001b[0m (1.10 GB)\n"
      ]
     },
     "metadata": {},
     "output_type": "display_data"
    },
    {
     "data": {
      "text/html": [
       "<pre style=\"white-space:pre;overflow-x:auto;line-height:normal;font-family:Menlo,'DejaVu Sans Mono',consolas,'Courier New',monospace\"><span style=\"font-weight: bold\"> Non-trainable params: </span><span style=\"color: #00af00; text-decoration-color: #00af00\">0</span> (0.00 B)\n",
       "</pre>\n"
      ],
      "text/plain": [
       "\u001b[1m Non-trainable params: \u001b[0m\u001b[38;5;34m0\u001b[0m (0.00 B)\n"
      ]
     },
     "metadata": {},
     "output_type": "display_data"
    }
   ],
   "source": [
    "model.summary()"
   ]
  },
  {
   "cell_type": "code",
   "execution_count": 75,
   "id": "f3b40f21-cd79-4e4b-9098-98c171ffb798",
   "metadata": {},
   "outputs": [],
   "source": [
    "# Compile the model\n",
    "model.compile(optimizer='adam', loss='binary_crossentropy', metrics=['accuracy'])"
   ]
  },
  {
   "cell_type": "code",
   "execution_count": null,
   "id": "8a70166e-3ea3-4a9e-a2fb-b0617490da53",
   "metadata": {
    "scrolled": true
   },
   "outputs": [
    {
     "name": "stdout",
     "output_type": "stream",
     "text": [
      "Epoch 1/5\n"
     ]
    },
    {
     "name": "stderr",
     "output_type": "stream",
     "text": [
      "WARNING: All log messages before absl::InitializeLog() is called are written to STDERR\n",
      "I0000 00:00:1723189613.301115   69017 service.cc:146] XLA service 0x7f23dc003f20 initialized for platform CUDA (this does not guarantee that XLA will be used). Devices:\n",
      "I0000 00:00:1723189613.301347   69017 service.cc:154]   StreamExecutor device (0): NVIDIA GeForce RTX 4090, Compute Capability 8.9\n",
      "2024-08-09 16:46:53.337962: I tensorflow/compiler/mlir/tensorflow/utils/dump_mlir_util.cc:268] disabling MLIR crash reproducer, set env var `MLIR_CRASH_REPRODUCER_DIRECTORY` to enable.\n",
      "2024-08-09 16:46:53.493634: I external/local_xla/xla/stream_executor/cuda/cuda_dnn.cc:531] Loaded cuDNN version 8902\n",
      "2024-08-09 16:46:53.989952: I external/local_xla/xla/stream_executor/cuda/cuda_asm_compiler.cc:393] ptxas warning : Registers are spilled to local memory in function 'gemm_fusion_dot_44', 20 bytes spill stores, 20 bytes spill loads\n",
      "\n",
      "2024-08-09 16:46:54.010157: I external/local_xla/xla/stream_executor/cuda/cuda_asm_compiler.cc:393] ptxas warning : Registers are spilled to local memory in function 'gemm_fusion_dot_44', 28 bytes spill stores, 28 bytes spill loads\n",
      "\n"
     ]
    },
    {
     "name": "stdout",
     "output_type": "stream",
     "text": [
      "\u001b[1m   6/3094\u001b[0m \u001b[37m━━━━━━━━━━━━━━━━━━━━\u001b[0m \u001b[1m1:14\u001b[0m 24ms/step - accuracy: 0.7703 - loss: 0.2849  "
     ]
    },
    {
     "name": "stderr",
     "output_type": "stream",
     "text": [
      "I0000 00:00:1723189615.181290   69017 device_compiler.h:188] Compiled cluster using XLA!  This line is logged at most once for the lifetime of the process.\n"
     ]
    },
    {
     "name": "stdout",
     "output_type": "stream",
     "text": [
      "\u001b[1m3093/3094\u001b[0m \u001b[32m━━━━━━━━━━━━━━━━━━━\u001b[0m\u001b[37m━\u001b[0m \u001b[1m0s\u001b[0m 24ms/step - accuracy: 0.9984 - loss: 0.0019"
     ]
    },
    {
     "name": "stderr",
     "output_type": "stream",
     "text": [
      "2024-08-09 16:48:10.351312: I external/local_xla/xla/stream_executor/cuda/cuda_asm_compiler.cc:393] ptxas warning : Registers are spilled to local memory in function 'gemm_fusion_dot_44', 20 bytes spill stores, 20 bytes spill loads\n",
      "\n",
      "2024-08-09 16:48:10.384300: I external/local_xla/xla/stream_executor/cuda/cuda_asm_compiler.cc:393] ptxas warning : Registers are spilled to local memory in function 'gemm_fusion_dot_44', 28 bytes spill stores, 28 bytes spill loads\n",
      "\n"
     ]
    },
    {
     "name": "stdout",
     "output_type": "stream",
     "text": [
      "\u001b[1m3094/3094\u001b[0m \u001b[32m━━━━━━━━━━━━━━━━━━━━\u001b[0m\u001b[37m\u001b[0m \u001b[1m94s\u001b[0m 26ms/step - accuracy: 0.9984 - loss: 0.0019 - val_accuracy: 0.0799 - val_loss: 510.8538\n",
      "Epoch 2/5\n",
      "\u001b[1m3094/3094\u001b[0m \u001b[32m━━━━━━━━━━━━━━━━━━━━\u001b[0m\u001b[37m\u001b[0m \u001b[1m76s\u001b[0m 25ms/step - accuracy: 1.0000 - loss: 1.8217e-43 - val_accuracy: 0.0799 - val_loss: 510.8538\n",
      "Epoch 3/5\n",
      "\u001b[1m1256/3094\u001b[0m \u001b[32m━━━━━━━━\u001b[0m\u001b[37m━━━━━━━━━━━━\u001b[0m \u001b[1m43s\u001b[0m 24ms/step - accuracy: 1.0000 - loss: 5.6052e-45"
     ]
    },
    {
     "name": "stderr",
     "output_type": "stream",
     "text": [
      "Exception ignored in: <bound method IPythonKernel._clean_thread_parent_frames of <ipykernel.ipkernel.IPythonKernel object at 0x7f2c9b226370>>\n",
      "Traceback (most recent call last):\n",
      "  File \"/home/sdm/miniconda3/envs/dl/lib/python3.9/site-packages/ipykernel/ipkernel.py\", line 775, in _clean_thread_parent_frames\n",
      "    def _clean_thread_parent_frames(\n",
      "KeyboardInterrupt: \n",
      "Exception ignored in: <bound method IPythonKernel._clean_thread_parent_frames of <ipykernel.ipkernel.IPythonKernel object at 0x7f2c9b226370>>\n",
      "Traceback (most recent call last):\n",
      "  File \"/home/sdm/miniconda3/envs/dl/lib/python3.9/site-packages/ipykernel/ipkernel.py\", line 775, in _clean_thread_parent_frames\n",
      "    def _clean_thread_parent_frames(\n",
      "KeyboardInterrupt: \n",
      "Exception ignored in: <bound method IPythonKernel._clean_thread_parent_frames of <ipykernel.ipkernel.IPythonKernel object at 0x7f2c9b226370>>\n",
      "Traceback (most recent call last):\n",
      "  File \"/home/sdm/miniconda3/envs/dl/lib/python3.9/site-packages/ipykernel/ipkernel.py\", line 775, in _clean_thread_parent_frames\n",
      "    def _clean_thread_parent_frames(\n",
      "KeyboardInterrupt: \n"
     ]
    }
   ],
   "source": [
    "batch_size = 32\n",
    "epochs = 5\n",
    "\n",
    "# Train the model\n",
    "history = model.fit([x_train, x_train_coords], y_train, batch_size=batch_size, epochs=epochs, validation_split=0.1)"
   ]
  },
  {
   "cell_type": "code",
   "execution_count": 99,
   "id": "ecd28c00-d923-443f-8a35-726b06b3efa9",
   "metadata": {},
   "outputs": [
    {
     "name": "stdout",
     "output_type": "stream",
     "text": [
      "Epoch 1/5\n",
      "\u001b[1m450/450\u001b[0m \u001b[32m━━━━━━━━━━━━━━━━━━━━\u001b[0m\u001b[37m\u001b[0m \u001b[1m3s\u001b[0m 4ms/step - accuracy: 0.7472 - loss: 0.4924 - val_accuracy: 0.8200 - val_loss: 0.3914\n",
      "Epoch 2/5\n",
      "\u001b[1m450/450\u001b[0m \u001b[32m━━━━━━━━━━━━━━━━━━━━\u001b[0m\u001b[37m\u001b[0m \u001b[1m1s\u001b[0m 3ms/step - accuracy: 0.8317 - loss: 0.3799 - val_accuracy: 0.8344 - val_loss: 0.3790\n",
      "Epoch 3/5\n",
      "\u001b[1m450/450\u001b[0m \u001b[32m━━━━━━━━━━━━━━━━━━━━\u001b[0m\u001b[37m\u001b[0m \u001b[1m2s\u001b[0m 4ms/step - accuracy: 0.8332 - loss: 0.3704 - val_accuracy: 0.8275 - val_loss: 0.3673\n",
      "Epoch 4/5\n",
      "\u001b[1m450/450\u001b[0m \u001b[32m━━━━━━━━━━━━━━━━━━━━\u001b[0m\u001b[37m\u001b[0m \u001b[1m2s\u001b[0m 4ms/step - accuracy: 0.8363 - loss: 0.3613 - val_accuracy: 0.8375 - val_loss: 0.3669\n",
      "Epoch 5/5\n",
      "\u001b[1m450/450\u001b[0m \u001b[32m━━━━━━━━━━━━━━━━━━━━\u001b[0m\u001b[37m\u001b[0m \u001b[1m2s\u001b[0m 4ms/step - accuracy: 0.8408 - loss: 0.3490 - val_accuracy: 0.8431 - val_loss: 0.3586\n"
     ]
    }
   ],
   "source": [
    "# LSTM model\n",
    "batch_size = 32\n",
    "epochs = 5\n",
    "\n",
    "# Train the model\n",
    "history = model.fit(x_train, y_train, batch_size=batch_size, epochs=epochs, validation_split=0.1)"
   ]
  },
  {
   "cell_type": "code",
   "execution_count": 81,
   "id": "0f726a53-8787-4ffe-92e7-e92e22cac4cb",
   "metadata": {
    "scrolled": true
   },
   "outputs": [
    {
     "name": "stdout",
     "output_type": "stream",
     "text": [
      "Test loss: 0.7545112371444702\n",
      "Test accuracy: 0.7830992937088013\n"
     ]
    }
   ],
   "source": [
    "# Evaluate the model\n",
    "score = model.evaluate([x_test, x_test_coords], y_test, verbose=0)\n",
    "print(\"Test loss:\", score[0])\n",
    "print(\"Test accuracy:\", score[1])"
   ]
  },
  {
   "cell_type": "code",
   "execution_count": 100,
   "id": "40411df4-8224-45de-af4e-5d6585ff0aa2",
   "metadata": {},
   "outputs": [
    {
     "name": "stdout",
     "output_type": "stream",
     "text": [
      "Test loss: 0.36355993151664734\n",
      "Test accuracy: 0.8367142677307129\n"
     ]
    }
   ],
   "source": [
    "# Evaluate LSTM\n",
    "score = model.evaluate(x_test, y_test, verbose=0)\n",
    "print(\"Test loss:\", score[0])\n",
    "print(\"Test accuracy:\", score[1])"
   ]
  },
  {
   "cell_type": "code",
   "execution_count": null,
   "id": "b8761b94-1875-43d8-8875-a23725ec1d4c",
   "metadata": {},
   "outputs": [],
   "source": []
  }
 ],
 "metadata": {
  "kernelspec": {
   "display_name": "Python 3 (ipykernel)",
   "language": "python",
   "name": "python3"
  },
  "language_info": {
   "codemirror_mode": {
    "name": "ipython",
    "version": 3
   },
   "file_extension": ".py",
   "mimetype": "text/x-python",
   "name": "python",
   "nbconvert_exporter": "python",
   "pygments_lexer": "ipython3",
   "version": "3.9.19"
  }
 },
 "nbformat": 4,
 "nbformat_minor": 5
}
